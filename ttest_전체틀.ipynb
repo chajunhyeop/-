{
  "nbformat": 4,
  "nbformat_minor": 0,
  "metadata": {
    "colab": {
      "provenance": [],
      "collapsed_sections": [
        "EdU_4QDGWs1l",
        "0Gir4fw_W0Rv",
        "ga0io_VuW7_v",
        "29S83uvmXhy0",
        "lzaNFtaLXlCZ"
      ],
      "authorship_tag": "ABX9TyO2ix09gZuEhmXXrHZd4AAk",
      "include_colab_link": true
    },
    "kernelspec": {
      "name": "python3",
      "display_name": "Python 3"
    },
    "language_info": {
      "name": "python"
    }
  },
  "cells": [
    {
      "cell_type": "markdown",
      "metadata": {
        "id": "view-in-github",
        "colab_type": "text"
      },
      "source": [
        "<a href=\"https://colab.research.google.com/github/chajunhyeop/-/blob/main/ttest_%EC%A0%84%EC%B2%B4%ED%8B%80.ipynb\" target=\"_parent\"><img src=\"https://colab.research.google.com/assets/colab-badge.svg\" alt=\"Open In Colab\"/></a>"
      ]
    },
    {
      "cell_type": "code",
      "execution_count": null,
      "metadata": {
        "id": "cy5PwrBzKF0L"
      },
      "outputs": [],
      "source": []
    },
    {
      "cell_type": "markdown",
      "source": [
        "#패키지 다운로드"
      ],
      "metadata": {
        "id": "EdU_4QDGWs1l"
      }
    },
    {
      "cell_type": "code",
      "source": [
        "#패키지 설치 \n",
        "!pip install pingouin\n",
        "!pip install scikit_posthocs"
      ],
      "metadata": {
        "colab": {
          "base_uri": "https://localhost:8080/"
        },
        "id": "OkZQsD8LKiSb",
        "outputId": "cde17df6-cde9-47fc-b5a8-458a4959b8a2"
      },
      "execution_count": null,
      "outputs": [
        {
          "output_type": "stream",
          "name": "stdout",
          "text": [
            "Looking in indexes: https://pypi.org/simple, https://us-python.pkg.dev/colab-wheels/public/simple/\n",
            "Collecting pingouin\n",
            "  Downloading pingouin-0.5.3.tar.gz (187 kB)\n",
            "\u001b[2K     \u001b[90m━━━━━━━━━━━━━━━━━━━━━━━━━━━━━━━━━━━━━━━\u001b[0m \u001b[32m188.0/188.0 KB\u001b[0m \u001b[31m5.3 MB/s\u001b[0m eta \u001b[36m0:00:00\u001b[0m\n",
            "\u001b[?25h  Installing build dependencies ... \u001b[?25l\u001b[?25hdone\n",
            "  Getting requirements to build wheel ... \u001b[?25l\u001b[?25hdone\n",
            "  Preparing metadata (pyproject.toml) ... \u001b[?25l\u001b[?25hdone\n",
            "Requirement already satisfied: numpy>=1.19 in /usr/local/lib/python3.8/dist-packages (from pingouin) (1.21.6)\n",
            "Requirement already satisfied: scipy>=1.7 in /usr/local/lib/python3.8/dist-packages (from pingouin) (1.7.3)\n",
            "Collecting statsmodels>=0.13\n",
            "  Downloading statsmodels-0.13.5-cp38-cp38-manylinux_2_17_x86_64.manylinux2014_x86_64.whl (9.9 MB)\n",
            "\u001b[2K     \u001b[90m━━━━━━━━━━━━━━━━━━━━━━━━━━━━━━━━━━━━━━━━\u001b[0m \u001b[32m9.9/9.9 MB\u001b[0m \u001b[31m61.0 MB/s\u001b[0m eta \u001b[36m0:00:00\u001b[0m\n",
            "\u001b[?25hRequirement already satisfied: tabulate in /usr/local/lib/python3.8/dist-packages (from pingouin) (0.8.10)\n",
            "Requirement already satisfied: matplotlib>=3.0.2 in /usr/local/lib/python3.8/dist-packages (from pingouin) (3.2.2)\n",
            "Requirement already satisfied: scikit-learn in /usr/local/lib/python3.8/dist-packages (from pingouin) (1.0.2)\n",
            "Collecting outdated\n",
            "  Downloading outdated-0.2.2-py2.py3-none-any.whl (7.5 kB)\n",
            "Requirement already satisfied: pandas>=1.0 in /usr/local/lib/python3.8/dist-packages (from pingouin) (1.3.5)\n",
            "Collecting pandas-flavor>=0.2.0\n",
            "  Downloading pandas_flavor-0.3.0-py3-none-any.whl (6.3 kB)\n",
            "Requirement already satisfied: seaborn>=0.11 in /usr/local/lib/python3.8/dist-packages (from pingouin) (0.11.2)\n",
            "Requirement already satisfied: pyparsing!=2.0.4,!=2.1.2,!=2.1.6,>=2.0.1 in /usr/local/lib/python3.8/dist-packages (from matplotlib>=3.0.2->pingouin) (3.0.9)\n",
            "Requirement already satisfied: cycler>=0.10 in /usr/local/lib/python3.8/dist-packages (from matplotlib>=3.0.2->pingouin) (0.11.0)\n",
            "Requirement already satisfied: python-dateutil>=2.1 in /usr/local/lib/python3.8/dist-packages (from matplotlib>=3.0.2->pingouin) (2.8.2)\n",
            "Requirement already satisfied: kiwisolver>=1.0.1 in /usr/local/lib/python3.8/dist-packages (from matplotlib>=3.0.2->pingouin) (1.4.4)\n",
            "Requirement already satisfied: pytz>=2017.3 in /usr/local/lib/python3.8/dist-packages (from pandas>=1.0->pingouin) (2022.7)\n",
            "Collecting lazy-loader==0.1rc2\n",
            "  Downloading lazy_loader-0.1rc2-py3-none-any.whl (5.1 kB)\n",
            "Requirement already satisfied: xarray in /usr/local/lib/python3.8/dist-packages (from pandas-flavor>=0.2.0->pingouin) (2022.12.0)\n",
            "Requirement already satisfied: packaging>=21.3 in /usr/local/lib/python3.8/dist-packages (from statsmodels>=0.13->pingouin) (21.3)\n",
            "Requirement already satisfied: patsy>=0.5.2 in /usr/local/lib/python3.8/dist-packages (from statsmodels>=0.13->pingouin) (0.5.3)\n",
            "Requirement already satisfied: setuptools>=44 in /usr/local/lib/python3.8/dist-packages (from outdated->pingouin) (57.4.0)\n",
            "Collecting littleutils\n",
            "  Downloading littleutils-0.2.2.tar.gz (6.6 kB)\n",
            "  Preparing metadata (setup.py) ... \u001b[?25l\u001b[?25hdone\n",
            "Requirement already satisfied: requests in /usr/local/lib/python3.8/dist-packages (from outdated->pingouin) (2.25.1)\n",
            "Requirement already satisfied: threadpoolctl>=2.0.0 in /usr/local/lib/python3.8/dist-packages (from scikit-learn->pingouin) (3.1.0)\n",
            "Requirement already satisfied: joblib>=0.11 in /usr/local/lib/python3.8/dist-packages (from scikit-learn->pingouin) (1.2.0)\n",
            "Requirement already satisfied: six in /usr/local/lib/python3.8/dist-packages (from patsy>=0.5.2->statsmodels>=0.13->pingouin) (1.15.0)\n",
            "Requirement already satisfied: chardet<5,>=3.0.2 in /usr/local/lib/python3.8/dist-packages (from requests->outdated->pingouin) (4.0.0)\n",
            "Requirement already satisfied: idna<3,>=2.5 in /usr/local/lib/python3.8/dist-packages (from requests->outdated->pingouin) (2.10)\n",
            "Requirement already satisfied: certifi>=2017.4.17 in /usr/local/lib/python3.8/dist-packages (from requests->outdated->pingouin) (2022.12.7)\n",
            "Requirement already satisfied: urllib3<1.27,>=1.21.1 in /usr/local/lib/python3.8/dist-packages (from requests->outdated->pingouin) (1.24.3)\n",
            "Building wheels for collected packages: pingouin, littleutils\n",
            "  Building wheel for pingouin (pyproject.toml) ... \u001b[?25l\u001b[?25hdone\n",
            "  Created wheel for pingouin: filename=pingouin-0.5.3-py3-none-any.whl size=198588 sha256=93f803dde9b2cc980bfd21928b37ced5efa155ea2bb126909886bafd50d69986\n",
            "  Stored in directory: /root/.cache/pip/wheels/60/1e/21/710be95d0c93ea9ac3c0e6bacd8cce492ad5dd26bf3aedc4bf\n",
            "  Building wheel for littleutils (setup.py) ... \u001b[?25l\u001b[?25hdone\n",
            "  Created wheel for littleutils: filename=littleutils-0.2.2-py3-none-any.whl size=7047 sha256=a39674939a2343a79ef628ef81cd625857d2ad9fe7d872cfc4020d1634d6e30f\n",
            "  Stored in directory: /root/.cache/pip/wheels/6a/33/c4/0ef84d7f5568c2823e3d63a6e08988852fb9e4bc822034870a\n",
            "Successfully built pingouin littleutils\n",
            "Installing collected packages: littleutils, lazy-loader, outdated, statsmodels, pandas-flavor, pingouin\n",
            "  Attempting uninstall: statsmodels\n",
            "    Found existing installation: statsmodels 0.12.2\n",
            "    Uninstalling statsmodels-0.12.2:\n",
            "      Successfully uninstalled statsmodels-0.12.2\n",
            "Successfully installed lazy-loader-0.1rc2 littleutils-0.2.2 outdated-0.2.2 pandas-flavor-0.3.0 pingouin-0.5.3 statsmodels-0.13.5\n",
            "Looking in indexes: https://pypi.org/simple, https://us-python.pkg.dev/colab-wheels/public/simple/\n",
            "Collecting scikit_posthocs\n",
            "  Downloading scikit_posthocs-0.7.0-py3-none-any.whl (38 kB)\n",
            "Requirement already satisfied: scipy in /usr/local/lib/python3.8/dist-packages (from scikit_posthocs) (1.7.3)\n",
            "Requirement already satisfied: numpy in /usr/local/lib/python3.8/dist-packages (from scikit_posthocs) (1.21.6)\n",
            "Requirement already satisfied: seaborn in /usr/local/lib/python3.8/dist-packages (from scikit_posthocs) (0.11.2)\n",
            "Requirement already satisfied: pandas>=0.20.0 in /usr/local/lib/python3.8/dist-packages (from scikit_posthocs) (1.3.5)\n",
            "Requirement already satisfied: statsmodels in /usr/local/lib/python3.8/dist-packages (from scikit_posthocs) (0.13.5)\n",
            "Requirement already satisfied: matplotlib in /usr/local/lib/python3.8/dist-packages (from scikit_posthocs) (3.2.2)\n",
            "Requirement already satisfied: python-dateutil>=2.7.3 in /usr/local/lib/python3.8/dist-packages (from pandas>=0.20.0->scikit_posthocs) (2.8.2)\n",
            "Requirement already satisfied: pytz>=2017.3 in /usr/local/lib/python3.8/dist-packages (from pandas>=0.20.0->scikit_posthocs) (2022.7)\n",
            "Requirement already satisfied: kiwisolver>=1.0.1 in /usr/local/lib/python3.8/dist-packages (from matplotlib->scikit_posthocs) (1.4.4)\n",
            "Requirement already satisfied: cycler>=0.10 in /usr/local/lib/python3.8/dist-packages (from matplotlib->scikit_posthocs) (0.11.0)\n",
            "Requirement already satisfied: pyparsing!=2.0.4,!=2.1.2,!=2.1.6,>=2.0.1 in /usr/local/lib/python3.8/dist-packages (from matplotlib->scikit_posthocs) (3.0.9)\n",
            "Requirement already satisfied: patsy>=0.5.2 in /usr/local/lib/python3.8/dist-packages (from statsmodels->scikit_posthocs) (0.5.3)\n",
            "Requirement already satisfied: packaging>=21.3 in /usr/local/lib/python3.8/dist-packages (from statsmodels->scikit_posthocs) (21.3)\n",
            "Requirement already satisfied: six in /usr/local/lib/python3.8/dist-packages (from patsy>=0.5.2->statsmodels->scikit_posthocs) (1.15.0)\n",
            "Installing collected packages: scikit_posthocs\n",
            "Successfully installed scikit_posthocs-0.7.0\n"
          ]
        }
      ]
    },
    {
      "cell_type": "code",
      "source": [
        "from matplotlib import pyplot as plt\n",
        "from pandas import DataFrame\n",
        "import numpy as np\n",
        "import pandas as pd\n",
        "import math\n",
        "import sklearn.preprocessing \n",
        "from scipy import stats\n",
        "import pingouin as pg\n",
        "import scikit_posthocs\n",
        "import scipy as sp\n",
        "from statsmodels.formula.api import ols\n",
        "from statsmodels.stats.anova import anova_lm"
      ],
      "metadata": {
        "id": "jUwKwneEKpuW"
      },
      "execution_count": null,
      "outputs": []
    },
    {
      "cell_type": "code",
      "source": [
        "#변수 전처리 라이브러리\n",
        "import math\n",
        "from sklearn import preprocessing\n",
        "from sklearn.preprocessing import MinMaxScaler\n",
        "from sklearn.preprocessing import StandardScaler \n",
        "from scipy.stats import boxcox"
      ],
      "metadata": {
        "id": "laZMzFJpXLmU"
      },
      "execution_count": null,
      "outputs": []
    },
    {
      "cell_type": "markdown",
      "source": [
        "#데이터불러오기 및 데이터확인\n"
      ],
      "metadata": {
        "id": "0Gir4fw_W0Rv"
      }
    },
    {
      "cell_type": "code",
      "source": [
        "#df = pd.read_csv(\"파일경로\", encoding='cp949') #encoding = \"utf-8\"\n",
        "#df"
      ],
      "metadata": {
        "id": "nar_vBrhK6G5"
      },
      "execution_count": null,
      "outputs": []
    },
    {
      "cell_type": "code",
      "source": [
        "#열 이름 확인\n",
        "#df.columns "
      ],
      "metadata": {
        "id": "UwkzHE5jLFIz"
      },
      "execution_count": null,
      "outputs": []
    },
    {
      "cell_type": "code",
      "source": [],
      "metadata": {
        "id": "32z1qPDDXTjo"
      },
      "execution_count": null,
      "outputs": []
    },
    {
      "cell_type": "markdown",
      "source": [
        "#이상치 확인 및 전처리"
      ],
      "metadata": {
        "id": "ga0io_VuW7_v"
      }
    },
    {
      "cell_type": "code",
      "source": [
        "#boxplot\n",
        "#df.boxplot(column=\"변수이름\", return_type=\"both\")"
      ],
      "metadata": {
        "id": "uigI-tHMLNhw"
      },
      "execution_count": null,
      "outputs": []
    },
    {
      "cell_type": "code",
      "source": [
        "q1=df[\"변수\"].quantile(q=0.25)\n",
        "q3=df[\"변수\"].quantile(q=0.75)\n",
        "IQR = q3-q1\n",
        "IQR"
      ],
      "metadata": {
        "id": "7fC6X-vuLah3"
      },
      "execution_count": null,
      "outputs": []
    },
    {
      "cell_type": "code",
      "source": [
        "data_IQR = df[(df[\"변수\"] < q3 + IQR * 1.5 ) & (df[\"변수\"] > q1 - IQR * 1.5)]\n",
        "data_IQR"
      ],
      "metadata": {
        "id": "f7aINyZWLmsX"
      },
      "execution_count": null,
      "outputs": []
    },
    {
      "cell_type": "code",
      "source": [
        "print(df.groupby(\"범주형변수,ex성별\").mean())\n",
        "print(df.groupby(\"범주형변수,ex성별\").mean())\n",
        "print(df.groupby(\"범주형변수,ex성별\").std())"
      ],
      "metadata": {
        "id": "pan6HbRFL-Tb"
      },
      "execution_count": null,
      "outputs": []
    },
    {
      "cell_type": "code",
      "source": [
        "#전처리 preprocessing 데이터 생성\n",
        "df[\"변수생성\"] = preprocessing.scale(df[\"스케일전변수\"])"
      ],
      "metadata": {
        "id": "rMi3MjRWNilz"
      },
      "execution_count": null,
      "outputs": []
    },
    {
      "cell_type": "code",
      "source": [
        "#전처리 데이터 확인\n",
        "df[\"변수생성\"].describe()"
      ],
      "metadata": {
        "id": "KC5Is0e1OAD0"
      },
      "execution_count": null,
      "outputs": []
    },
    {
      "cell_type": "code",
      "source": [
        "# Minmax 스캐일링 작업 \n",
        "scaler = MinMaxScaler()\n",
        "df_minmax = scaler.fit_transform(df)\n",
        "df_minmax\n",
        "df_minmax = pd.DataFrame(df_minmax)\n",
        "df[\"변수생성2\"] = df_minmax[열순서]"
      ],
      "metadata": {
        "id": "I83twObDODLV"
      },
      "execution_count": null,
      "outputs": []
    },
    {
      "cell_type": "code",
      "source": [
        "#minmax 스캐일링 값 확인\n",
        "df[\"변수생성2\"]"
      ],
      "metadata": {
        "id": "iQtZeDJ6OytN"
      },
      "execution_count": null,
      "outputs": []
    },
    {
      "cell_type": "code",
      "source": [
        "#전처리 후 최대 최소가 잘 적용이 되었는지 확인\n",
        "df.columns\n",
        "#마지막 두개 monetary_scale, monetary_minmax "
      ],
      "metadata": {
        "id": "V6t_mM7bO6a3"
      },
      "execution_count": null,
      "outputs": []
    },
    {
      "cell_type": "markdown",
      "source": [
        "#ttest"
      ],
      "metadata": {
        "id": "29S83uvmXhy0"
      }
    },
    {
      "cell_type": "code",
      "source": [
        "#1표본검사\n",
        "#평균예측 : 임의의숫자\n",
        "#실제 평균 출력하고 그것을 예측 값과 비교\n",
        "#유의미하게 예측했는지 t검정 진행\n",
        "print(df[\"변수\"].mean())\n",
        "\n",
        "print(stats.ttest_1samp(df[\"변수\"], 예측평균))\n",
        "#p_value 값 확인"
      ],
      "metadata": {
        "id": "3BwSObHvPDO9"
      },
      "execution_count": null,
      "outputs": []
    },
    {
      "cell_type": "code",
      "source": [
        "#범주변수를 기준으로 2표본 검사(예 성별)\n",
        "women = df[\"df[\"성별\"]==0]\n",
        "women\n",
        "men = df[df[\"성별\"]==1]\n",
        "men\n"
      ],
      "metadata": {
        "id": "UHZ4Q7eyPdYx"
      },
      "execution_count": null,
      "outputs": []
    },
    {
      "cell_type": "code",
      "source": [
        "#남여 각각의 1회평균매출액 출력\n",
        "print(women[\"1회_평균매출액\"].mean())\n",
        "print(men[\"1회_평균매출액\"].mean())"
      ],
      "metadata": {
        "id": "4FaZFJGQP7QS"
      },
      "execution_count": null,
      "outputs": []
    },
    {
      "cell_type": "code",
      "source": [
        "#1회 평균 매출액 descirbe 파악\n",
        "df[\"1회_평균매출액\"].describe()"
      ],
      "metadata": {
        "id": "BhylfmV5Qeqa"
      },
      "execution_count": null,
      "outputs": []
    },
    {
      "cell_type": "code",
      "source": [
        "df1 = df[[\"성별\",\"1회_평균매출액\"]]\n",
        "pd,options,display.float_format = '{:3f}'.format\n",
        "#남, 여 성별로 그룹하여 저장한다.\n",
        "df_male = df[df[\"성별\"] == 0]\n",
        "df_female = df[df[\"성별\"] == 1]"
      ],
      "metadata": {
        "id": "HKblwJ4sRzd1"
      },
      "execution_count": null,
      "outputs": []
    },
    {
      "cell_type": "code",
      "source": [
        "#남 녀 각각의 등분산을 검정\n",
        "sp.stats.levene(df_male[\"1회_평균매출액\"], df_female[\"1회_평균매출액\"])\n",
        "#결과 : 등분산이다. -> ttest에서 true를 적용한다.\n"
      ],
      "metadata": {
        "id": "S9Wwzi6VSJHA"
      },
      "execution_count": null,
      "outputs": []
    },
    {
      "cell_type": "code",
      "source": [
        "t_test 진행\n",
        "print(stats.ttest_ind(df_male[\"1회_평균매출액\"], df_female[\"1회_평균매출액\"]))\n",
        "#결과\n"
      ],
      "metadata": {
        "id": "74A0y51aSZyp"
      },
      "execution_count": null,
      "outputs": []
    },
    {
      "cell_type": "markdown",
      "source": [
        "#등분산 검정과 anova test(pingouin)"
      ],
      "metadata": {
        "id": "lzaNFtaLXlCZ"
      }
    },
    {
      "cell_type": "code",
      "source": [
        "pg.homoscedastiocity(dv= '총_매출액', group = \"구매유형\", data = df2) #등분산 검정"
      ],
      "metadata": {
        "id": "f1Q7L9kFWhAH"
      },
      "execution_count": null,
      "outputs": []
    },
    {
      "cell_type": "code",
      "source": [
        "pg.welch_anova(dv= \"총_매출액\", between = \"구매유형\", data = df2) #등분산이 아닌 경우"
      ],
      "metadata": {
        "id": "oXKw8_GGWALE"
      },
      "execution_count": null,
      "outputs": []
    },
    {
      "cell_type": "code",
      "source": [
        "pg.anova(dv = \"총_매출액\", between = \"구매유형\", data = df2, detailed = True) #등분산인 경우"
      ],
      "metadata": {
        "id": "czJHMHNYWQIC"
      },
      "execution_count": null,
      "outputs": []
    },
    {
      "cell_type": "markdown",
      "source": [],
      "metadata": {
        "id": "LzQWIsSMY0zA"
      }
    },
    {
      "cell_type": "code",
      "source": [],
      "metadata": {
        "id": "62eN8RGyYzYo"
      },
      "execution_count": null,
      "outputs": []
    }
  ]
}