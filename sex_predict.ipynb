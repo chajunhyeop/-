{
  "nbformat": 4,
  "nbformat_minor": 0,
  "metadata": {
    "colab": {
      "provenance": [],
      "mount_file_id": "1pOXJ2Ud37mxnL-WF9llDGomsBWjEjL2Q",
      "authorship_tag": "ABX9TyMiHajJhGc8n1zjzmwIGrB7",
      "include_colab_link": true
    },
    "kernelspec": {
      "name": "python3",
      "display_name": "Python 3"
    },
    "language_info": {
      "name": "python"
    }
  },
  "cells": [
    {
      "cell_type": "markdown",
      "metadata": {
        "id": "view-in-github",
        "colab_type": "text"
      },
      "source": [
        "<a href=\"https://colab.research.google.com/github/chajunhyeop/-/blob/main/sex_predict.ipynb\" target=\"_parent\"><img src=\"https://colab.research.google.com/assets/colab-badge.svg\" alt=\"Open In Colab\"/></a>"
      ]
    },
    {
      "cell_type": "code",
      "execution_count": 1,
      "metadata": {
        "colab": {
          "base_uri": "https://localhost:8080/"
        },
        "id": "MhycHVvxiXun",
        "outputId": "0c793fdd-f539-4c05-8bca-00f5fa1c6c0a"
      },
      "outputs": [
        {
          "output_type": "stream",
          "name": "stdout",
          "text": [
            "Looking in indexes: https://pypi.org/simple, https://us-python.pkg.dev/colab-wheels/public/simple/\n",
            "Requirement already satisfied: pingouin in /usr/local/lib/python3.8/dist-packages (0.5.3)\n",
            "Requirement already satisfied: seaborn>=0.11 in /usr/local/lib/python3.8/dist-packages (from pingouin) (0.11.2)\n",
            "Requirement already satisfied: tabulate in /usr/local/lib/python3.8/dist-packages (from pingouin) (0.8.10)\n",
            "Requirement already satisfied: pandas>=1.0 in /usr/local/lib/python3.8/dist-packages (from pingouin) (1.3.5)\n",
            "Requirement already satisfied: statsmodels>=0.13 in /usr/local/lib/python3.8/dist-packages (from pingouin) (0.13.5)\n",
            "Requirement already satisfied: outdated in /usr/local/lib/python3.8/dist-packages (from pingouin) (0.2.2)\n",
            "Requirement already satisfied: numpy>=1.19 in /usr/local/lib/python3.8/dist-packages (from pingouin) (1.21.6)\n",
            "Requirement already satisfied: pandas-flavor>=0.2.0 in /usr/local/lib/python3.8/dist-packages (from pingouin) (0.3.0)\n",
            "Requirement already satisfied: matplotlib>=3.0.2 in /usr/local/lib/python3.8/dist-packages (from pingouin) (3.2.2)\n",
            "Requirement already satisfied: scipy>=1.7 in /usr/local/lib/python3.8/dist-packages (from pingouin) (1.7.3)\n",
            "Requirement already satisfied: scikit-learn in /usr/local/lib/python3.8/dist-packages (from pingouin) (1.0.2)\n",
            "Requirement already satisfied: kiwisolver>=1.0.1 in /usr/local/lib/python3.8/dist-packages (from matplotlib>=3.0.2->pingouin) (1.4.4)\n",
            "Requirement already satisfied: python-dateutil>=2.1 in /usr/local/lib/python3.8/dist-packages (from matplotlib>=3.0.2->pingouin) (2.8.2)\n",
            "Requirement already satisfied: pyparsing!=2.0.4,!=2.1.2,!=2.1.6,>=2.0.1 in /usr/local/lib/python3.8/dist-packages (from matplotlib>=3.0.2->pingouin) (3.0.9)\n",
            "Requirement already satisfied: cycler>=0.10 in /usr/local/lib/python3.8/dist-packages (from matplotlib>=3.0.2->pingouin) (0.11.0)\n",
            "Requirement already satisfied: pytz>=2017.3 in /usr/local/lib/python3.8/dist-packages (from pandas>=1.0->pingouin) (2022.7)\n",
            "Requirement already satisfied: xarray in /usr/local/lib/python3.8/dist-packages (from pandas-flavor>=0.2.0->pingouin) (2022.12.0)\n",
            "Requirement already satisfied: lazy-loader==0.1rc2 in /usr/local/lib/python3.8/dist-packages (from pandas-flavor>=0.2.0->pingouin) (0.1rc2)\n",
            "Requirement already satisfied: packaging>=21.3 in /usr/local/lib/python3.8/dist-packages (from statsmodels>=0.13->pingouin) (21.3)\n",
            "Requirement already satisfied: patsy>=0.5.2 in /usr/local/lib/python3.8/dist-packages (from statsmodels>=0.13->pingouin) (0.5.3)\n",
            "Requirement already satisfied: littleutils in /usr/local/lib/python3.8/dist-packages (from outdated->pingouin) (0.2.2)\n",
            "Requirement already satisfied: setuptools>=44 in /usr/local/lib/python3.8/dist-packages (from outdated->pingouin) (57.4.0)\n",
            "Requirement already satisfied: requests in /usr/local/lib/python3.8/dist-packages (from outdated->pingouin) (2.25.1)\n",
            "Requirement already satisfied: joblib>=0.11 in /usr/local/lib/python3.8/dist-packages (from scikit-learn->pingouin) (1.2.0)\n",
            "Requirement already satisfied: threadpoolctl>=2.0.0 in /usr/local/lib/python3.8/dist-packages (from scikit-learn->pingouin) (3.1.0)\n",
            "Requirement already satisfied: six in /usr/local/lib/python3.8/dist-packages (from patsy>=0.5.2->statsmodels>=0.13->pingouin) (1.15.0)\n",
            "Requirement already satisfied: idna<3,>=2.5 in /usr/local/lib/python3.8/dist-packages (from requests->outdated->pingouin) (2.10)\n",
            "Requirement already satisfied: urllib3<1.27,>=1.21.1 in /usr/local/lib/python3.8/dist-packages (from requests->outdated->pingouin) (1.24.3)\n",
            "Requirement already satisfied: certifi>=2017.4.17 in /usr/local/lib/python3.8/dist-packages (from requests->outdated->pingouin) (2022.12.7)\n",
            "Requirement already satisfied: chardet<5,>=3.0.2 in /usr/local/lib/python3.8/dist-packages (from requests->outdated->pingouin) (4.0.0)\n",
            "Looking in indexes: https://pypi.org/simple, https://us-python.pkg.dev/colab-wheels/public/simple/\n",
            "Requirement already satisfied: scikit_posthocs in /usr/local/lib/python3.8/dist-packages (0.7.0)\n",
            "Requirement already satisfied: pandas>=0.20.0 in /usr/local/lib/python3.8/dist-packages (from scikit_posthocs) (1.3.5)\n",
            "Requirement already satisfied: statsmodels in /usr/local/lib/python3.8/dist-packages (from scikit_posthocs) (0.13.5)\n",
            "Requirement already satisfied: numpy in /usr/local/lib/python3.8/dist-packages (from scikit_posthocs) (1.21.6)\n",
            "Requirement already satisfied: seaborn in /usr/local/lib/python3.8/dist-packages (from scikit_posthocs) (0.11.2)\n",
            "Requirement already satisfied: matplotlib in /usr/local/lib/python3.8/dist-packages (from scikit_posthocs) (3.2.2)\n",
            "Requirement already satisfied: scipy in /usr/local/lib/python3.8/dist-packages (from scikit_posthocs) (1.7.3)\n",
            "Requirement already satisfied: pytz>=2017.3 in /usr/local/lib/python3.8/dist-packages (from pandas>=0.20.0->scikit_posthocs) (2022.7)\n",
            "Requirement already satisfied: python-dateutil>=2.7.3 in /usr/local/lib/python3.8/dist-packages (from pandas>=0.20.0->scikit_posthocs) (2.8.2)\n",
            "Requirement already satisfied: kiwisolver>=1.0.1 in /usr/local/lib/python3.8/dist-packages (from matplotlib->scikit_posthocs) (1.4.4)\n",
            "Requirement already satisfied: cycler>=0.10 in /usr/local/lib/python3.8/dist-packages (from matplotlib->scikit_posthocs) (0.11.0)\n",
            "Requirement already satisfied: pyparsing!=2.0.4,!=2.1.2,!=2.1.6,>=2.0.1 in /usr/local/lib/python3.8/dist-packages (from matplotlib->scikit_posthocs) (3.0.9)\n",
            "Requirement already satisfied: packaging>=21.3 in /usr/local/lib/python3.8/dist-packages (from statsmodels->scikit_posthocs) (21.3)\n",
            "Requirement already satisfied: patsy>=0.5.2 in /usr/local/lib/python3.8/dist-packages (from statsmodels->scikit_posthocs) (0.5.3)\n",
            "Requirement already satisfied: six in /usr/local/lib/python3.8/dist-packages (from patsy>=0.5.2->statsmodels->scikit_posthocs) (1.15.0)\n"
          ]
        }
      ],
      "source": [
        "!pip install pingouin\n",
        "!pip install scikit_posthocs"
      ]
    },
    {
      "cell_type": "code",
      "source": [
        "from matplotlib import pyplot as plt\n",
        "from pandas import DataFrame\n",
        "import numpy as np\n",
        "import seaborn as sns\n",
        "import pandas as pd\n",
        "import math\n",
        "from scipy import stats\n",
        "import pingouin as pg\n",
        "import scipy as sp\n",
        "import scikit_posthocs\n",
        "from statsmodels.formula.api import ols\n",
        "from statsmodels.stats.anova import anova_lm\n",
        "from sklearn.model_selection import train_test_split, cross_val_score, StratifiedKFold, GridSearchCV\n",
        "from sklearn.neighbors import KNeighborsRegressor, KNeighborsClassifier\n",
        "from sklearn.feature_selection import SelectFromModel\n",
        "from sklearn.ensemble import RandomForestClassifier\n",
        "from sklearn.compose import ColumnTransformer\n",
        "from sklearn.preprocessing import StandardScaler, OneHotEncoder\n",
        "from sklearn.linear_model import LinearRegression\n",
        "from sklearn.metrics import mean_squared_error"
      ],
      "metadata": {
        "id": "LiXid2NUigtE"
      },
      "execution_count": 2,
      "outputs": []
    },
    {
      "cell_type": "code",
      "source": [
        "from imblearn.over_sampling import SMOTE"
      ],
      "metadata": {
        "id": "n-nXSFtf1aRH"
      },
      "execution_count": 35,
      "outputs": []
    },
    {
      "cell_type": "code",
      "source": [
        "body = pd.read_excel(\"/content/drive/MyDrive/Colab Notebooks/koreaverage.xlsx\")"
      ],
      "metadata": {
        "id": "Fdk5nhZ1iyPi"
      },
      "execution_count": 23,
      "outputs": []
    },
    {
      "cell_type": "code",
      "source": [
        "print(body.columns)"
      ],
      "metadata": {
        "colab": {
          "base_uri": "https://localhost:8080/"
        },
        "id": "XjauZaEuv6Ui",
        "outputId": "22fe7094-b7e9-4c12-da6f-2e9d53ae7cb0"
      },
      "execution_count": 24,
      "outputs": [
        {
          "output_type": "stream",
          "name": "stdout",
          "text": [
            "Index(['ⓞ_02_성별', 'ⓞ_06_나이_반올림', 'ⓞ_12_골격근량', 'ⓞ_13_체지방량', 'ⓞ_14_체수분',\n",
            "       'ⓞ_15_단백질', 'ⓞ_16_무기질', 'ⓞ_17_BMI', 'ⓞ_18_체지방율', 'ⓞ_19_복부지방율',\n",
            "       ...\n",
            "       '①_124_무릎아래둘레', '①_125_장딴지둘레', '①_126_종아리최소둘레', '①_127_발목최대둘레',\n",
            "       '①_128_발목너비', '①_129_발뒤꿈치너비', '①_130_위팔둘레', '①_131_팔꿈치둘레', '①_132_손목둘레',\n",
            "       '①_133_머리위로뻗은주먹높이'],\n",
            "      dtype='object', length=148)\n"
          ]
        }
      ]
    },
    {
      "cell_type": "code",
      "source": [
        "#열이름 \n",
        "num=[]\n",
        "for i in body:\n",
        "  num.append(i)\n",
        "  print(i)"
      ],
      "metadata": {
        "colab": {
          "base_uri": "https://localhost:8080/"
        },
        "id": "_VgO4fCJvyS1",
        "outputId": "d789e211-2761-4a37-f89d-a4d2ce22e94b"
      },
      "execution_count": 25,
      "outputs": [
        {
          "output_type": "stream",
          "name": "stdout",
          "text": [
            "ⓞ_02_성별\n",
            "ⓞ_06_나이_반올림\n",
            "ⓞ_12_골격근량\n",
            "ⓞ_13_체지방량\n",
            "ⓞ_14_체수분\n",
            "ⓞ_15_단백질\n",
            "ⓞ_16_무기질\n",
            "ⓞ_17_BMI\n",
            "ⓞ_18_체지방율\n",
            "ⓞ_19_복부지방율\n",
            "ⓞ_20_복부지방율평가\n",
            "ⓞ_21_기초대사량\n",
            "ⓞ_22_기초대사량평가\n",
            "ⓞ_23_근육조절\n",
            "ⓞ_24_지방조절\n",
            "①_001_오른쪽어깨경사각\n",
            "①_002_왼쪽어깨경사각\n",
            "①_003_키\n",
            "①_004_눈높이\n",
            "①_005_목뒤높이\n",
            "①_006_어깨높이\n",
            "①_007_어깨가쪽높이\n",
            "①_008_겨드랑높이\n",
            "①_009_굽힌팔꿈치높이\n",
            "①_010_허리기준선높이\n",
            "①_011_엉덩이높이\n",
            "①_012_주먹높이\n",
            "①_013_허리높이\n",
            "①_014_배꼽수준허리높이\n",
            "①_015_위앞엉덩뼈가시높이\n",
            "①_016_무릎높이\n",
            "①_017_샅높이\n",
            "①_018_가슴너비\n",
            "①_019_젖가슴너비\n",
            "①_020_허리너비\n",
            "①_021_배꼽수준허리너비\n",
            "①_022_엉덩이너비\n",
            "①_023_겨드랑두께\n",
            "①_024_가슴두께\n",
            "①_025_젖가슴두께\n",
            "①_026_허리두께\n",
            "①_027_배꼽수준허리두께\n",
            "①_028_엉덩이두께\n",
            "①_029_몸통수직길이\n",
            "①_030_엉덩이수직길이\n",
            "①_031_몸무게\n",
            "①_032_앞중심길이\n",
            "①_033_배꼽수준앞중심길이\n",
            "①_034_겨드랑앞벽사이길이\n",
            "①_035_겨드랑앞접힘사이길이\n",
            "①_036_젖꼭지사이수평길이_여\n",
            "①_037_목둘레\n",
            "①_038_목밑둘레\n",
            "①_039_가슴둘레\n",
            "①_040_젖가슴둘레\n",
            "①_041_젖가슴아래둘레_여\n",
            "①_042_허리둘레\n",
            "①_043_배꼽수준허리둘레\n",
            "①_044_배둘레\n",
            "①_045_엉덩이둘레\n",
            "①_046_배돌출점기준엉덩이둘레\n",
            "①_047_어깨길이\n",
            "①_048_목뒤등뼈위겨드랑수준길이\n",
            "①_049_등길이\n",
            "①_050_배꼽수준등길이\n",
            "①_051_목뒤오금길이\n",
            "①_052_총길이\n",
            "①_053_넙다리직선길이\n",
            "①_054_어깨사이길이\n",
            "①_055_어깨가쪽사이길이\n",
            "①_056_겨드랑뒤벽사이길이\n",
            "①_057_겨드랑뒤벽접힘사이길이\n",
            "①_058_목뒤젖꼭지길이\n",
            "①_059_목뒤젖꼭지허리둘레선길이\n",
            "①_060_목옆젖꼭지길이_여_\n",
            "①_061_목옆허리둘레선길이\n",
            "①_062_목옆어깨뼈아래허리둘레선길이\n",
            "①_063_위팔길이\n",
            "①_064_팔길이\n",
            "①_065_팔안쪽길이\n",
            "①_066_목뒤손목안쪽길이\n",
            "①_067_겨드랑둘레\n",
            "①_068_엉덩이옆길이\n",
            "①_069_다리가쪽길이\n",
            "①_070_몸통세로둘레\n",
            "①_071_샅앞뒤길이\n",
            "①_072_배꼽수준샅앞뒤길이\n",
            "①_073_앉은키\n",
            "①_074_앉은눈높이\n",
            "①_075_앉은목뒤높이\n",
            "①_076_앉은어깨높이\n",
            "①_077_앉은팔꿈치높이\n",
            "①_078_앉은넙다리높이\n",
            "①_079_앉은무릎높이\n",
            "①_080_앉은오금높이\n",
            "①_081_앉은엉덩이무릎수평길이\n",
            "①_082_앉은엉덩이오금수평길이\n",
            "①_083_앉은엉덩이배두께\n",
            "①_084_위팔수직길이\n",
            "①_085_아래팔수평길이\n",
            "①_086_팔꿈치손끝수평길이\n",
            "①_087_팔꿈치주먹수평길이\n",
            "①_088_앉은배두께\n",
            "①_089_어깨너비\n",
            "①_090_위팔사이너비\n",
            "①_091_팔꿈치사이너비\n",
            "①_092_앉은엉덩이너비\n",
            "①_093_머리수직길이\n",
            "①_094_얼굴수직길이\n",
            "①_095_벽면앞으로뻗은주먹수직길이\n",
            "①_096_벽면몸통두께\n",
            "①_097_벽면어깨수평길이\n",
            "①_098_엉덩이돌출점_배돌출점두께\n",
            "①_099_눈동자사이너비\n",
            "①_100_눈구석사이너비\n",
            "①_101_눈살점_눈확아래점사이길이\n",
            "①_102_손직선길이\n",
            "①_103_손바닥직선길이\n",
            "①_104_손너비\n",
            "①_105_둘째손가락직선길이\n",
            "①_106_둘째손가락첫째관절너비\n",
            "①_107_둘째손가락둘째관절너비\n",
            "①_108_손두께\n",
            "①_109_막대쥔손안둘레\n",
            "①_110_손둘레\n",
            "①_111_머리둘레\n",
            "①_112_귀구슬머리위길이\n",
            "①_113_눈살뒤통수길이\n",
            "①_114_머리두께\n",
            "①_115_머리너비\n",
            "①_116_얼굴너비\n",
            "①_117_아래턱사이너비\n",
            "①_118_발너비\n",
            "①_119_발직선길이\n",
            "①_120_가쪽복사높이\n",
            "①_121_넙다리둘레\n",
            "①_122_넙다리중간둘레\n",
            "①_123_무릎둘레\n",
            "①_124_무릎아래둘레\n",
            "①_125_장딴지둘레\n",
            "①_126_종아리최소둘레\n",
            "①_127_발목최대둘레\n",
            "①_128_발목너비\n",
            "①_129_발뒤꿈치너비\n",
            "①_130_위팔둘레\n",
            "①_131_팔꿈치둘레\n",
            "①_132_손목둘레\n",
            "①_133_머리위로뻗은주먹높이\n"
          ]
        }
      ]
    },
    {
      "cell_type": "code",
      "source": [
        "#남성결측값 변수 제거 \n",
        "df=body.drop([\"①_036_젖꼭지사이수평길이_여\",\"①_038_목밑둘레\",\"①_041_젖가슴아래둘레_여\",\"①_060_목옆젖꼭지길이_여_\" ,\"①_116_얼굴너비\",\"①_117_아래턱사이너비\"], axis=1)"
      ],
      "metadata": {
        "id": "P97hMrcbwarD"
      },
      "execution_count": 26,
      "outputs": []
    },
    {
      "cell_type": "code",
      "source": [
        "#결측값 제거\n",
        "df.dropna(axis=0, inplace=True)"
      ],
      "metadata": {
        "id": "yTsqD_tIjH4P"
      },
      "execution_count": 29,
      "outputs": []
    },
    {
      "cell_type": "code",
      "source": [
        "#결측값 개수 확인\n",
        "df.isnull().sum()"
      ],
      "metadata": {
        "colab": {
          "base_uri": "https://localhost:8080/"
        },
        "id": "R5c1jh3ZjNYA",
        "outputId": "bc53ce88-3136-4ebb-efc5-98ee45cb9118"
      },
      "execution_count": 32,
      "outputs": [
        {
          "output_type": "execute_result",
          "data": {
            "text/plain": [
              "ⓞ_02_성별             0\n",
              "ⓞ_06_나이_반올림         0\n",
              "ⓞ_12_골격근량           0\n",
              "ⓞ_13_체지방량           0\n",
              "ⓞ_14_체수분            0\n",
              "                   ..\n",
              "①_129_발뒤꿈치너비        0\n",
              "①_130_위팔둘레          0\n",
              "①_131_팔꿈치둘레         0\n",
              "①_132_손목둘레          0\n",
              "①_133_머리위로뻗은주먹높이    0\n",
              "Length: 142, dtype: int64"
            ]
          },
          "metadata": {},
          "execution_count": 32
        }
      ]
    },
    {
      "cell_type": "code",
      "source": [],
      "metadata": {
        "id": "eqnt9QlcppEJ"
      },
      "execution_count": null,
      "outputs": []
    },
    {
      "cell_type": "code",
      "source": [
        "df[\"ⓞ_02_성별\"]"
      ],
      "metadata": {
        "colab": {
          "base_uri": "https://localhost:8080/"
        },
        "id": "fuZTWADysPW4",
        "outputId": "3d142f3e-4c1f-402a-c3f1-21923e9b343c"
      },
      "execution_count": 31,
      "outputs": [
        {
          "output_type": "execute_result",
          "data": {
            "text/plain": [
              "0       남\n",
              "1       남\n",
              "2       남\n",
              "3       남\n",
              "4       남\n",
              "       ..\n",
              "6415    여\n",
              "6416    여\n",
              "6417    여\n",
              "6418    여\n",
              "6419    여\n",
              "Name: ⓞ_02_성별, Length: 6341, dtype: object"
            ]
          },
          "metadata": {},
          "execution_count": 31
        }
      ]
    },
    {
      "cell_type": "code",
      "source": [
        "#연속형 변수와 범주형 변수 분류해주기\n",
        "num = df.drop([\"ⓞ_02_성별\", \"ⓞ_20_복부지방율평가\", \"ⓞ_22_기초대사량평가\"], axis=1)\n",
        "num_list = num.columns\n",
        "cg = [\"ⓞ_20_복부지방율평가\", \"ⓞ_22_기초대사량평가\"]\n",
        "\n",
        "#df 검색시 index에 list를 넣어주어야 함으로 num_list(dtype: object)를 list로 전환해줬다.\n",
        "num=[]\n",
        "for i in num_list:\n",
        "  num.append(i)\n",
        "  print(i)\n",
        "\n",
        "#train test\n",
        "X_train, X_test, Y_train, Y_test = train_test_split(X, Y, test_size=0.3, random_state=0)\n",
        "\n",
        "#표준화, 원핫코딩(더미변수화)\n",
        "ct = ColumnTransformer([('scaling', StandardScaler(), num), ('onehot', OneHotEncoder(sparse=False), cg)])\n",
        "ct.fit(X_train)\n",
        "X_train = ct.transform(X_train)\n",
        "X_test = ct.transform(X_test)\n",
        "\n",
        "#분할\n",
        "X = df[num+cg]\n",
        "Y = df[\"ⓞ_02_성별\"]\n",
        "\n",
        "smote = SMOTE(random_state=0)\n",
        "X_train, Y_train = smote.fit_resample(X_train, Y_train)\n"
      ],
      "metadata": {
        "colab": {
          "base_uri": "https://localhost:8080/"
        },
        "id": "wppfTTqsjS40",
        "outputId": "cb126201-cccf-400f-8a4d-bae4593263ce"
      },
      "execution_count": 41,
      "outputs": [
        {
          "output_type": "stream",
          "name": "stdout",
          "text": [
            "ⓞ_06_나이_반올림\n",
            "ⓞ_12_골격근량\n",
            "ⓞ_13_체지방량\n",
            "ⓞ_14_체수분\n",
            "ⓞ_15_단백질\n",
            "ⓞ_16_무기질\n",
            "ⓞ_17_BMI\n",
            "ⓞ_18_체지방율\n",
            "ⓞ_19_복부지방율\n",
            "ⓞ_21_기초대사량\n",
            "ⓞ_23_근육조절\n",
            "ⓞ_24_지방조절\n",
            "①_001_오른쪽어깨경사각\n",
            "①_002_왼쪽어깨경사각\n",
            "①_003_키\n",
            "①_004_눈높이\n",
            "①_005_목뒤높이\n",
            "①_006_어깨높이\n",
            "①_007_어깨가쪽높이\n",
            "①_008_겨드랑높이\n",
            "①_009_굽힌팔꿈치높이\n",
            "①_010_허리기준선높이\n",
            "①_011_엉덩이높이\n",
            "①_012_주먹높이\n",
            "①_013_허리높이\n",
            "①_014_배꼽수준허리높이\n",
            "①_015_위앞엉덩뼈가시높이\n",
            "①_016_무릎높이\n",
            "①_017_샅높이\n",
            "①_018_가슴너비\n",
            "①_019_젖가슴너비\n",
            "①_020_허리너비\n",
            "①_021_배꼽수준허리너비\n",
            "①_022_엉덩이너비\n",
            "①_023_겨드랑두께\n",
            "①_024_가슴두께\n",
            "①_025_젖가슴두께\n",
            "①_026_허리두께\n",
            "①_027_배꼽수준허리두께\n",
            "①_028_엉덩이두께\n",
            "①_029_몸통수직길이\n",
            "①_030_엉덩이수직길이\n",
            "①_031_몸무게\n",
            "①_032_앞중심길이\n",
            "①_033_배꼽수준앞중심길이\n",
            "①_034_겨드랑앞벽사이길이\n",
            "①_035_겨드랑앞접힘사이길이\n",
            "①_037_목둘레\n",
            "①_039_가슴둘레\n",
            "①_040_젖가슴둘레\n",
            "①_042_허리둘레\n",
            "①_043_배꼽수준허리둘레\n",
            "①_044_배둘레\n",
            "①_045_엉덩이둘레\n",
            "①_046_배돌출점기준엉덩이둘레\n",
            "①_047_어깨길이\n",
            "①_048_목뒤등뼈위겨드랑수준길이\n",
            "①_049_등길이\n",
            "①_050_배꼽수준등길이\n",
            "①_051_목뒤오금길이\n",
            "①_052_총길이\n",
            "①_053_넙다리직선길이\n",
            "①_054_어깨사이길이\n",
            "①_055_어깨가쪽사이길이\n",
            "①_056_겨드랑뒤벽사이길이\n",
            "①_057_겨드랑뒤벽접힘사이길이\n",
            "①_058_목뒤젖꼭지길이\n",
            "①_059_목뒤젖꼭지허리둘레선길이\n",
            "①_061_목옆허리둘레선길이\n",
            "①_062_목옆어깨뼈아래허리둘레선길이\n",
            "①_063_위팔길이\n",
            "①_064_팔길이\n",
            "①_065_팔안쪽길이\n",
            "①_066_목뒤손목안쪽길이\n",
            "①_067_겨드랑둘레\n",
            "①_068_엉덩이옆길이\n",
            "①_069_다리가쪽길이\n",
            "①_070_몸통세로둘레\n",
            "①_071_샅앞뒤길이\n",
            "①_072_배꼽수준샅앞뒤길이\n",
            "①_073_앉은키\n",
            "①_074_앉은눈높이\n",
            "①_075_앉은목뒤높이\n",
            "①_076_앉은어깨높이\n",
            "①_077_앉은팔꿈치높이\n",
            "①_078_앉은넙다리높이\n",
            "①_079_앉은무릎높이\n",
            "①_080_앉은오금높이\n",
            "①_081_앉은엉덩이무릎수평길이\n",
            "①_082_앉은엉덩이오금수평길이\n",
            "①_083_앉은엉덩이배두께\n",
            "①_084_위팔수직길이\n",
            "①_085_아래팔수평길이\n",
            "①_086_팔꿈치손끝수평길이\n",
            "①_087_팔꿈치주먹수평길이\n",
            "①_088_앉은배두께\n",
            "①_089_어깨너비\n",
            "①_090_위팔사이너비\n",
            "①_091_팔꿈치사이너비\n",
            "①_092_앉은엉덩이너비\n",
            "①_093_머리수직길이\n",
            "①_094_얼굴수직길이\n",
            "①_095_벽면앞으로뻗은주먹수직길이\n",
            "①_096_벽면몸통두께\n",
            "①_097_벽면어깨수평길이\n",
            "①_098_엉덩이돌출점_배돌출점두께\n",
            "①_099_눈동자사이너비\n",
            "①_100_눈구석사이너비\n",
            "①_101_눈살점_눈확아래점사이길이\n",
            "①_102_손직선길이\n",
            "①_103_손바닥직선길이\n",
            "①_104_손너비\n",
            "①_105_둘째손가락직선길이\n",
            "①_106_둘째손가락첫째관절너비\n",
            "①_107_둘째손가락둘째관절너비\n",
            "①_108_손두께\n",
            "①_109_막대쥔손안둘레\n",
            "①_110_손둘레\n",
            "①_111_머리둘레\n",
            "①_112_귀구슬머리위길이\n",
            "①_113_눈살뒤통수길이\n",
            "①_114_머리두께\n",
            "①_115_머리너비\n",
            "①_118_발너비\n",
            "①_119_발직선길이\n",
            "①_120_가쪽복사높이\n",
            "①_121_넙다리둘레\n",
            "①_122_넙다리중간둘레\n",
            "①_123_무릎둘레\n",
            "①_124_무릎아래둘레\n",
            "①_125_장딴지둘레\n",
            "①_126_종아리최소둘레\n",
            "①_127_발목최대둘레\n",
            "①_128_발목너비\n",
            "①_129_발뒤꿈치너비\n",
            "①_130_위팔둘레\n",
            "①_131_팔꿈치둘레\n",
            "①_132_손목둘레\n",
            "①_133_머리위로뻗은주먹높이\n"
          ]
        }
      ]
    },
    {
      "cell_type": "code",
      "source": [],
      "metadata": {
        "id": "_aiEQc2LstUK"
      },
      "execution_count": null,
      "outputs": []
    },
    {
      "cell_type": "code",
      "source": [],
      "metadata": {
        "id": "3C51PSLPjSbB"
      },
      "execution_count": null,
      "outputs": []
    }
  ]
}