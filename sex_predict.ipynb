{
  "nbformat": 4,
  "nbformat_minor": 0,
  "metadata": {
    "colab": {
      "provenance": [],
      "mount_file_id": "1pOXJ2Ud37mxnL-WF9llDGomsBWjEjL2Q",
      "authorship_tag": "ABX9TyP9+CAnn9HpYYhddg9oKQjU",
      "include_colab_link": true
    },
    "kernelspec": {
      "name": "python3",
      "display_name": "Python 3"
    },
    "language_info": {
      "name": "python"
    }
  },
  "cells": [
    {
      "cell_type": "markdown",
      "metadata": {
        "id": "view-in-github",
        "colab_type": "text"
      },
      "source": [
        "<a href=\"https://colab.research.google.com/github/chajunhyeop/-/blob/main/sex_predict.ipynb\" target=\"_parent\"><img src=\"https://colab.research.google.com/assets/colab-badge.svg\" alt=\"Open In Colab\"/></a>"
      ]
    },
    {
      "cell_type": "code",
      "execution_count": 58,
      "metadata": {
        "colab": {
          "base_uri": "https://localhost:8080/"
        },
        "id": "MhycHVvxiXun",
        "outputId": "95c36c42-adb8-4c42-cb7f-531af096be8e"
      },
      "outputs": [
        {
          "output_type": "stream",
          "name": "stdout",
          "text": [
            "Looking in indexes: https://pypi.org/simple, https://us-python.pkg.dev/colab-wheels/public/simple/\n",
            "Requirement already satisfied: pingouin in /usr/local/lib/python3.8/dist-packages (0.5.3)\n",
            "Requirement already satisfied: scipy>=1.7 in /usr/local/lib/python3.8/dist-packages (from pingouin) (1.7.3)\n",
            "Requirement already satisfied: numpy>=1.19 in /usr/local/lib/python3.8/dist-packages (from pingouin) (1.21.6)\n",
            "Requirement already satisfied: outdated in /usr/local/lib/python3.8/dist-packages (from pingouin) (0.2.2)\n",
            "Requirement already satisfied: seaborn>=0.11 in /usr/local/lib/python3.8/dist-packages (from pingouin) (0.11.2)\n",
            "Requirement already satisfied: tabulate in /usr/local/lib/python3.8/dist-packages (from pingouin) (0.8.10)\n",
            "Requirement already satisfied: statsmodels>=0.13 in /usr/local/lib/python3.8/dist-packages (from pingouin) (0.13.5)\n",
            "Requirement already satisfied: pandas>=1.0 in /usr/local/lib/python3.8/dist-packages (from pingouin) (1.3.5)\n",
            "Requirement already satisfied: scikit-learn in /usr/local/lib/python3.8/dist-packages (from pingouin) (1.0.2)\n",
            "Requirement already satisfied: pandas-flavor>=0.2.0 in /usr/local/lib/python3.8/dist-packages (from pingouin) (0.3.0)\n",
            "Requirement already satisfied: matplotlib>=3.0.2 in /usr/local/lib/python3.8/dist-packages (from pingouin) (3.2.2)\n",
            "Requirement already satisfied: cycler>=0.10 in /usr/local/lib/python3.8/dist-packages (from matplotlib>=3.0.2->pingouin) (0.11.0)\n",
            "Requirement already satisfied: kiwisolver>=1.0.1 in /usr/local/lib/python3.8/dist-packages (from matplotlib>=3.0.2->pingouin) (1.4.4)\n",
            "Requirement already satisfied: pyparsing!=2.0.4,!=2.1.2,!=2.1.6,>=2.0.1 in /usr/local/lib/python3.8/dist-packages (from matplotlib>=3.0.2->pingouin) (3.0.9)\n",
            "Requirement already satisfied: python-dateutil>=2.1 in /usr/local/lib/python3.8/dist-packages (from matplotlib>=3.0.2->pingouin) (2.8.2)\n",
            "Requirement already satisfied: pytz>=2017.3 in /usr/local/lib/python3.8/dist-packages (from pandas>=1.0->pingouin) (2022.7)\n",
            "Requirement already satisfied: xarray in /usr/local/lib/python3.8/dist-packages (from pandas-flavor>=0.2.0->pingouin) (2022.12.0)\n",
            "Requirement already satisfied: lazy-loader==0.1rc2 in /usr/local/lib/python3.8/dist-packages (from pandas-flavor>=0.2.0->pingouin) (0.1rc2)\n",
            "Requirement already satisfied: packaging>=21.3 in /usr/local/lib/python3.8/dist-packages (from statsmodels>=0.13->pingouin) (21.3)\n",
            "Requirement already satisfied: patsy>=0.5.2 in /usr/local/lib/python3.8/dist-packages (from statsmodels>=0.13->pingouin) (0.5.3)\n",
            "Requirement already satisfied: requests in /usr/local/lib/python3.8/dist-packages (from outdated->pingouin) (2.25.1)\n",
            "Requirement already satisfied: setuptools>=44 in /usr/local/lib/python3.8/dist-packages (from outdated->pingouin) (57.4.0)\n",
            "Requirement already satisfied: littleutils in /usr/local/lib/python3.8/dist-packages (from outdated->pingouin) (0.2.2)\n",
            "Requirement already satisfied: threadpoolctl>=2.0.0 in /usr/local/lib/python3.8/dist-packages (from scikit-learn->pingouin) (3.1.0)\n",
            "Requirement already satisfied: joblib>=0.11 in /usr/local/lib/python3.8/dist-packages (from scikit-learn->pingouin) (1.2.0)\n",
            "Requirement already satisfied: six in /usr/local/lib/python3.8/dist-packages (from patsy>=0.5.2->statsmodels>=0.13->pingouin) (1.15.0)\n",
            "Requirement already satisfied: urllib3<1.27,>=1.21.1 in /usr/local/lib/python3.8/dist-packages (from requests->outdated->pingouin) (1.24.3)\n",
            "Requirement already satisfied: idna<3,>=2.5 in /usr/local/lib/python3.8/dist-packages (from requests->outdated->pingouin) (2.10)\n",
            "Requirement already satisfied: chardet<5,>=3.0.2 in /usr/local/lib/python3.8/dist-packages (from requests->outdated->pingouin) (4.0.0)\n",
            "Requirement already satisfied: certifi>=2017.4.17 in /usr/local/lib/python3.8/dist-packages (from requests->outdated->pingouin) (2022.12.7)\n",
            "Looking in indexes: https://pypi.org/simple, https://us-python.pkg.dev/colab-wheels/public/simple/\n",
            "Requirement already satisfied: scikit_posthocs in /usr/local/lib/python3.8/dist-packages (0.7.0)\n",
            "Requirement already satisfied: matplotlib in /usr/local/lib/python3.8/dist-packages (from scikit_posthocs) (3.2.2)\n",
            "Requirement already satisfied: pandas>=0.20.0 in /usr/local/lib/python3.8/dist-packages (from scikit_posthocs) (1.3.5)\n",
            "Requirement already satisfied: scipy in /usr/local/lib/python3.8/dist-packages (from scikit_posthocs) (1.7.3)\n",
            "Requirement already satisfied: seaborn in /usr/local/lib/python3.8/dist-packages (from scikit_posthocs) (0.11.2)\n",
            "Requirement already satisfied: numpy in /usr/local/lib/python3.8/dist-packages (from scikit_posthocs) (1.21.6)\n",
            "Requirement already satisfied: statsmodels in /usr/local/lib/python3.8/dist-packages (from scikit_posthocs) (0.13.5)\n",
            "Requirement already satisfied: python-dateutil>=2.7.3 in /usr/local/lib/python3.8/dist-packages (from pandas>=0.20.0->scikit_posthocs) (2.8.2)\n",
            "Requirement already satisfied: pytz>=2017.3 in /usr/local/lib/python3.8/dist-packages (from pandas>=0.20.0->scikit_posthocs) (2022.7)\n",
            "Requirement already satisfied: kiwisolver>=1.0.1 in /usr/local/lib/python3.8/dist-packages (from matplotlib->scikit_posthocs) (1.4.4)\n",
            "Requirement already satisfied: cycler>=0.10 in /usr/local/lib/python3.8/dist-packages (from matplotlib->scikit_posthocs) (0.11.0)\n",
            "Requirement already satisfied: pyparsing!=2.0.4,!=2.1.2,!=2.1.6,>=2.0.1 in /usr/local/lib/python3.8/dist-packages (from matplotlib->scikit_posthocs) (3.0.9)\n",
            "Requirement already satisfied: patsy>=0.5.2 in /usr/local/lib/python3.8/dist-packages (from statsmodels->scikit_posthocs) (0.5.3)\n",
            "Requirement already satisfied: packaging>=21.3 in /usr/local/lib/python3.8/dist-packages (from statsmodels->scikit_posthocs) (21.3)\n",
            "Requirement already satisfied: six in /usr/local/lib/python3.8/dist-packages (from patsy>=0.5.2->statsmodels->scikit_posthocs) (1.15.0)\n"
          ]
        }
      ],
      "source": [
        "!pip install pingouin\n",
        "!pip install scikit_posthocs"
      ]
    },
    {
      "cell_type": "code",
      "source": [
        "from matplotlib import pyplot as plt\n",
        "from pandas import DataFrame\n",
        "import numpy as np\n",
        "import seaborn as sns\n",
        "import pandas as pd\n",
        "import math\n",
        "from scipy import stats\n",
        "import pingouin as pg\n",
        "import scipy as sp\n",
        "import scikit_posthocs\n",
        "from statsmodels.formula.api import ols\n",
        "from statsmodels.stats.anova import anova_lm\n",
        "from sklearn.model_selection import train_test_split, cross_val_score, StratifiedKFold, GridSearchCV\n",
        "from sklearn.neighbors import KNeighborsRegressor, KNeighborsClassifier\n",
        "from sklearn.feature_selection import SelectFromModel\n",
        "from sklearn.ensemble import RandomForestClassifier\n",
        "from sklearn.compose import ColumnTransformer\n",
        "from sklearn.preprocessing import StandardScaler, OneHotEncoder\n",
        "from sklearn.linear_model import LinearRegression\n",
        "from sklearn.metrics import mean_squared_error"
      ],
      "metadata": {
        "id": "LiXid2NUigtE"
      },
      "execution_count": 59,
      "outputs": []
    },
    {
      "cell_type": "code",
      "source": [
        "from imblearn.over_sampling import SMOTE"
      ],
      "metadata": {
        "id": "n-nXSFtf1aRH"
      },
      "execution_count": 60,
      "outputs": []
    },
    {
      "cell_type": "code",
      "source": [
        "body = pd.read_excel(\"/content/drive/MyDrive/Colab Notebooks/koreaverage.xlsx\")"
      ],
      "metadata": {
        "id": "Fdk5nhZ1iyPi"
      },
      "execution_count": 61,
      "outputs": []
    },
    {
      "cell_type": "code",
      "source": [
        "print(body.columns)"
      ],
      "metadata": {
        "colab": {
          "base_uri": "https://localhost:8080/"
        },
        "id": "XjauZaEuv6Ui",
        "outputId": "d2917861-9a58-49ed-b087-3ccd4733df3e"
      },
      "execution_count": 62,
      "outputs": [
        {
          "output_type": "stream",
          "name": "stdout",
          "text": [
            "Index(['ⓞ_02_성별', 'ⓞ_06_나이_반올림', 'ⓞ_12_골격근량', 'ⓞ_13_체지방량', 'ⓞ_14_체수분',\n",
            "       'ⓞ_15_단백질', 'ⓞ_16_무기질', 'ⓞ_17_BMI', 'ⓞ_18_체지방율', 'ⓞ_19_복부지방율',\n",
            "       ...\n",
            "       '①_124_무릎아래둘레', '①_125_장딴지둘레', '①_126_종아리최소둘레', '①_127_발목최대둘레',\n",
            "       '①_128_발목너비', '①_129_발뒤꿈치너비', '①_130_위팔둘레', '①_131_팔꿈치둘레', '①_132_손목둘레',\n",
            "       '①_133_머리위로뻗은주먹높이'],\n",
            "      dtype='object', length=148)\n"
          ]
        }
      ]
    },
    {
      "cell_type": "code",
      "source": [
        "#열이름 \n",
        "num=[]\n",
        "for i in body:\n",
        "  num.append(i)\n",
        "  print(i)"
      ],
      "metadata": {
        "colab": {
          "base_uri": "https://localhost:8080/"
        },
        "id": "_VgO4fCJvyS1",
        "outputId": "686c9455-f6aa-474e-f5c4-91d9ba50acd7"
      },
      "execution_count": 63,
      "outputs": [
        {
          "output_type": "stream",
          "name": "stdout",
          "text": [
            "ⓞ_02_성별\n",
            "ⓞ_06_나이_반올림\n",
            "ⓞ_12_골격근량\n",
            "ⓞ_13_체지방량\n",
            "ⓞ_14_체수분\n",
            "ⓞ_15_단백질\n",
            "ⓞ_16_무기질\n",
            "ⓞ_17_BMI\n",
            "ⓞ_18_체지방율\n",
            "ⓞ_19_복부지방율\n",
            "ⓞ_20_복부지방율평가\n",
            "ⓞ_21_기초대사량\n",
            "ⓞ_22_기초대사량평가\n",
            "ⓞ_23_근육조절\n",
            "ⓞ_24_지방조절\n",
            "①_001_오른쪽어깨경사각\n",
            "①_002_왼쪽어깨경사각\n",
            "①_003_키\n",
            "①_004_눈높이\n",
            "①_005_목뒤높이\n",
            "①_006_어깨높이\n",
            "①_007_어깨가쪽높이\n",
            "①_008_겨드랑높이\n",
            "①_009_굽힌팔꿈치높이\n",
            "①_010_허리기준선높이\n",
            "①_011_엉덩이높이\n",
            "①_012_주먹높이\n",
            "①_013_허리높이\n",
            "①_014_배꼽수준허리높이\n",
            "①_015_위앞엉덩뼈가시높이\n",
            "①_016_무릎높이\n",
            "①_017_샅높이\n",
            "①_018_가슴너비\n",
            "①_019_젖가슴너비\n",
            "①_020_허리너비\n",
            "①_021_배꼽수준허리너비\n",
            "①_022_엉덩이너비\n",
            "①_023_겨드랑두께\n",
            "①_024_가슴두께\n",
            "①_025_젖가슴두께\n",
            "①_026_허리두께\n",
            "①_027_배꼽수준허리두께\n",
            "①_028_엉덩이두께\n",
            "①_029_몸통수직길이\n",
            "①_030_엉덩이수직길이\n",
            "①_031_몸무게\n",
            "①_032_앞중심길이\n",
            "①_033_배꼽수준앞중심길이\n",
            "①_034_겨드랑앞벽사이길이\n",
            "①_035_겨드랑앞접힘사이길이\n",
            "①_036_젖꼭지사이수평길이_여\n",
            "①_037_목둘레\n",
            "①_038_목밑둘레\n",
            "①_039_가슴둘레\n",
            "①_040_젖가슴둘레\n",
            "①_041_젖가슴아래둘레_여\n",
            "①_042_허리둘레\n",
            "①_043_배꼽수준허리둘레\n",
            "①_044_배둘레\n",
            "①_045_엉덩이둘레\n",
            "①_046_배돌출점기준엉덩이둘레\n",
            "①_047_어깨길이\n",
            "①_048_목뒤등뼈위겨드랑수준길이\n",
            "①_049_등길이\n",
            "①_050_배꼽수준등길이\n",
            "①_051_목뒤오금길이\n",
            "①_052_총길이\n",
            "①_053_넙다리직선길이\n",
            "①_054_어깨사이길이\n",
            "①_055_어깨가쪽사이길이\n",
            "①_056_겨드랑뒤벽사이길이\n",
            "①_057_겨드랑뒤벽접힘사이길이\n",
            "①_058_목뒤젖꼭지길이\n",
            "①_059_목뒤젖꼭지허리둘레선길이\n",
            "①_060_목옆젖꼭지길이_여_\n",
            "①_061_목옆허리둘레선길이\n",
            "①_062_목옆어깨뼈아래허리둘레선길이\n",
            "①_063_위팔길이\n",
            "①_064_팔길이\n",
            "①_065_팔안쪽길이\n",
            "①_066_목뒤손목안쪽길이\n",
            "①_067_겨드랑둘레\n",
            "①_068_엉덩이옆길이\n",
            "①_069_다리가쪽길이\n",
            "①_070_몸통세로둘레\n",
            "①_071_샅앞뒤길이\n",
            "①_072_배꼽수준샅앞뒤길이\n",
            "①_073_앉은키\n",
            "①_074_앉은눈높이\n",
            "①_075_앉은목뒤높이\n",
            "①_076_앉은어깨높이\n",
            "①_077_앉은팔꿈치높이\n",
            "①_078_앉은넙다리높이\n",
            "①_079_앉은무릎높이\n",
            "①_080_앉은오금높이\n",
            "①_081_앉은엉덩이무릎수평길이\n",
            "①_082_앉은엉덩이오금수평길이\n",
            "①_083_앉은엉덩이배두께\n",
            "①_084_위팔수직길이\n",
            "①_085_아래팔수평길이\n",
            "①_086_팔꿈치손끝수평길이\n",
            "①_087_팔꿈치주먹수평길이\n",
            "①_088_앉은배두께\n",
            "①_089_어깨너비\n",
            "①_090_위팔사이너비\n",
            "①_091_팔꿈치사이너비\n",
            "①_092_앉은엉덩이너비\n",
            "①_093_머리수직길이\n",
            "①_094_얼굴수직길이\n",
            "①_095_벽면앞으로뻗은주먹수직길이\n",
            "①_096_벽면몸통두께\n",
            "①_097_벽면어깨수평길이\n",
            "①_098_엉덩이돌출점_배돌출점두께\n",
            "①_099_눈동자사이너비\n",
            "①_100_눈구석사이너비\n",
            "①_101_눈살점_눈확아래점사이길이\n",
            "①_102_손직선길이\n",
            "①_103_손바닥직선길이\n",
            "①_104_손너비\n",
            "①_105_둘째손가락직선길이\n",
            "①_106_둘째손가락첫째관절너비\n",
            "①_107_둘째손가락둘째관절너비\n",
            "①_108_손두께\n",
            "①_109_막대쥔손안둘레\n",
            "①_110_손둘레\n",
            "①_111_머리둘레\n",
            "①_112_귀구슬머리위길이\n",
            "①_113_눈살뒤통수길이\n",
            "①_114_머리두께\n",
            "①_115_머리너비\n",
            "①_116_얼굴너비\n",
            "①_117_아래턱사이너비\n",
            "①_118_발너비\n",
            "①_119_발직선길이\n",
            "①_120_가쪽복사높이\n",
            "①_121_넙다리둘레\n",
            "①_122_넙다리중간둘레\n",
            "①_123_무릎둘레\n",
            "①_124_무릎아래둘레\n",
            "①_125_장딴지둘레\n",
            "①_126_종아리최소둘레\n",
            "①_127_발목최대둘레\n",
            "①_128_발목너비\n",
            "①_129_발뒤꿈치너비\n",
            "①_130_위팔둘레\n",
            "①_131_팔꿈치둘레\n",
            "①_132_손목둘레\n",
            "①_133_머리위로뻗은주먹높이\n"
          ]
        }
      ]
    },
    {
      "cell_type": "code",
      "source": [
        "#남성결측값 변수 제거 \n",
        "df=body.drop([\"①_036_젖꼭지사이수평길이_여\",\"①_038_목밑둘레\",\"①_041_젖가슴아래둘레_여\",\"①_060_목옆젖꼭지길이_여_\" ,\"①_116_얼굴너비\",\"①_117_아래턱사이너비\"], axis=1)"
      ],
      "metadata": {
        "id": "P97hMrcbwarD"
      },
      "execution_count": 64,
      "outputs": []
    },
    {
      "cell_type": "code",
      "source": [
        "#결측값 제거\n",
        "df.dropna(axis=0, inplace=True)"
      ],
      "metadata": {
        "id": "yTsqD_tIjH4P"
      },
      "execution_count": 65,
      "outputs": []
    },
    {
      "cell_type": "code",
      "source": [
        "#결측값 개수 확인\n",
        "df.isnull().sum()"
      ],
      "metadata": {
        "colab": {
          "base_uri": "https://localhost:8080/"
        },
        "id": "R5c1jh3ZjNYA",
        "outputId": "523b3577-4978-4ea3-9756-9d85c9f88157"
      },
      "execution_count": 66,
      "outputs": [
        {
          "output_type": "execute_result",
          "data": {
            "text/plain": [
              "ⓞ_02_성별             0\n",
              "ⓞ_06_나이_반올림         0\n",
              "ⓞ_12_골격근량           0\n",
              "ⓞ_13_체지방량           0\n",
              "ⓞ_14_체수분            0\n",
              "                   ..\n",
              "①_129_발뒤꿈치너비        0\n",
              "①_130_위팔둘레          0\n",
              "①_131_팔꿈치둘레         0\n",
              "①_132_손목둘레          0\n",
              "①_133_머리위로뻗은주먹높이    0\n",
              "Length: 142, dtype: int64"
            ]
          },
          "metadata": {},
          "execution_count": 66
        }
      ]
    },
    {
      "cell_type": "code",
      "source": [
        "df= df.replace(\"남\", 0).replace(\"여\", 1)"
      ],
      "metadata": {
        "id": "eqnt9QlcppEJ"
      },
      "execution_count": 67,
      "outputs": []
    },
    {
      "cell_type": "code",
      "source": [
        "df[\"ⓞ_02_성별\"]"
      ],
      "metadata": {
        "colab": {
          "base_uri": "https://localhost:8080/"
        },
        "id": "fuZTWADysPW4",
        "outputId": "47d88eb3-33a4-4a3a-d5b8-f7ac3547fa26"
      },
      "execution_count": 110,
      "outputs": [
        {
          "output_type": "execute_result",
          "data": {
            "text/plain": [
              "0       0\n",
              "1       0\n",
              "2       0\n",
              "3       0\n",
              "4       0\n",
              "       ..\n",
              "6415    1\n",
              "6416    1\n",
              "6417    1\n",
              "6418    1\n",
              "6419    1\n",
              "Name: ⓞ_02_성별, Length: 6341, dtype: int64"
            ]
          },
          "metadata": {},
          "execution_count": 110
        }
      ]
    },
    {
      "cell_type": "code",
      "source": [
        "from sklearn.model_selection import train_test_split\n",
        "from sklearn.metrics import classification_report\n",
        "from sklearn.feature_selection import SelectFromModel"
      ],
      "metadata": {
        "id": "MeeRiqoEN1bm"
      },
      "execution_count": 74,
      "outputs": []
    },
    {
      "cell_type": "code",
      "source": [
        "#연속형 변수와 범주형 변수 분류해주기\n",
        "num = df.drop([\"ⓞ_02_성별\", \"ⓞ_20_복부지방율평가\", \"ⓞ_22_기초대사량평가\"], axis=1)\n",
        "num_list = num.columns\n",
        "cg = [\"ⓞ_20_복부지방율평가\", \"ⓞ_22_기초대사량평가\"]\n",
        "\n",
        "#df 검색시 index에 list를 넣어주어야 함으로 num_list(dtype: object)를 list로 전환해줬다.\n",
        "\n",
        "num=[]\n",
        "for i in num_list:\n",
        "  num.append(i)\n",
        "\n",
        "\n",
        "#분할\n",
        "X = df[num+cg]\n",
        "Y = df[\"ⓞ_02_성별\"]\n",
        "\n",
        "\n",
        "#train testt\n",
        "X_train, X_test, Y_train, Y_test = train_test_split(X, Y, test_size=0.3, random_state=0)\n",
        "\n",
        "#표준화, 원핫코딩(더미변수화)\n",
        "ct = ColumnTransformer([('scaling', StandardScaler(), num), ('onehot', OneHotEncoder(sparse=False), cg)])\n",
        "ct.fit(X_train)\n",
        "X_train = ct.transform(X_train)\n",
        "X_test = ct.transform(X_test)\n",
        "\n",
        "\n",
        "#오버샘플링\n",
        "from imblearn.over_sampling import SMOTE\n",
        "from collections import Counter\n",
        "\n",
        "smote = SMOTE(random_state=0)\n",
        "X_train, Y_train = smote.fit_resample(X_train, Y_train)\n",
        "\n",
        "print(\"original data %s\" %Counter(Y))\n",
        "print(\"original train data %s\" %Counter(Y_train))"
      ],
      "metadata": {
        "colab": {
          "base_uri": "https://localhost:8080/"
        },
        "id": "wppfTTqsjS40",
        "outputId": "6f1385a2-5a04-4c64-b162-e06342ee3b9a"
      },
      "execution_count": 111,
      "outputs": [
        {
          "output_type": "stream",
          "name": "stdout",
          "text": [
            "original data Counter({1: 3181, 0: 3160})\n",
            "original train data Counter({0: 2230, 1: 2230})\n"
          ]
        }
      ]
    },
    {
      "cell_type": "code",
      "source": [
        "from sklearn.tree import DecisionTreeClassifier\n",
        "\n",
        "DT_model = DecisionTreeClassifier(random_state = 0, max_depth = 3)\n",
        "DT_model.fit(X_train, Y_train)\n",
        "Y_pred = DT_model.predict(X_test)\n",
        "print(\"accuracy : {:3f}\".format(DT_model.score(X_train, Y_train)))\n",
        "print(classification_report(Y_test, Y_pred))\n",
        "\n",
        "#accuracy : 0.9721"
      ],
      "metadata": {
        "colab": {
          "base_uri": "https://localhost:8080/"
        },
        "id": "2dN1BnoGXFmA",
        "outputId": "ef1b0aca-4de6-4ce8-fa75-d6569b4b9cb6"
      },
      "execution_count": 121,
      "outputs": [
        {
          "output_type": "stream",
          "name": "stdout",
          "text": [
            "accuracy : 0.972197\n",
            "              precision    recall  f1-score   support\n",
            "\n",
            "           0       0.96      0.96      0.96       952\n",
            "           1       0.96      0.96      0.96       951\n",
            "\n",
            "    accuracy                           0.96      1903\n",
            "   macro avg       0.96      0.96      0.96      1903\n",
            "weighted avg       0.96      0.96      0.96      1903\n",
            "\n"
          ]
        }
      ]
    },
    {
      "cell_type": "code",
      "source": [
        "feature_name = X.columns\n",
        "feature_importance = sorted(DT_model.feature_importances_, reverse = True)\n",
        "#성별예측에 영향력이 큰 변수는 골격근량, 체지방율, 목둘레, 근육조절, 어깨가쪽사이길이, 허리높이를 알 수 있다.\n"
      ],
      "metadata": {
        "id": "pJiAb6O-qYIK"
      },
      "execution_count": 132,
      "outputs": []
    },
    {
      "cell_type": "code",
      "source": [
        "feature_name1 = X.columns[:10]\n",
        "feature_importance1 = feature_importance[:10]\n",
        "feature_importance1"
      ],
      "metadata": {
        "colab": {
          "base_uri": "https://localhost:8080/"
        },
        "id": "QsY9p3Y5qbvU",
        "outputId": "77d4ce57-6633-4189-859f-47902ff97b45"
      },
      "execution_count": 135,
      "outputs": [
        {
          "output_type": "execute_result",
          "data": {
            "text/plain": [
              "[0.8534583607273784,\n",
              " 0.09127100076939691,\n",
              " 0.01927969784331667,\n",
              " 0.013992722238444373,\n",
              " 0.01244046899558548,\n",
              " 0.00955774942587829,\n",
              " 0.0,\n",
              " 0.0,\n",
              " 0.0,\n",
              " 0.0]"
            ]
          },
          "metadata": {},
          "execution_count": 135
        }
      ]
    },
    {
      "cell_type": "code",
      "source": [
        "trace= go.Scatter(\n",
        "    y= feature_importance1,\n",
        "    x= feature_name1,\n",
        "    mode='markers',\n",
        "    marker=dict(\n",
        "        sizemode = 'diameter',\n",
        "        sizeref = 1,\n",
        "        size = 13,\n",
        "        color = feature_importance,\n",
        "        colorscale='Portland',\n",
        "        showscale = True\n",
        "    ),\n",
        "    text = feature_name\n",
        ")\n",
        "data = [trace]\n",
        "\n",
        "layout = go.Layout(\n",
        "    autosize = True, \n",
        "    title = 'DecisionTree Feature Importance',\n",
        "    hovermode = 'closest',\n",
        "    xaxis = dict(\n",
        "        ticklen = 5,\n",
        "        showgrid = False, \n",
        "        zeroline = False, \n",
        "        showline = False,\n",
        "    ),\n",
        "    yaxis=dict(\n",
        "        title = 'Feature Importance',\n",
        "        showgrid = False,\n",
        "        zeroline = False,\n",
        "        ticklen = 5,\n",
        "        gridwidth = 2\n",
        "    ),\n",
        "    showlegend = False\n",
        ")\n",
        "fig = go.Figure(data=data, layout=layout)\n",
        "py.iplot(fig,filename='scatter2010')"
      ],
      "metadata": {
        "colab": {
          "base_uri": "https://localhost:8080/",
          "height": 542
        },
        "id": "_aiEQc2LstUK",
        "outputId": "5a105d94-43dd-4357-fc06-b150a58c1853"
      },
      "execution_count": 136,
      "outputs": [
        {
          "output_type": "display_data",
          "data": {
            "application/vnd.plotly.v1+json": {
              "data": [
                {
                  "marker": {
                    "color": [
                      0.8534583607273784,
                      0.09127100076939691,
                      0.01927969784331667,
                      0.013992722238444373,
                      0.01244046899558548,
                      0.00955774942587829,
                      0,
                      0,
                      0,
                      0,
                      0,
                      0,
                      0,
                      0,
                      0,
                      0,
                      0,
                      0,
                      0,
                      0,
                      0,
                      0,
                      0,
                      0,
                      0,
                      0,
                      0,
                      0,
                      0,
                      0,
                      0,
                      0,
                      0,
                      0,
                      0,
                      0,
                      0,
                      0,
                      0,
                      0,
                      0,
                      0,
                      0,
                      0,
                      0,
                      0,
                      0,
                      0,
                      0,
                      0,
                      0,
                      0,
                      0,
                      0,
                      0,
                      0,
                      0,
                      0,
                      0,
                      0,
                      0,
                      0,
                      0,
                      0,
                      0,
                      0,
                      0,
                      0,
                      0,
                      0,
                      0,
                      0,
                      0,
                      0,
                      0,
                      0,
                      0,
                      0,
                      0,
                      0,
                      0,
                      0,
                      0,
                      0,
                      0,
                      0,
                      0,
                      0,
                      0,
                      0,
                      0,
                      0,
                      0,
                      0,
                      0,
                      0,
                      0,
                      0,
                      0,
                      0,
                      0,
                      0,
                      0,
                      0,
                      0,
                      0,
                      0,
                      0,
                      0,
                      0,
                      0,
                      0,
                      0,
                      0,
                      0,
                      0,
                      0,
                      0,
                      0,
                      0,
                      0,
                      0,
                      0,
                      0,
                      0,
                      0,
                      0,
                      0,
                      0,
                      0,
                      0,
                      0,
                      0,
                      0,
                      0,
                      0,
                      0,
                      0,
                      0,
                      0,
                      0,
                      0,
                      0,
                      0,
                      0,
                      0
                    ],
                    "colorscale": [
                      [
                        0,
                        "rgb(12,51,131)"
                      ],
                      [
                        0.25,
                        "rgb(10,136,186)"
                      ],
                      [
                        0.5,
                        "rgb(242,211,56)"
                      ],
                      [
                        0.75,
                        "rgb(242,143,56)"
                      ],
                      [
                        1,
                        "rgb(217,30,30)"
                      ]
                    ],
                    "showscale": true,
                    "size": 13,
                    "sizemode": "diameter",
                    "sizeref": 1
                  },
                  "mode": "markers",
                  "text": [
                    "ⓞ_06_나이_반올림",
                    "ⓞ_12_골격근량",
                    "ⓞ_13_체지방량",
                    "ⓞ_14_체수분",
                    "ⓞ_15_단백질",
                    "ⓞ_16_무기질",
                    "ⓞ_17_BMI",
                    "ⓞ_18_체지방율",
                    "ⓞ_19_복부지방율",
                    "ⓞ_21_기초대사량",
                    "ⓞ_23_근육조절",
                    "ⓞ_24_지방조절",
                    "①_001_오른쪽어깨경사각",
                    "①_002_왼쪽어깨경사각",
                    "①_003_키",
                    "①_004_눈높이",
                    "①_005_목뒤높이",
                    "①_006_어깨높이",
                    "①_007_어깨가쪽높이",
                    "①_008_겨드랑높이",
                    "①_009_굽힌팔꿈치높이",
                    "①_010_허리기준선높이",
                    "①_011_엉덩이높이",
                    "①_012_주먹높이",
                    "①_013_허리높이",
                    "①_014_배꼽수준허리높이",
                    "①_015_위앞엉덩뼈가시높이",
                    "①_016_무릎높이",
                    "①_017_샅높이",
                    "①_018_가슴너비",
                    "①_019_젖가슴너비",
                    "①_020_허리너비",
                    "①_021_배꼽수준허리너비",
                    "①_022_엉덩이너비",
                    "①_023_겨드랑두께",
                    "①_024_가슴두께",
                    "①_025_젖가슴두께",
                    "①_026_허리두께",
                    "①_027_배꼽수준허리두께",
                    "①_028_엉덩이두께",
                    "①_029_몸통수직길이",
                    "①_030_엉덩이수직길이",
                    "①_031_몸무게",
                    "①_032_앞중심길이",
                    "①_033_배꼽수준앞중심길이",
                    "①_034_겨드랑앞벽사이길이",
                    "①_035_겨드랑앞접힘사이길이",
                    "①_037_목둘레",
                    "①_039_가슴둘레",
                    "①_040_젖가슴둘레",
                    "①_042_허리둘레",
                    "①_043_배꼽수준허리둘레",
                    "①_044_배둘레",
                    "①_045_엉덩이둘레",
                    "①_046_배돌출점기준엉덩이둘레",
                    "①_047_어깨길이",
                    "①_048_목뒤등뼈위겨드랑수준길이",
                    "①_049_등길이",
                    "①_050_배꼽수준등길이",
                    "①_051_목뒤오금길이",
                    "①_052_총길이",
                    "①_053_넙다리직선길이",
                    "①_054_어깨사이길이",
                    "①_055_어깨가쪽사이길이",
                    "①_056_겨드랑뒤벽사이길이",
                    "①_057_겨드랑뒤벽접힘사이길이",
                    "①_058_목뒤젖꼭지길이",
                    "①_059_목뒤젖꼭지허리둘레선길이",
                    "①_061_목옆허리둘레선길이",
                    "①_062_목옆어깨뼈아래허리둘레선길이",
                    "①_063_위팔길이",
                    "①_064_팔길이",
                    "①_065_팔안쪽길이",
                    "①_066_목뒤손목안쪽길이",
                    "①_067_겨드랑둘레",
                    "①_068_엉덩이옆길이",
                    "①_069_다리가쪽길이",
                    "①_070_몸통세로둘레",
                    "①_071_샅앞뒤길이",
                    "①_072_배꼽수준샅앞뒤길이",
                    "①_073_앉은키",
                    "①_074_앉은눈높이",
                    "①_075_앉은목뒤높이",
                    "①_076_앉은어깨높이",
                    "①_077_앉은팔꿈치높이",
                    "①_078_앉은넙다리높이",
                    "①_079_앉은무릎높이",
                    "①_080_앉은오금높이",
                    "①_081_앉은엉덩이무릎수평길이",
                    "①_082_앉은엉덩이오금수평길이",
                    "①_083_앉은엉덩이배두께",
                    "①_084_위팔수직길이",
                    "①_085_아래팔수평길이",
                    "①_086_팔꿈치손끝수평길이",
                    "①_087_팔꿈치주먹수평길이",
                    "①_088_앉은배두께",
                    "①_089_어깨너비",
                    "①_090_위팔사이너비",
                    "①_091_팔꿈치사이너비",
                    "①_092_앉은엉덩이너비",
                    "①_093_머리수직길이",
                    "①_094_얼굴수직길이",
                    "①_095_벽면앞으로뻗은주먹수직길이",
                    "①_096_벽면몸통두께",
                    "①_097_벽면어깨수평길이",
                    "①_098_엉덩이돌출점_배돌출점두께",
                    "①_099_눈동자사이너비",
                    "①_100_눈구석사이너비",
                    "①_101_눈살점_눈확아래점사이길이",
                    "①_102_손직선길이",
                    "①_103_손바닥직선길이",
                    "①_104_손너비",
                    "①_105_둘째손가락직선길이",
                    "①_106_둘째손가락첫째관절너비",
                    "①_107_둘째손가락둘째관절너비",
                    "①_108_손두께",
                    "①_109_막대쥔손안둘레",
                    "①_110_손둘레",
                    "①_111_머리둘레",
                    "①_112_귀구슬머리위길이",
                    "①_113_눈살뒤통수길이",
                    "①_114_머리두께",
                    "①_115_머리너비",
                    "①_118_발너비",
                    "①_119_발직선길이",
                    "①_120_가쪽복사높이",
                    "①_121_넙다리둘레",
                    "①_122_넙다리중간둘레",
                    "①_123_무릎둘레",
                    "①_124_무릎아래둘레",
                    "①_125_장딴지둘레",
                    "①_126_종아리최소둘레",
                    "①_127_발목최대둘레",
                    "①_128_발목너비",
                    "①_129_발뒤꿈치너비",
                    "①_130_위팔둘레",
                    "①_131_팔꿈치둘레",
                    "①_132_손목둘레",
                    "①_133_머리위로뻗은주먹높이",
                    "ⓞ_20_복부지방율평가",
                    "ⓞ_22_기초대사량평가"
                  ],
                  "x": [
                    "ⓞ_06_나이_반올림",
                    "ⓞ_12_골격근량",
                    "ⓞ_13_체지방량",
                    "ⓞ_14_체수분",
                    "ⓞ_15_단백질",
                    "ⓞ_16_무기질",
                    "ⓞ_17_BMI",
                    "ⓞ_18_체지방율",
                    "ⓞ_19_복부지방율",
                    "ⓞ_21_기초대사량"
                  ],
                  "y": [
                    0.8534583607273784,
                    0.09127100076939691,
                    0.01927969784331667,
                    0.013992722238444373,
                    0.01244046899558548,
                    0.00955774942587829,
                    0,
                    0,
                    0,
                    0
                  ],
                  "type": "scatter"
                }
              ],
              "layout": {
                "autosize": true,
                "hovermode": "closest",
                "showlegend": false,
                "template": {
                  "data": {
                    "barpolar": [
                      {
                        "marker": {
                          "line": {
                            "color": "#E5ECF6",
                            "width": 0.5
                          },
                          "pattern": {
                            "fillmode": "overlay",
                            "size": 10,
                            "solidity": 0.2
                          }
                        },
                        "type": "barpolar"
                      }
                    ],
                    "bar": [
                      {
                        "error_x": {
                          "color": "#2a3f5f"
                        },
                        "error_y": {
                          "color": "#2a3f5f"
                        },
                        "marker": {
                          "line": {
                            "color": "#E5ECF6",
                            "width": 0.5
                          },
                          "pattern": {
                            "fillmode": "overlay",
                            "size": 10,
                            "solidity": 0.2
                          }
                        },
                        "type": "bar"
                      }
                    ],
                    "carpet": [
                      {
                        "aaxis": {
                          "endlinecolor": "#2a3f5f",
                          "gridcolor": "white",
                          "linecolor": "white",
                          "minorgridcolor": "white",
                          "startlinecolor": "#2a3f5f"
                        },
                        "baxis": {
                          "endlinecolor": "#2a3f5f",
                          "gridcolor": "white",
                          "linecolor": "white",
                          "minorgridcolor": "white",
                          "startlinecolor": "#2a3f5f"
                        },
                        "type": "carpet"
                      }
                    ],
                    "choropleth": [
                      {
                        "colorbar": {
                          "outlinewidth": 0,
                          "ticks": ""
                        },
                        "type": "choropleth"
                      }
                    ],
                    "contourcarpet": [
                      {
                        "colorbar": {
                          "outlinewidth": 0,
                          "ticks": ""
                        },
                        "type": "contourcarpet"
                      }
                    ],
                    "contour": [
                      {
                        "colorbar": {
                          "outlinewidth": 0,
                          "ticks": ""
                        },
                        "colorscale": [
                          [
                            0,
                            "#0d0887"
                          ],
                          [
                            0.1111111111111111,
                            "#46039f"
                          ],
                          [
                            0.2222222222222222,
                            "#7201a8"
                          ],
                          [
                            0.3333333333333333,
                            "#9c179e"
                          ],
                          [
                            0.4444444444444444,
                            "#bd3786"
                          ],
                          [
                            0.5555555555555556,
                            "#d8576b"
                          ],
                          [
                            0.6666666666666666,
                            "#ed7953"
                          ],
                          [
                            0.7777777777777778,
                            "#fb9f3a"
                          ],
                          [
                            0.8888888888888888,
                            "#fdca26"
                          ],
                          [
                            1,
                            "#f0f921"
                          ]
                        ],
                        "type": "contour"
                      }
                    ],
                    "heatmapgl": [
                      {
                        "colorbar": {
                          "outlinewidth": 0,
                          "ticks": ""
                        },
                        "colorscale": [
                          [
                            0,
                            "#0d0887"
                          ],
                          [
                            0.1111111111111111,
                            "#46039f"
                          ],
                          [
                            0.2222222222222222,
                            "#7201a8"
                          ],
                          [
                            0.3333333333333333,
                            "#9c179e"
                          ],
                          [
                            0.4444444444444444,
                            "#bd3786"
                          ],
                          [
                            0.5555555555555556,
                            "#d8576b"
                          ],
                          [
                            0.6666666666666666,
                            "#ed7953"
                          ],
                          [
                            0.7777777777777778,
                            "#fb9f3a"
                          ],
                          [
                            0.8888888888888888,
                            "#fdca26"
                          ],
                          [
                            1,
                            "#f0f921"
                          ]
                        ],
                        "type": "heatmapgl"
                      }
                    ],
                    "heatmap": [
                      {
                        "colorbar": {
                          "outlinewidth": 0,
                          "ticks": ""
                        },
                        "colorscale": [
                          [
                            0,
                            "#0d0887"
                          ],
                          [
                            0.1111111111111111,
                            "#46039f"
                          ],
                          [
                            0.2222222222222222,
                            "#7201a8"
                          ],
                          [
                            0.3333333333333333,
                            "#9c179e"
                          ],
                          [
                            0.4444444444444444,
                            "#bd3786"
                          ],
                          [
                            0.5555555555555556,
                            "#d8576b"
                          ],
                          [
                            0.6666666666666666,
                            "#ed7953"
                          ],
                          [
                            0.7777777777777778,
                            "#fb9f3a"
                          ],
                          [
                            0.8888888888888888,
                            "#fdca26"
                          ],
                          [
                            1,
                            "#f0f921"
                          ]
                        ],
                        "type": "heatmap"
                      }
                    ],
                    "histogram2dcontour": [
                      {
                        "colorbar": {
                          "outlinewidth": 0,
                          "ticks": ""
                        },
                        "colorscale": [
                          [
                            0,
                            "#0d0887"
                          ],
                          [
                            0.1111111111111111,
                            "#46039f"
                          ],
                          [
                            0.2222222222222222,
                            "#7201a8"
                          ],
                          [
                            0.3333333333333333,
                            "#9c179e"
                          ],
                          [
                            0.4444444444444444,
                            "#bd3786"
                          ],
                          [
                            0.5555555555555556,
                            "#d8576b"
                          ],
                          [
                            0.6666666666666666,
                            "#ed7953"
                          ],
                          [
                            0.7777777777777778,
                            "#fb9f3a"
                          ],
                          [
                            0.8888888888888888,
                            "#fdca26"
                          ],
                          [
                            1,
                            "#f0f921"
                          ]
                        ],
                        "type": "histogram2dcontour"
                      }
                    ],
                    "histogram2d": [
                      {
                        "colorbar": {
                          "outlinewidth": 0,
                          "ticks": ""
                        },
                        "colorscale": [
                          [
                            0,
                            "#0d0887"
                          ],
                          [
                            0.1111111111111111,
                            "#46039f"
                          ],
                          [
                            0.2222222222222222,
                            "#7201a8"
                          ],
                          [
                            0.3333333333333333,
                            "#9c179e"
                          ],
                          [
                            0.4444444444444444,
                            "#bd3786"
                          ],
                          [
                            0.5555555555555556,
                            "#d8576b"
                          ],
                          [
                            0.6666666666666666,
                            "#ed7953"
                          ],
                          [
                            0.7777777777777778,
                            "#fb9f3a"
                          ],
                          [
                            0.8888888888888888,
                            "#fdca26"
                          ],
                          [
                            1,
                            "#f0f921"
                          ]
                        ],
                        "type": "histogram2d"
                      }
                    ],
                    "histogram": [
                      {
                        "marker": {
                          "pattern": {
                            "fillmode": "overlay",
                            "size": 10,
                            "solidity": 0.2
                          }
                        },
                        "type": "histogram"
                      }
                    ],
                    "mesh3d": [
                      {
                        "colorbar": {
                          "outlinewidth": 0,
                          "ticks": ""
                        },
                        "type": "mesh3d"
                      }
                    ],
                    "parcoords": [
                      {
                        "line": {
                          "colorbar": {
                            "outlinewidth": 0,
                            "ticks": ""
                          }
                        },
                        "type": "parcoords"
                      }
                    ],
                    "pie": [
                      {
                        "automargin": true,
                        "type": "pie"
                      }
                    ],
                    "scatter3d": [
                      {
                        "line": {
                          "colorbar": {
                            "outlinewidth": 0,
                            "ticks": ""
                          }
                        },
                        "marker": {
                          "colorbar": {
                            "outlinewidth": 0,
                            "ticks": ""
                          }
                        },
                        "type": "scatter3d"
                      }
                    ],
                    "scattercarpet": [
                      {
                        "marker": {
                          "colorbar": {
                            "outlinewidth": 0,
                            "ticks": ""
                          }
                        },
                        "type": "scattercarpet"
                      }
                    ],
                    "scattergeo": [
                      {
                        "marker": {
                          "colorbar": {
                            "outlinewidth": 0,
                            "ticks": ""
                          }
                        },
                        "type": "scattergeo"
                      }
                    ],
                    "scattergl": [
                      {
                        "marker": {
                          "colorbar": {
                            "outlinewidth": 0,
                            "ticks": ""
                          }
                        },
                        "type": "scattergl"
                      }
                    ],
                    "scattermapbox": [
                      {
                        "marker": {
                          "colorbar": {
                            "outlinewidth": 0,
                            "ticks": ""
                          }
                        },
                        "type": "scattermapbox"
                      }
                    ],
                    "scatterpolargl": [
                      {
                        "marker": {
                          "colorbar": {
                            "outlinewidth": 0,
                            "ticks": ""
                          }
                        },
                        "type": "scatterpolargl"
                      }
                    ],
                    "scatterpolar": [
                      {
                        "marker": {
                          "colorbar": {
                            "outlinewidth": 0,
                            "ticks": ""
                          }
                        },
                        "type": "scatterpolar"
                      }
                    ],
                    "scatter": [
                      {
                        "marker": {
                          "colorbar": {
                            "outlinewidth": 0,
                            "ticks": ""
                          }
                        },
                        "type": "scatter"
                      }
                    ],
                    "scatterternary": [
                      {
                        "marker": {
                          "colorbar": {
                            "outlinewidth": 0,
                            "ticks": ""
                          }
                        },
                        "type": "scatterternary"
                      }
                    ],
                    "surface": [
                      {
                        "colorbar": {
                          "outlinewidth": 0,
                          "ticks": ""
                        },
                        "colorscale": [
                          [
                            0,
                            "#0d0887"
                          ],
                          [
                            0.1111111111111111,
                            "#46039f"
                          ],
                          [
                            0.2222222222222222,
                            "#7201a8"
                          ],
                          [
                            0.3333333333333333,
                            "#9c179e"
                          ],
                          [
                            0.4444444444444444,
                            "#bd3786"
                          ],
                          [
                            0.5555555555555556,
                            "#d8576b"
                          ],
                          [
                            0.6666666666666666,
                            "#ed7953"
                          ],
                          [
                            0.7777777777777778,
                            "#fb9f3a"
                          ],
                          [
                            0.8888888888888888,
                            "#fdca26"
                          ],
                          [
                            1,
                            "#f0f921"
                          ]
                        ],
                        "type": "surface"
                      }
                    ],
                    "table": [
                      {
                        "cells": {
                          "fill": {
                            "color": "#EBF0F8"
                          },
                          "line": {
                            "color": "white"
                          }
                        },
                        "header": {
                          "fill": {
                            "color": "#C8D4E3"
                          },
                          "line": {
                            "color": "white"
                          }
                        },
                        "type": "table"
                      }
                    ]
                  },
                  "layout": {
                    "annotationdefaults": {
                      "arrowcolor": "#2a3f5f",
                      "arrowhead": 0,
                      "arrowwidth": 1
                    },
                    "autotypenumbers": "strict",
                    "coloraxis": {
                      "colorbar": {
                        "outlinewidth": 0,
                        "ticks": ""
                      }
                    },
                    "colorscale": {
                      "diverging": [
                        [
                          0,
                          "#8e0152"
                        ],
                        [
                          0.1,
                          "#c51b7d"
                        ],
                        [
                          0.2,
                          "#de77ae"
                        ],
                        [
                          0.3,
                          "#f1b6da"
                        ],
                        [
                          0.4,
                          "#fde0ef"
                        ],
                        [
                          0.5,
                          "#f7f7f7"
                        ],
                        [
                          0.6,
                          "#e6f5d0"
                        ],
                        [
                          0.7,
                          "#b8e186"
                        ],
                        [
                          0.8,
                          "#7fbc41"
                        ],
                        [
                          0.9,
                          "#4d9221"
                        ],
                        [
                          1,
                          "#276419"
                        ]
                      ],
                      "sequential": [
                        [
                          0,
                          "#0d0887"
                        ],
                        [
                          0.1111111111111111,
                          "#46039f"
                        ],
                        [
                          0.2222222222222222,
                          "#7201a8"
                        ],
                        [
                          0.3333333333333333,
                          "#9c179e"
                        ],
                        [
                          0.4444444444444444,
                          "#bd3786"
                        ],
                        [
                          0.5555555555555556,
                          "#d8576b"
                        ],
                        [
                          0.6666666666666666,
                          "#ed7953"
                        ],
                        [
                          0.7777777777777778,
                          "#fb9f3a"
                        ],
                        [
                          0.8888888888888888,
                          "#fdca26"
                        ],
                        [
                          1,
                          "#f0f921"
                        ]
                      ],
                      "sequentialminus": [
                        [
                          0,
                          "#0d0887"
                        ],
                        [
                          0.1111111111111111,
                          "#46039f"
                        ],
                        [
                          0.2222222222222222,
                          "#7201a8"
                        ],
                        [
                          0.3333333333333333,
                          "#9c179e"
                        ],
                        [
                          0.4444444444444444,
                          "#bd3786"
                        ],
                        [
                          0.5555555555555556,
                          "#d8576b"
                        ],
                        [
                          0.6666666666666666,
                          "#ed7953"
                        ],
                        [
                          0.7777777777777778,
                          "#fb9f3a"
                        ],
                        [
                          0.8888888888888888,
                          "#fdca26"
                        ],
                        [
                          1,
                          "#f0f921"
                        ]
                      ]
                    },
                    "colorway": [
                      "#636efa",
                      "#EF553B",
                      "#00cc96",
                      "#ab63fa",
                      "#FFA15A",
                      "#19d3f3",
                      "#FF6692",
                      "#B6E880",
                      "#FF97FF",
                      "#FECB52"
                    ],
                    "font": {
                      "color": "#2a3f5f"
                    },
                    "geo": {
                      "bgcolor": "white",
                      "lakecolor": "white",
                      "landcolor": "#E5ECF6",
                      "showlakes": true,
                      "showland": true,
                      "subunitcolor": "white"
                    },
                    "hoverlabel": {
                      "align": "left"
                    },
                    "hovermode": "closest",
                    "mapbox": {
                      "style": "light"
                    },
                    "paper_bgcolor": "white",
                    "plot_bgcolor": "#E5ECF6",
                    "polar": {
                      "angularaxis": {
                        "gridcolor": "white",
                        "linecolor": "white",
                        "ticks": ""
                      },
                      "bgcolor": "#E5ECF6",
                      "radialaxis": {
                        "gridcolor": "white",
                        "linecolor": "white",
                        "ticks": ""
                      }
                    },
                    "scene": {
                      "xaxis": {
                        "backgroundcolor": "#E5ECF6",
                        "gridcolor": "white",
                        "gridwidth": 2,
                        "linecolor": "white",
                        "showbackground": true,
                        "ticks": "",
                        "zerolinecolor": "white"
                      },
                      "yaxis": {
                        "backgroundcolor": "#E5ECF6",
                        "gridcolor": "white",
                        "gridwidth": 2,
                        "linecolor": "white",
                        "showbackground": true,
                        "ticks": "",
                        "zerolinecolor": "white"
                      },
                      "zaxis": {
                        "backgroundcolor": "#E5ECF6",
                        "gridcolor": "white",
                        "gridwidth": 2,
                        "linecolor": "white",
                        "showbackground": true,
                        "ticks": "",
                        "zerolinecolor": "white"
                      }
                    },
                    "shapedefaults": {
                      "line": {
                        "color": "#2a3f5f"
                      }
                    },
                    "ternary": {
                      "aaxis": {
                        "gridcolor": "white",
                        "linecolor": "white",
                        "ticks": ""
                      },
                      "baxis": {
                        "gridcolor": "white",
                        "linecolor": "white",
                        "ticks": ""
                      },
                      "bgcolor": "#E5ECF6",
                      "caxis": {
                        "gridcolor": "white",
                        "linecolor": "white",
                        "ticks": ""
                      }
                    },
                    "title": {
                      "x": 0.05
                    },
                    "xaxis": {
                      "automargin": true,
                      "gridcolor": "white",
                      "linecolor": "white",
                      "ticks": "",
                      "title": {
                        "standoff": 15
                      },
                      "zerolinecolor": "white",
                      "zerolinewidth": 2
                    },
                    "yaxis": {
                      "automargin": true,
                      "gridcolor": "white",
                      "linecolor": "white",
                      "ticks": "",
                      "title": {
                        "standoff": 15
                      },
                      "zerolinecolor": "white",
                      "zerolinewidth": 2
                    }
                  }
                },
                "title": {
                  "text": "DecisionTree Feature Importance"
                },
                "xaxis": {
                  "showgrid": false,
                  "showline": false,
                  "ticklen": 5,
                  "zeroline": false
                },
                "yaxis": {
                  "gridwidth": 2,
                  "showgrid": false,
                  "ticklen": 5,
                  "title": {
                    "text": "Feature Importance"
                  },
                  "zeroline": false
                }
              },
              "config": {
                "showLink": false,
                "linkText": "Export to plot.ly",
                "plotlyServerURL": "https://plot.ly"
              }
            },
            "text/html": [
              "<div>                            <div id=\"c355c28a-bb74-40d6-959d-feba02dfd0d8\" class=\"plotly-graph-div\" style=\"height:525px; width:100%;\"></div>            <script type=\"text/javascript\">                require([\"plotly\"], function(Plotly) {                    window.PLOTLYENV=window.PLOTLYENV || {};                                    if (document.getElementById(\"c355c28a-bb74-40d6-959d-feba02dfd0d8\")) {                    Plotly.newPlot(                        \"c355c28a-bb74-40d6-959d-feba02dfd0d8\",                        [{\"marker\":{\"color\":[0.8534583607273784,0.09127100076939691,0.01927969784331667,0.013992722238444373,0.01244046899558548,0.00955774942587829,0.0,0.0,0.0,0.0,0.0,0.0,0.0,0.0,0.0,0.0,0.0,0.0,0.0,0.0,0.0,0.0,0.0,0.0,0.0,0.0,0.0,0.0,0.0,0.0,0.0,0.0,0.0,0.0,0.0,0.0,0.0,0.0,0.0,0.0,0.0,0.0,0.0,0.0,0.0,0.0,0.0,0.0,0.0,0.0,0.0,0.0,0.0,0.0,0.0,0.0,0.0,0.0,0.0,0.0,0.0,0.0,0.0,0.0,0.0,0.0,0.0,0.0,0.0,0.0,0.0,0.0,0.0,0.0,0.0,0.0,0.0,0.0,0.0,0.0,0.0,0.0,0.0,0.0,0.0,0.0,0.0,0.0,0.0,0.0,0.0,0.0,0.0,0.0,0.0,0.0,0.0,0.0,0.0,0.0,0.0,0.0,0.0,0.0,0.0,0.0,0.0,0.0,0.0,0.0,0.0,0.0,0.0,0.0,0.0,0.0,0.0,0.0,0.0,0.0,0.0,0.0,0.0,0.0,0.0,0.0,0.0,0.0,0.0,0.0,0.0,0.0,0.0,0.0,0.0,0.0,0.0,0.0,0.0,0.0,0.0,0.0,0.0,0.0,0.0,0.0],\"colorscale\":[[0.0,\"rgb(12,51,131)\"],[0.25,\"rgb(10,136,186)\"],[0.5,\"rgb(242,211,56)\"],[0.75,\"rgb(242,143,56)\"],[1.0,\"rgb(217,30,30)\"]],\"showscale\":true,\"size\":13,\"sizemode\":\"diameter\",\"sizeref\":1},\"mode\":\"markers\",\"text\":[\"\\u24de_06_\\ub098\\uc774_\\ubc18\\uc62c\\ub9bc\",\"\\u24de_12_\\uace8\\uaca9\\uadfc\\ub7c9\",\"\\u24de_13_\\uccb4\\uc9c0\\ubc29\\ub7c9\",\"\\u24de_14_\\uccb4\\uc218\\ubd84\",\"\\u24de_15_\\ub2e8\\ubc31\\uc9c8\",\"\\u24de_16_\\ubb34\\uae30\\uc9c8\",\"\\u24de_17_BMI\",\"\\u24de_18_\\uccb4\\uc9c0\\ubc29\\uc728\",\"\\u24de_19_\\ubcf5\\ubd80\\uc9c0\\ubc29\\uc728\",\"\\u24de_21_\\uae30\\ucd08\\ub300\\uc0ac\\ub7c9\",\"\\u24de_23_\\uadfc\\uc721\\uc870\\uc808\",\"\\u24de_24_\\uc9c0\\ubc29\\uc870\\uc808\",\"\\u2460_001_\\uc624\\ub978\\ucabd\\uc5b4\\uae68\\uacbd\\uc0ac\\uac01\",\"\\u2460_002_\\uc67c\\ucabd\\uc5b4\\uae68\\uacbd\\uc0ac\\uac01\",\"\\u2460_003_\\ud0a4\",\"\\u2460_004_\\ub208\\ub192\\uc774\",\"\\u2460_005_\\ubaa9\\ub4a4\\ub192\\uc774\",\"\\u2460_006_\\uc5b4\\uae68\\ub192\\uc774\",\"\\u2460_007_\\uc5b4\\uae68\\uac00\\ucabd\\ub192\\uc774\",\"\\u2460_008_\\uaca8\\ub4dc\\ub791\\ub192\\uc774\",\"\\u2460_009_\\uad7d\\ud78c\\ud314\\uafc8\\uce58\\ub192\\uc774\",\"\\u2460_010_\\ud5c8\\ub9ac\\uae30\\uc900\\uc120\\ub192\\uc774\",\"\\u2460_011_\\uc5c9\\ub369\\uc774\\ub192\\uc774\",\"\\u2460_012_\\uc8fc\\uba39\\ub192\\uc774\",\"\\u2460_013_\\ud5c8\\ub9ac\\ub192\\uc774\",\"\\u2460_014_\\ubc30\\uaf3d\\uc218\\uc900\\ud5c8\\ub9ac\\ub192\\uc774\",\"\\u2460_015_\\uc704\\uc55e\\uc5c9\\ub369\\ubf08\\uac00\\uc2dc\\ub192\\uc774\",\"\\u2460_016_\\ubb34\\ub98e\\ub192\\uc774\",\"\\u2460_017_\\uc0c5\\ub192\\uc774\",\"\\u2460_018_\\uac00\\uc2b4\\ub108\\ube44\",\"\\u2460_019_\\uc816\\uac00\\uc2b4\\ub108\\ube44\",\"\\u2460_020_\\ud5c8\\ub9ac\\ub108\\ube44\",\"\\u2460_021_\\ubc30\\uaf3d\\uc218\\uc900\\ud5c8\\ub9ac\\ub108\\ube44\",\"\\u2460_022_\\uc5c9\\ub369\\uc774\\ub108\\ube44\",\"\\u2460_023_\\uaca8\\ub4dc\\ub791\\ub450\\uaed8\",\"\\u2460_024_\\uac00\\uc2b4\\ub450\\uaed8\",\"\\u2460_025_\\uc816\\uac00\\uc2b4\\ub450\\uaed8\",\"\\u2460_026_\\ud5c8\\ub9ac\\ub450\\uaed8\",\"\\u2460_027_\\ubc30\\uaf3d\\uc218\\uc900\\ud5c8\\ub9ac\\ub450\\uaed8\",\"\\u2460_028_\\uc5c9\\ub369\\uc774\\ub450\\uaed8\",\"\\u2460_029_\\ubab8\\ud1b5\\uc218\\uc9c1\\uae38\\uc774\",\"\\u2460_030_\\uc5c9\\ub369\\uc774\\uc218\\uc9c1\\uae38\\uc774\",\"\\u2460_031_\\ubab8\\ubb34\\uac8c\",\"\\u2460_032_\\uc55e\\uc911\\uc2ec\\uae38\\uc774\",\"\\u2460_033_\\ubc30\\uaf3d\\uc218\\uc900\\uc55e\\uc911\\uc2ec\\uae38\\uc774\",\"\\u2460_034_\\uaca8\\ub4dc\\ub791\\uc55e\\ubcbd\\uc0ac\\uc774\\uae38\\uc774\",\"\\u2460_035_\\uaca8\\ub4dc\\ub791\\uc55e\\uc811\\ud798\\uc0ac\\uc774\\uae38\\uc774\",\"\\u2460_037_\\ubaa9\\ub458\\ub808\",\"\\u2460_039_\\uac00\\uc2b4\\ub458\\ub808\",\"\\u2460_040_\\uc816\\uac00\\uc2b4\\ub458\\ub808\",\"\\u2460_042_\\ud5c8\\ub9ac\\ub458\\ub808\",\"\\u2460_043_\\ubc30\\uaf3d\\uc218\\uc900\\ud5c8\\ub9ac\\ub458\\ub808\",\"\\u2460_044_\\ubc30\\ub458\\ub808\",\"\\u2460_045_\\uc5c9\\ub369\\uc774\\ub458\\ub808\",\"\\u2460_046_\\ubc30\\ub3cc\\ucd9c\\uc810\\uae30\\uc900\\uc5c9\\ub369\\uc774\\ub458\\ub808\",\"\\u2460_047_\\uc5b4\\uae68\\uae38\\uc774\",\"\\u2460_048_\\ubaa9\\ub4a4\\ub4f1\\ubf08\\uc704\\uaca8\\ub4dc\\ub791\\uc218\\uc900\\uae38\\uc774\",\"\\u2460_049_\\ub4f1\\uae38\\uc774\",\"\\u2460_050_\\ubc30\\uaf3d\\uc218\\uc900\\ub4f1\\uae38\\uc774\",\"\\u2460_051_\\ubaa9\\ub4a4\\uc624\\uae08\\uae38\\uc774\",\"\\u2460_052_\\ucd1d\\uae38\\uc774\",\"\\u2460_053_\\ub119\\ub2e4\\ub9ac\\uc9c1\\uc120\\uae38\\uc774\",\"\\u2460_054_\\uc5b4\\uae68\\uc0ac\\uc774\\uae38\\uc774\",\"\\u2460_055_\\uc5b4\\uae68\\uac00\\ucabd\\uc0ac\\uc774\\uae38\\uc774\",\"\\u2460_056_\\uaca8\\ub4dc\\ub791\\ub4a4\\ubcbd\\uc0ac\\uc774\\uae38\\uc774\",\"\\u2460_057_\\uaca8\\ub4dc\\ub791\\ub4a4\\ubcbd\\uc811\\ud798\\uc0ac\\uc774\\uae38\\uc774\",\"\\u2460_058_\\ubaa9\\ub4a4\\uc816\\uaf2d\\uc9c0\\uae38\\uc774\",\"\\u2460_059_\\ubaa9\\ub4a4\\uc816\\uaf2d\\uc9c0\\ud5c8\\ub9ac\\ub458\\ub808\\uc120\\uae38\\uc774\",\"\\u2460_061_\\ubaa9\\uc606\\ud5c8\\ub9ac\\ub458\\ub808\\uc120\\uae38\\uc774\",\"\\u2460_062_\\ubaa9\\uc606\\uc5b4\\uae68\\ubf08\\uc544\\ub798\\ud5c8\\ub9ac\\ub458\\ub808\\uc120\\uae38\\uc774\",\"\\u2460_063_\\uc704\\ud314\\uae38\\uc774\",\"\\u2460_064_\\ud314\\uae38\\uc774\",\"\\u2460_065_\\ud314\\uc548\\ucabd\\uae38\\uc774\",\"\\u2460_066_\\ubaa9\\ub4a4\\uc190\\ubaa9\\uc548\\ucabd\\uae38\\uc774\",\"\\u2460_067_\\uaca8\\ub4dc\\ub791\\ub458\\ub808\",\"\\u2460_068_\\uc5c9\\ub369\\uc774\\uc606\\uae38\\uc774\",\"\\u2460_069_\\ub2e4\\ub9ac\\uac00\\ucabd\\uae38\\uc774\",\"\\u2460_070_\\ubab8\\ud1b5\\uc138\\ub85c\\ub458\\ub808\",\"\\u2460_071_\\uc0c5\\uc55e\\ub4a4\\uae38\\uc774\",\"\\u2460_072_\\ubc30\\uaf3d\\uc218\\uc900\\uc0c5\\uc55e\\ub4a4\\uae38\\uc774\",\"\\u2460_073_\\uc549\\uc740\\ud0a4\",\"\\u2460_074_\\uc549\\uc740\\ub208\\ub192\\uc774\",\"\\u2460_075_\\uc549\\uc740\\ubaa9\\ub4a4\\ub192\\uc774\",\"\\u2460_076_\\uc549\\uc740\\uc5b4\\uae68\\ub192\\uc774\",\"\\u2460_077_\\uc549\\uc740\\ud314\\uafc8\\uce58\\ub192\\uc774\",\"\\u2460_078_\\uc549\\uc740\\ub119\\ub2e4\\ub9ac\\ub192\\uc774\",\"\\u2460_079_\\uc549\\uc740\\ubb34\\ub98e\\ub192\\uc774\",\"\\u2460_080_\\uc549\\uc740\\uc624\\uae08\\ub192\\uc774\",\"\\u2460_081_\\uc549\\uc740\\uc5c9\\ub369\\uc774\\ubb34\\ub98e\\uc218\\ud3c9\\uae38\\uc774\",\"\\u2460_082_\\uc549\\uc740\\uc5c9\\ub369\\uc774\\uc624\\uae08\\uc218\\ud3c9\\uae38\\uc774\",\"\\u2460_083_\\uc549\\uc740\\uc5c9\\ub369\\uc774\\ubc30\\ub450\\uaed8\",\"\\u2460_084_\\uc704\\ud314\\uc218\\uc9c1\\uae38\\uc774\",\"\\u2460_085_\\uc544\\ub798\\ud314\\uc218\\ud3c9\\uae38\\uc774\",\"\\u2460_086_\\ud314\\uafc8\\uce58\\uc190\\ub05d\\uc218\\ud3c9\\uae38\\uc774\",\"\\u2460_087_\\ud314\\uafc8\\uce58\\uc8fc\\uba39\\uc218\\ud3c9\\uae38\\uc774\",\"\\u2460_088_\\uc549\\uc740\\ubc30\\ub450\\uaed8\",\"\\u2460_089_\\uc5b4\\uae68\\ub108\\ube44\",\"\\u2460_090_\\uc704\\ud314\\uc0ac\\uc774\\ub108\\ube44\",\"\\u2460_091_\\ud314\\uafc8\\uce58\\uc0ac\\uc774\\ub108\\ube44\",\"\\u2460_092_\\uc549\\uc740\\uc5c9\\ub369\\uc774\\ub108\\ube44\",\"\\u2460_093_\\uba38\\ub9ac\\uc218\\uc9c1\\uae38\\uc774\",\"\\u2460_094_\\uc5bc\\uad74\\uc218\\uc9c1\\uae38\\uc774\",\"\\u2460_095_\\ubcbd\\uba74\\uc55e\\uc73c\\ub85c\\ubed7\\uc740\\uc8fc\\uba39\\uc218\\uc9c1\\uae38\\uc774\",\"\\u2460_096_\\ubcbd\\uba74\\ubab8\\ud1b5\\ub450\\uaed8\",\"\\u2460_097_\\ubcbd\\uba74\\uc5b4\\uae68\\uc218\\ud3c9\\uae38\\uc774\",\"\\u2460_098_\\uc5c9\\ub369\\uc774\\ub3cc\\ucd9c\\uc810_\\ubc30\\ub3cc\\ucd9c\\uc810\\ub450\\uaed8\",\"\\u2460_099_\\ub208\\ub3d9\\uc790\\uc0ac\\uc774\\ub108\\ube44\",\"\\u2460_100_\\ub208\\uad6c\\uc11d\\uc0ac\\uc774\\ub108\\ube44\",\"\\u2460_101_\\ub208\\uc0b4\\uc810_\\ub208\\ud655\\uc544\\ub798\\uc810\\uc0ac\\uc774\\uae38\\uc774\",\"\\u2460_102_\\uc190\\uc9c1\\uc120\\uae38\\uc774\",\"\\u2460_103_\\uc190\\ubc14\\ub2e5\\uc9c1\\uc120\\uae38\\uc774\",\"\\u2460_104_\\uc190\\ub108\\ube44\",\"\\u2460_105_\\ub458\\uc9f8\\uc190\\uac00\\ub77d\\uc9c1\\uc120\\uae38\\uc774\",\"\\u2460_106_\\ub458\\uc9f8\\uc190\\uac00\\ub77d\\uccab\\uc9f8\\uad00\\uc808\\ub108\\ube44\",\"\\u2460_107_\\ub458\\uc9f8\\uc190\\uac00\\ub77d\\ub458\\uc9f8\\uad00\\uc808\\ub108\\ube44\",\"\\u2460_108_\\uc190\\ub450\\uaed8\",\"\\u2460_109_\\ub9c9\\ub300\\uc954\\uc190\\uc548\\ub458\\ub808\",\"\\u2460_110_\\uc190\\ub458\\ub808\",\"\\u2460_111_\\uba38\\ub9ac\\ub458\\ub808\",\"\\u2460_112_\\uadc0\\uad6c\\uc2ac\\uba38\\ub9ac\\uc704\\uae38\\uc774\",\"\\u2460_113_\\ub208\\uc0b4\\ub4a4\\ud1b5\\uc218\\uae38\\uc774\",\"\\u2460_114_\\uba38\\ub9ac\\ub450\\uaed8\",\"\\u2460_115_\\uba38\\ub9ac\\ub108\\ube44\",\"\\u2460_118_\\ubc1c\\ub108\\ube44\",\"\\u2460_119_\\ubc1c\\uc9c1\\uc120\\uae38\\uc774\",\"\\u2460_120_\\uac00\\ucabd\\ubcf5\\uc0ac\\ub192\\uc774\",\"\\u2460_121_\\ub119\\ub2e4\\ub9ac\\ub458\\ub808\",\"\\u2460_122_\\ub119\\ub2e4\\ub9ac\\uc911\\uac04\\ub458\\ub808\",\"\\u2460_123_\\ubb34\\ub98e\\ub458\\ub808\",\"\\u2460_124_\\ubb34\\ub98e\\uc544\\ub798\\ub458\\ub808\",\"\\u2460_125_\\uc7a5\\ub534\\uc9c0\\ub458\\ub808\",\"\\u2460_126_\\uc885\\uc544\\ub9ac\\ucd5c\\uc18c\\ub458\\ub808\",\"\\u2460_127_\\ubc1c\\ubaa9\\ucd5c\\ub300\\ub458\\ub808\",\"\\u2460_128_\\ubc1c\\ubaa9\\ub108\\ube44\",\"\\u2460_129_\\ubc1c\\ub4a4\\uafc8\\uce58\\ub108\\ube44\",\"\\u2460_130_\\uc704\\ud314\\ub458\\ub808\",\"\\u2460_131_\\ud314\\uafc8\\uce58\\ub458\\ub808\",\"\\u2460_132_\\uc190\\ubaa9\\ub458\\ub808\",\"\\u2460_133_\\uba38\\ub9ac\\uc704\\ub85c\\ubed7\\uc740\\uc8fc\\uba39\\ub192\\uc774\",\"\\u24de_20_\\ubcf5\\ubd80\\uc9c0\\ubc29\\uc728\\ud3c9\\uac00\",\"\\u24de_22_\\uae30\\ucd08\\ub300\\uc0ac\\ub7c9\\ud3c9\\uac00\"],\"x\":[\"\\u24de_06_\\ub098\\uc774_\\ubc18\\uc62c\\ub9bc\",\"\\u24de_12_\\uace8\\uaca9\\uadfc\\ub7c9\",\"\\u24de_13_\\uccb4\\uc9c0\\ubc29\\ub7c9\",\"\\u24de_14_\\uccb4\\uc218\\ubd84\",\"\\u24de_15_\\ub2e8\\ubc31\\uc9c8\",\"\\u24de_16_\\ubb34\\uae30\\uc9c8\",\"\\u24de_17_BMI\",\"\\u24de_18_\\uccb4\\uc9c0\\ubc29\\uc728\",\"\\u24de_19_\\ubcf5\\ubd80\\uc9c0\\ubc29\\uc728\",\"\\u24de_21_\\uae30\\ucd08\\ub300\\uc0ac\\ub7c9\"],\"y\":[0.8534583607273784,0.09127100076939691,0.01927969784331667,0.013992722238444373,0.01244046899558548,0.00955774942587829,0.0,0.0,0.0,0.0],\"type\":\"scatter\"}],                        {\"autosize\":true,\"hovermode\":\"closest\",\"showlegend\":false,\"template\":{\"data\":{\"barpolar\":[{\"marker\":{\"line\":{\"color\":\"#E5ECF6\",\"width\":0.5},\"pattern\":{\"fillmode\":\"overlay\",\"size\":10,\"solidity\":0.2}},\"type\":\"barpolar\"}],\"bar\":[{\"error_x\":{\"color\":\"#2a3f5f\"},\"error_y\":{\"color\":\"#2a3f5f\"},\"marker\":{\"line\":{\"color\":\"#E5ECF6\",\"width\":0.5},\"pattern\":{\"fillmode\":\"overlay\",\"size\":10,\"solidity\":0.2}},\"type\":\"bar\"}],\"carpet\":[{\"aaxis\":{\"endlinecolor\":\"#2a3f5f\",\"gridcolor\":\"white\",\"linecolor\":\"white\",\"minorgridcolor\":\"white\",\"startlinecolor\":\"#2a3f5f\"},\"baxis\":{\"endlinecolor\":\"#2a3f5f\",\"gridcolor\":\"white\",\"linecolor\":\"white\",\"minorgridcolor\":\"white\",\"startlinecolor\":\"#2a3f5f\"},\"type\":\"carpet\"}],\"choropleth\":[{\"colorbar\":{\"outlinewidth\":0,\"ticks\":\"\"},\"type\":\"choropleth\"}],\"contourcarpet\":[{\"colorbar\":{\"outlinewidth\":0,\"ticks\":\"\"},\"type\":\"contourcarpet\"}],\"contour\":[{\"colorbar\":{\"outlinewidth\":0,\"ticks\":\"\"},\"colorscale\":[[0.0,\"#0d0887\"],[0.1111111111111111,\"#46039f\"],[0.2222222222222222,\"#7201a8\"],[0.3333333333333333,\"#9c179e\"],[0.4444444444444444,\"#bd3786\"],[0.5555555555555556,\"#d8576b\"],[0.6666666666666666,\"#ed7953\"],[0.7777777777777778,\"#fb9f3a\"],[0.8888888888888888,\"#fdca26\"],[1.0,\"#f0f921\"]],\"type\":\"contour\"}],\"heatmapgl\":[{\"colorbar\":{\"outlinewidth\":0,\"ticks\":\"\"},\"colorscale\":[[0.0,\"#0d0887\"],[0.1111111111111111,\"#46039f\"],[0.2222222222222222,\"#7201a8\"],[0.3333333333333333,\"#9c179e\"],[0.4444444444444444,\"#bd3786\"],[0.5555555555555556,\"#d8576b\"],[0.6666666666666666,\"#ed7953\"],[0.7777777777777778,\"#fb9f3a\"],[0.8888888888888888,\"#fdca26\"],[1.0,\"#f0f921\"]],\"type\":\"heatmapgl\"}],\"heatmap\":[{\"colorbar\":{\"outlinewidth\":0,\"ticks\":\"\"},\"colorscale\":[[0.0,\"#0d0887\"],[0.1111111111111111,\"#46039f\"],[0.2222222222222222,\"#7201a8\"],[0.3333333333333333,\"#9c179e\"],[0.4444444444444444,\"#bd3786\"],[0.5555555555555556,\"#d8576b\"],[0.6666666666666666,\"#ed7953\"],[0.7777777777777778,\"#fb9f3a\"],[0.8888888888888888,\"#fdca26\"],[1.0,\"#f0f921\"]],\"type\":\"heatmap\"}],\"histogram2dcontour\":[{\"colorbar\":{\"outlinewidth\":0,\"ticks\":\"\"},\"colorscale\":[[0.0,\"#0d0887\"],[0.1111111111111111,\"#46039f\"],[0.2222222222222222,\"#7201a8\"],[0.3333333333333333,\"#9c179e\"],[0.4444444444444444,\"#bd3786\"],[0.5555555555555556,\"#d8576b\"],[0.6666666666666666,\"#ed7953\"],[0.7777777777777778,\"#fb9f3a\"],[0.8888888888888888,\"#fdca26\"],[1.0,\"#f0f921\"]],\"type\":\"histogram2dcontour\"}],\"histogram2d\":[{\"colorbar\":{\"outlinewidth\":0,\"ticks\":\"\"},\"colorscale\":[[0.0,\"#0d0887\"],[0.1111111111111111,\"#46039f\"],[0.2222222222222222,\"#7201a8\"],[0.3333333333333333,\"#9c179e\"],[0.4444444444444444,\"#bd3786\"],[0.5555555555555556,\"#d8576b\"],[0.6666666666666666,\"#ed7953\"],[0.7777777777777778,\"#fb9f3a\"],[0.8888888888888888,\"#fdca26\"],[1.0,\"#f0f921\"]],\"type\":\"histogram2d\"}],\"histogram\":[{\"marker\":{\"pattern\":{\"fillmode\":\"overlay\",\"size\":10,\"solidity\":0.2}},\"type\":\"histogram\"}],\"mesh3d\":[{\"colorbar\":{\"outlinewidth\":0,\"ticks\":\"\"},\"type\":\"mesh3d\"}],\"parcoords\":[{\"line\":{\"colorbar\":{\"outlinewidth\":0,\"ticks\":\"\"}},\"type\":\"parcoords\"}],\"pie\":[{\"automargin\":true,\"type\":\"pie\"}],\"scatter3d\":[{\"line\":{\"colorbar\":{\"outlinewidth\":0,\"ticks\":\"\"}},\"marker\":{\"colorbar\":{\"outlinewidth\":0,\"ticks\":\"\"}},\"type\":\"scatter3d\"}],\"scattercarpet\":[{\"marker\":{\"colorbar\":{\"outlinewidth\":0,\"ticks\":\"\"}},\"type\":\"scattercarpet\"}],\"scattergeo\":[{\"marker\":{\"colorbar\":{\"outlinewidth\":0,\"ticks\":\"\"}},\"type\":\"scattergeo\"}],\"scattergl\":[{\"marker\":{\"colorbar\":{\"outlinewidth\":0,\"ticks\":\"\"}},\"type\":\"scattergl\"}],\"scattermapbox\":[{\"marker\":{\"colorbar\":{\"outlinewidth\":0,\"ticks\":\"\"}},\"type\":\"scattermapbox\"}],\"scatterpolargl\":[{\"marker\":{\"colorbar\":{\"outlinewidth\":0,\"ticks\":\"\"}},\"type\":\"scatterpolargl\"}],\"scatterpolar\":[{\"marker\":{\"colorbar\":{\"outlinewidth\":0,\"ticks\":\"\"}},\"type\":\"scatterpolar\"}],\"scatter\":[{\"marker\":{\"colorbar\":{\"outlinewidth\":0,\"ticks\":\"\"}},\"type\":\"scatter\"}],\"scatterternary\":[{\"marker\":{\"colorbar\":{\"outlinewidth\":0,\"ticks\":\"\"}},\"type\":\"scatterternary\"}],\"surface\":[{\"colorbar\":{\"outlinewidth\":0,\"ticks\":\"\"},\"colorscale\":[[0.0,\"#0d0887\"],[0.1111111111111111,\"#46039f\"],[0.2222222222222222,\"#7201a8\"],[0.3333333333333333,\"#9c179e\"],[0.4444444444444444,\"#bd3786\"],[0.5555555555555556,\"#d8576b\"],[0.6666666666666666,\"#ed7953\"],[0.7777777777777778,\"#fb9f3a\"],[0.8888888888888888,\"#fdca26\"],[1.0,\"#f0f921\"]],\"type\":\"surface\"}],\"table\":[{\"cells\":{\"fill\":{\"color\":\"#EBF0F8\"},\"line\":{\"color\":\"white\"}},\"header\":{\"fill\":{\"color\":\"#C8D4E3\"},\"line\":{\"color\":\"white\"}},\"type\":\"table\"}]},\"layout\":{\"annotationdefaults\":{\"arrowcolor\":\"#2a3f5f\",\"arrowhead\":0,\"arrowwidth\":1},\"autotypenumbers\":\"strict\",\"coloraxis\":{\"colorbar\":{\"outlinewidth\":0,\"ticks\":\"\"}},\"colorscale\":{\"diverging\":[[0,\"#8e0152\"],[0.1,\"#c51b7d\"],[0.2,\"#de77ae\"],[0.3,\"#f1b6da\"],[0.4,\"#fde0ef\"],[0.5,\"#f7f7f7\"],[0.6,\"#e6f5d0\"],[0.7,\"#b8e186\"],[0.8,\"#7fbc41\"],[0.9,\"#4d9221\"],[1,\"#276419\"]],\"sequential\":[[0.0,\"#0d0887\"],[0.1111111111111111,\"#46039f\"],[0.2222222222222222,\"#7201a8\"],[0.3333333333333333,\"#9c179e\"],[0.4444444444444444,\"#bd3786\"],[0.5555555555555556,\"#d8576b\"],[0.6666666666666666,\"#ed7953\"],[0.7777777777777778,\"#fb9f3a\"],[0.8888888888888888,\"#fdca26\"],[1.0,\"#f0f921\"]],\"sequentialminus\":[[0.0,\"#0d0887\"],[0.1111111111111111,\"#46039f\"],[0.2222222222222222,\"#7201a8\"],[0.3333333333333333,\"#9c179e\"],[0.4444444444444444,\"#bd3786\"],[0.5555555555555556,\"#d8576b\"],[0.6666666666666666,\"#ed7953\"],[0.7777777777777778,\"#fb9f3a\"],[0.8888888888888888,\"#fdca26\"],[1.0,\"#f0f921\"]]},\"colorway\":[\"#636efa\",\"#EF553B\",\"#00cc96\",\"#ab63fa\",\"#FFA15A\",\"#19d3f3\",\"#FF6692\",\"#B6E880\",\"#FF97FF\",\"#FECB52\"],\"font\":{\"color\":\"#2a3f5f\"},\"geo\":{\"bgcolor\":\"white\",\"lakecolor\":\"white\",\"landcolor\":\"#E5ECF6\",\"showlakes\":true,\"showland\":true,\"subunitcolor\":\"white\"},\"hoverlabel\":{\"align\":\"left\"},\"hovermode\":\"closest\",\"mapbox\":{\"style\":\"light\"},\"paper_bgcolor\":\"white\",\"plot_bgcolor\":\"#E5ECF6\",\"polar\":{\"angularaxis\":{\"gridcolor\":\"white\",\"linecolor\":\"white\",\"ticks\":\"\"},\"bgcolor\":\"#E5ECF6\",\"radialaxis\":{\"gridcolor\":\"white\",\"linecolor\":\"white\",\"ticks\":\"\"}},\"scene\":{\"xaxis\":{\"backgroundcolor\":\"#E5ECF6\",\"gridcolor\":\"white\",\"gridwidth\":2,\"linecolor\":\"white\",\"showbackground\":true,\"ticks\":\"\",\"zerolinecolor\":\"white\"},\"yaxis\":{\"backgroundcolor\":\"#E5ECF6\",\"gridcolor\":\"white\",\"gridwidth\":2,\"linecolor\":\"white\",\"showbackground\":true,\"ticks\":\"\",\"zerolinecolor\":\"white\"},\"zaxis\":{\"backgroundcolor\":\"#E5ECF6\",\"gridcolor\":\"white\",\"gridwidth\":2,\"linecolor\":\"white\",\"showbackground\":true,\"ticks\":\"\",\"zerolinecolor\":\"white\"}},\"shapedefaults\":{\"line\":{\"color\":\"#2a3f5f\"}},\"ternary\":{\"aaxis\":{\"gridcolor\":\"white\",\"linecolor\":\"white\",\"ticks\":\"\"},\"baxis\":{\"gridcolor\":\"white\",\"linecolor\":\"white\",\"ticks\":\"\"},\"bgcolor\":\"#E5ECF6\",\"caxis\":{\"gridcolor\":\"white\",\"linecolor\":\"white\",\"ticks\":\"\"}},\"title\":{\"x\":0.05},\"xaxis\":{\"automargin\":true,\"gridcolor\":\"white\",\"linecolor\":\"white\",\"ticks\":\"\",\"title\":{\"standoff\":15},\"zerolinecolor\":\"white\",\"zerolinewidth\":2},\"yaxis\":{\"automargin\":true,\"gridcolor\":\"white\",\"linecolor\":\"white\",\"ticks\":\"\",\"title\":{\"standoff\":15},\"zerolinecolor\":\"white\",\"zerolinewidth\":2}}},\"title\":{\"text\":\"DecisionTree Feature Importance\"},\"xaxis\":{\"showgrid\":false,\"showline\":false,\"ticklen\":5,\"zeroline\":false},\"yaxis\":{\"gridwidth\":2,\"showgrid\":false,\"ticklen\":5,\"title\":{\"text\":\"Feature Importance\"},\"zeroline\":false}},                        {\"responsive\": true}                    ).then(function(){\n",
              "                            \n",
              "var gd = document.getElementById('c355c28a-bb74-40d6-959d-feba02dfd0d8');\n",
              "var x = new MutationObserver(function (mutations, observer) {{\n",
              "        var display = window.getComputedStyle(gd).display;\n",
              "        if (!display || display === 'none') {{\n",
              "            console.log([gd, 'removed!']);\n",
              "            Plotly.purge(gd);\n",
              "            observer.disconnect();\n",
              "        }}\n",
              "}});\n",
              "\n",
              "// Listen for the removal of the full notebook cells\n",
              "var notebookContainer = gd.closest('#notebook-container');\n",
              "if (notebookContainer) {{\n",
              "    x.observe(notebookContainer, {childList: true});\n",
              "}}\n",
              "\n",
              "// Listen for the clearing of the current output cell\n",
              "var outputEl = gd.closest('.output');\n",
              "if (outputEl) {{\n",
              "    x.observe(outputEl, {childList: true});\n",
              "}}\n",
              "\n",
              "                        })                };                });            </script>        </div>"
            ]
          },
          "metadata": {}
        }
      ]
    },
    {
      "cell_type": "code",
      "source": [
        "import matplotlib.pyplot as plt\n",
        "%matplotlib inline\n",
        "import plotly.offline as py\n",
        "py.init_notebook_mode(connected=True)\n",
        "import plotly.graph_objs as go\n",
        "import plotly.tools as tis"
      ],
      "metadata": {
        "colab": {
          "base_uri": "https://localhost:8080/",
          "height": 17
        },
        "id": "NH6AG-6zipEZ",
        "outputId": "94ff8a71-b788-42b1-e232-4361783fbed1"
      },
      "execution_count": 105,
      "outputs": [
        {
          "output_type": "display_data",
          "data": {
            "text/html": [
              "        <script type=\"text/javascript\">\n",
              "        window.PlotlyConfig = {MathJaxConfig: 'local'};\n",
              "        if (window.MathJax) {MathJax.Hub.Config({SVG: {font: \"STIX-Web\"}});}\n",
              "        if (typeof require !== 'undefined') {\n",
              "        require.undef(\"plotly\");\n",
              "        requirejs.config({\n",
              "            paths: {\n",
              "                'plotly': ['https://cdn.plot.ly/plotly-2.8.3.min']\n",
              "            }\n",
              "        });\n",
              "        require(['plotly'], function(Plotly) {\n",
              "            window._Plotly = Plotly;\n",
              "        });\n",
              "        }\n",
              "        </script>\n",
              "        "
            ]
          },
          "metadata": {}
        }
      ]
    },
    {
      "cell_type": "code",
      "source": [
        "plt.figure(figsize=(10, 8))\n",
        "sns.barplot(x='importances', y='feature', data=importances)\n",
        "plt.title('DecisionTree Feature Importances', fontsize=18)\n",
        "plt.show()"
      ],
      "metadata": {
        "id": "hr2fvT6ah3k_"
      },
      "execution_count": null,
      "outputs": []
    },
    {
      "cell_type": "code",
      "source": [
        "!pip install graphviz"
      ],
      "metadata": {
        "colab": {
          "base_uri": "https://localhost:8080/"
        },
        "id": "3Y6_BspsQzyu",
        "outputId": "a778c6a2-ad68-4328-9b4e-618dcef20b77"
      },
      "execution_count": 72,
      "outputs": [
        {
          "output_type": "stream",
          "name": "stdout",
          "text": [
            "Looking in indexes: https://pypi.org/simple, https://us-python.pkg.dev/colab-wheels/public/simple/\n",
            "Requirement already satisfied: graphviz in /usr/local/lib/python3.8/dist-packages (0.10.1)\n"
          ]
        }
      ]
    },
    {
      "cell_type": "code",
      "source": [],
      "metadata": {
        "id": "fzHpwxjnTm6h"
      },
      "execution_count": 72,
      "outputs": []
    },
    {
      "cell_type": "code",
      "source": [
        "from sklearn.tree import export_graphviz\n",
        "import graphviz\n",
        "\n",
        "\n",
        "export_graphviz(DT_model, out_file = \"tree.dot\", class_names=[\"남\",\"여\"],\n",
        "                impurity = True, filled=True)\n",
        "\n",
        "#파일열기\n",
        "with open(\"tree.dot\", encoding = \"utf-8\") as f:\n",
        "    dot_graph = f.read()\n",
        "graphviz.Source(dot_graph)\n",
        "\n",
        "#X[1] : 골격근량\n",
        "#X[7] : 체지방률\n",
        "#X[10] : 근육조절\n",
        "#X[63] : 어깨가쪽사이길이\n",
        "#X[24] : 허리높이\n",
        "#X[47] : 목둘레"
      ],
      "metadata": {
        "colab": {
          "base_uri": "https://localhost:8080/",
          "height": 618
        },
        "id": "3C51PSLPjSbB",
        "outputId": "d1847c58-05c4-4a22-fe47-9420a6092d43"
      },
      "execution_count": 93,
      "outputs": [
        {
          "output_type": "execute_result",
          "data": {
            "text/plain": [
              "<graphviz.files.Source at 0x7fcf941da700>"
            ],
            "image/svg+xml": "<?xml version=\"1.0\" encoding=\"UTF-8\" standalone=\"no\"?>\n<!DOCTYPE svg PUBLIC \"-//W3C//DTD SVG 1.1//EN\"\n \"http://www.w3.org/Graphics/SVG/1.1/DTD/svg11.dtd\">\n<!-- Generated by graphviz version 2.40.1 (20161225.0304)\n -->\n<!-- Title: Tree Pages: 1 -->\n<svg width=\"1051pt\" height=\"433pt\"\n viewBox=\"0.00 0.00 1051.00 433.00\" xmlns=\"http://www.w3.org/2000/svg\" xmlns:xlink=\"http://www.w3.org/1999/xlink\">\n<g id=\"graph0\" class=\"graph\" transform=\"scale(1 1) rotate(0) translate(4 429)\">\n<title>Tree</title>\n<polygon fill=\"#ffffff\" stroke=\"transparent\" points=\"-4,4 -4,-429 1047,-429 1047,4 -4,4\"/>\n<!-- 0 -->\n<g id=\"node1\" class=\"node\">\n<title>0</title>\n<polygon fill=\"#ffffff\" stroke=\"#000000\" points=\"574,-425 425,-425 425,-342 574,-342 574,-425\"/>\n<text text-anchor=\"middle\" x=\"499.5\" y=\"-409.8\" font-family=\"Helvetica,sans-Serif\" font-size=\"14.00\" fill=\"#000000\">X[1] &lt;= &#45;0.133</text>\n<text text-anchor=\"middle\" x=\"499.5\" y=\"-394.8\" font-family=\"Helvetica,sans-Serif\" font-size=\"14.00\" fill=\"#000000\">gini = 0.5</text>\n<text text-anchor=\"middle\" x=\"499.5\" y=\"-379.8\" font-family=\"Helvetica,sans-Serif\" font-size=\"14.00\" fill=\"#000000\">samples = 4460</text>\n<text text-anchor=\"middle\" x=\"499.5\" y=\"-364.8\" font-family=\"Helvetica,sans-Serif\" font-size=\"14.00\" fill=\"#000000\">value = [2230, 2230]</text>\n<text text-anchor=\"middle\" x=\"499.5\" y=\"-349.8\" font-family=\"Helvetica,sans-Serif\" font-size=\"14.00\" fill=\"#000000\">class = 남</text>\n</g>\n<!-- 1 -->\n<g id=\"node2\" class=\"node\">\n<title>1</title>\n<polygon fill=\"#47a4e7\" stroke=\"#000000\" points=\"440.5,-306 300.5,-306 300.5,-223 440.5,-223 440.5,-306\"/>\n<text text-anchor=\"middle\" x=\"370.5\" y=\"-290.8\" font-family=\"Helvetica,sans-Serif\" font-size=\"14.00\" fill=\"#000000\">X[7] &lt;= &#45;0.768</text>\n<text text-anchor=\"middle\" x=\"370.5\" y=\"-275.8\" font-family=\"Helvetica,sans-Serif\" font-size=\"14.00\" fill=\"#000000\">gini = 0.124</text>\n<text text-anchor=\"middle\" x=\"370.5\" y=\"-260.8\" font-family=\"Helvetica,sans-Serif\" font-size=\"14.00\" fill=\"#000000\">samples = 2248</text>\n<text text-anchor=\"middle\" x=\"370.5\" y=\"-245.8\" font-family=\"Helvetica,sans-Serif\" font-size=\"14.00\" fill=\"#000000\">value = [149, 2099]</text>\n<text text-anchor=\"middle\" x=\"370.5\" y=\"-230.8\" font-family=\"Helvetica,sans-Serif\" font-size=\"14.00\" fill=\"#000000\">class = 여</text>\n</g>\n<!-- 0&#45;&gt;1 -->\n<g id=\"edge1\" class=\"edge\">\n<title>0&#45;&gt;1</title>\n<path fill=\"none\" stroke=\"#000000\" d=\"M454.3821,-341.8796C444.326,-332.6031 433.577,-322.6874 423.2446,-313.1559\"/>\n<polygon fill=\"#000000\" stroke=\"#000000\" points=\"425.5339,-310.506 415.8105,-306.2981 420.7876,-315.6511 425.5339,-310.506\"/>\n<text text-anchor=\"middle\" x=\"416.8178\" y=\"-327.5778\" font-family=\"Helvetica,sans-Serif\" font-size=\"14.00\" fill=\"#000000\">True</text>\n</g>\n<!-- 8 -->\n<g id=\"node9\" class=\"node\">\n<title>8</title>\n<polygon fill=\"#e78945\" stroke=\"#000000\" points=\"718.5,-306 578.5,-306 578.5,-223 718.5,-223 718.5,-306\"/>\n<text text-anchor=\"middle\" x=\"648.5\" y=\"-290.8\" font-family=\"Helvetica,sans-Serif\" font-size=\"14.00\" fill=\"#000000\">X[7] &lt;= 0.734</text>\n<text text-anchor=\"middle\" x=\"648.5\" y=\"-275.8\" font-family=\"Helvetica,sans-Serif\" font-size=\"14.00\" fill=\"#000000\">gini = 0.111</text>\n<text text-anchor=\"middle\" x=\"648.5\" y=\"-260.8\" font-family=\"Helvetica,sans-Serif\" font-size=\"14.00\" fill=\"#000000\">samples = 2212</text>\n<text text-anchor=\"middle\" x=\"648.5\" y=\"-245.8\" font-family=\"Helvetica,sans-Serif\" font-size=\"14.00\" fill=\"#000000\">value = [2081, 131]</text>\n<text text-anchor=\"middle\" x=\"648.5\" y=\"-230.8\" font-family=\"Helvetica,sans-Serif\" font-size=\"14.00\" fill=\"#000000\">class = 남</text>\n</g>\n<!-- 0&#45;&gt;8 -->\n<g id=\"edge8\" class=\"edge\">\n<title>0&#45;&gt;8</title>\n<path fill=\"none\" stroke=\"#000000\" d=\"M551.613,-341.8796C563.5225,-332.368 576.2734,-322.1843 588.4844,-312.432\"/>\n<polygon fill=\"#000000\" stroke=\"#000000\" points=\"590.7868,-315.0724 596.4165,-306.0969 586.4184,-309.6027 590.7868,-315.0724\"/>\n<text text-anchor=\"middle\" x=\"593.6353\" y=\"-327.2417\" font-family=\"Helvetica,sans-Serif\" font-size=\"14.00\" fill=\"#000000\">False</text>\n</g>\n<!-- 2 -->\n<g id=\"node3\" class=\"node\">\n<title>2</title>\n<polygon fill=\"#eead7e\" stroke=\"#000000\" points=\"236.5,-187 120.5,-187 120.5,-104 236.5,-104 236.5,-187\"/>\n<text text-anchor=\"middle\" x=\"178.5\" y=\"-171.8\" font-family=\"Helvetica,sans-Serif\" font-size=\"14.00\" fill=\"#000000\">X[10] &lt;= 0.82</text>\n<text text-anchor=\"middle\" x=\"178.5\" y=\"-156.8\" font-family=\"Helvetica,sans-Serif\" font-size=\"14.00\" fill=\"#000000\">gini = 0.383</text>\n<text text-anchor=\"middle\" x=\"178.5\" y=\"-141.8\" font-family=\"Helvetica,sans-Serif\" font-size=\"14.00\" fill=\"#000000\">samples = 116</text>\n<text text-anchor=\"middle\" x=\"178.5\" y=\"-126.8\" font-family=\"Helvetica,sans-Serif\" font-size=\"14.00\" fill=\"#000000\">value = [86, 30]</text>\n<text text-anchor=\"middle\" x=\"178.5\" y=\"-111.8\" font-family=\"Helvetica,sans-Serif\" font-size=\"14.00\" fill=\"#000000\">class = 남</text>\n</g>\n<!-- 1&#45;&gt;2 -->\n<g id=\"edge2\" class=\"edge\">\n<title>1&#45;&gt;2</title>\n<path fill=\"none\" stroke=\"#000000\" d=\"M303.3477,-222.8796C284.4986,-211.197 264.0137,-198.5007 245.1914,-186.8348\"/>\n<polygon fill=\"#000000\" stroke=\"#000000\" points=\"247.0159,-183.8479 236.6722,-181.5546 243.3282,-189.7978 247.0159,-183.8479\"/>\n</g>\n<!-- 5 -->\n<g id=\"node6\" class=\"node\">\n<title>5</title>\n<polygon fill=\"#3fa0e6\" stroke=\"#000000\" points=\"436.5,-187 304.5,-187 304.5,-104 436.5,-104 436.5,-187\"/>\n<text text-anchor=\"middle\" x=\"370.5\" y=\"-171.8\" font-family=\"Helvetica,sans-Serif\" font-size=\"14.00\" fill=\"#000000\">X[63] &lt;= 0.661</text>\n<text text-anchor=\"middle\" x=\"370.5\" y=\"-156.8\" font-family=\"Helvetica,sans-Serif\" font-size=\"14.00\" fill=\"#000000\">gini = 0.057</text>\n<text text-anchor=\"middle\" x=\"370.5\" y=\"-141.8\" font-family=\"Helvetica,sans-Serif\" font-size=\"14.00\" fill=\"#000000\">samples = 2132</text>\n<text text-anchor=\"middle\" x=\"370.5\" y=\"-126.8\" font-family=\"Helvetica,sans-Serif\" font-size=\"14.00\" fill=\"#000000\">value = [63, 2069]</text>\n<text text-anchor=\"middle\" x=\"370.5\" y=\"-111.8\" font-family=\"Helvetica,sans-Serif\" font-size=\"14.00\" fill=\"#000000\">class = 여</text>\n</g>\n<!-- 1&#45;&gt;5 -->\n<g id=\"edge5\" class=\"edge\">\n<title>1&#45;&gt;5</title>\n<path fill=\"none\" stroke=\"#000000\" d=\"M370.5,-222.8796C370.5,-214.6838 370.5,-205.9891 370.5,-197.5013\"/>\n<polygon fill=\"#000000\" stroke=\"#000000\" points=\"374.0001,-197.298 370.5,-187.2981 367.0001,-197.2981 374.0001,-197.298\"/>\n</g>\n<!-- 3 -->\n<g id=\"node4\" class=\"node\">\n<title>3</title>\n<polygon fill=\"#52a9e8\" stroke=\"#000000\" points=\"107,-68 0,-68 0,0 107,0 107,-68\"/>\n<text text-anchor=\"middle\" x=\"53.5\" y=\"-52.8\" font-family=\"Helvetica,sans-Serif\" font-size=\"14.00\" fill=\"#000000\">gini = 0.198</text>\n<text text-anchor=\"middle\" x=\"53.5\" y=\"-37.8\" font-family=\"Helvetica,sans-Serif\" font-size=\"14.00\" fill=\"#000000\">samples = 27</text>\n<text text-anchor=\"middle\" x=\"53.5\" y=\"-22.8\" font-family=\"Helvetica,sans-Serif\" font-size=\"14.00\" fill=\"#000000\">value = [3, 24]</text>\n<text text-anchor=\"middle\" x=\"53.5\" y=\"-7.8\" font-family=\"Helvetica,sans-Serif\" font-size=\"14.00\" fill=\"#000000\">class = 여</text>\n</g>\n<!-- 2&#45;&gt;3 -->\n<g id=\"edge3\" class=\"edge\">\n<title>2&#45;&gt;3</title>\n<path fill=\"none\" stroke=\"#000000\" d=\"M131.9546,-103.9815C121.3421,-94.5151 110.0718,-84.462 99.4829,-75.0168\"/>\n<polygon fill=\"#000000\" stroke=\"#000000\" points=\"101.7046,-72.3084 91.9122,-68.2637 97.0449,-77.5322 101.7046,-72.3084\"/>\n</g>\n<!-- 4 -->\n<g id=\"node5\" class=\"node\">\n<title>4</title>\n<polygon fill=\"#e78a47\" stroke=\"#000000\" points=\"232,-68 125,-68 125,0 232,0 232,-68\"/>\n<text text-anchor=\"middle\" x=\"178.5\" y=\"-52.8\" font-family=\"Helvetica,sans-Serif\" font-size=\"14.00\" fill=\"#000000\">gini = 0.126</text>\n<text text-anchor=\"middle\" x=\"178.5\" y=\"-37.8\" font-family=\"Helvetica,sans-Serif\" font-size=\"14.00\" fill=\"#000000\">samples = 89</text>\n<text text-anchor=\"middle\" x=\"178.5\" y=\"-22.8\" font-family=\"Helvetica,sans-Serif\" font-size=\"14.00\" fill=\"#000000\">value = [83, 6]</text>\n<text text-anchor=\"middle\" x=\"178.5\" y=\"-7.8\" font-family=\"Helvetica,sans-Serif\" font-size=\"14.00\" fill=\"#000000\">class = 남</text>\n</g>\n<!-- 2&#45;&gt;4 -->\n<g id=\"edge4\" class=\"edge\">\n<title>2&#45;&gt;4</title>\n<path fill=\"none\" stroke=\"#000000\" d=\"M178.5,-103.9815C178.5,-95.618 178.5,-86.7965 178.5,-78.3409\"/>\n<polygon fill=\"#000000\" stroke=\"#000000\" points=\"182.0001,-78.2636 178.5,-68.2637 175.0001,-78.2637 182.0001,-78.2636\"/>\n</g>\n<!-- 6 -->\n<g id=\"node7\" class=\"node\">\n<title>6</title>\n<polygon fill=\"#3d9fe6\" stroke=\"#000000\" points=\"382.5,-68 250.5,-68 250.5,0 382.5,0 382.5,-68\"/>\n<text text-anchor=\"middle\" x=\"316.5\" y=\"-52.8\" font-family=\"Helvetica,sans-Serif\" font-size=\"14.00\" fill=\"#000000\">gini = 0.041</text>\n<text text-anchor=\"middle\" x=\"316.5\" y=\"-37.8\" font-family=\"Helvetica,sans-Serif\" font-size=\"14.00\" fill=\"#000000\">samples = 2105</text>\n<text text-anchor=\"middle\" x=\"316.5\" y=\"-22.8\" font-family=\"Helvetica,sans-Serif\" font-size=\"14.00\" fill=\"#000000\">value = [44, 2061]</text>\n<text text-anchor=\"middle\" x=\"316.5\" y=\"-7.8\" font-family=\"Helvetica,sans-Serif\" font-size=\"14.00\" fill=\"#000000\">class = 여</text>\n</g>\n<!-- 5&#45;&gt;6 -->\n<g id=\"edge6\" class=\"edge\">\n<title>5&#45;&gt;6</title>\n<path fill=\"none\" stroke=\"#000000\" d=\"M350.3924,-103.9815C346.2084,-95.3423 341.7877,-86.2144 337.5701,-77.5059\"/>\n<polygon fill=\"#000000\" stroke=\"#000000\" points=\"340.6029,-75.7382 333.0941,-68.2637 334.3029,-78.7893 340.6029,-75.7382\"/>\n</g>\n<!-- 7 -->\n<g id=\"node8\" class=\"node\">\n<title>7</title>\n<polygon fill=\"#f0b68c\" stroke=\"#000000\" points=\"508,-68 401,-68 401,0 508,0 508,-68\"/>\n<text text-anchor=\"middle\" x=\"454.5\" y=\"-52.8\" font-family=\"Helvetica,sans-Serif\" font-size=\"14.00\" fill=\"#000000\">gini = 0.417</text>\n<text text-anchor=\"middle\" x=\"454.5\" y=\"-37.8\" font-family=\"Helvetica,sans-Serif\" font-size=\"14.00\" fill=\"#000000\">samples = 27</text>\n<text text-anchor=\"middle\" x=\"454.5\" y=\"-22.8\" font-family=\"Helvetica,sans-Serif\" font-size=\"14.00\" fill=\"#000000\">value = [19, 8]</text>\n<text text-anchor=\"middle\" x=\"454.5\" y=\"-7.8\" font-family=\"Helvetica,sans-Serif\" font-size=\"14.00\" fill=\"#000000\">class = 남</text>\n</g>\n<!-- 5&#45;&gt;7 -->\n<g id=\"edge7\" class=\"edge\">\n<title>5&#45;&gt;7</title>\n<path fill=\"none\" stroke=\"#000000\" d=\"M401.7785,-103.9815C408.5639,-94.9747 415.7495,-85.4367 422.5601,-76.3965\"/>\n<polygon fill=\"#000000\" stroke=\"#000000\" points=\"425.4653,-78.3568 428.687,-68.2637 419.8743,-74.1448 425.4653,-78.3568\"/>\n</g>\n<!-- 9 -->\n<g id=\"node10\" class=\"node\">\n<title>9</title>\n<polygon fill=\"#e6843e\" stroke=\"#000000\" points=\"714.5,-187 582.5,-187 582.5,-104 714.5,-104 714.5,-187\"/>\n<text text-anchor=\"middle\" x=\"648.5\" y=\"-171.8\" font-family=\"Helvetica,sans-Serif\" font-size=\"14.00\" fill=\"#000000\">X[24] &lt;= &#45;1.253</text>\n<text text-anchor=\"middle\" x=\"648.5\" y=\"-156.8\" font-family=\"Helvetica,sans-Serif\" font-size=\"14.00\" fill=\"#000000\">gini = 0.049</text>\n<text text-anchor=\"middle\" x=\"648.5\" y=\"-141.8\" font-family=\"Helvetica,sans-Serif\" font-size=\"14.00\" fill=\"#000000\">samples = 2063</text>\n<text text-anchor=\"middle\" x=\"648.5\" y=\"-126.8\" font-family=\"Helvetica,sans-Serif\" font-size=\"14.00\" fill=\"#000000\">value = [2011, 52]</text>\n<text text-anchor=\"middle\" x=\"648.5\" y=\"-111.8\" font-family=\"Helvetica,sans-Serif\" font-size=\"14.00\" fill=\"#000000\">class = 남</text>\n</g>\n<!-- 8&#45;&gt;9 -->\n<g id=\"edge9\" class=\"edge\">\n<title>8&#45;&gt;9</title>\n<path fill=\"none\" stroke=\"#000000\" d=\"M648.5,-222.8796C648.5,-214.6838 648.5,-205.9891 648.5,-197.5013\"/>\n<polygon fill=\"#000000\" stroke=\"#000000\" points=\"652.0001,-197.298 648.5,-187.2981 645.0001,-197.2981 652.0001,-197.298\"/>\n</g>\n<!-- 12 -->\n<g id=\"node13\" class=\"node\">\n<title>12</title>\n<polygon fill=\"#e8f4fc\" stroke=\"#000000\" points=\"917.5,-187 801.5,-187 801.5,-104 917.5,-104 917.5,-187\"/>\n<text text-anchor=\"middle\" x=\"859.5\" y=\"-171.8\" font-family=\"Helvetica,sans-Serif\" font-size=\"14.00\" fill=\"#000000\">X[47] &lt;= 1.241</text>\n<text text-anchor=\"middle\" x=\"859.5\" y=\"-156.8\" font-family=\"Helvetica,sans-Serif\" font-size=\"14.00\" fill=\"#000000\">gini = 0.498</text>\n<text text-anchor=\"middle\" x=\"859.5\" y=\"-141.8\" font-family=\"Helvetica,sans-Serif\" font-size=\"14.00\" fill=\"#000000\">samples = 149</text>\n<text text-anchor=\"middle\" x=\"859.5\" y=\"-126.8\" font-family=\"Helvetica,sans-Serif\" font-size=\"14.00\" fill=\"#000000\">value = [70, 79]</text>\n<text text-anchor=\"middle\" x=\"859.5\" y=\"-111.8\" font-family=\"Helvetica,sans-Serif\" font-size=\"14.00\" fill=\"#000000\">class = 여</text>\n</g>\n<!-- 8&#45;&gt;12 -->\n<g id=\"edge12\" class=\"edge\">\n<title>8&#45;&gt;12</title>\n<path fill=\"none\" stroke=\"#000000\" d=\"M718.7599,-224.8747C742.5717,-211.4454 769.0893,-196.4899 792.6299,-183.2135\"/>\n<polygon fill=\"#000000\" stroke=\"#000000\" points=\"794.5035,-186.1751 801.4944,-178.2141 791.0648,-180.0779 794.5035,-186.1751\"/>\n</g>\n<!-- 10 -->\n<g id=\"node11\" class=\"node\">\n<title>10</title>\n<polygon fill=\"#399de5\" stroke=\"#000000\" points=\"633,-68 526,-68 526,0 633,0 633,-68\"/>\n<text text-anchor=\"middle\" x=\"579.5\" y=\"-52.8\" font-family=\"Helvetica,sans-Serif\" font-size=\"14.00\" fill=\"#000000\">gini = 0.0</text>\n<text text-anchor=\"middle\" x=\"579.5\" y=\"-37.8\" font-family=\"Helvetica,sans-Serif\" font-size=\"14.00\" fill=\"#000000\">samples = 10</text>\n<text text-anchor=\"middle\" x=\"579.5\" y=\"-22.8\" font-family=\"Helvetica,sans-Serif\" font-size=\"14.00\" fill=\"#000000\">value = [0, 10]</text>\n<text text-anchor=\"middle\" x=\"579.5\" y=\"-7.8\" font-family=\"Helvetica,sans-Serif\" font-size=\"14.00\" fill=\"#000000\">class = 여</text>\n</g>\n<!-- 9&#45;&gt;10 -->\n<g id=\"edge10\" class=\"edge\">\n<title>9&#45;&gt;10</title>\n<path fill=\"none\" stroke=\"#000000\" d=\"M622.8069,-103.9815C617.3469,-95.1585 611.5716,-85.8258 606.0793,-76.9506\"/>\n<polygon fill=\"#000000\" stroke=\"#000000\" points=\"608.942,-74.9254 600.7035,-68.2637 602.9896,-78.609 608.942,-74.9254\"/>\n</g>\n<!-- 11 -->\n<g id=\"node12\" class=\"node\">\n<title>11</title>\n<polygon fill=\"#e6843d\" stroke=\"#000000\" points=\"783.5,-68 651.5,-68 651.5,0 783.5,0 783.5,-68\"/>\n<text text-anchor=\"middle\" x=\"717.5\" y=\"-52.8\" font-family=\"Helvetica,sans-Serif\" font-size=\"14.00\" fill=\"#000000\">gini = 0.04</text>\n<text text-anchor=\"middle\" x=\"717.5\" y=\"-37.8\" font-family=\"Helvetica,sans-Serif\" font-size=\"14.00\" fill=\"#000000\">samples = 2053</text>\n<text text-anchor=\"middle\" x=\"717.5\" y=\"-22.8\" font-family=\"Helvetica,sans-Serif\" font-size=\"14.00\" fill=\"#000000\">value = [2011, 42]</text>\n<text text-anchor=\"middle\" x=\"717.5\" y=\"-7.8\" font-family=\"Helvetica,sans-Serif\" font-size=\"14.00\" fill=\"#000000\">class = 남</text>\n</g>\n<!-- 9&#45;&gt;11 -->\n<g id=\"edge11\" class=\"edge\">\n<title>9&#45;&gt;11</title>\n<path fill=\"none\" stroke=\"#000000\" d=\"M674.1931,-103.9815C679.6531,-95.1585 685.4284,-85.8258 690.9207,-76.9506\"/>\n<polygon fill=\"#000000\" stroke=\"#000000\" points=\"694.0104,-78.609 696.2965,-68.2637 688.058,-74.9254 694.0104,-78.609\"/>\n</g>\n<!-- 13 -->\n<g id=\"node14\" class=\"node\">\n<title>13</title>\n<polygon fill=\"#62b1ea\" stroke=\"#000000\" points=\"917.5,-68 801.5,-68 801.5,0 917.5,0 917.5,-68\"/>\n<text text-anchor=\"middle\" x=\"859.5\" y=\"-52.8\" font-family=\"Helvetica,sans-Serif\" font-size=\"14.00\" fill=\"#000000\">gini = 0.283</text>\n<text text-anchor=\"middle\" x=\"859.5\" y=\"-37.8\" font-family=\"Helvetica,sans-Serif\" font-size=\"14.00\" fill=\"#000000\">samples = 88</text>\n<text text-anchor=\"middle\" x=\"859.5\" y=\"-22.8\" font-family=\"Helvetica,sans-Serif\" font-size=\"14.00\" fill=\"#000000\">value = [15, 73]</text>\n<text text-anchor=\"middle\" x=\"859.5\" y=\"-7.8\" font-family=\"Helvetica,sans-Serif\" font-size=\"14.00\" fill=\"#000000\">class = 여</text>\n</g>\n<!-- 12&#45;&gt;13 -->\n<g id=\"edge13\" class=\"edge\">\n<title>12&#45;&gt;13</title>\n<path fill=\"none\" stroke=\"#000000\" d=\"M859.5,-103.9815C859.5,-95.618 859.5,-86.7965 859.5,-78.3409\"/>\n<polygon fill=\"#000000\" stroke=\"#000000\" points=\"863.0001,-78.2636 859.5,-68.2637 856.0001,-78.2637 863.0001,-78.2636\"/>\n</g>\n<!-- 14 -->\n<g id=\"node15\" class=\"node\">\n<title>14</title>\n<polygon fill=\"#e88f4f\" stroke=\"#000000\" points=\"1043,-68 936,-68 936,0 1043,0 1043,-68\"/>\n<text text-anchor=\"middle\" x=\"989.5\" y=\"-52.8\" font-family=\"Helvetica,sans-Serif\" font-size=\"14.00\" fill=\"#000000\">gini = 0.177</text>\n<text text-anchor=\"middle\" x=\"989.5\" y=\"-37.8\" font-family=\"Helvetica,sans-Serif\" font-size=\"14.00\" fill=\"#000000\">samples = 61</text>\n<text text-anchor=\"middle\" x=\"989.5\" y=\"-22.8\" font-family=\"Helvetica,sans-Serif\" font-size=\"14.00\" fill=\"#000000\">value = [55, 6]</text>\n<text text-anchor=\"middle\" x=\"989.5\" y=\"-7.8\" font-family=\"Helvetica,sans-Serif\" font-size=\"14.00\" fill=\"#000000\">class = 남</text>\n</g>\n<!-- 12&#45;&gt;14 -->\n<g id=\"edge14\" class=\"edge\">\n<title>12&#45;&gt;14</title>\n<path fill=\"none\" stroke=\"#000000\" d=\"M907.9072,-103.9815C918.9442,-94.5151 930.6653,-84.462 941.6777,-75.0168\"/>\n<polygon fill=\"#000000\" stroke=\"#000000\" points=\"944.2394,-77.4307 949.5513,-68.2637 939.6822,-72.1173 944.2394,-77.4307\"/>\n</g>\n</g>\n</svg>\n"
          },
          "metadata": {},
          "execution_count": 93
        }
      ]
    },
    {
      "cell_type": "code",
      "source": [],
      "metadata": {
        "id": "0gNrL0Z-ZfD8"
      },
      "execution_count": 98,
      "outputs": []
    }
  ]
}