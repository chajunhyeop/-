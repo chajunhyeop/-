{
  "nbformat": 4,
  "nbformat_minor": 0,
  "metadata": {
    "colab": {
      "provenance": [],
      "mount_file_id": "1FV3yqFazIyhhfKnQ6XSqdeZWRE4_XmVs",
      "authorship_tag": "ABX9TyP3zLhMvDZRyKIvZSxc9JuE",
      "include_colab_link": true
    },
    "kernelspec": {
      "name": "python3",
      "display_name": "Python 3"
    },
    "language_info": {
      "name": "python"
    }
  },
  "cells": [
    {
      "cell_type": "markdown",
      "metadata": {
        "id": "view-in-github",
        "colab_type": "text"
      },
      "source": [
        "<a href=\"https://colab.research.google.com/github/chajunhyeop/-/blob/main/%ED%8C%8C%EC%9D%B4%EC%8D%AC%EC%8B%A4%EC%8A%B5.ipynb\" target=\"_parent\"><img src=\"https://colab.research.google.com/assets/colab-badge.svg\" alt=\"Open In Colab\"/></a>"
      ]
    },
    {
      "cell_type": "code",
      "execution_count": 1,
      "metadata": {
        "id": "J-nMbMun2Dww"
      },
      "outputs": [],
      "source": [
        "import pandas as pd\n",
        "from sklearn.model_selection import train_test_split\n",
        "from sklearn.model_selection import cross_val_score\n",
        "from sklearn.neighbors import KNeighborsRegressor"
      ]
    },
    {
      "cell_type": "code",
      "source": [
        "#데이터불러오기\n",
        "df = pd.read_csv(\"/content/drive/MyDrive/Colab Notebooks/Ashopping.csv\", encoding = 'cp949')\n",
        "df"
      ],
      "metadata": {
        "colab": {
          "base_uri": "https://localhost:8080/",
          "height": 572
        },
        "id": "KVMrLlx52RvP",
        "outputId": "27f74fee-af7a-4526-f187-f644cb22ef6c"
      },
      "execution_count": 2,
      "outputs": [
        {
          "output_type": "execute_result",
          "data": {
            "text/plain": [
              "     고객ID  이탈여부      총매출액  구매금액대  방문빈도  1회 평균매출액  할인권 사용 횟수  총 할인 금액  고객등급  \\\n",
              "0       1     1   4963160      1    22    225598          1     5445     1   \n",
              "1       2     1   2271520      0    38     59777         22   350995     1   \n",
              "2       3     1   2484250      0     2   1242125          6   186045     1   \n",
              "3       4     1   2778850      0     9    308761          1     5195     2   \n",
              "4       5     1   4437610      1    10    443761          9   246350     2   \n",
              "..    ...   ...       ...    ...   ...       ...        ...      ...   ...   \n",
              "995   996     0  12731560      2    35    363759          3    44445     2   \n",
              "996   997     0   3419010      0     6    569835          6   186545     1   \n",
              "997   998     0   4612100      1    13    354777          8   260700     2   \n",
              "998   999     0   5165360      1    28    184477         20   347700     1   \n",
              "999  1000     0   4323050      1    16    270191         19   367045     2   \n",
              "\n",
              "     구매유형  ...  구매카테고리수  거주지역  성별  고객 나이대  거래기간  할인민감여부  Recency  Frequency  \\\n",
              "0       3  ...        7     6   1       6  3303       0        3          2   \n",
              "1       1  ...        5     4   0       2  3129       0        5          3   \n",
              "2       2  ...        4     6   0       3  3636       0        4          1   \n",
              "3       4  ...        4     5   0       4  3637       0        7          4   \n",
              "4       4  ...        6     6   0       4  3638       0        5          1   \n",
              "..    ...  ...      ...   ...  ..     ...   ...     ...      ...        ...   \n",
              "995     3  ...        8     6   0       4  4629       1        3          3   \n",
              "996     2  ...        9     6   0       4  4630       1        7          3   \n",
              "997     1  ...        1     4   1       6  4631       1        2          1   \n",
              "998     3  ...        7     5   1       6  3907       0        7          2   \n",
              "999     4  ...        6     5   1       6  2118       0        5          1   \n",
              "\n",
              "     Monetary      평균 구매주기  \n",
              "0           1   149.136364  \n",
              "1           4    81.342105  \n",
              "2           4  1817.000000  \n",
              "3           6   403.111111  \n",
              "4           4   362.800000  \n",
              "..        ...          ...  \n",
              "995         1   131.257143  \n",
              "996         6   770.666667  \n",
              "997         2   355.230769  \n",
              "998         6   138.535714  \n",
              "999         4   131.375000  \n",
              "\n",
              "[1000 rows x 21 columns]"
            ],
            "text/html": [
              "\n",
              "  <div id=\"df-8bcaf4b1-6e27-4424-b954-bf26d65ca5f0\">\n",
              "    <div class=\"colab-df-container\">\n",
              "      <div>\n",
              "<style scoped>\n",
              "    .dataframe tbody tr th:only-of-type {\n",
              "        vertical-align: middle;\n",
              "    }\n",
              "\n",
              "    .dataframe tbody tr th {\n",
              "        vertical-align: top;\n",
              "    }\n",
              "\n",
              "    .dataframe thead th {\n",
              "        text-align: right;\n",
              "    }\n",
              "</style>\n",
              "<table border=\"1\" class=\"dataframe\">\n",
              "  <thead>\n",
              "    <tr style=\"text-align: right;\">\n",
              "      <th></th>\n",
              "      <th>고객ID</th>\n",
              "      <th>이탈여부</th>\n",
              "      <th>총매출액</th>\n",
              "      <th>구매금액대</th>\n",
              "      <th>방문빈도</th>\n",
              "      <th>1회 평균매출액</th>\n",
              "      <th>할인권 사용 횟수</th>\n",
              "      <th>총 할인 금액</th>\n",
              "      <th>고객등급</th>\n",
              "      <th>구매유형</th>\n",
              "      <th>...</th>\n",
              "      <th>구매카테고리수</th>\n",
              "      <th>거주지역</th>\n",
              "      <th>성별</th>\n",
              "      <th>고객 나이대</th>\n",
              "      <th>거래기간</th>\n",
              "      <th>할인민감여부</th>\n",
              "      <th>Recency</th>\n",
              "      <th>Frequency</th>\n",
              "      <th>Monetary</th>\n",
              "      <th>평균 구매주기</th>\n",
              "    </tr>\n",
              "  </thead>\n",
              "  <tbody>\n",
              "    <tr>\n",
              "      <th>0</th>\n",
              "      <td>1</td>\n",
              "      <td>1</td>\n",
              "      <td>4963160</td>\n",
              "      <td>1</td>\n",
              "      <td>22</td>\n",
              "      <td>225598</td>\n",
              "      <td>1</td>\n",
              "      <td>5445</td>\n",
              "      <td>1</td>\n",
              "      <td>3</td>\n",
              "      <td>...</td>\n",
              "      <td>7</td>\n",
              "      <td>6</td>\n",
              "      <td>1</td>\n",
              "      <td>6</td>\n",
              "      <td>3303</td>\n",
              "      <td>0</td>\n",
              "      <td>3</td>\n",
              "      <td>2</td>\n",
              "      <td>1</td>\n",
              "      <td>149.136364</td>\n",
              "    </tr>\n",
              "    <tr>\n",
              "      <th>1</th>\n",
              "      <td>2</td>\n",
              "      <td>1</td>\n",
              "      <td>2271520</td>\n",
              "      <td>0</td>\n",
              "      <td>38</td>\n",
              "      <td>59777</td>\n",
              "      <td>22</td>\n",
              "      <td>350995</td>\n",
              "      <td>1</td>\n",
              "      <td>1</td>\n",
              "      <td>...</td>\n",
              "      <td>5</td>\n",
              "      <td>4</td>\n",
              "      <td>0</td>\n",
              "      <td>2</td>\n",
              "      <td>3129</td>\n",
              "      <td>0</td>\n",
              "      <td>5</td>\n",
              "      <td>3</td>\n",
              "      <td>4</td>\n",
              "      <td>81.342105</td>\n",
              "    </tr>\n",
              "    <tr>\n",
              "      <th>2</th>\n",
              "      <td>3</td>\n",
              "      <td>1</td>\n",
              "      <td>2484250</td>\n",
              "      <td>0</td>\n",
              "      <td>2</td>\n",
              "      <td>1242125</td>\n",
              "      <td>6</td>\n",
              "      <td>186045</td>\n",
              "      <td>1</td>\n",
              "      <td>2</td>\n",
              "      <td>...</td>\n",
              "      <td>4</td>\n",
              "      <td>6</td>\n",
              "      <td>0</td>\n",
              "      <td>3</td>\n",
              "      <td>3636</td>\n",
              "      <td>0</td>\n",
              "      <td>4</td>\n",
              "      <td>1</td>\n",
              "      <td>4</td>\n",
              "      <td>1817.000000</td>\n",
              "    </tr>\n",
              "    <tr>\n",
              "      <th>3</th>\n",
              "      <td>4</td>\n",
              "      <td>1</td>\n",
              "      <td>2778850</td>\n",
              "      <td>0</td>\n",
              "      <td>9</td>\n",
              "      <td>308761</td>\n",
              "      <td>1</td>\n",
              "      <td>5195</td>\n",
              "      <td>2</td>\n",
              "      <td>4</td>\n",
              "      <td>...</td>\n",
              "      <td>4</td>\n",
              "      <td>5</td>\n",
              "      <td>0</td>\n",
              "      <td>4</td>\n",
              "      <td>3637</td>\n",
              "      <td>0</td>\n",
              "      <td>7</td>\n",
              "      <td>4</td>\n",
              "      <td>6</td>\n",
              "      <td>403.111111</td>\n",
              "    </tr>\n",
              "    <tr>\n",
              "      <th>4</th>\n",
              "      <td>5</td>\n",
              "      <td>1</td>\n",
              "      <td>4437610</td>\n",
              "      <td>1</td>\n",
              "      <td>10</td>\n",
              "      <td>443761</td>\n",
              "      <td>9</td>\n",
              "      <td>246350</td>\n",
              "      <td>2</td>\n",
              "      <td>4</td>\n",
              "      <td>...</td>\n",
              "      <td>6</td>\n",
              "      <td>6</td>\n",
              "      <td>0</td>\n",
              "      <td>4</td>\n",
              "      <td>3638</td>\n",
              "      <td>0</td>\n",
              "      <td>5</td>\n",
              "      <td>1</td>\n",
              "      <td>4</td>\n",
              "      <td>362.800000</td>\n",
              "    </tr>\n",
              "    <tr>\n",
              "      <th>...</th>\n",
              "      <td>...</td>\n",
              "      <td>...</td>\n",
              "      <td>...</td>\n",
              "      <td>...</td>\n",
              "      <td>...</td>\n",
              "      <td>...</td>\n",
              "      <td>...</td>\n",
              "      <td>...</td>\n",
              "      <td>...</td>\n",
              "      <td>...</td>\n",
              "      <td>...</td>\n",
              "      <td>...</td>\n",
              "      <td>...</td>\n",
              "      <td>...</td>\n",
              "      <td>...</td>\n",
              "      <td>...</td>\n",
              "      <td>...</td>\n",
              "      <td>...</td>\n",
              "      <td>...</td>\n",
              "      <td>...</td>\n",
              "      <td>...</td>\n",
              "    </tr>\n",
              "    <tr>\n",
              "      <th>995</th>\n",
              "      <td>996</td>\n",
              "      <td>0</td>\n",
              "      <td>12731560</td>\n",
              "      <td>2</td>\n",
              "      <td>35</td>\n",
              "      <td>363759</td>\n",
              "      <td>3</td>\n",
              "      <td>44445</td>\n",
              "      <td>2</td>\n",
              "      <td>3</td>\n",
              "      <td>...</td>\n",
              "      <td>8</td>\n",
              "      <td>6</td>\n",
              "      <td>0</td>\n",
              "      <td>4</td>\n",
              "      <td>4629</td>\n",
              "      <td>1</td>\n",
              "      <td>3</td>\n",
              "      <td>3</td>\n",
              "      <td>1</td>\n",
              "      <td>131.257143</td>\n",
              "    </tr>\n",
              "    <tr>\n",
              "      <th>996</th>\n",
              "      <td>997</td>\n",
              "      <td>0</td>\n",
              "      <td>3419010</td>\n",
              "      <td>0</td>\n",
              "      <td>6</td>\n",
              "      <td>569835</td>\n",
              "      <td>6</td>\n",
              "      <td>186545</td>\n",
              "      <td>1</td>\n",
              "      <td>2</td>\n",
              "      <td>...</td>\n",
              "      <td>9</td>\n",
              "      <td>6</td>\n",
              "      <td>0</td>\n",
              "      <td>4</td>\n",
              "      <td>4630</td>\n",
              "      <td>1</td>\n",
              "      <td>7</td>\n",
              "      <td>3</td>\n",
              "      <td>6</td>\n",
              "      <td>770.666667</td>\n",
              "    </tr>\n",
              "    <tr>\n",
              "      <th>997</th>\n",
              "      <td>998</td>\n",
              "      <td>0</td>\n",
              "      <td>4612100</td>\n",
              "      <td>1</td>\n",
              "      <td>13</td>\n",
              "      <td>354777</td>\n",
              "      <td>8</td>\n",
              "      <td>260700</td>\n",
              "      <td>2</td>\n",
              "      <td>1</td>\n",
              "      <td>...</td>\n",
              "      <td>1</td>\n",
              "      <td>4</td>\n",
              "      <td>1</td>\n",
              "      <td>6</td>\n",
              "      <td>4631</td>\n",
              "      <td>1</td>\n",
              "      <td>2</td>\n",
              "      <td>1</td>\n",
              "      <td>2</td>\n",
              "      <td>355.230769</td>\n",
              "    </tr>\n",
              "    <tr>\n",
              "      <th>998</th>\n",
              "      <td>999</td>\n",
              "      <td>0</td>\n",
              "      <td>5165360</td>\n",
              "      <td>1</td>\n",
              "      <td>28</td>\n",
              "      <td>184477</td>\n",
              "      <td>20</td>\n",
              "      <td>347700</td>\n",
              "      <td>1</td>\n",
              "      <td>3</td>\n",
              "      <td>...</td>\n",
              "      <td>7</td>\n",
              "      <td>5</td>\n",
              "      <td>1</td>\n",
              "      <td>6</td>\n",
              "      <td>3907</td>\n",
              "      <td>0</td>\n",
              "      <td>7</td>\n",
              "      <td>2</td>\n",
              "      <td>6</td>\n",
              "      <td>138.535714</td>\n",
              "    </tr>\n",
              "    <tr>\n",
              "      <th>999</th>\n",
              "      <td>1000</td>\n",
              "      <td>0</td>\n",
              "      <td>4323050</td>\n",
              "      <td>1</td>\n",
              "      <td>16</td>\n",
              "      <td>270191</td>\n",
              "      <td>19</td>\n",
              "      <td>367045</td>\n",
              "      <td>2</td>\n",
              "      <td>4</td>\n",
              "      <td>...</td>\n",
              "      <td>6</td>\n",
              "      <td>5</td>\n",
              "      <td>1</td>\n",
              "      <td>6</td>\n",
              "      <td>2118</td>\n",
              "      <td>0</td>\n",
              "      <td>5</td>\n",
              "      <td>1</td>\n",
              "      <td>4</td>\n",
              "      <td>131.375000</td>\n",
              "    </tr>\n",
              "  </tbody>\n",
              "</table>\n",
              "<p>1000 rows × 21 columns</p>\n",
              "</div>\n",
              "      <button class=\"colab-df-convert\" onclick=\"convertToInteractive('df-8bcaf4b1-6e27-4424-b954-bf26d65ca5f0')\"\n",
              "              title=\"Convert this dataframe to an interactive table.\"\n",
              "              style=\"display:none;\">\n",
              "        \n",
              "  <svg xmlns=\"http://www.w3.org/2000/svg\" height=\"24px\"viewBox=\"0 0 24 24\"\n",
              "       width=\"24px\">\n",
              "    <path d=\"M0 0h24v24H0V0z\" fill=\"none\"/>\n",
              "    <path d=\"M18.56 5.44l.94 2.06.94-2.06 2.06-.94-2.06-.94-.94-2.06-.94 2.06-2.06.94zm-11 1L8.5 8.5l.94-2.06 2.06-.94-2.06-.94L8.5 2.5l-.94 2.06-2.06.94zm10 10l.94 2.06.94-2.06 2.06-.94-2.06-.94-.94-2.06-.94 2.06-2.06.94z\"/><path d=\"M17.41 7.96l-1.37-1.37c-.4-.4-.92-.59-1.43-.59-.52 0-1.04.2-1.43.59L10.3 9.45l-7.72 7.72c-.78.78-.78 2.05 0 2.83L4 21.41c.39.39.9.59 1.41.59.51 0 1.02-.2 1.41-.59l7.78-7.78 2.81-2.81c.8-.78.8-2.07 0-2.86zM5.41 20L4 18.59l7.72-7.72 1.47 1.35L5.41 20z\"/>\n",
              "  </svg>\n",
              "      </button>\n",
              "      \n",
              "  <style>\n",
              "    .colab-df-container {\n",
              "      display:flex;\n",
              "      flex-wrap:wrap;\n",
              "      gap: 12px;\n",
              "    }\n",
              "\n",
              "    .colab-df-convert {\n",
              "      background-color: #E8F0FE;\n",
              "      border: none;\n",
              "      border-radius: 50%;\n",
              "      cursor: pointer;\n",
              "      display: none;\n",
              "      fill: #1967D2;\n",
              "      height: 32px;\n",
              "      padding: 0 0 0 0;\n",
              "      width: 32px;\n",
              "    }\n",
              "\n",
              "    .colab-df-convert:hover {\n",
              "      background-color: #E2EBFA;\n",
              "      box-shadow: 0px 1px 2px rgba(60, 64, 67, 0.3), 0px 1px 3px 1px rgba(60, 64, 67, 0.15);\n",
              "      fill: #174EA6;\n",
              "    }\n",
              "\n",
              "    [theme=dark] .colab-df-convert {\n",
              "      background-color: #3B4455;\n",
              "      fill: #D2E3FC;\n",
              "    }\n",
              "\n",
              "    [theme=dark] .colab-df-convert:hover {\n",
              "      background-color: #434B5C;\n",
              "      box-shadow: 0px 1px 3px 1px rgba(0, 0, 0, 0.15);\n",
              "      filter: drop-shadow(0px 1px 2px rgba(0, 0, 0, 0.3));\n",
              "      fill: #FFFFFF;\n",
              "    }\n",
              "  </style>\n",
              "\n",
              "      <script>\n",
              "        const buttonEl =\n",
              "          document.querySelector('#df-8bcaf4b1-6e27-4424-b954-bf26d65ca5f0 button.colab-df-convert');\n",
              "        buttonEl.style.display =\n",
              "          google.colab.kernel.accessAllowed ? 'block' : 'none';\n",
              "\n",
              "        async function convertToInteractive(key) {\n",
              "          const element = document.querySelector('#df-8bcaf4b1-6e27-4424-b954-bf26d65ca5f0');\n",
              "          const dataTable =\n",
              "            await google.colab.kernel.invokeFunction('convertToInteractive',\n",
              "                                                     [key], {});\n",
              "          if (!dataTable) return;\n",
              "\n",
              "          const docLinkHtml = 'Like what you see? Visit the ' +\n",
              "            '<a target=\"_blank\" href=https://colab.research.google.com/notebooks/data_table.ipynb>data table notebook</a>'\n",
              "            + ' to learn more about interactive tables.';\n",
              "          element.innerHTML = '';\n",
              "          dataTable['output_type'] = 'display_data';\n",
              "          await google.colab.output.renderOutput(dataTable, element);\n",
              "          const docLink = document.createElement('div');\n",
              "          docLink.innerHTML = docLinkHtml;\n",
              "          element.appendChild(docLink);\n",
              "        }\n",
              "      </script>\n",
              "    </div>\n",
              "  </div>\n",
              "  "
            ]
          },
          "metadata": {},
          "execution_count": 2
        }
      ]
    },
    {
      "cell_type": "code",
      "source": [
        "#파생변수 생성\n",
        "df[\"하루평균구매금액\"]=pd.DataFrame(df[\"총매출액\"]/df[\"거래기간\"])"
      ],
      "metadata": {
        "id": "XmLuBwEY2g9I"
      },
      "execution_count": 4,
      "outputs": []
    },
    {
      "cell_type": "code",
      "source": [
        "df.info()"
      ],
      "metadata": {
        "colab": {
          "base_uri": "https://localhost:8080/"
        },
        "id": "N0WjUIa321Hv",
        "outputId": "610972ab-66ca-45c9-d4e9-1e083b6ab6bf"
      },
      "execution_count": 5,
      "outputs": [
        {
          "output_type": "stream",
          "name": "stdout",
          "text": [
            "<class 'pandas.core.frame.DataFrame'>\n",
            "RangeIndex: 1000 entries, 0 to 999\n",
            "Data columns (total 22 columns):\n",
            " #   Column     Non-Null Count  Dtype  \n",
            "---  ------     --------------  -----  \n",
            " 0   고객ID       1000 non-null   int64  \n",
            " 1   이탈여부       1000 non-null   int64  \n",
            " 2   총매출액       1000 non-null   int64  \n",
            " 3   구매금액대      1000 non-null   int64  \n",
            " 4   방문빈도       1000 non-null   int64  \n",
            " 5   1회 평균매출액   1000 non-null   int64  \n",
            " 6   할인권 사용 횟수  1000 non-null   int64  \n",
            " 7   총 할인 금액    1000 non-null   int64  \n",
            " 8   고객등급       1000 non-null   int64  \n",
            " 9   구매유형       1000 non-null   int64  \n",
            " 10  클레임접수여부    1000 non-null   int64  \n",
            " 11  구매카테고리수    1000 non-null   int64  \n",
            " 12  거주지역       1000 non-null   int64  \n",
            " 13  성별         1000 non-null   int64  \n",
            " 14  고객 나이대     1000 non-null   int64  \n",
            " 15  거래기간       1000 non-null   int64  \n",
            " 16  할인민감여부     1000 non-null   int64  \n",
            " 17  Recency    1000 non-null   int64  \n",
            " 18  Frequency  1000 non-null   int64  \n",
            " 19  Monetary   1000 non-null   int64  \n",
            " 20  평균 구매주기    1000 non-null   float64\n",
            " 21  하루평균구매금액   1000 non-null   float64\n",
            "dtypes: float64(2), int64(20)\n",
            "memory usage: 172.0 KB\n"
          ]
        }
      ]
    },
    {
      "cell_type": "code",
      "source": [
        "df.isnull().sum()"
      ],
      "metadata": {
        "colab": {
          "base_uri": "https://localhost:8080/"
        },
        "id": "YFAdxkiG2_KM",
        "outputId": "ac13cb37-1aa7-43e1-8b92-884770658f34"
      },
      "execution_count": 6,
      "outputs": [
        {
          "output_type": "execute_result",
          "data": {
            "text/plain": [
              "고객ID         0\n",
              "이탈여부         0\n",
              "총매출액         0\n",
              "구매금액대        0\n",
              "방문빈도         0\n",
              "1회 평균매출액     0\n",
              "할인권 사용 횟수    0\n",
              "총 할인 금액      0\n",
              "고객등급         0\n",
              "구매유형         0\n",
              "클레임접수여부      0\n",
              "구매카테고리수      0\n",
              "거주지역         0\n",
              "성별           0\n",
              "고객 나이대       0\n",
              "거래기간         0\n",
              "할인민감여부       0\n",
              "Recency      0\n",
              "Frequency    0\n",
              "Monetary     0\n",
              "평균 구매주기      0\n",
              "하루평균구매금액     0\n",
              "dtype: int64"
            ]
          },
          "metadata": {},
          "execution_count": 6
        }
      ]
    },
    {
      "cell_type": "code",
      "source": [
        "#필요열(변수, feature)만 뽑아서 만들기\n",
        "X = df[[\"방문빈도\", \"총 할인 금액\"]]\n",
        "Y = df[\"하루평균구매금액\"]\n",
        "\n",
        "print(X)"
      ],
      "metadata": {
        "colab": {
          "base_uri": "https://localhost:8080/"
        },
        "id": "K5VVxSmT3BrK",
        "outputId": "af257697-9e47-413b-ddb8-291d74dcfcab"
      },
      "execution_count": 36,
      "outputs": [
        {
          "output_type": "stream",
          "name": "stdout",
          "text": [
            "     방문빈도  총 할인 금액\n",
            "0      22     5445\n",
            "1      38   350995\n",
            "2       2   186045\n",
            "3       9     5195\n",
            "4      10   246350\n",
            "..    ...      ...\n",
            "995    35    44445\n",
            "996     6   186545\n",
            "997    13   260700\n",
            "998    28   347700\n",
            "999    16   367045\n",
            "\n",
            "[1000 rows x 2 columns]\n"
          ]
        }
      ]
    },
    {
      "cell_type": "code",
      "source": [
        "#데이터 분할(train, test)\n",
        "X_train, X_test, Y_train, Y_test = train_test_split(X, Y, test_size=0.3, random_state=0)\n",
        "\n",
        "#model 만들기\n",
        "model = KNeighborsRegressor() #regressor 평균 구매주기가 연속형이기에 회귀형\n",
        "\n",
        "#교차검증(k_fold)\n",
        "score = cross_val_score(model, X_train, Y_train, cv=10)\n",
        "print(score)"
      ],
      "metadata": {
        "colab": {
          "base_uri": "https://localhost:8080/"
        },
        "id": "Pdhc3aCw4Gfw",
        "outputId": "14f5adf6-1508-411b-ed03-ba62725a70bc"
      },
      "execution_count": 37,
      "outputs": [
        {
          "output_type": "stream",
          "name": "stdout",
          "text": [
            "[-0.07951512 -0.20286965 -0.4565446  -0.15786864 -0.17726376 -0.17193422\n",
            " -0.21005331 -0.16463567 -0.55326989 -0.26102351]\n"
          ]
        }
      ]
    },
    {
      "cell_type": "code",
      "source": [
        "from sklearn.neighbors import KNeighborsClassifier\n",
        "from sklearn.model_selection import StratifiedKFold\n",
        "\n",
        "X = df[[\"하루평균구매금액\", \"총 할인 금액\", \"방문빈도\"]]\n",
        "Y = df[\"고객등급\"]\n",
        "\n",
        "#데이터 분할(train, test)\n",
        "X_train, X_test, Y_train, Y_test = train_test_split(X, Y, test_size=0.3, random_state=0)\n",
        "\n",
        "#model 만들기\n",
        "model = KNeighborsClassifier() #classifier \"이탈여부\" 범주형이기에 분류형\n",
        "\n",
        "#검증 ( Stratified K-fold Cross-Validation test)\n",
        "skf = StratifiedKFold(n_splits = 5, shuffle = True, random_state=0)\n",
        "scores = cross_val_score(model, X_train, Y_train, cv = skf)\n",
        "print(\"교차검증 점수 :\", scores)"
      ],
      "metadata": {
        "colab": {
          "base_uri": "https://localhost:8080/"
        },
        "id": "LnmYWml14Tga",
        "outputId": "02b7ea5d-ffa6-462f-aa04-bcebd69c42d1"
      },
      "execution_count": 38,
      "outputs": [
        {
          "output_type": "stream",
          "name": "stdout",
          "text": [
            "교차검증 점수 : [0.67142857 0.67857143 0.69285714 0.63571429 0.61428571]\n"
          ]
        }
      ]
    },
    {
      "cell_type": "code",
      "source": [
        "!pip install sklearn"
      ],
      "metadata": {
        "colab": {
          "base_uri": "https://localhost:8080/"
        },
        "id": "rmCAZcyU4y8F",
        "outputId": "9e0f46e1-2021-4248-e0e4-5daf3870cf2c"
      },
      "execution_count": 12,
      "outputs": [
        {
          "output_type": "stream",
          "name": "stdout",
          "text": [
            "Looking in indexes: https://pypi.org/simple, https://us-python.pkg.dev/colab-wheels/public/simple/\n",
            "Collecting sklearn\n",
            "  Downloading sklearn-0.0.post1.tar.gz (3.6 kB)\n",
            "  Preparing metadata (setup.py) ... \u001b[?25l\u001b[?25hdone\n",
            "Building wheels for collected packages: sklearn\n",
            "  Building wheel for sklearn (setup.py) ... \u001b[?25l\u001b[?25hdone\n",
            "  Created wheel for sklearn: filename=sklearn-0.0.post1-py3-none-any.whl size=2344 sha256=67c5e84d725c954e5a9e4f0b2ece6a28c08028726076b59df4f2d0a401a7b3b2\n",
            "  Stored in directory: /root/.cache/pip/wheels/14/25/f7/1cc0956978ae479e75140219088deb7a36f60459df242b1a72\n",
            "Successfully built sklearn\n",
            "Installing collected packages: sklearn\n",
            "Successfully installed sklearn-0.0.post1\n"
          ]
        }
      ]
    },
    {
      "cell_type": "code",
      "source": [
        "#cv와 parameter의 최적값을 찾아서 확인해야함. \n",
        "#accuracy가 높을수록 좋은 모델이다.....\n",
        "##########cv가 a가되고 따른 parameter가 b가되어 accuracy가 c가되는데 이것은 내가 구하는 모델에 적절한가###########\n",
        "\n",
        "from sklearn.model_selection import GridSearchCV\n",
        "\n",
        "X = df[[\"하루평균구매금액\", \"총 할인 금액\", \"방문빈도\"]]\n",
        "Y = df[\"고객등급\"]\n",
        "\n",
        "#데이터 분할(train, test)\n",
        "X_train, X_test, Y_train, Y_test = train_test_split(X, Y, test_size=0.3, random_state=0)\n",
        "\n",
        "#model 만들기\n",
        "model = KNeighborsClassifier() #classifier 변수\"고객등급\"은 범주형이기에 분류형\n",
        "\n",
        "#그리드 인자 검색 \n",
        "mylist = list(range(1,100))\n",
        "k_list = [x for x in mylist if x %3 ==0]\n",
        "parameter_grid = {\"n_neighbors\" : k_list}\n",
        "\n",
        "#그리드 서치 \n",
        "grid_search = GridSearchCV(model, parameter_grid , cv=10)\n",
        "grid_search.fit(X_train, Y_train)\n",
        "grid_search.best_params_"
      ],
      "metadata": {
        "colab": {
          "base_uri": "https://localhost:8080/"
        },
        "id": "EDSzf_gL41cl",
        "outputId": "ee9b7006-71db-4aa1-a308-fd0e2db14c05"
      },
      "execution_count": 15,
      "outputs": [
        {
          "output_type": "execute_result",
          "data": {
            "text/plain": [
              "{'n_neighbors': 9}"
            ]
          },
          "metadata": {},
          "execution_count": 15
        }
      ]
    },
    {
      "cell_type": "code",
      "source": [
        "print(parameter_grid)"
      ],
      "metadata": {
        "colab": {
          "base_uri": "https://localhost:8080/"
        },
        "id": "WPF8fg7h5Vi_",
        "outputId": "5fc2b545-eef0-423f-b685-bc7e7ec78b09"
      },
      "execution_count": 39,
      "outputs": [
        {
          "output_type": "stream",
          "name": "stdout",
          "text": [
            "{'n_neighbors': [3, 6, 9, 12, 15, 18, 21, 24, 27, 30, 33, 36, 39, 42, 45, 48, 51, 54, 57, 60, 63, 66, 69, 72, 75, 78, 81, 84, 87, 90, 93, 96, 99]}\n"
          ]
        }
      ]
    },
    {
      "cell_type": "code",
      "source": [
        "#그리드 서치\n",
        "grid_search=GridSearchCV(model, parameter_grid, cv = 10)\n",
        "grid_search.fit(X_train, Y_train)\n",
        "\n",
        "grid_search.best_params_\n",
        "grid_search.cv_results_"
      ],
      "metadata": {
        "colab": {
          "base_uri": "https://localhost:8080/"
        },
        "id": "XmXx2aHL5gT3",
        "outputId": "74fd0bbb-ec23-412f-fb6c-901ca4ead84d"
      },
      "execution_count": 17,
      "outputs": [
        {
          "output_type": "execute_result",
          "data": {
            "text/plain": [
              "{'mean_fit_time': array([0.00313318, 0.00242462, 0.00262938, 0.00284333, 0.00275509,\n",
              "        0.00258212, 0.00300102, 0.00282991, 0.00278008, 0.00314097,\n",
              "        0.00327578, 0.00275586, 0.00279627, 0.00259001, 0.00268724,\n",
              "        0.00283058, 0.00315084, 0.00332172, 0.00358369, 0.00325906,\n",
              "        0.00351989, 0.00402715, 0.00301943, 0.00271297, 0.0026948 ,\n",
              "        0.00326927, 0.00328653, 0.00304685, 0.00369241, 0.00393424,\n",
              "        0.00313768, 0.00338902, 0.00399604]),\n",
              " 'std_fit_time': array([0.00138056, 0.00010716, 0.00016961, 0.00052854, 0.00044621,\n",
              "        0.00027702, 0.00040437, 0.00040712, 0.00016486, 0.00059535,\n",
              "        0.0009388 , 0.00033932, 0.00023406, 0.00022395, 0.00025267,\n",
              "        0.00091796, 0.00089686, 0.00055949, 0.00061038, 0.00032137,\n",
              "        0.0006484 , 0.00142757, 0.00053877, 0.00042568, 0.00017823,\n",
              "        0.00056531, 0.00056889, 0.00025925, 0.00113051, 0.00078183,\n",
              "        0.00052508, 0.00064081, 0.00079327]),\n",
              " 'mean_score_time': array([0.00450852, 0.00429344, 0.00420318, 0.0046869 , 0.00483117,\n",
              "        0.00445628, 0.00473356, 0.00478809, 0.00454514, 0.00525157,\n",
              "        0.00526762, 0.00455713, 0.00527263, 0.00478399, 0.00451458,\n",
              "        0.00452902, 0.00544622, 0.00538292, 0.0064472 , 0.00534768,\n",
              "        0.00612822, 0.00646925, 0.00556436, 0.00498383, 0.00488353,\n",
              "        0.0056319 , 0.00569315, 0.00539322, 0.00641377, 0.00753987,\n",
              "        0.00544205, 0.00592926, 0.00683248]),\n",
              " 'std_score_time': array([0.00091131, 0.00063648, 0.00010865, 0.00100942, 0.00103721,\n",
              "        0.00060482, 0.00049715, 0.00061412, 0.00015202, 0.0010269 ,\n",
              "        0.0014145 , 0.0004377 , 0.00171136, 0.00131095, 0.00020504,\n",
              "        0.00035598, 0.00121866, 0.00040669, 0.00163734, 0.00054904,\n",
              "        0.00095828, 0.00139936, 0.0011364 , 0.00072876, 0.00022783,\n",
              "        0.0006249 , 0.00080401, 0.00040955, 0.00118821, 0.00212768,\n",
              "        0.00027439, 0.00080978, 0.00170096]),\n",
              " 'param_n_neighbors': masked_array(data=[3, 6, 9, 12, 15, 18, 21, 24, 27, 30, 33, 36, 39, 42,\n",
              "                    45, 48, 51, 54, 57, 60, 63, 66, 69, 72, 75, 78, 81, 84,\n",
              "                    87, 90, 93, 96, 99],\n",
              "              mask=[False, False, False, False, False, False, False, False,\n",
              "                    False, False, False, False, False, False, False, False,\n",
              "                    False, False, False, False, False, False, False, False,\n",
              "                    False, False, False, False, False, False, False, False,\n",
              "                    False],\n",
              "        fill_value='?',\n",
              "             dtype=object),\n",
              " 'params': [{'n_neighbors': 3},\n",
              "  {'n_neighbors': 6},\n",
              "  {'n_neighbors': 9},\n",
              "  {'n_neighbors': 12},\n",
              "  {'n_neighbors': 15},\n",
              "  {'n_neighbors': 18},\n",
              "  {'n_neighbors': 21},\n",
              "  {'n_neighbors': 24},\n",
              "  {'n_neighbors': 27},\n",
              "  {'n_neighbors': 30},\n",
              "  {'n_neighbors': 33},\n",
              "  {'n_neighbors': 36},\n",
              "  {'n_neighbors': 39},\n",
              "  {'n_neighbors': 42},\n",
              "  {'n_neighbors': 45},\n",
              "  {'n_neighbors': 48},\n",
              "  {'n_neighbors': 51},\n",
              "  {'n_neighbors': 54},\n",
              "  {'n_neighbors': 57},\n",
              "  {'n_neighbors': 60},\n",
              "  {'n_neighbors': 63},\n",
              "  {'n_neighbors': 66},\n",
              "  {'n_neighbors': 69},\n",
              "  {'n_neighbors': 72},\n",
              "  {'n_neighbors': 75},\n",
              "  {'n_neighbors': 78},\n",
              "  {'n_neighbors': 81},\n",
              "  {'n_neighbors': 84},\n",
              "  {'n_neighbors': 87},\n",
              "  {'n_neighbors': 90},\n",
              "  {'n_neighbors': 93},\n",
              "  {'n_neighbors': 96},\n",
              "  {'n_neighbors': 99}],\n",
              " 'split0_test_score': array([0.7       , 0.7       , 0.7       , 0.68571429, 0.7       ,\n",
              "        0.64285714, 0.62857143, 0.64285714, 0.64285714, 0.6       ,\n",
              "        0.58571429, 0.6       , 0.61428571, 0.6       , 0.6       ,\n",
              "        0.6       , 0.57142857, 0.57142857, 0.57142857, 0.57142857,\n",
              "        0.6       , 0.57142857, 0.58571429, 0.54285714, 0.58571429,\n",
              "        0.58571429, 0.58571429, 0.57142857, 0.57142857, 0.58571429,\n",
              "        0.58571429, 0.54285714, 0.54285714]),\n",
              " 'split1_test_score': array([0.64285714, 0.62857143, 0.62857143, 0.7       , 0.61428571,\n",
              "        0.57142857, 0.6       , 0.54285714, 0.54285714, 0.58571429,\n",
              "        0.6       , 0.54285714, 0.52857143, 0.52857143, 0.5       ,\n",
              "        0.51428571, 0.52857143, 0.51428571, 0.55714286, 0.52857143,\n",
              "        0.58571429, 0.58571429, 0.58571429, 0.54285714, 0.54285714,\n",
              "        0.54285714, 0.54285714, 0.52857143, 0.5       , 0.51428571,\n",
              "        0.51428571, 0.48571429, 0.52857143]),\n",
              " 'split2_test_score': array([0.7       , 0.7       , 0.7       , 0.68571429, 0.67142857,\n",
              "        0.67142857, 0.67142857, 0.64285714, 0.6       , 0.58571429,\n",
              "        0.58571429, 0.51428571, 0.58571429, 0.57142857, 0.55714286,\n",
              "        0.55714286, 0.57142857, 0.58571429, 0.55714286, 0.57142857,\n",
              "        0.58571429, 0.54285714, 0.55714286, 0.55714286, 0.54285714,\n",
              "        0.54285714, 0.54285714, 0.54285714, 0.55714286, 0.57142857,\n",
              "        0.55714286, 0.54285714, 0.52857143]),\n",
              " 'split3_test_score': array([0.77142857, 0.7       , 0.67142857, 0.65714286, 0.7       ,\n",
              "        0.68571429, 0.65714286, 0.65714286, 0.68571429, 0.62857143,\n",
              "        0.67142857, 0.58571429, 0.62857143, 0.64285714, 0.68571429,\n",
              "        0.65714286, 0.64285714, 0.65714286, 0.67142857, 0.64285714,\n",
              "        0.68571429, 0.71428571, 0.71428571, 0.7       , 0.67142857,\n",
              "        0.68571429, 0.71428571, 0.7       , 0.62857143, 0.62857143,\n",
              "        0.54285714, 0.55714286, 0.54285714]),\n",
              " 'split4_test_score': array([0.64285714, 0.6       , 0.65714286, 0.6       , 0.6       ,\n",
              "        0.55714286, 0.6       , 0.54285714, 0.51428571, 0.51428571,\n",
              "        0.54285714, 0.51428571, 0.5       , 0.47142857, 0.51428571,\n",
              "        0.54285714, 0.55714286, 0.6       , 0.54285714, 0.51428571,\n",
              "        0.48571429, 0.5       , 0.55714286, 0.5       , 0.54285714,\n",
              "        0.55714286, 0.52857143, 0.55714286, 0.51428571, 0.57142857,\n",
              "        0.54285714, 0.57142857, 0.52857143]),\n",
              " 'split5_test_score': array([0.65714286, 0.71428571, 0.65714286, 0.72857143, 0.64285714,\n",
              "        0.62857143, 0.62857143, 0.61428571, 0.65714286, 0.62857143,\n",
              "        0.58571429, 0.54285714, 0.54285714, 0.57142857, 0.57142857,\n",
              "        0.61428571, 0.57142857, 0.51428571, 0.5       , 0.52857143,\n",
              "        0.55714286, 0.55714286, 0.58571429, 0.58571429, 0.55714286,\n",
              "        0.58571429, 0.52857143, 0.54285714, 0.52857143, 0.48571429,\n",
              "        0.48571429, 0.47142857, 0.45714286]),\n",
              " 'split6_test_score': array([0.65714286, 0.68571429, 0.67142857, 0.7       , 0.67142857,\n",
              "        0.64285714, 0.65714286, 0.62857143, 0.61428571, 0.6       ,\n",
              "        0.6       , 0.6       , 0.61428571, 0.62857143, 0.61428571,\n",
              "        0.62857143, 0.62857143, 0.6       , 0.58571429, 0.55714286,\n",
              "        0.52857143, 0.55714286, 0.55714286, 0.57142857, 0.55714286,\n",
              "        0.55714286, 0.55714286, 0.54285714, 0.52857143, 0.51428571,\n",
              "        0.51428571, 0.51428571, 0.52857143]),\n",
              " 'split7_test_score': array([0.61428571, 0.68571429, 0.7       , 0.64285714, 0.62857143,\n",
              "        0.54285714, 0.51428571, 0.51428571, 0.5       , 0.47142857,\n",
              "        0.5       , 0.47142857, 0.52857143, 0.51428571, 0.51428571,\n",
              "        0.45714286, 0.5       , 0.51428571, 0.47142857, 0.48571429,\n",
              "        0.5       , 0.48571429, 0.52857143, 0.54285714, 0.57142857,\n",
              "        0.57142857, 0.58571429, 0.45714286, 0.48571429, 0.51428571,\n",
              "        0.5       , 0.48571429, 0.47142857]),\n",
              " 'split8_test_score': array([0.68571429, 0.71428571, 0.77142857, 0.71428571, 0.7       ,\n",
              "        0.6       , 0.58571429, 0.61428571, 0.61428571, 0.57142857,\n",
              "        0.61428571, 0.57142857, 0.52857143, 0.58571429, 0.55714286,\n",
              "        0.57142857, 0.57142857, 0.55714286, 0.57142857, 0.54285714,\n",
              "        0.54285714, 0.55714286, 0.55714286, 0.55714286, 0.52857143,\n",
              "        0.52857143, 0.5       , 0.47142857, 0.5       , 0.52857143,\n",
              "        0.51428571, 0.51428571, 0.5       ]),\n",
              " 'split9_test_score': array([0.67142857, 0.64285714, 0.68571429, 0.6       , 0.61428571,\n",
              "        0.64285714, 0.64285714, 0.61428571, 0.6       , 0.57142857,\n",
              "        0.6       , 0.61428571, 0.54285714, 0.5       , 0.51428571,\n",
              "        0.5       , 0.5       , 0.5       , 0.51428571, 0.51428571,\n",
              "        0.51428571, 0.47142857, 0.5       , 0.48571429, 0.45714286,\n",
              "        0.42857143, 0.42857143, 0.45714286, 0.47142857, 0.45714286,\n",
              "        0.45714286, 0.47142857, 0.47142857]),\n",
              " 'mean_test_score': array([0.67428571, 0.67714286, 0.68428571, 0.67142857, 0.65428571,\n",
              "        0.61857143, 0.61857143, 0.60142857, 0.59714286, 0.57571429,\n",
              "        0.58857143, 0.55571429, 0.56142857, 0.56142857, 0.56285714,\n",
              "        0.56428571, 0.56428571, 0.56142857, 0.55428571, 0.54571429,\n",
              "        0.55857143, 0.55428571, 0.57285714, 0.55857143, 0.55571429,\n",
              "        0.55857143, 0.55142857, 0.53714286, 0.52857143, 0.53714286,\n",
              "        0.52142857, 0.51571429, 0.51      ]),\n",
              " 'std_test_score': array([0.04130524, 0.03736199, 0.03639354, 0.04285714, 0.03714286,\n",
              "        0.04609219, 0.04382246, 0.04714286, 0.05778214, 0.04653285,\n",
              "        0.04228185, 0.04400835, 0.04288095, 0.05347134, 0.05503246,\n",
              "        0.05933303, 0.0448353 , 0.04825527, 0.05182388, 0.04130524,\n",
              "        0.05586061, 0.06446008, 0.05362378, 0.05512509, 0.05048742,\n",
              "        0.06008497, 0.06916411, 0.06737043, 0.04426267, 0.04873921,\n",
              "        0.03513821, 0.03467046, 0.03067273]),\n",
              " 'rank_test_score': array([ 3,  2,  1,  4,  5,  6,  6,  8,  9, 11, 10, 22, 16, 16, 15, 13, 13,\n",
              "        16, 24, 27, 19, 24, 12, 19, 22, 19, 26, 28, 30, 28, 31, 32, 33],\n",
              "       dtype=int32)}"
            ]
          },
          "metadata": {},
          "execution_count": 17
        }
      ]
    },
    {
      "cell_type": "code",
      "source": [
        "grid_search.best_estimator_"
      ],
      "metadata": {
        "colab": {
          "base_uri": "https://localhost:8080/"
        },
        "id": "nY17zqnt5nws",
        "outputId": "f4957c6d-e3b5-4193-f865-2676321abf44"
      },
      "execution_count": 18,
      "outputs": [
        {
          "output_type": "execute_result",
          "data": {
            "text/plain": [
              "KNeighborsClassifier(n_neighbors=9)"
            ]
          },
          "metadata": {},
          "execution_count": 18
        }
      ]
    },
    {
      "cell_type": "code",
      "source": [
        "from sklearn.metrics import accuracy_score\n",
        "be = grid_search.best_estimator_\n",
        "pred = be.predict(X_test) #x_test 데이터로 y_pred값 도출\n",
        "accuracy_score(Y_test, pred) #정확도 추출"
      ],
      "metadata": {
        "colab": {
          "base_uri": "https://localhost:8080/"
        },
        "id": "8qUlQEcY5tbY",
        "outputId": "209ef5d3-436d-4346-ce49-4404e489b5d5"
      },
      "execution_count": 19,
      "outputs": [
        {
          "output_type": "execute_result",
          "data": {
            "text/plain": [
              "0.6966666666666667"
            ]
          },
          "metadata": {},
          "execution_count": 19
        }
      ]
    },
    {
      "cell_type": "code",
      "source": [
        "#데이터 지정(변수)\n",
        "from sklearn.feature_selection import SelectKBest, chi2\n",
        "X = df.drop([\"고객ID\", \"고객등급\"], axis=1)\n",
        "Y = df[\"고객등급\"]\n",
        "\n",
        "#데이터 분할\n",
        "X_train, X_test, Y_train, Y_test = train_test_split(X, Y, test_size = 0.3, random_state=0)\n",
        "#일변량 통계기반\n",
        "selector = SelectKBest()\n",
        "selector.fit(X_train, Y_train)\n",
        "\n",
        "score = pd.DataFrame()\n",
        "score[\"Chi2\"] = selector.scores_\n",
        "score[\"p_value\"] = selector.pvalues_\n",
        "score[\"support\"] = selector.get_support()\n",
        "score[\"attribute\"] = X_train.columns\n",
        "score[score[\"support\"]==True]\n",
        "#p_value값을 보게되면 0.05 이하로 모든변수가 영향이 있다."
      ],
      "metadata": {
        "colab": {
          "base_uri": "https://localhost:8080/",
          "height": 363
        },
        "id": "WqQlqcEr5wkZ",
        "outputId": "24a20c1d-8edb-4fb2-9c07-933ae182d3b2"
      },
      "execution_count": 49,
      "outputs": [
        {
          "output_type": "execute_result",
          "data": {
            "text/plain": [
              "          Chi2       p_value  support  attribute\n",
              "1   132.580512  3.284104e-28     True       총매출액\n",
              "2   436.759048  1.072430e-75     True      구매금액대\n",
              "3    29.081670  9.507211e-08     True       방문빈도\n",
              "4    32.416118  1.833535e-08     True   1회 평균매출액\n",
              "8    44.775912  4.536741e-11     True    클레임접수여부\n",
              "14   23.982110  1.209225e-06     True     할인민감여부\n",
              "15    9.366971  2.294015e-03     True    Recency\n",
              "16   24.913916  7.578552e-07     True  Frequency\n",
              "18   33.972912  8.538770e-09     True    평균 구매주기\n",
              "19  136.828878  5.463676e-29     True   하루평균구매금액"
            ],
            "text/html": [
              "\n",
              "  <div id=\"df-78b7df32-1715-4771-bd03-4d5170d891cb\">\n",
              "    <div class=\"colab-df-container\">\n",
              "      <div>\n",
              "<style scoped>\n",
              "    .dataframe tbody tr th:only-of-type {\n",
              "        vertical-align: middle;\n",
              "    }\n",
              "\n",
              "    .dataframe tbody tr th {\n",
              "        vertical-align: top;\n",
              "    }\n",
              "\n",
              "    .dataframe thead th {\n",
              "        text-align: right;\n",
              "    }\n",
              "</style>\n",
              "<table border=\"1\" class=\"dataframe\">\n",
              "  <thead>\n",
              "    <tr style=\"text-align: right;\">\n",
              "      <th></th>\n",
              "      <th>Chi2</th>\n",
              "      <th>p_value</th>\n",
              "      <th>support</th>\n",
              "      <th>attribute</th>\n",
              "    </tr>\n",
              "  </thead>\n",
              "  <tbody>\n",
              "    <tr>\n",
              "      <th>1</th>\n",
              "      <td>132.580512</td>\n",
              "      <td>3.284104e-28</td>\n",
              "      <td>True</td>\n",
              "      <td>총매출액</td>\n",
              "    </tr>\n",
              "    <tr>\n",
              "      <th>2</th>\n",
              "      <td>436.759048</td>\n",
              "      <td>1.072430e-75</td>\n",
              "      <td>True</td>\n",
              "      <td>구매금액대</td>\n",
              "    </tr>\n",
              "    <tr>\n",
              "      <th>3</th>\n",
              "      <td>29.081670</td>\n",
              "      <td>9.507211e-08</td>\n",
              "      <td>True</td>\n",
              "      <td>방문빈도</td>\n",
              "    </tr>\n",
              "    <tr>\n",
              "      <th>4</th>\n",
              "      <td>32.416118</td>\n",
              "      <td>1.833535e-08</td>\n",
              "      <td>True</td>\n",
              "      <td>1회 평균매출액</td>\n",
              "    </tr>\n",
              "    <tr>\n",
              "      <th>8</th>\n",
              "      <td>44.775912</td>\n",
              "      <td>4.536741e-11</td>\n",
              "      <td>True</td>\n",
              "      <td>클레임접수여부</td>\n",
              "    </tr>\n",
              "    <tr>\n",
              "      <th>14</th>\n",
              "      <td>23.982110</td>\n",
              "      <td>1.209225e-06</td>\n",
              "      <td>True</td>\n",
              "      <td>할인민감여부</td>\n",
              "    </tr>\n",
              "    <tr>\n",
              "      <th>15</th>\n",
              "      <td>9.366971</td>\n",
              "      <td>2.294015e-03</td>\n",
              "      <td>True</td>\n",
              "      <td>Recency</td>\n",
              "    </tr>\n",
              "    <tr>\n",
              "      <th>16</th>\n",
              "      <td>24.913916</td>\n",
              "      <td>7.578552e-07</td>\n",
              "      <td>True</td>\n",
              "      <td>Frequency</td>\n",
              "    </tr>\n",
              "    <tr>\n",
              "      <th>18</th>\n",
              "      <td>33.972912</td>\n",
              "      <td>8.538770e-09</td>\n",
              "      <td>True</td>\n",
              "      <td>평균 구매주기</td>\n",
              "    </tr>\n",
              "    <tr>\n",
              "      <th>19</th>\n",
              "      <td>136.828878</td>\n",
              "      <td>5.463676e-29</td>\n",
              "      <td>True</td>\n",
              "      <td>하루평균구매금액</td>\n",
              "    </tr>\n",
              "  </tbody>\n",
              "</table>\n",
              "</div>\n",
              "      <button class=\"colab-df-convert\" onclick=\"convertToInteractive('df-78b7df32-1715-4771-bd03-4d5170d891cb')\"\n",
              "              title=\"Convert this dataframe to an interactive table.\"\n",
              "              style=\"display:none;\">\n",
              "        \n",
              "  <svg xmlns=\"http://www.w3.org/2000/svg\" height=\"24px\"viewBox=\"0 0 24 24\"\n",
              "       width=\"24px\">\n",
              "    <path d=\"M0 0h24v24H0V0z\" fill=\"none\"/>\n",
              "    <path d=\"M18.56 5.44l.94 2.06.94-2.06 2.06-.94-2.06-.94-.94-2.06-.94 2.06-2.06.94zm-11 1L8.5 8.5l.94-2.06 2.06-.94-2.06-.94L8.5 2.5l-.94 2.06-2.06.94zm10 10l.94 2.06.94-2.06 2.06-.94-2.06-.94-.94-2.06-.94 2.06-2.06.94z\"/><path d=\"M17.41 7.96l-1.37-1.37c-.4-.4-.92-.59-1.43-.59-.52 0-1.04.2-1.43.59L10.3 9.45l-7.72 7.72c-.78.78-.78 2.05 0 2.83L4 21.41c.39.39.9.59 1.41.59.51 0 1.02-.2 1.41-.59l7.78-7.78 2.81-2.81c.8-.78.8-2.07 0-2.86zM5.41 20L4 18.59l7.72-7.72 1.47 1.35L5.41 20z\"/>\n",
              "  </svg>\n",
              "      </button>\n",
              "      \n",
              "  <style>\n",
              "    .colab-df-container {\n",
              "      display:flex;\n",
              "      flex-wrap:wrap;\n",
              "      gap: 12px;\n",
              "    }\n",
              "\n",
              "    .colab-df-convert {\n",
              "      background-color: #E8F0FE;\n",
              "      border: none;\n",
              "      border-radius: 50%;\n",
              "      cursor: pointer;\n",
              "      display: none;\n",
              "      fill: #1967D2;\n",
              "      height: 32px;\n",
              "      padding: 0 0 0 0;\n",
              "      width: 32px;\n",
              "    }\n",
              "\n",
              "    .colab-df-convert:hover {\n",
              "      background-color: #E2EBFA;\n",
              "      box-shadow: 0px 1px 2px rgba(60, 64, 67, 0.3), 0px 1px 3px 1px rgba(60, 64, 67, 0.15);\n",
              "      fill: #174EA6;\n",
              "    }\n",
              "\n",
              "    [theme=dark] .colab-df-convert {\n",
              "      background-color: #3B4455;\n",
              "      fill: #D2E3FC;\n",
              "    }\n",
              "\n",
              "    [theme=dark] .colab-df-convert:hover {\n",
              "      background-color: #434B5C;\n",
              "      box-shadow: 0px 1px 3px 1px rgba(0, 0, 0, 0.15);\n",
              "      filter: drop-shadow(0px 1px 2px rgba(0, 0, 0, 0.3));\n",
              "      fill: #FFFFFF;\n",
              "    }\n",
              "  </style>\n",
              "\n",
              "      <script>\n",
              "        const buttonEl =\n",
              "          document.querySelector('#df-78b7df32-1715-4771-bd03-4d5170d891cb button.colab-df-convert');\n",
              "        buttonEl.style.display =\n",
              "          google.colab.kernel.accessAllowed ? 'block' : 'none';\n",
              "\n",
              "        async function convertToInteractive(key) {\n",
              "          const element = document.querySelector('#df-78b7df32-1715-4771-bd03-4d5170d891cb');\n",
              "          const dataTable =\n",
              "            await google.colab.kernel.invokeFunction('convertToInteractive',\n",
              "                                                     [key], {});\n",
              "          if (!dataTable) return;\n",
              "\n",
              "          const docLinkHtml = 'Like what you see? Visit the ' +\n",
              "            '<a target=\"_blank\" href=https://colab.research.google.com/notebooks/data_table.ipynb>data table notebook</a>'\n",
              "            + ' to learn more about interactive tables.';\n",
              "          element.innerHTML = '';\n",
              "          dataTable['output_type'] = 'display_data';\n",
              "          await google.colab.output.renderOutput(dataTable, element);\n",
              "          const docLink = document.createElement('div');\n",
              "          docLink.innerHTML = docLinkHtml;\n",
              "          element.appendChild(docLink);\n",
              "        }\n",
              "      </script>\n",
              "    </div>\n",
              "  </div>\n",
              "  "
            ]
          },
          "metadata": {},
          "execution_count": 49
        }
      ]
    },
    {
      "cell_type": "code",
      "source": [
        "from  sklearn.feature_selection import SelectFromModel\n",
        "from sklearn.ensemble import RandomForestClassifier\n",
        "\n",
        "#threshold = 기준점 (성능을 낮출지 높힐지), 대부분 median으로 둔다. \n",
        "selector = SelectFromModel(RandomForestClassifier(n_estimators = 100, random_state=0), threshold = \"median\")\n",
        "selector.fit(X_train, Y_train)\n",
        "\n",
        "score = pd.DataFrame()\n",
        "score[\"attribute\"] = X_train.columns\n",
        "score[\"support\"] = selector.get_support()\n",
        "score[score[\"support\"] ==True]"
      ],
      "metadata": {
        "colab": {
          "base_uri": "https://localhost:8080/",
          "height": 363
        },
        "id": "MPSSe3516Ji8",
        "outputId": "b5cf9158-3584-42b1-f59f-110211f14701"
      },
      "execution_count": 21,
      "outputs": [
        {
          "output_type": "execute_result",
          "data": {
            "text/plain": [
              "    attribute  support\n",
              "1        총매출액     True\n",
              "2       구매금액대     True\n",
              "3        방문빈도     True\n",
              "4    1회 평균매출액     True\n",
              "5   할인권 사용 횟수     True\n",
              "6     총 할인 금액     True\n",
              "8     클레임접수여부     True\n",
              "13       거래기간     True\n",
              "18    평균 구매주기     True\n",
              "19   하루평균구매금액     True"
            ],
            "text/html": [
              "\n",
              "  <div id=\"df-2e725e62-1097-40b2-a4cb-f6793cb3488c\">\n",
              "    <div class=\"colab-df-container\">\n",
              "      <div>\n",
              "<style scoped>\n",
              "    .dataframe tbody tr th:only-of-type {\n",
              "        vertical-align: middle;\n",
              "    }\n",
              "\n",
              "    .dataframe tbody tr th {\n",
              "        vertical-align: top;\n",
              "    }\n",
              "\n",
              "    .dataframe thead th {\n",
              "        text-align: right;\n",
              "    }\n",
              "</style>\n",
              "<table border=\"1\" class=\"dataframe\">\n",
              "  <thead>\n",
              "    <tr style=\"text-align: right;\">\n",
              "      <th></th>\n",
              "      <th>attribute</th>\n",
              "      <th>support</th>\n",
              "    </tr>\n",
              "  </thead>\n",
              "  <tbody>\n",
              "    <tr>\n",
              "      <th>1</th>\n",
              "      <td>총매출액</td>\n",
              "      <td>True</td>\n",
              "    </tr>\n",
              "    <tr>\n",
              "      <th>2</th>\n",
              "      <td>구매금액대</td>\n",
              "      <td>True</td>\n",
              "    </tr>\n",
              "    <tr>\n",
              "      <th>3</th>\n",
              "      <td>방문빈도</td>\n",
              "      <td>True</td>\n",
              "    </tr>\n",
              "    <tr>\n",
              "      <th>4</th>\n",
              "      <td>1회 평균매출액</td>\n",
              "      <td>True</td>\n",
              "    </tr>\n",
              "    <tr>\n",
              "      <th>5</th>\n",
              "      <td>할인권 사용 횟수</td>\n",
              "      <td>True</td>\n",
              "    </tr>\n",
              "    <tr>\n",
              "      <th>6</th>\n",
              "      <td>총 할인 금액</td>\n",
              "      <td>True</td>\n",
              "    </tr>\n",
              "    <tr>\n",
              "      <th>8</th>\n",
              "      <td>클레임접수여부</td>\n",
              "      <td>True</td>\n",
              "    </tr>\n",
              "    <tr>\n",
              "      <th>13</th>\n",
              "      <td>거래기간</td>\n",
              "      <td>True</td>\n",
              "    </tr>\n",
              "    <tr>\n",
              "      <th>18</th>\n",
              "      <td>평균 구매주기</td>\n",
              "      <td>True</td>\n",
              "    </tr>\n",
              "    <tr>\n",
              "      <th>19</th>\n",
              "      <td>하루평균구매금액</td>\n",
              "      <td>True</td>\n",
              "    </tr>\n",
              "  </tbody>\n",
              "</table>\n",
              "</div>\n",
              "      <button class=\"colab-df-convert\" onclick=\"convertToInteractive('df-2e725e62-1097-40b2-a4cb-f6793cb3488c')\"\n",
              "              title=\"Convert this dataframe to an interactive table.\"\n",
              "              style=\"display:none;\">\n",
              "        \n",
              "  <svg xmlns=\"http://www.w3.org/2000/svg\" height=\"24px\"viewBox=\"0 0 24 24\"\n",
              "       width=\"24px\">\n",
              "    <path d=\"M0 0h24v24H0V0z\" fill=\"none\"/>\n",
              "    <path d=\"M18.56 5.44l.94 2.06.94-2.06 2.06-.94-2.06-.94-.94-2.06-.94 2.06-2.06.94zm-11 1L8.5 8.5l.94-2.06 2.06-.94-2.06-.94L8.5 2.5l-.94 2.06-2.06.94zm10 10l.94 2.06.94-2.06 2.06-.94-2.06-.94-.94-2.06-.94 2.06-2.06.94z\"/><path d=\"M17.41 7.96l-1.37-1.37c-.4-.4-.92-.59-1.43-.59-.52 0-1.04.2-1.43.59L10.3 9.45l-7.72 7.72c-.78.78-.78 2.05 0 2.83L4 21.41c.39.39.9.59 1.41.59.51 0 1.02-.2 1.41-.59l7.78-7.78 2.81-2.81c.8-.78.8-2.07 0-2.86zM5.41 20L4 18.59l7.72-7.72 1.47 1.35L5.41 20z\"/>\n",
              "  </svg>\n",
              "      </button>\n",
              "      \n",
              "  <style>\n",
              "    .colab-df-container {\n",
              "      display:flex;\n",
              "      flex-wrap:wrap;\n",
              "      gap: 12px;\n",
              "    }\n",
              "\n",
              "    .colab-df-convert {\n",
              "      background-color: #E8F0FE;\n",
              "      border: none;\n",
              "      border-radius: 50%;\n",
              "      cursor: pointer;\n",
              "      display: none;\n",
              "      fill: #1967D2;\n",
              "      height: 32px;\n",
              "      padding: 0 0 0 0;\n",
              "      width: 32px;\n",
              "    }\n",
              "\n",
              "    .colab-df-convert:hover {\n",
              "      background-color: #E2EBFA;\n",
              "      box-shadow: 0px 1px 2px rgba(60, 64, 67, 0.3), 0px 1px 3px 1px rgba(60, 64, 67, 0.15);\n",
              "      fill: #174EA6;\n",
              "    }\n",
              "\n",
              "    [theme=dark] .colab-df-convert {\n",
              "      background-color: #3B4455;\n",
              "      fill: #D2E3FC;\n",
              "    }\n",
              "\n",
              "    [theme=dark] .colab-df-convert:hover {\n",
              "      background-color: #434B5C;\n",
              "      box-shadow: 0px 1px 3px 1px rgba(0, 0, 0, 0.15);\n",
              "      filter: drop-shadow(0px 1px 2px rgba(0, 0, 0, 0.3));\n",
              "      fill: #FFFFFF;\n",
              "    }\n",
              "  </style>\n",
              "\n",
              "      <script>\n",
              "        const buttonEl =\n",
              "          document.querySelector('#df-2e725e62-1097-40b2-a4cb-f6793cb3488c button.colab-df-convert');\n",
              "        buttonEl.style.display =\n",
              "          google.colab.kernel.accessAllowed ? 'block' : 'none';\n",
              "\n",
              "        async function convertToInteractive(key) {\n",
              "          const element = document.querySelector('#df-2e725e62-1097-40b2-a4cb-f6793cb3488c');\n",
              "          const dataTable =\n",
              "            await google.colab.kernel.invokeFunction('convertToInteractive',\n",
              "                                                     [key], {});\n",
              "          if (!dataTable) return;\n",
              "\n",
              "          const docLinkHtml = 'Like what you see? Visit the ' +\n",
              "            '<a target=\"_blank\" href=https://colab.research.google.com/notebooks/data_table.ipynb>data table notebook</a>'\n",
              "            + ' to learn more about interactive tables.';\n",
              "          element.innerHTML = '';\n",
              "          dataTable['output_type'] = 'display_data';\n",
              "          await google.colab.output.renderOutput(dataTable, element);\n",
              "          const docLink = document.createElement('div');\n",
              "          docLink.innerHTML = docLinkHtml;\n",
              "          element.appendChild(docLink);\n",
              "        }\n",
              "      </script>\n",
              "    </div>\n",
              "  </div>\n",
              "  "
            ]
          },
          "metadata": {},
          "execution_count": 21
        }
      ]
    },
    {
      "cell_type": "code",
      "source": [
        "#언더샘플링\n",
        "from imblearn.under_sampling import RandomUnderSampler\n",
        "from collections import Counter\n",
        "\n",
        "X_train_under, Y_train_under = RandomUnderSampler(random_state = 0).fit_resample(X_train, Y_train)\n",
        "\n",
        "print(\"original data %s\" %Counter(Y))\n",
        "print(\"original train data %s\" %Counter(Y_train))\n",
        "print(\"under train data %s\" %Counter(Y_train_under))"
      ],
      "metadata": {
        "colab": {
          "base_uri": "https://localhost:8080/"
        },
        "id": "FjPjN1FK6wJd",
        "outputId": "bfe36a6f-23f0-4c3a-a37b-4b34f5578f05"
      },
      "execution_count": 23,
      "outputs": [
        {
          "output_type": "stream",
          "name": "stdout",
          "text": [
            "original data Counter({2: 546, 1: 454})\n",
            "original train data Counter({2: 384, 1: 316})\n",
            "under train data Counter({1: 316, 2: 316})\n"
          ]
        }
      ]
    },
    {
      "cell_type": "code",
      "source": [
        "#오버 샘플링\n",
        "from imblearn.over_sampling import SMOTE #Synthetic minority over-sampling techniqe\n",
        "\n",
        "X_train_over, Y_train_over = SMOTE(random_state = 0).fit_resample(X_train, Y_train)\n",
        "\n",
        "print(\"original data %s\" %Counter(Y))\n",
        "print(\"original train data %s\" %Counter(Y_train))\n",
        "print(\"over train data %s\" %Counter(Y_train_over))\n"
      ],
      "metadata": {
        "colab": {
          "base_uri": "https://localhost:8080/"
        },
        "id": "9o9rfLZJ6zSy",
        "outputId": "3d57e3dd-c01d-4ba4-ced7-2ec5629ed4f4"
      },
      "execution_count": 24,
      "outputs": [
        {
          "output_type": "stream",
          "name": "stdout",
          "text": [
            "original data Counter({2: 546, 1: 454})\n",
            "original train data Counter({2: 384, 1: 316})\n",
            "over train data Counter({2: 384, 1: 384})\n"
          ]
        }
      ]
    },
    {
      "cell_type": "markdown",
      "source": [
        "#선형회귀분석"
      ],
      "metadata": {
        "id": "-lLkt7YV60Pg"
      }
    },
    {
      "cell_type": "code",
      "source": [
        "#seaborn 패키지 : 데이터분석\n",
        "import seaborn as sns\n",
        "import numpy as np \n",
        "import pandas as pd"
      ],
      "metadata": {
        "id": "UOlGBmHg6-eA"
      },
      "execution_count": 25,
      "outputs": []
    },
    {
      "cell_type": "code",
      "source": [
        "df[\"하루평균구매금액\"].describe()"
      ],
      "metadata": {
        "colab": {
          "base_uri": "https://localhost:8080/"
        },
        "id": "vUXniIDp6_o7",
        "outputId": "0cf9c8f1-b4a0-4aab-8a49-a553114bcfbe"
      },
      "execution_count": 26,
      "outputs": [
        {
          "output_type": "execute_result",
          "data": {
            "text/plain": [
              "count     1000.000000\n",
              "mean      1878.329981\n",
              "std       2104.533256\n",
              "min        434.387068\n",
              "25%        812.121413\n",
              "50%       1223.664825\n",
              "75%       2099.191772\n",
              "max      25580.575569\n",
              "Name: 하루평균구매금액, dtype: float64"
            ]
          },
          "metadata": {},
          "execution_count": 26
        }
      ]
    },
    {
      "cell_type": "code",
      "source": [
        "sns.distplot(df[\"하루평균구매금액\"])"
      ],
      "metadata": {
        "colab": {
          "base_uri": "https://localhost:8080/",
          "height": 927
        },
        "id": "4QMkaiO37EZf",
        "outputId": "8191a6d0-ee31-4546-c93e-a43500941cf5"
      },
      "execution_count": 67,
      "outputs": [
        {
          "output_type": "stream",
          "name": "stderr",
          "text": [
            "/usr/local/lib/python3.8/dist-packages/seaborn/distributions.py:2619: FutureWarning: `distplot` is a deprecated function and will be removed in a future version. Please adapt your code to use either `displot` (a figure-level function with similar flexibility) or `histplot` (an axes-level function for histograms).\n",
            "  warnings.warn(msg, FutureWarning)\n"
          ]
        },
        {
          "output_type": "execute_result",
          "data": {
            "text/plain": [
              "<matplotlib.axes._subplots.AxesSubplot at 0x7fb3f18337f0>"
            ]
          },
          "metadata": {},
          "execution_count": 67
        },
        {
          "output_type": "stream",
          "name": "stderr",
          "text": [
            "/usr/local/lib/python3.8/dist-packages/matplotlib/backends/backend_agg.py:214: RuntimeWarning: Glyph 54616 missing from current font.\n",
            "  font.set_text(s, 0.0, flags=flags)\n",
            "/usr/local/lib/python3.8/dist-packages/matplotlib/backends/backend_agg.py:214: RuntimeWarning: Glyph 47336 missing from current font.\n",
            "  font.set_text(s, 0.0, flags=flags)\n",
            "/usr/local/lib/python3.8/dist-packages/matplotlib/backends/backend_agg.py:214: RuntimeWarning: Glyph 54217 missing from current font.\n",
            "  font.set_text(s, 0.0, flags=flags)\n",
            "/usr/local/lib/python3.8/dist-packages/matplotlib/backends/backend_agg.py:214: RuntimeWarning: Glyph 44512 missing from current font.\n",
            "  font.set_text(s, 0.0, flags=flags)\n",
            "/usr/local/lib/python3.8/dist-packages/matplotlib/backends/backend_agg.py:214: RuntimeWarning: Glyph 44396 missing from current font.\n",
            "  font.set_text(s, 0.0, flags=flags)\n",
            "/usr/local/lib/python3.8/dist-packages/matplotlib/backends/backend_agg.py:214: RuntimeWarning: Glyph 47588 missing from current font.\n",
            "  font.set_text(s, 0.0, flags=flags)\n",
            "/usr/local/lib/python3.8/dist-packages/matplotlib/backends/backend_agg.py:214: RuntimeWarning: Glyph 44552 missing from current font.\n",
            "  font.set_text(s, 0.0, flags=flags)\n",
            "/usr/local/lib/python3.8/dist-packages/matplotlib/backends/backend_agg.py:214: RuntimeWarning: Glyph 50529 missing from current font.\n",
            "  font.set_text(s, 0.0, flags=flags)\n",
            "/usr/local/lib/python3.8/dist-packages/matplotlib/backends/backend_agg.py:183: RuntimeWarning: Glyph 54616 missing from current font.\n",
            "  font.set_text(s, 0, flags=flags)\n",
            "/usr/local/lib/python3.8/dist-packages/matplotlib/backends/backend_agg.py:183: RuntimeWarning: Glyph 47336 missing from current font.\n",
            "  font.set_text(s, 0, flags=flags)\n",
            "/usr/local/lib/python3.8/dist-packages/matplotlib/backends/backend_agg.py:183: RuntimeWarning: Glyph 54217 missing from current font.\n",
            "  font.set_text(s, 0, flags=flags)\n",
            "/usr/local/lib/python3.8/dist-packages/matplotlib/backends/backend_agg.py:183: RuntimeWarning: Glyph 44512 missing from current font.\n",
            "  font.set_text(s, 0, flags=flags)\n",
            "/usr/local/lib/python3.8/dist-packages/matplotlib/backends/backend_agg.py:183: RuntimeWarning: Glyph 44396 missing from current font.\n",
            "  font.set_text(s, 0, flags=flags)\n",
            "/usr/local/lib/python3.8/dist-packages/matplotlib/backends/backend_agg.py:183: RuntimeWarning: Glyph 47588 missing from current font.\n",
            "  font.set_text(s, 0, flags=flags)\n",
            "/usr/local/lib/python3.8/dist-packages/matplotlib/backends/backend_agg.py:183: RuntimeWarning: Glyph 44552 missing from current font.\n",
            "  font.set_text(s, 0, flags=flags)\n",
            "/usr/local/lib/python3.8/dist-packages/matplotlib/backends/backend_agg.py:183: RuntimeWarning: Glyph 50529 missing from current font.\n",
            "  font.set_text(s, 0, flags=flags)\n"
          ]
        },
        {
          "output_type": "display_data",
          "data": {
            "text/plain": [
              "<Figure size 432x288 with 1 Axes>"
            ],
            "image/png": "[encoded data removed]"
          },
          "metadata": {
            "needs_background": "light"
          }
        }
      ]
    },
    {
      "cell_type": "code",
      "source": [
        "df[\"하루평균구매금액\"] = np.log1p(df[\"하루평균구매금액\"])\n",
        "sns.distplot(df[\"하루평균구매금액\"])"
      ],
      "metadata": {
        "colab": {
          "base_uri": "https://localhost:8080/",
          "height": 927
        },
        "id": "eG2i7CI97GXZ",
        "outputId": "8b4e9a39-845d-40d9-e69b-cd51c0193e73"
      },
      "execution_count": 68,
      "outputs": [
        {
          "output_type": "stream",
          "name": "stderr",
          "text": [
            "/usr/local/lib/python3.8/dist-packages/seaborn/distributions.py:2619: FutureWarning: `distplot` is a deprecated function and will be removed in a future version. Please adapt your code to use either `displot` (a figure-level function with similar flexibility) or `histplot` (an axes-level function for histograms).\n",
            "  warnings.warn(msg, FutureWarning)\n"
          ]
        },
        {
          "output_type": "execute_result",
          "data": {
            "text/plain": [
              "<matplotlib.axes._subplots.AxesSubplot at 0x7fb3eb241550>"
            ]
          },
          "metadata": {},
          "execution_count": 68
        },
        {
          "output_type": "stream",
          "name": "stderr",
          "text": [
            "/usr/local/lib/python3.8/dist-packages/matplotlib/backends/backend_agg.py:214: RuntimeWarning: Glyph 54616 missing from current font.\n",
            "  font.set_text(s, 0.0, flags=flags)\n",
            "/usr/local/lib/python3.8/dist-packages/matplotlib/backends/backend_agg.py:214: RuntimeWarning: Glyph 47336 missing from current font.\n",
            "  font.set_text(s, 0.0, flags=flags)\n",
            "/usr/local/lib/python3.8/dist-packages/matplotlib/backends/backend_agg.py:214: RuntimeWarning: Glyph 54217 missing from current font.\n",
            "  font.set_text(s, 0.0, flags=flags)\n",
            "/usr/local/lib/python3.8/dist-packages/matplotlib/backends/backend_agg.py:214: RuntimeWarning: Glyph 44512 missing from current font.\n",
            "  font.set_text(s, 0.0, flags=flags)\n",
            "/usr/local/lib/python3.8/dist-packages/matplotlib/backends/backend_agg.py:214: RuntimeWarning: Glyph 44396 missing from current font.\n",
            "  font.set_text(s, 0.0, flags=flags)\n",
            "/usr/local/lib/python3.8/dist-packages/matplotlib/backends/backend_agg.py:214: RuntimeWarning: Glyph 47588 missing from current font.\n",
            "  font.set_text(s, 0.0, flags=flags)\n",
            "/usr/local/lib/python3.8/dist-packages/matplotlib/backends/backend_agg.py:214: RuntimeWarning: Glyph 44552 missing from current font.\n",
            "  font.set_text(s, 0.0, flags=flags)\n",
            "/usr/local/lib/python3.8/dist-packages/matplotlib/backends/backend_agg.py:214: RuntimeWarning: Glyph 50529 missing from current font.\n",
            "  font.set_text(s, 0.0, flags=flags)\n",
            "/usr/local/lib/python3.8/dist-packages/matplotlib/backends/backend_agg.py:183: RuntimeWarning: Glyph 54616 missing from current font.\n",
            "  font.set_text(s, 0, flags=flags)\n",
            "/usr/local/lib/python3.8/dist-packages/matplotlib/backends/backend_agg.py:183: RuntimeWarning: Glyph 47336 missing from current font.\n",
            "  font.set_text(s, 0, flags=flags)\n",
            "/usr/local/lib/python3.8/dist-packages/matplotlib/backends/backend_agg.py:183: RuntimeWarning: Glyph 54217 missing from current font.\n",
            "  font.set_text(s, 0, flags=flags)\n",
            "/usr/local/lib/python3.8/dist-packages/matplotlib/backends/backend_agg.py:183: RuntimeWarning: Glyph 44512 missing from current font.\n",
            "  font.set_text(s, 0, flags=flags)\n",
            "/usr/local/lib/python3.8/dist-packages/matplotlib/backends/backend_agg.py:183: RuntimeWarning: Glyph 44396 missing from current font.\n",
            "  font.set_text(s, 0, flags=flags)\n",
            "/usr/local/lib/python3.8/dist-packages/matplotlib/backends/backend_agg.py:183: RuntimeWarning: Glyph 47588 missing from current font.\n",
            "  font.set_text(s, 0, flags=flags)\n",
            "/usr/local/lib/python3.8/dist-packages/matplotlib/backends/backend_agg.py:183: RuntimeWarning: Glyph 44552 missing from current font.\n",
            "  font.set_text(s, 0, flags=flags)\n",
            "/usr/local/lib/python3.8/dist-packages/matplotlib/backends/backend_agg.py:183: RuntimeWarning: Glyph 50529 missing from current font.\n",
            "  font.set_text(s, 0, flags=flags)\n"
          ]
        },
        {
          "output_type": "display_data",
          "data": {
            "text/plain": [
              "<Figure size 432x288 with 1 Axes>"
            ],
            "image/png": "[encoded data removed]"
          },
          "metadata": {
            "needs_background": "light"
          }
        }
      ]
    },
    {
      "cell_type": "code",
      "source": [
        "\n",
        "\n",
        "from sklearn.model_selection import train_test_split\n",
        "from sklearn.compose import ColumnTransformer\n",
        "from sklearn.preprocessing import StandardScaler\n",
        "from sklearn.preprocessing import OneHotEncoder\n",
        "#num : 숫자형변수    cp : 카테고리형 변수\n",
        "num = [\"평균 구매주기\", \"총매출액\", \"1회 평균매출액\", \"할인권 사용 횟수\", \"총 할인 금액\", \"구매카테고리수\", \"Frequency\", \"Monetary\"]\n",
        "cg = [\"구매금액대\", \"이탈여부\", \"구매유형\", \"거주지역\", \"성별\", \"고객 나이대\"]\n",
        "\n",
        "X = df[df.고객등급 == 1][num+cg]\n",
        "Y = df[df.고객등급 == 1]['하루평균구매금액']\n",
        "\n",
        "X_train, X_test, Y_train, Y_test = train_test_split(X,Y, test_size=0.3, random_state = 0)\n",
        "\n",
        "#표준화, 원핫인코딩\n",
        "ct = ColumnTransformer([('scling', StandardScaler(), num), (\"onehot\", OneHotEncoder(sparse = False), cg)])\n",
        "ct.fit(X_train)\n",
        "X_train= ct.transform(X_train)\n",
        "X_test= ct.transform(X_test)\n",
        "\n",
        "print(X_train[0])"
      ],
      "metadata": {
        "colab": {
          "base_uri": "https://localhost:8080/"
        },
        "id": "K4srhxT57RD3",
        "outputId": "ed8f608a-ad10-44f1-a30e-a41e69a69028"
      },
      "execution_count": 57,
      "outputs": [
        {
          "output_type": "stream",
          "name": "stdout",
          "text": [
            "[-1.06379181  1.29816413 -0.60261071 -0.72386541  0.13846089  1.39128952\n",
            "  1.40785545  1.36949594  0.          1.          0.          1.\n",
            "  0.          0.          0.          0.          1.          0.\n",
            "  0.          0.          0.          0.          1.          0.\n",
            "  1.          0.          0.          0.          1.          0.\n",
            "  0.          0.        ]\n"
          ]
        }
      ]
    },
    {
      "cell_type": "code",
      "source": [
        "Y"
      ],
      "metadata": {
        "colab": {
          "base_uri": "https://localhost:8080/"
        },
        "id": "Y2VsXNmIO4zg",
        "outputId": "47f67f47-1b66-4ff8-ff87-f19fbaca0f15"
      },
      "execution_count": 58,
      "outputs": [
        {
          "output_type": "execute_result",
          "data": {
            "text/plain": [
              "0      1502.621859\n",
              "1       725.957175\n",
              "2       683.237074\n",
              "9      1119.313752\n",
              "10     1459.484890\n",
              "          ...     \n",
              "989     785.489942\n",
              "991    1196.579459\n",
              "992     506.057714\n",
              "996     738.447084\n",
              "998    1322.078321\n",
              "Name: 하루평균구매금액, Length: 454, dtype: float64"
            ]
          },
          "metadata": {},
          "execution_count": 58
        }
      ]
    },
    {
      "cell_type": "code",
      "source": [
        "from sklearn.linear_model import LinearRegression\n",
        "from sklearn.metrics import mean_squared_error\n",
        "from math import sqrt\n",
        "\n",
        "lr = LinearRegression().fit(X_train, Y_train)\n",
        "\n",
        "Y_pred = lr.predict(X_test)\n",
        "print(\"predict value\\n\", Y_pred)\n",
        "print(\"trainR2 : {:.3f}\".format(lr.score(X_train, Y_train)))\n",
        "print(\"testR2 : {:.3f}\".format(lr.score(X_test, Y_test)))\n",
        "\n",
        "rmse = sqrt(mean_squared_error(Y_test, Y_pred))\n",
        "print(\"RMSE : {:.3f}\".format(rmse))"
      ],
      "metadata": {
        "colab": {
          "base_uri": "https://localhost:8080/"
        },
        "id": "4BFq-D_N80kk",
        "outputId": "59049ec8-e962-4337-8c17-26df2ab2744e"
      },
      "execution_count": 66,
      "outputs": [
        {
          "output_type": "stream",
          "name": "stdout",
          "text": [
            "predict value\n",
            " [1271.93168754 1020.52164565  555.14248876  619.38806662 1423.92394596\n",
            "  571.12427877 2199.8663792  1073.47055379 1268.79698599 1617.90457574\n",
            "  127.91265041 1010.91917859 1033.92042491  451.08715855  871.62574792\n",
            "  762.24876778  724.15054167 1386.00828787 1310.58154077 1102.21733915\n",
            "  870.15369689  344.27479898 1165.00511465 1269.47625507 1268.63147716\n",
            "  549.67099131 1226.04495311  269.58984765  714.81341525 1246.51130162\n",
            " 1083.64704261 1754.4870818   717.25299626 1076.64297929  508.52250563\n",
            " 1364.9625232  2148.84688828  773.91912281  955.91098884  505.80192756\n",
            "  529.76071208 1189.91582461  572.67775727 1010.00804877  749.11896634\n",
            "  953.71525972  759.39515218 1053.1760394  1548.71714644  427.52268517\n",
            "  926.78016131 1189.43848257 1604.04109495 1006.31279063 1111.120586\n",
            "  634.40138464  508.18765872 2348.13007637 2007.83939098 1036.50648994\n",
            "  955.45217364  511.07923193  769.31719803 1349.84928492  651.38140089\n",
            " 1314.30913781  690.91767174  574.12751542 1546.3601816   266.01598212\n",
            " 1818.73227598  910.4878273   564.54434385  877.62638793  940.45575915\n",
            "  614.66213514  882.81436442  711.3582804   539.36538034 1184.31362464\n",
            "  956.17586351  177.30446199  580.60432606 1067.46665434 1308.64249327\n",
            "  784.77614822 1607.73284067  522.58928252  916.23536498 1201.71205397\n",
            "  611.95867362 1176.73018294 1143.95697438  884.5151922   587.19998223\n",
            "  734.07469717 1316.67056711 1460.56876376 2056.49222686  966.23508942\n",
            " 1108.81175623 1124.04992513  884.39134201  727.59271914  524.58812325\n",
            " 1564.51049819 6673.87424826  909.16841609  394.43885688  739.99003322\n",
            " 1148.07538598 1368.7199225   941.29009727 1140.16854496 1107.25301673\n",
            "  716.95046092  663.50386011  573.13033682 1372.44472689 5091.63477566\n",
            "  439.54279844  807.72418768  864.2870917  1381.59507507  937.69227522\n",
            " 1314.64878059 1270.72788805 1008.46195217 2070.12101027 1534.5726688\n",
            "  392.36494325  870.99745994  741.4766196   340.2457807  1221.17764449\n",
            "  859.01257013  491.89717323]\n",
            "trainR2 : 0.729\n",
            "testR2 : 0.764\n",
            "RMSE : 349.205\n"
          ]
        }
      ]
    },
    {
      "cell_type": "code",
      "source": [
        "import pandas as pd\n",
        "Y_test_df = pd.DataFrame(Y_test)\n",
        "Y_test_df = Y_test_df.reset_index()\n",
        "\n",
        "Y_test_df = pd.DataFrame(Y_test_df[\"하루평균구매금액\"])\n",
        "Y_test_df\n",
        "\n",
        "Y_test_df = pd.DataFrame(Y_test)\n",
        "Y_test_df = Y_test_df.reset_index()\n",
        "\n",
        "Y_test_df = Y_test_df[\"하루평균구매금액\"] \n",
        "\n",
        "import matplotlib.pyplot as plt\n",
        "\n",
        "plt.plot(Y_pred)\n",
        "plt.plot(Y_test_df)"
      ],
      "metadata": {
        "colab": {
          "base_uri": "https://localhost:8080/",
          "height": 283
        },
        "id": "AbhiwMEf80Dv",
        "outputId": "53e79b7a-4b55-40f5-c6ac-ba2eaf2beebf"
      },
      "execution_count": 65,
      "outputs": [
        {
          "output_type": "execute_result",
          "data": {
            "text/plain": [
              "[<matplotlib.lines.Line2D at 0x7fb3eb3d5400>]"
            ]
          },
          "metadata": {},
          "execution_count": 65
        },
        {
          "output_type": "display_data",
          "data": {
            "text/plain": [
              "<Figure size 432x288 with 1 Axes>"
            ],
            "image/png": "[encoded data removed]"
          },
          "metadata": {
            "needs_background": "light"
          }
        }
      ]
    }
  ]
}
