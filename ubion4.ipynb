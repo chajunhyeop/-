{
  "nbformat": 4,
  "nbformat_minor": 0,
  "metadata": {
    "colab": {
      "provenance": [],
      "mount_file_id": "1zqe22ncreL0yOdJf-qdP0a2IJ64OiN97",
      "authorship_tag": "ABX9TyN+6SyDfS1iw1OaX+TEdl3L",
      "include_colab_link": true
    },
    "kernelspec": {
      "name": "python3",
      "display_name": "Python 3"
    },
    "language_info": {
      "name": "python"
    }
  },
  "cells": [
    {
      "cell_type": "markdown",
      "metadata": {
        "id": "view-in-github",
        "colab_type": "text"
      },
      "source": [
        "<a href=\"https://colab.research.google.com/github/chajunhyeop/-/blob/main/ubion4.ipynb\" target=\"_parent\"><img src=\"https://colab.research.google.com/assets/colab-badge.svg\" alt=\"Open In Colab\"/></a>"
      ]
    },
    {
      "cell_type": "code",
      "execution_count": null,
      "metadata": {
        "id": "7ORcNiNji86C"
      },
      "outputs": [],
      "source": []
    },
    {
      "cell_type": "markdown",
      "source": [
        "##2023.01.05\n",
        "##머신러닝\n",
        "###교차검증"
      ],
      "metadata": {
        "id": "l2xBf2mIi9xV"
      }
    },
    {
      "cell_type": "code",
      "source": [
        "import pandas as pd\n",
        "from sklearn.model_selection import train_test_split\n",
        "from sklearn.model_selection import cross_val_score\n",
        "from sklearn.neighbors import KNeighborsRegressor"
      ],
      "metadata": {
        "id": "Wp6dpAsYjCmP"
      },
      "execution_count": 1,
      "outputs": []
    },
    {
      "cell_type": "code",
      "source": [
        "df = pd.read_csv(\"/content/drive/MyDrive/Colab Notebooks/Ashopping.csv\", encoding = 'cp949')\n",
        "df"
      ],
      "metadata": {
        "colab": {
          "base_uri": "https://localhost:8080/",
          "height": 572
        },
        "id": "aieGLPRfjni_",
        "outputId": "7ef387a5-d4c2-4996-c9e3-babeacb2d59e"
      },
      "execution_count": 2,
      "outputs": [
        {
          "output_type": "execute_result",
          "data": {
            "text/plain": [
              "     고객ID  이탈여부      총매출액  구매금액대  방문빈도  1회 평균매출액  할인권 사용 횟수  총 할인 금액  고객등급  \\\n",
              "0       1     1   4963160      1    22    225598          1     5445     1   \n",
              "1       2     1   2271520      0    38     59777         22   350995     1   \n",
              "2       3     1   2484250      0     2   1242125          6   186045     1   \n",
              "3       4     1   2778850      0     9    308761          1     5195     2   \n",
              "4       5     1   4437610      1    10    443761          9   246350     2   \n",
              "..    ...   ...       ...    ...   ...       ...        ...      ...   ...   \n",
              "995   996     0  12731560      2    35    363759          3    44445     2   \n",
              "996   997     0   3419010      0     6    569835          6   186545     1   \n",
              "997   998     0   4612100      1    13    354777          8   260700     2   \n",
              "998   999     0   5165360      1    28    184477         20   347700     1   \n",
              "999  1000     0   4323050      1    16    270191         19   367045     2   \n",
              "\n",
              "     구매유형  ...  구매카테고리수  거주지역  성별  고객 나이대  거래기간  할인민감여부  Recency  Frequency  \\\n",
              "0       3  ...        7     6   1       6  3303       0        3          2   \n",
              "1       1  ...        5     4   0       2  3129       0        5          3   \n",
              "2       2  ...        4     6   0       3  3636       0        4          1   \n",
              "3       4  ...        4     5   0       4  3637       0        7          4   \n",
              "4       4  ...        6     6   0       4  3638       0        5          1   \n",
              "..    ...  ...      ...   ...  ..     ...   ...     ...      ...        ...   \n",
              "995     3  ...        8     6   0       4  4629       1        3          3   \n",
              "996     2  ...        9     6   0       4  4630       1        7          3   \n",
              "997     1  ...        1     4   1       6  4631       1        2          1   \n",
              "998     3  ...        7     5   1       6  3907       0        7          2   \n",
              "999     4  ...        6     5   1       6  2118       0        5          1   \n",
              "\n",
              "     Monetary      평균 구매주기  \n",
              "0           1   149.136364  \n",
              "1           4    81.342105  \n",
              "2           4  1817.000000  \n",
              "3           6   403.111111  \n",
              "4           4   362.800000  \n",
              "..        ...          ...  \n",
              "995         1   131.257143  \n",
              "996         6   770.666667  \n",
              "997         2   355.230769  \n",
              "998         6   138.535714  \n",
              "999         4   131.375000  \n",
              "\n",
              "[1000 rows x 21 columns]"
            ],
            "text/html": [
              "\n",
              "  <div id=\"df-e1651c98-d6cd-4ff2-a1a2-2332f28f3b73\">\n",
              "    <div class=\"colab-df-container\">\n",
              "      <div>\n",
              "<style scoped>\n",
              "    .dataframe tbody tr th:only-of-type {\n",
              "        vertical-align: middle;\n",
              "    }\n",
              "\n",
              "    .dataframe tbody tr th {\n",
              "        vertical-align: top;\n",
              "    }\n",
              "\n",
              "    .dataframe thead th {\n",
              "        text-align: right;\n",
              "    }\n",
              "</style>\n",
              "<table border=\"1\" class=\"dataframe\">\n",
              "  <thead>\n",
              "    <tr style=\"text-align: right;\">\n",
              "      <th></th>\n",
              "      <th>고객ID</th>\n",
              "      <th>이탈여부</th>\n",
              "      <th>총매출액</th>\n",
              "      <th>구매금액대</th>\n",
              "      <th>방문빈도</th>\n",
              "      <th>1회 평균매출액</th>\n",
              "      <th>할인권 사용 횟수</th>\n",
              "      <th>총 할인 금액</th>\n",
              "      <th>고객등급</th>\n",
              "      <th>구매유형</th>\n",
              "      <th>...</th>\n",
              "      <th>구매카테고리수</th>\n",
              "      <th>거주지역</th>\n",
              "      <th>성별</th>\n",
              "      <th>고객 나이대</th>\n",
              "      <th>거래기간</th>\n",
              "      <th>할인민감여부</th>\n",
              "      <th>Recency</th>\n",
              "      <th>Frequency</th>\n",
              "      <th>Monetary</th>\n",
              "      <th>평균 구매주기</th>\n",
              "    </tr>\n",
              "  </thead>\n",
              "  <tbody>\n",
              "    <tr>\n",
              "      <th>0</th>\n",
              "      <td>1</td>\n",
              "      <td>1</td>\n",
              "      <td>4963160</td>\n",
              "      <td>1</td>\n",
              "      <td>22</td>\n",
              "      <td>225598</td>\n",
              "      <td>1</td>\n",
              "      <td>5445</td>\n",
              "      <td>1</td>\n",
              "      <td>3</td>\n",
              "      <td>...</td>\n",
              "      <td>7</td>\n",
              "      <td>6</td>\n",
              "      <td>1</td>\n",
              "      <td>6</td>\n",
              "      <td>3303</td>\n",
              "      <td>0</td>\n",
              "      <td>3</td>\n",
              "      <td>2</td>\n",
              "      <td>1</td>\n",
              "      <td>149.136364</td>\n",
              "    </tr>\n",
              "    <tr>\n",
              "      <th>1</th>\n",
              "      <td>2</td>\n",
              "      <td>1</td>\n",
              "      <td>2271520</td>\n",
              "      <td>0</td>\n",
              "      <td>38</td>\n",
              "      <td>59777</td>\n",
              "      <td>22</td>\n",
              "      <td>350995</td>\n",
              "      <td>1</td>\n",
              "      <td>1</td>\n",
              "      <td>...</td>\n",
              "      <td>5</td>\n",
              "      <td>4</td>\n",
              "      <td>0</td>\n",
              "      <td>2</td>\n",
              "      <td>3129</td>\n",
              "      <td>0</td>\n",
              "      <td>5</td>\n",
              "      <td>3</td>\n",
              "      <td>4</td>\n",
              "      <td>81.342105</td>\n",
              "    </tr>\n",
              "    <tr>\n",
              "      <th>2</th>\n",
              "      <td>3</td>\n",
              "      <td>1</td>\n",
              "      <td>2484250</td>\n",
              "      <td>0</td>\n",
              "      <td>2</td>\n",
              "      <td>1242125</td>\n",
              "      <td>6</td>\n",
              "      <td>186045</td>\n",
              "      <td>1</td>\n",
              "      <td>2</td>\n",
              "      <td>...</td>\n",
              "      <td>4</td>\n",
              "      <td>6</td>\n",
              "      <td>0</td>\n",
              "      <td>3</td>\n",
              "      <td>3636</td>\n",
              "      <td>0</td>\n",
              "      <td>4</td>\n",
              "      <td>1</td>\n",
              "      <td>4</td>\n",
              "      <td>1817.000000</td>\n",
              "    </tr>\n",
              "    <tr>\n",
              "      <th>3</th>\n",
              "      <td>4</td>\n",
              "      <td>1</td>\n",
              "      <td>2778850</td>\n",
              "      <td>0</td>\n",
              "      <td>9</td>\n",
              "      <td>308761</td>\n",
              "      <td>1</td>\n",
              "      <td>5195</td>\n",
              "      <td>2</td>\n",
              "      <td>4</td>\n",
              "      <td>...</td>\n",
              "      <td>4</td>\n",
              "      <td>5</td>\n",
              "      <td>0</td>\n",
              "      <td>4</td>\n",
              "      <td>3637</td>\n",
              "      <td>0</td>\n",
              "      <td>7</td>\n",
              "      <td>4</td>\n",
              "      <td>6</td>\n",
              "      <td>403.111111</td>\n",
              "    </tr>\n",
              "    <tr>\n",
              "      <th>4</th>\n",
              "      <td>5</td>\n",
              "      <td>1</td>\n",
              "      <td>4437610</td>\n",
              "      <td>1</td>\n",
              "      <td>10</td>\n",
              "      <td>443761</td>\n",
              "      <td>9</td>\n",
              "      <td>246350</td>\n",
              "      <td>2</td>\n",
              "      <td>4</td>\n",
              "      <td>...</td>\n",
              "      <td>6</td>\n",
              "      <td>6</td>\n",
              "      <td>0</td>\n",
              "      <td>4</td>\n",
              "      <td>3638</td>\n",
              "      <td>0</td>\n",
              "      <td>5</td>\n",
              "      <td>1</td>\n",
              "      <td>4</td>\n",
              "      <td>362.800000</td>\n",
              "    </tr>\n",
              "    <tr>\n",
              "      <th>...</th>\n",
              "      <td>...</td>\n",
              "      <td>...</td>\n",
              "      <td>...</td>\n",
              "      <td>...</td>\n",
              "      <td>...</td>\n",
              "      <td>...</td>\n",
              "      <td>...</td>\n",
              "      <td>...</td>\n",
              "      <td>...</td>\n",
              "      <td>...</td>\n",
              "      <td>...</td>\n",
              "      <td>...</td>\n",
              "      <td>...</td>\n",
              "      <td>...</td>\n",
              "      <td>...</td>\n",
              "      <td>...</td>\n",
              "      <td>...</td>\n",
              "      <td>...</td>\n",
              "      <td>...</td>\n",
              "      <td>...</td>\n",
              "      <td>...</td>\n",
              "    </tr>\n",
              "    <tr>\n",
              "      <th>995</th>\n",
              "      <td>996</td>\n",
              "      <td>0</td>\n",
              "      <td>12731560</td>\n",
              "      <td>2</td>\n",
              "      <td>35</td>\n",
              "      <td>363759</td>\n",
              "      <td>3</td>\n",
              "      <td>44445</td>\n",
              "      <td>2</td>\n",
              "      <td>3</td>\n",
              "      <td>...</td>\n",
              "      <td>8</td>\n",
              "      <td>6</td>\n",
              "      <td>0</td>\n",
              "      <td>4</td>\n",
              "      <td>4629</td>\n",
              "      <td>1</td>\n",
              "      <td>3</td>\n",
              "      <td>3</td>\n",
              "      <td>1</td>\n",
              "      <td>131.257143</td>\n",
              "    </tr>\n",
              "    <tr>\n",
              "      <th>996</th>\n",
              "      <td>997</td>\n",
              "      <td>0</td>\n",
              "      <td>3419010</td>\n",
              "      <td>0</td>\n",
              "      <td>6</td>\n",
              "      <td>569835</td>\n",
              "      <td>6</td>\n",
              "      <td>186545</td>\n",
              "      <td>1</td>\n",
              "      <td>2</td>\n",
              "      <td>...</td>\n",
              "      <td>9</td>\n",
              "      <td>6</td>\n",
              "      <td>0</td>\n",
              "      <td>4</td>\n",
              "      <td>4630</td>\n",
              "      <td>1</td>\n",
              "      <td>7</td>\n",
              "      <td>3</td>\n",
              "      <td>6</td>\n",
              "      <td>770.666667</td>\n",
              "    </tr>\n",
              "    <tr>\n",
              "      <th>997</th>\n",
              "      <td>998</td>\n",
              "      <td>0</td>\n",
              "      <td>4612100</td>\n",
              "      <td>1</td>\n",
              "      <td>13</td>\n",
              "      <td>354777</td>\n",
              "      <td>8</td>\n",
              "      <td>260700</td>\n",
              "      <td>2</td>\n",
              "      <td>1</td>\n",
              "      <td>...</td>\n",
              "      <td>1</td>\n",
              "      <td>4</td>\n",
              "      <td>1</td>\n",
              "      <td>6</td>\n",
              "      <td>4631</td>\n",
              "      <td>1</td>\n",
              "      <td>2</td>\n",
              "      <td>1</td>\n",
              "      <td>2</td>\n",
              "      <td>355.230769</td>\n",
              "    </tr>\n",
              "    <tr>\n",
              "      <th>998</th>\n",
              "      <td>999</td>\n",
              "      <td>0</td>\n",
              "      <td>5165360</td>\n",
              "      <td>1</td>\n",
              "      <td>28</td>\n",
              "      <td>184477</td>\n",
              "      <td>20</td>\n",
              "      <td>347700</td>\n",
              "      <td>1</td>\n",
              "      <td>3</td>\n",
              "      <td>...</td>\n",
              "      <td>7</td>\n",
              "      <td>5</td>\n",
              "      <td>1</td>\n",
              "      <td>6</td>\n",
              "      <td>3907</td>\n",
              "      <td>0</td>\n",
              "      <td>7</td>\n",
              "      <td>2</td>\n",
              "      <td>6</td>\n",
              "      <td>138.535714</td>\n",
              "    </tr>\n",
              "    <tr>\n",
              "      <th>999</th>\n",
              "      <td>1000</td>\n",
              "      <td>0</td>\n",
              "      <td>4323050</td>\n",
              "      <td>1</td>\n",
              "      <td>16</td>\n",
              "      <td>270191</td>\n",
              "      <td>19</td>\n",
              "      <td>367045</td>\n",
              "      <td>2</td>\n",
              "      <td>4</td>\n",
              "      <td>...</td>\n",
              "      <td>6</td>\n",
              "      <td>5</td>\n",
              "      <td>1</td>\n",
              "      <td>6</td>\n",
              "      <td>2118</td>\n",
              "      <td>0</td>\n",
              "      <td>5</td>\n",
              "      <td>1</td>\n",
              "      <td>4</td>\n",
              "      <td>131.375000</td>\n",
              "    </tr>\n",
              "  </tbody>\n",
              "</table>\n",
              "<p>1000 rows × 21 columns</p>\n",
              "</div>\n",
              "      <button class=\"colab-df-convert\" onclick=\"convertToInteractive('df-e1651c98-d6cd-4ff2-a1a2-2332f28f3b73')\"\n",
              "              title=\"Convert this dataframe to an interactive table.\"\n",
              "              style=\"display:none;\">\n",
              "        \n",
              "  <svg xmlns=\"http://www.w3.org/2000/svg\" height=\"24px\"viewBox=\"0 0 24 24\"\n",
              "       width=\"24px\">\n",
              "    <path d=\"M0 0h24v24H0V0z\" fill=\"none\"/>\n",
              "    <path d=\"M18.56 5.44l.94 2.06.94-2.06 2.06-.94-2.06-.94-.94-2.06-.94 2.06-2.06.94zm-11 1L8.5 8.5l.94-2.06 2.06-.94-2.06-.94L8.5 2.5l-.94 2.06-2.06.94zm10 10l.94 2.06.94-2.06 2.06-.94-2.06-.94-.94-2.06-.94 2.06-2.06.94z\"/><path d=\"M17.41 7.96l-1.37-1.37c-.4-.4-.92-.59-1.43-.59-.52 0-1.04.2-1.43.59L10.3 9.45l-7.72 7.72c-.78.78-.78 2.05 0 2.83L4 21.41c.39.39.9.59 1.41.59.51 0 1.02-.2 1.41-.59l7.78-7.78 2.81-2.81c.8-.78.8-2.07 0-2.86zM5.41 20L4 18.59l7.72-7.72 1.47 1.35L5.41 20z\"/>\n",
              "  </svg>\n",
              "      </button>\n",
              "      \n",
              "  <style>\n",
              "    .colab-df-container {\n",
              "      display:flex;\n",
              "      flex-wrap:wrap;\n",
              "      gap: 12px;\n",
              "    }\n",
              "\n",
              "    .colab-df-convert {\n",
              "      background-color: #E8F0FE;\n",
              "      border: none;\n",
              "      border-radius: 50%;\n",
              "      cursor: pointer;\n",
              "      display: none;\n",
              "      fill: #1967D2;\n",
              "      height: 32px;\n",
              "      padding: 0 0 0 0;\n",
              "      width: 32px;\n",
              "    }\n",
              "\n",
              "    .colab-df-convert:hover {\n",
              "      background-color: #E2EBFA;\n",
              "      box-shadow: 0px 1px 2px rgba(60, 64, 67, 0.3), 0px 1px 3px 1px rgba(60, 64, 67, 0.15);\n",
              "      fill: #174EA6;\n",
              "    }\n",
              "\n",
              "    [theme=dark] .colab-df-convert {\n",
              "      background-color: #3B4455;\n",
              "      fill: #D2E3FC;\n",
              "    }\n",
              "\n",
              "    [theme=dark] .colab-df-convert:hover {\n",
              "      background-color: #434B5C;\n",
              "      box-shadow: 0px 1px 3px 1px rgba(0, 0, 0, 0.15);\n",
              "      filter: drop-shadow(0px 1px 2px rgba(0, 0, 0, 0.3));\n",
              "      fill: #FFFFFF;\n",
              "    }\n",
              "  </style>\n",
              "\n",
              "      <script>\n",
              "        const buttonEl =\n",
              "          document.querySelector('#df-e1651c98-d6cd-4ff2-a1a2-2332f28f3b73 button.colab-df-convert');\n",
              "        buttonEl.style.display =\n",
              "          google.colab.kernel.accessAllowed ? 'block' : 'none';\n",
              "\n",
              "        async function convertToInteractive(key) {\n",
              "          const element = document.querySelector('#df-e1651c98-d6cd-4ff2-a1a2-2332f28f3b73');\n",
              "          const dataTable =\n",
              "            await google.colab.kernel.invokeFunction('convertToInteractive',\n",
              "                                                     [key], {});\n",
              "          if (!dataTable) return;\n",
              "\n",
              "          const docLinkHtml = 'Like what you see? Visit the ' +\n",
              "            '<a target=\"_blank\" href=https://colab.research.google.com/notebooks/data_table.ipynb>data table notebook</a>'\n",
              "            + ' to learn more about interactive tables.';\n",
              "          element.innerHTML = '';\n",
              "          dataTable['output_type'] = 'display_data';\n",
              "          await google.colab.output.renderOutput(dataTable, element);\n",
              "          const docLink = document.createElement('div');\n",
              "          docLink.innerHTML = docLinkHtml;\n",
              "          element.appendChild(docLink);\n",
              "        }\n",
              "      </script>\n",
              "    </div>\n",
              "  </div>\n",
              "  "
            ]
          },
          "metadata": {},
          "execution_count": 2
        }
      ]
    },
    {
      "cell_type": "code",
      "source": [
        "df.info()"
      ],
      "metadata": {
        "colab": {
          "base_uri": "https://localhost:8080/"
        },
        "id": "QYBqIuCBnj_e",
        "outputId": "e71294da-2c3a-4de3-ee58-8bd67d87bc7c"
      },
      "execution_count": 3,
      "outputs": [
        {
          "output_type": "stream",
          "name": "stdout",
          "text": [
            "<class 'pandas.core.frame.DataFrame'>\n",
            "RangeIndex: 1000 entries, 0 to 999\n",
            "Data columns (total 21 columns):\n",
            " #   Column     Non-Null Count  Dtype  \n",
            "---  ------     --------------  -----  \n",
            " 0   고객ID       1000 non-null   int64  \n",
            " 1   이탈여부       1000 non-null   int64  \n",
            " 2   총매출액       1000 non-null   int64  \n",
            " 3   구매금액대      1000 non-null   int64  \n",
            " 4   방문빈도       1000 non-null   int64  \n",
            " 5   1회 평균매출액   1000 non-null   int64  \n",
            " 6   할인권 사용 횟수  1000 non-null   int64  \n",
            " 7   총 할인 금액    1000 non-null   int64  \n",
            " 8   고객등급       1000 non-null   int64  \n",
            " 9   구매유형       1000 non-null   int64  \n",
            " 10  클레임접수여부    1000 non-null   int64  \n",
            " 11  구매카테고리수    1000 non-null   int64  \n",
            " 12  거주지역       1000 non-null   int64  \n",
            " 13  성별         1000 non-null   int64  \n",
            " 14  고객 나이대     1000 non-null   int64  \n",
            " 15  거래기간       1000 non-null   int64  \n",
            " 16  할인민감여부     1000 non-null   int64  \n",
            " 17  Recency    1000 non-null   int64  \n",
            " 18  Frequency  1000 non-null   int64  \n",
            " 19  Monetary   1000 non-null   int64  \n",
            " 20  평균 구매주기    1000 non-null   float64\n",
            "dtypes: float64(1), int64(20)\n",
            "memory usage: 164.2 KB\n"
          ]
        }
      ]
    },
    {
      "cell_type": "code",
      "source": [
        "df.isnull().sum()"
      ],
      "metadata": {
        "colab": {
          "base_uri": "https://localhost:8080/"
        },
        "id": "94lgscb-nlh5",
        "outputId": "69dc05ea-3d33-4127-fb81-28e4f49a2c84"
      },
      "execution_count": 4,
      "outputs": [
        {
          "output_type": "execute_result",
          "data": {
            "text/plain": [
              "고객ID         0\n",
              "이탈여부         0\n",
              "총매출액         0\n",
              "구매금액대        0\n",
              "방문빈도         0\n",
              "1회 평균매출액     0\n",
              "할인권 사용 횟수    0\n",
              "총 할인 금액      0\n",
              "고객등급         0\n",
              "구매유형         0\n",
              "클레임접수여부      0\n",
              "구매카테고리수      0\n",
              "거주지역         0\n",
              "성별           0\n",
              "고객 나이대       0\n",
              "거래기간         0\n",
              "할인민감여부       0\n",
              "Recency      0\n",
              "Frequency    0\n",
              "Monetary     0\n",
              "평균 구매주기      0\n",
              "dtype: int64"
            ]
          },
          "metadata": {},
          "execution_count": 4
        }
      ]
    },
    {
      "cell_type": "code",
      "source": [
        "#필요열(변수, feature)만 뽑아서 만들기\n",
        "X = df[[\"총매출액\", \"1회 평균매출액\", \"할인권 사용 횟수\"]]\n",
        "Y = df[\"평균 구매주기\"]\n",
        "\n",
        "print(X)"
      ],
      "metadata": {
        "colab": {
          "base_uri": "https://localhost:8080/"
        },
        "id": "hXs2VUCpnt-m",
        "outputId": "0353c0c5-9cff-46de-9197-f4b45ebb8c76"
      },
      "execution_count": 5,
      "outputs": [
        {
          "output_type": "stream",
          "name": "stdout",
          "text": [
            "         총매출액  1회 평균매출액  할인권 사용 횟수\n",
            "0     4963160    225598          1\n",
            "1     2271520     59777         22\n",
            "2     2484250   1242125          6\n",
            "3     2778850    308761          1\n",
            "4     4437610    443761          9\n",
            "..        ...       ...        ...\n",
            "995  12731560    363759          3\n",
            "996   3419010    569835          6\n",
            "997   4612100    354777          8\n",
            "998   5165360    184477         20\n",
            "999   4323050    270191         19\n",
            "\n",
            "[1000 rows x 3 columns]\n"
          ]
        }
      ]
    },
    {
      "cell_type": "code",
      "source": [
        "#데이터 분할(train, test)\n",
        "X_train, X_test, Y_train, Y_test = train_test_split(X, Y, test_size=0.3, random_state=0)\n",
        "\n",
        "#model 만들기\n",
        "model = KNeighborsRegressor() #regressor 평균 구매주기가 연속형이기에 회귀형\n",
        "\n",
        "#교차검증(k_fold)\n",
        "score = cross_val_score(model, X_train, Y_train, cv=9)\n",
        "print(score)"
      ],
      "metadata": {
        "colab": {
          "base_uri": "https://localhost:8080/"
        },
        "id": "1NkeYzXOn89d",
        "outputId": "a420bfcf-155d-4bbc-87e5-8ece3059ae7e"
      },
      "execution_count": 6,
      "outputs": [
        {
          "output_type": "stream",
          "name": "stdout",
          "text": [
            "[0.57107448 0.58829527 0.73436661 0.55607385 0.62849042 0.7343753\n",
            " 0.60699274 0.72066144 0.78831826]\n"
          ]
        }
      ]
    },
    {
      "cell_type": "code",
      "source": [
        "from sklearn.neighbors import KNeighborsClassifier\n",
        "from sklearn.model_selection import StratifiedKFold\n",
        "\n",
        "X = df[[\"총매출액\", \"거래기간\", \"방문빈도\"]]\n",
        "Y = df[\"이탈여부\"]\n",
        "\n",
        "#데이터 분할(train, test)\n",
        "X_train, X_test, Y_train, Y_test = train_test_split(X, Y, test_size=0.3, random_state=0)\n",
        "\n",
        "#model 만들기\n",
        "model = KNeighborsClassifier() #classifier \"이탈여부\" 범주형이기에 분류형\n",
        "\n",
        "#검증 ( Stratified K-fold Cross-Validation test)\n",
        "skf = StratifiedKFold(n_splits = 5, shuffle = True, random_state=0)\n",
        "scores = cross_val_score(model, X_train, Y_train, cv = skf)\n",
        "print(\"교차검증 점수 :\", scores)"
      ],
      "metadata": {
        "colab": {
          "base_uri": "https://localhost:8080/"
        },
        "id": "25a6NAyew088",
        "outputId": "923e21f3-c395-434a-9838-b008c67ce715"
      },
      "execution_count": 7,
      "outputs": [
        {
          "output_type": "stream",
          "name": "stdout",
          "text": [
            "교차검증 점수 : [0.64285714 0.7        0.67857143 0.67142857 0.70714286]\n"
          ]
        }
      ]
    },
    {
      "cell_type": "code",
      "source": [
        "!pip install sklearn"
      ],
      "metadata": {
        "colab": {
          "base_uri": "https://localhost:8080/"
        },
        "id": "meFb6SV28SBW",
        "outputId": "076de903-427a-4f5b-cd7c-1dab5ba125d7"
      },
      "execution_count": 8,
      "outputs": [
        {
          "output_type": "stream",
          "name": "stdout",
          "text": [
            "Looking in indexes: https://pypi.org/simple, https://us-python.pkg.dev/colab-wheels/public/simple/\n",
            "Requirement already satisfied: sklearn in /usr/local/lib/python3.8/dist-packages (0.0.post1)\n"
          ]
        }
      ]
    },
    {
      "cell_type": "code",
      "source": [
        "#cv와 parameter의 최적값을 찾아서 확인해야함. \n",
        "#accuracy가 높을수록 좋은 모델이다.....\n",
        "##########cv가 a가되고 따른 parameter가 b가되어 accuracy가 c가되는데 이것은 내가 구하는 모델에 적절한가###########\n",
        "\n",
        "from sklearn.model_selection import GridSearchCV\n",
        "\n",
        "X = df[[\"총매출액\", \"거래기간\", \"방문빈도\"]]\n",
        "Y = df[\"이탈여부\"]\n",
        "\n",
        "#데이터 분할(train, test)\n",
        "X_train, X_test, Y_train, Y_test = train_test_split(X, Y, test_size=0.3, random_state=0)\n",
        "\n",
        "#model 만들기\n",
        "model = KNeighborsClassifier() #classifier \"이탈여부\" 범주형이기에 분류형\n",
        "\n",
        "#그리드 인자 검색 \n",
        "mylist = list(range(1,50))\n",
        "k_list = [x for x in mylist if x %2 !=0]\n",
        "parameter_grid = {\"n_neighbors\" : k_list}\n",
        "\n",
        "#그리드 서치 \n",
        "grid_search = GridSearchCV(model, parameter_grid , cv=5)\n",
        "grid_search.fit(X_train, Y_train)\n",
        "grid_search.best_params_"
      ],
      "metadata": {
        "colab": {
          "base_uri": "https://localhost:8080/"
        },
        "id": "qxYCobrk6LWK",
        "outputId": "1abce6a0-b82e-433e-f8e9-766b1b600042"
      },
      "execution_count": 9,
      "outputs": [
        {
          "output_type": "execute_result",
          "data": {
            "text/plain": [
              "{'n_neighbors': 9}"
            ]
          },
          "metadata": {},
          "execution_count": 9
        }
      ]
    },
    {
      "cell_type": "code",
      "source": [
        "grid_search.best_params_"
      ],
      "metadata": {
        "id": "OU3G-XA9aUhL",
        "colab": {
          "base_uri": "https://localhost:8080/"
        },
        "outputId": "aef58568-6a63-4394-8af7-fa93dc8daa3e"
      },
      "execution_count": 10,
      "outputs": [
        {
          "output_type": "execute_result",
          "data": {
            "text/plain": [
              "{'n_neighbors': 9}"
            ]
          },
          "metadata": {},
          "execution_count": 10
        }
      ]
    },
    {
      "cell_type": "code",
      "source": [
        "parameter_grid"
      ],
      "metadata": {
        "colab": {
          "base_uri": "https://localhost:8080/"
        },
        "id": "btilHAjoBqf0",
        "outputId": "68bc8ac0-3b14-425a-cf82-0172521ea4a5"
      },
      "execution_count": 11,
      "outputs": [
        {
          "output_type": "execute_result",
          "data": {
            "text/plain": [
              "{'n_neighbors': [1,\n",
              "  3,\n",
              "  5,\n",
              "  7,\n",
              "  9,\n",
              "  11,\n",
              "  13,\n",
              "  15,\n",
              "  17,\n",
              "  19,\n",
              "  21,\n",
              "  23,\n",
              "  25,\n",
              "  27,\n",
              "  29,\n",
              "  31,\n",
              "  33,\n",
              "  35,\n",
              "  37,\n",
              "  39,\n",
              "  41,\n",
              "  43,\n",
              "  45,\n",
              "  47,\n",
              "  49]}"
            ]
          },
          "metadata": {},
          "execution_count": 11
        }
      ]
    },
    {
      "cell_type": "code",
      "source": [
        "#그리드 서치\n",
        "grid_search=GridSearchCV(model, parameter_grid, cv = 10)\n",
        "grid_search.fit(X_train, Y_train)\n",
        "\n",
        "grid_search.best_params_\n",
        "grid_search.cv_results_"
      ],
      "metadata": {
        "id": "qUGqbUa9wdhS",
        "colab": {
          "base_uri": "https://localhost:8080/"
        },
        "outputId": "d85e9947-78b5-4110-b3b2-8cb4ea0c7b9c"
      },
      "execution_count": 12,
      "outputs": [
        {
          "output_type": "execute_result",
          "data": {
            "text/plain": [
              "{'mean_fit_time': array([0.0029928 , 0.00429397, 0.00373659, 0.00433941, 0.00249231,\n",
              "        0.00293856, 0.00442188, 0.00385878, 0.0040628 , 0.00239756,\n",
              "        0.0024559 , 0.00222731, 0.00250881, 0.00231023, 0.00230618,\n",
              "        0.00277348, 0.00269148, 0.00245209, 0.00229573, 0.00222104,\n",
              "        0.00387523, 0.00482686, 0.00359678, 0.00224099, 0.00206528]),\n",
              " 'std_fit_time': array([1.21395192e-03, 2.24310202e-03, 3.39172903e-04, 2.26363227e-03,\n",
              "        5.72046737e-04, 2.27423819e-03, 2.36346702e-03, 8.94561038e-04,\n",
              "        5.86230409e-04, 4.29037839e-04, 5.45583657e-04, 9.96388296e-05,\n",
              "        4.05432642e-04, 8.14509054e-05, 1.43139486e-04, 9.83187701e-04,\n",
              "        7.23495047e-04, 6.97718330e-04, 2.49360122e-04, 3.76844078e-04,\n",
              "        8.27451403e-04, 2.32295868e-03, 7.90236415e-04, 2.89203765e-04,\n",
              "        5.17609096e-05]),\n",
              " 'mean_score_time': array([0.00504403, 0.00665855, 0.00636277, 0.00731478, 0.00430081,\n",
              "        0.00459247, 0.0069726 , 0.00648959, 0.00677764, 0.00436878,\n",
              "        0.00469079, 0.00396426, 0.00455768, 0.00420513, 0.004129  ,\n",
              "        0.0050729 , 0.00497632, 0.00442712, 0.00429614, 0.00442624,\n",
              "        0.00690546, 0.00807559, 0.00641835, 0.00436728, 0.00403411]),\n",
              " 'std_score_time': array([1.89598522e-03, 7.00291247e-04, 4.18291889e-04, 2.22973038e-03,\n",
              "        8.61488864e-04, 1.35238344e-03, 1.76567026e-03, 2.72697811e-04,\n",
              "        5.53213601e-04, 1.30393423e-03, 1.20227910e-03, 9.88217861e-05,\n",
              "        7.85567554e-04, 1.95136634e-04, 1.57173587e-04, 1.16907285e-03,\n",
              "        1.51134360e-03, 1.23125724e-03, 8.27908116e-04, 9.22061666e-04,\n",
              "        5.36625780e-04, 3.11319660e-03, 8.26638351e-04, 5.92661277e-04,\n",
              "        4.52101038e-05]),\n",
              " 'param_n_neighbors': masked_array(data=[1, 3, 5, 7, 9, 11, 13, 15, 17, 19, 21, 23, 25, 27, 29,\n",
              "                    31, 33, 35, 37, 39, 41, 43, 45, 47, 49],\n",
              "              mask=[False, False, False, False, False, False, False, False,\n",
              "                    False, False, False, False, False, False, False, False,\n",
              "                    False, False, False, False, False, False, False, False,\n",
              "                    False],\n",
              "        fill_value='?',\n",
              "             dtype=object),\n",
              " 'params': [{'n_neighbors': 1},\n",
              "  {'n_neighbors': 3},\n",
              "  {'n_neighbors': 5},\n",
              "  {'n_neighbors': 7},\n",
              "  {'n_neighbors': 9},\n",
              "  {'n_neighbors': 11},\n",
              "  {'n_neighbors': 13},\n",
              "  {'n_neighbors': 15},\n",
              "  {'n_neighbors': 17},\n",
              "  {'n_neighbors': 19},\n",
              "  {'n_neighbors': 21},\n",
              "  {'n_neighbors': 23},\n",
              "  {'n_neighbors': 25},\n",
              "  {'n_neighbors': 27},\n",
              "  {'n_neighbors': 29},\n",
              "  {'n_neighbors': 31},\n",
              "  {'n_neighbors': 33},\n",
              "  {'n_neighbors': 35},\n",
              "  {'n_neighbors': 37},\n",
              "  {'n_neighbors': 39},\n",
              "  {'n_neighbors': 41},\n",
              "  {'n_neighbors': 43},\n",
              "  {'n_neighbors': 45},\n",
              "  {'n_neighbors': 47},\n",
              "  {'n_neighbors': 49}],\n",
              " 'split0_test_score': array([0.57142857, 0.65714286, 0.7       , 0.67142857, 0.7       ,\n",
              "        0.65714286, 0.61428571, 0.61428571, 0.64285714, 0.65714286,\n",
              "        0.62857143, 0.64285714, 0.64285714, 0.64285714, 0.65714286,\n",
              "        0.64285714, 0.64285714, 0.64285714, 0.65714286, 0.64285714,\n",
              "        0.65714286, 0.65714286, 0.67142857, 0.67142857, 0.67142857]),\n",
              " 'split1_test_score': array([0.55714286, 0.62857143, 0.62857143, 0.62857143, 0.67142857,\n",
              "        0.65714286, 0.62857143, 0.65714286, 0.64285714, 0.62857143,\n",
              "        0.62857143, 0.62857143, 0.64285714, 0.62857143, 0.65714286,\n",
              "        0.65714286, 0.67142857, 0.68571429, 0.7       , 0.71428571,\n",
              "        0.68571429, 0.68571429, 0.68571429, 0.7       , 0.7       ]),\n",
              " 'split2_test_score': array([0.57142857, 0.57142857, 0.64285714, 0.65714286, 0.7       ,\n",
              "        0.71428571, 0.68571429, 0.62857143, 0.68571429, 0.64285714,\n",
              "        0.65714286, 0.68571429, 0.68571429, 0.65714286, 0.65714286,\n",
              "        0.64285714, 0.65714286, 0.67142857, 0.67142857, 0.67142857,\n",
              "        0.68571429, 0.7       , 0.72857143, 0.7       , 0.7       ]),\n",
              " 'split3_test_score': array([0.65714286, 0.71428571, 0.72857143, 0.71428571, 0.72857143,\n",
              "        0.68571429, 0.7       , 0.68571429, 0.68571429, 0.67142857,\n",
              "        0.67142857, 0.67142857, 0.68571429, 0.68571429, 0.68571429,\n",
              "        0.68571429, 0.68571429, 0.68571429, 0.68571429, 0.68571429,\n",
              "        0.67142857, 0.67142857, 0.67142857, 0.67142857, 0.67142857]),\n",
              " 'split4_test_score': array([0.61428571, 0.67142857, 0.7       , 0.7       , 0.68571429,\n",
              "        0.68571429, 0.68571429, 0.68571429, 0.65714286, 0.68571429,\n",
              "        0.71428571, 0.71428571, 0.71428571, 0.71428571, 0.71428571,\n",
              "        0.7       , 0.7       , 0.7       , 0.7       , 0.7       ,\n",
              "        0.7       , 0.7       , 0.7       , 0.7       , 0.7       ]),\n",
              " 'split5_test_score': array([0.5       , 0.54285714, 0.61428571, 0.67142857, 0.62857143,\n",
              "        0.61428571, 0.61428571, 0.61428571, 0.61428571, 0.6       ,\n",
              "        0.62857143, 0.64285714, 0.65714286, 0.65714286, 0.61428571,\n",
              "        0.62857143, 0.65714286, 0.62857143, 0.58571429, 0.58571429,\n",
              "        0.6       , 0.6       , 0.61428571, 0.62857143, 0.61428571]),\n",
              " 'split6_test_score': array([0.54285714, 0.65714286, 0.68571429, 0.68571429, 0.68571429,\n",
              "        0.67142857, 0.68571429, 0.71428571, 0.7       , 0.68571429,\n",
              "        0.7       , 0.7       , 0.71428571, 0.7       , 0.68571429,\n",
              "        0.68571429, 0.68571429, 0.68571429, 0.7       , 0.68571429,\n",
              "        0.7       , 0.67142857, 0.68571429, 0.68571429, 0.67142857]),\n",
              " 'split7_test_score': array([0.65714286, 0.68571429, 0.7       , 0.7       , 0.71428571,\n",
              "        0.68571429, 0.71428571, 0.71428571, 0.71428571, 0.72857143,\n",
              "        0.74285714, 0.75714286, 0.75714286, 0.75714286, 0.74285714,\n",
              "        0.71428571, 0.72857143, 0.71428571, 0.71428571, 0.72857143,\n",
              "        0.72857143, 0.67142857, 0.67142857, 0.67142857, 0.68571429]),\n",
              " 'split8_test_score': array([0.68571429, 0.67142857, 0.67142857, 0.67142857, 0.7       ,\n",
              "        0.68571429, 0.68571429, 0.68571429, 0.71428571, 0.7       ,\n",
              "        0.74285714, 0.74285714, 0.72857143, 0.72857143, 0.72857143,\n",
              "        0.68571429, 0.7       , 0.7       , 0.64285714, 0.64285714,\n",
              "        0.68571429, 0.67142857, 0.67142857, 0.68571429, 0.72857143]),\n",
              " 'split9_test_score': array([0.54285714, 0.64285714, 0.64285714, 0.62857143, 0.67142857,\n",
              "        0.65714286, 0.65714286, 0.62857143, 0.62857143, 0.62857143,\n",
              "        0.61428571, 0.61428571, 0.62857143, 0.61428571, 0.64285714,\n",
              "        0.64285714, 0.64285714, 0.67142857, 0.65714286, 0.64285714,\n",
              "        0.67142857, 0.65714286, 0.64285714, 0.64285714, 0.64285714]),\n",
              " 'mean_test_score': array([0.59      , 0.64428571, 0.67142857, 0.67285714, 0.68857143,\n",
              "        0.67142857, 0.66714286, 0.66285714, 0.66857143, 0.66285714,\n",
              "        0.67285714, 0.68      , 0.68571429, 0.67857143, 0.67857143,\n",
              "        0.66857143, 0.67714286, 0.67857143, 0.67142857, 0.67      ,\n",
              "        0.67857143, 0.66857143, 0.67428571, 0.67571429, 0.67857143]),\n",
              " 'std_test_score': array([0.05751663, 0.04925983, 0.03557114, 0.02744196, 0.02618615,\n",
              "        0.02555506, 0.0344342 , 0.03736199, 0.03428571, 0.03681171,\n",
              "        0.04670795, 0.04615856, 0.0404061 , 0.0439155 , 0.03846546,\n",
              "        0.02770103, 0.02649605, 0.02494893, 0.03614032, 0.04012735,\n",
              "        0.03210315, 0.02695423, 0.02913725, 0.02307928, 0.03080551]),\n",
              " 'rank_test_score': array([25, 24, 14, 12,  1, 14, 21, 22, 18, 22, 13,  3,  2,  4,  4, 18,  9,\n",
              "         4, 14, 17,  4, 20, 11, 10,  4], dtype=int32)}"
            ]
          },
          "metadata": {},
          "execution_count": 12
        }
      ]
    },
    {
      "cell_type": "code",
      "source": [
        "grid_search.best_estimator_"
      ],
      "metadata": {
        "colab": {
          "base_uri": "https://localhost:8080/"
        },
        "id": "6o_6wPEnasTZ",
        "outputId": "cca230b7-1edb-4ab5-f710-021d0b33c9d7"
      },
      "execution_count": 13,
      "outputs": [
        {
          "output_type": "execute_result",
          "data": {
            "text/plain": [
              "KNeighborsClassifier(n_neighbors=9)"
            ]
          },
          "metadata": {},
          "execution_count": 13
        }
      ]
    },
    {
      "cell_type": "code",
      "source": [
        "from sklearn.metrics import accuracy_score\n",
        "be = grid_search.best_estimator_\n",
        "pred = be.predict(X_test) #x_test로 y값 도출\n",
        "accuracy_score(Y_test, pred) #정확도 추출"
      ],
      "metadata": {
        "colab": {
          "base_uri": "https://localhost:8080/"
        },
        "id": "_w2OGZPLa3AJ",
        "outputId": "91abe803-dad2-4cb8-bb86-0c25de2a1796"
      },
      "execution_count": 14,
      "outputs": [
        {
          "output_type": "execute_result",
          "data": {
            "text/plain": [
              "0.6433333333333333"
            ]
          },
          "metadata": {},
          "execution_count": 14
        }
      ]
    },
    {
      "cell_type": "code",
      "source": [
        "df.columns"
      ],
      "metadata": {
        "colab": {
          "base_uri": "https://localhost:8080/"
        },
        "id": "_WIl3lH3qK7K",
        "outputId": "aabe05c1-b4c2-46f4-b718-ffcecb83539f"
      },
      "execution_count": 15,
      "outputs": [
        {
          "output_type": "execute_result",
          "data": {
            "text/plain": [
              "Index(['고객ID', '이탈여부', '총매출액', '구매금액대', '방문빈도', '1회 평균매출액', '할인권 사용 횟수',\n",
              "       '총 할인 금액', '고객등급', '구매유형', '클레임접수여부', '구매카테고리수', '거주지역', '성별', '고객 나이대',\n",
              "       '거래기간', '할인민감여부', 'Recency', 'Frequency', 'Monetary', '평균 구매주기'],\n",
              "      dtype='object')"
            ]
          },
          "metadata": {},
          "execution_count": 15
        }
      ]
    },
    {
      "cell_type": "code",
      "source": [
        "#데이터 지정(변수)\n",
        "from sklearn.feature_selection import SelectKBest, chi2\n",
        "X = df.drop([\"고객ID\", \"이탈여부\"], axis=1)\n",
        "Y = df[\"이탈여부\"]\n",
        "#데이터 분할\n",
        "X_train, X_test, Y_train, Y_test = train_test_split(X, Y, test_size = 0.3, random_state=0)\n",
        "#일변량 통계기반\n",
        "selector = SelectKBest()\n",
        "selector.fit(X_train, Y_train)\n",
        "\n",
        "score = pd.DataFrame()\n",
        "score[\"Chi2\"] = selector.scores_\n",
        "score[\"p_value\"] = selector.pvalues_\n",
        "score[\"support\"] = selector.get_support()\n",
        "score[\"attribute\"] = X_train.columns\n",
        "score[score[\"support\"]==True]\n",
        "#p_value값을 보게되면 0.05 이하로 모든변수가 영향이 있다.\n",
        "#y값에대한 영향이므로 x변수끼리 상관관계분석을 통해 변수 전처리가 필요함 (제거 혹은 주성분,요인)"
      ],
      "metadata": {
        "colab": {
          "base_uri": "https://localhost:8080/",
          "height": 363
        },
        "id": "z7JT5fMAfHjN",
        "outputId": "40da7161-0f88-48b3-baa2-bae665c50b58"
      },
      "execution_count": 16,
      "outputs": [
        {
          "output_type": "execute_result",
          "data": {
            "text/plain": [
              "         Chi2       p_value  support  attribute\n",
              "0   11.220487  8.525018e-04     True       총매출액\n",
              "1   21.391230  4.462997e-06     True      구매금액대\n",
              "2   40.530259  3.508018e-10     True       방문빈도\n",
              "3   31.867994  2.401115e-08     True   1회 평균매출액\n",
              "8    6.784768  9.389630e-03     True    클레임접수여부\n",
              "11  12.171897  5.156069e-04     True         성별\n",
              "13  60.680197  2.435210e-14     True       거래기간\n",
              "14  86.354376  1.882930e-19     True     할인민감여부\n",
              "16   6.449529  1.131399e-02     True  Frequency\n",
              "18  40.217271  4.081567e-10     True    평균 구매주기"
            ],
            "text/html": [
              "\n",
              "  <div id=\"df-982b9940-f74a-43a0-b682-2588df534983\">\n",
              "    <div class=\"colab-df-container\">\n",
              "      <div>\n",
              "<style scoped>\n",
              "    .dataframe tbody tr th:only-of-type {\n",
              "        vertical-align: middle;\n",
              "    }\n",
              "\n",
              "    .dataframe tbody tr th {\n",
              "        vertical-align: top;\n",
              "    }\n",
              "\n",
              "    .dataframe thead th {\n",
              "        text-align: right;\n",
              "    }\n",
              "</style>\n",
              "<table border=\"1\" class=\"dataframe\">\n",
              "  <thead>\n",
              "    <tr style=\"text-align: right;\">\n",
              "      <th></th>\n",
              "      <th>Chi2</th>\n",
              "      <th>p_value</th>\n",
              "      <th>support</th>\n",
              "      <th>attribute</th>\n",
              "    </tr>\n",
              "  </thead>\n",
              "  <tbody>\n",
              "    <tr>\n",
              "      <th>0</th>\n",
              "      <td>11.220487</td>\n",
              "      <td>8.525018e-04</td>\n",
              "      <td>True</td>\n",
              "      <td>총매출액</td>\n",
              "    </tr>\n",
              "    <tr>\n",
              "      <th>1</th>\n",
              "      <td>21.391230</td>\n",
              "      <td>4.462997e-06</td>\n",
              "      <td>True</td>\n",
              "      <td>구매금액대</td>\n",
              "    </tr>\n",
              "    <tr>\n",
              "      <th>2</th>\n",
              "      <td>40.530259</td>\n",
              "      <td>3.508018e-10</td>\n",
              "      <td>True</td>\n",
              "      <td>방문빈도</td>\n",
              "    </tr>\n",
              "    <tr>\n",
              "      <th>3</th>\n",
              "      <td>31.867994</td>\n",
              "      <td>2.401115e-08</td>\n",
              "      <td>True</td>\n",
              "      <td>1회 평균매출액</td>\n",
              "    </tr>\n",
              "    <tr>\n",
              "      <th>8</th>\n",
              "      <td>6.784768</td>\n",
              "      <td>9.389630e-03</td>\n",
              "      <td>True</td>\n",
              "      <td>클레임접수여부</td>\n",
              "    </tr>\n",
              "    <tr>\n",
              "      <th>11</th>\n",
              "      <td>12.171897</td>\n",
              "      <td>5.156069e-04</td>\n",
              "      <td>True</td>\n",
              "      <td>성별</td>\n",
              "    </tr>\n",
              "    <tr>\n",
              "      <th>13</th>\n",
              "      <td>60.680197</td>\n",
              "      <td>2.435210e-14</td>\n",
              "      <td>True</td>\n",
              "      <td>거래기간</td>\n",
              "    </tr>\n",
              "    <tr>\n",
              "      <th>14</th>\n",
              "      <td>86.354376</td>\n",
              "      <td>1.882930e-19</td>\n",
              "      <td>True</td>\n",
              "      <td>할인민감여부</td>\n",
              "    </tr>\n",
              "    <tr>\n",
              "      <th>16</th>\n",
              "      <td>6.449529</td>\n",
              "      <td>1.131399e-02</td>\n",
              "      <td>True</td>\n",
              "      <td>Frequency</td>\n",
              "    </tr>\n",
              "    <tr>\n",
              "      <th>18</th>\n",
              "      <td>40.217271</td>\n",
              "      <td>4.081567e-10</td>\n",
              "      <td>True</td>\n",
              "      <td>평균 구매주기</td>\n",
              "    </tr>\n",
              "  </tbody>\n",
              "</table>\n",
              "</div>\n",
              "      <button class=\"colab-df-convert\" onclick=\"convertToInteractive('df-982b9940-f74a-43a0-b682-2588df534983')\"\n",
              "              title=\"Convert this dataframe to an interactive table.\"\n",
              "              style=\"display:none;\">\n",
              "        \n",
              "  <svg xmlns=\"http://www.w3.org/2000/svg\" height=\"24px\"viewBox=\"0 0 24 24\"\n",
              "       width=\"24px\">\n",
              "    <path d=\"M0 0h24v24H0V0z\" fill=\"none\"/>\n",
              "    <path d=\"M18.56 5.44l.94 2.06.94-2.06 2.06-.94-2.06-.94-.94-2.06-.94 2.06-2.06.94zm-11 1L8.5 8.5l.94-2.06 2.06-.94-2.06-.94L8.5 2.5l-.94 2.06-2.06.94zm10 10l.94 2.06.94-2.06 2.06-.94-2.06-.94-.94-2.06-.94 2.06-2.06.94z\"/><path d=\"M17.41 7.96l-1.37-1.37c-.4-.4-.92-.59-1.43-.59-.52 0-1.04.2-1.43.59L10.3 9.45l-7.72 7.72c-.78.78-.78 2.05 0 2.83L4 21.41c.39.39.9.59 1.41.59.51 0 1.02-.2 1.41-.59l7.78-7.78 2.81-2.81c.8-.78.8-2.07 0-2.86zM5.41 20L4 18.59l7.72-7.72 1.47 1.35L5.41 20z\"/>\n",
              "  </svg>\n",
              "      </button>\n",
              "      \n",
              "  <style>\n",
              "    .colab-df-container {\n",
              "      display:flex;\n",
              "      flex-wrap:wrap;\n",
              "      gap: 12px;\n",
              "    }\n",
              "\n",
              "    .colab-df-convert {\n",
              "      background-color: #E8F0FE;\n",
              "      border: none;\n",
              "      border-radius: 50%;\n",
              "      cursor: pointer;\n",
              "      display: none;\n",
              "      fill: #1967D2;\n",
              "      height: 32px;\n",
              "      padding: 0 0 0 0;\n",
              "      width: 32px;\n",
              "    }\n",
              "\n",
              "    .colab-df-convert:hover {\n",
              "      background-color: #E2EBFA;\n",
              "      box-shadow: 0px 1px 2px rgba(60, 64, 67, 0.3), 0px 1px 3px 1px rgba(60, 64, 67, 0.15);\n",
              "      fill: #174EA6;\n",
              "    }\n",
              "\n",
              "    [theme=dark] .colab-df-convert {\n",
              "      background-color: #3B4455;\n",
              "      fill: #D2E3FC;\n",
              "    }\n",
              "\n",
              "    [theme=dark] .colab-df-convert:hover {\n",
              "      background-color: #434B5C;\n",
              "      box-shadow: 0px 1px 3px 1px rgba(0, 0, 0, 0.15);\n",
              "      filter: drop-shadow(0px 1px 2px rgba(0, 0, 0, 0.3));\n",
              "      fill: #FFFFFF;\n",
              "    }\n",
              "  </style>\n",
              "\n",
              "      <script>\n",
              "        const buttonEl =\n",
              "          document.querySelector('#df-982b9940-f74a-43a0-b682-2588df534983 button.colab-df-convert');\n",
              "        buttonEl.style.display =\n",
              "          google.colab.kernel.accessAllowed ? 'block' : 'none';\n",
              "\n",
              "        async function convertToInteractive(key) {\n",
              "          const element = document.querySelector('#df-982b9940-f74a-43a0-b682-2588df534983');\n",
              "          const dataTable =\n",
              "            await google.colab.kernel.invokeFunction('convertToInteractive',\n",
              "                                                     [key], {});\n",
              "          if (!dataTable) return;\n",
              "\n",
              "          const docLinkHtml = 'Like what you see? Visit the ' +\n",
              "            '<a target=\"_blank\" href=https://colab.research.google.com/notebooks/data_table.ipynb>data table notebook</a>'\n",
              "            + ' to learn more about interactive tables.';\n",
              "          element.innerHTML = '';\n",
              "          dataTable['output_type'] = 'display_data';\n",
              "          await google.colab.output.renderOutput(dataTable, element);\n",
              "          const docLink = document.createElement('div');\n",
              "          docLink.innerHTML = docLinkHtml;\n",
              "          element.appendChild(docLink);\n",
              "        }\n",
              "      </script>\n",
              "    </div>\n",
              "  </div>\n",
              "  "
            ]
          },
          "metadata": {},
          "execution_count": 16
        }
      ]
    },
    {
      "cell_type": "code",
      "source": [
        "from  sklearn.feature_selection import SelectFromModel\n",
        "from sklearn.ensemble import RandomForestClassifier\n",
        "\n",
        "#threshold = 기준점 (성능을 낮출지 높힐지), 대부분 median으로 둔다. \n",
        "selector = SelectFromModel(RandomForestClassifier(n_estimators = 100, random_state=0), threshold = \"median\")\n",
        "selector.fit(X_train, Y_train)\n",
        "\n",
        "score = pd.DataFrame()\n",
        "score[\"attribute\"] = X_train.columns\n",
        "score[\"support\"] = selector.get_support()\n",
        "score[score[\"support\"] ==True]"
      ],
      "metadata": {
        "colab": {
          "base_uri": "https://localhost:8080/",
          "height": 363
        },
        "id": "03e967ehv21C",
        "outputId": "01752fd0-a2bb-4986-aa3f-27be0f4e4cd3"
      },
      "execution_count": 17,
      "outputs": [
        {
          "output_type": "execute_result",
          "data": {
            "text/plain": [
              "    attribute  support\n",
              "0        총매출액     True\n",
              "2        방문빈도     True\n",
              "3    1회 평균매출액     True\n",
              "4   할인권 사용 횟수     True\n",
              "5     총 할인 금액     True\n",
              "10       거주지역     True\n",
              "12     고객 나이대     True\n",
              "13       거래기간     True\n",
              "14     할인민감여부     True\n",
              "18    평균 구매주기     True"
            ],
            "text/html": [
              "\n",
              "  <div id=\"df-c1895edc-f0c5-43bc-a372-e4263bfc3553\">\n",
              "    <div class=\"colab-df-container\">\n",
              "      <div>\n",
              "<style scoped>\n",
              "    .dataframe tbody tr th:only-of-type {\n",
              "        vertical-align: middle;\n",
              "    }\n",
              "\n",
              "    .dataframe tbody tr th {\n",
              "        vertical-align: top;\n",
              "    }\n",
              "\n",
              "    .dataframe thead th {\n",
              "        text-align: right;\n",
              "    }\n",
              "</style>\n",
              "<table border=\"1\" class=\"dataframe\">\n",
              "  <thead>\n",
              "    <tr style=\"text-align: right;\">\n",
              "      <th></th>\n",
              "      <th>attribute</th>\n",
              "      <th>support</th>\n",
              "    </tr>\n",
              "  </thead>\n",
              "  <tbody>\n",
              "    <tr>\n",
              "      <th>0</th>\n",
              "      <td>총매출액</td>\n",
              "      <td>True</td>\n",
              "    </tr>\n",
              "    <tr>\n",
              "      <th>2</th>\n",
              "      <td>방문빈도</td>\n",
              "      <td>True</td>\n",
              "    </tr>\n",
              "    <tr>\n",
              "      <th>3</th>\n",
              "      <td>1회 평균매출액</td>\n",
              "      <td>True</td>\n",
              "    </tr>\n",
              "    <tr>\n",
              "      <th>4</th>\n",
              "      <td>할인권 사용 횟수</td>\n",
              "      <td>True</td>\n",
              "    </tr>\n",
              "    <tr>\n",
              "      <th>5</th>\n",
              "      <td>총 할인 금액</td>\n",
              "      <td>True</td>\n",
              "    </tr>\n",
              "    <tr>\n",
              "      <th>10</th>\n",
              "      <td>거주지역</td>\n",
              "      <td>True</td>\n",
              "    </tr>\n",
              "    <tr>\n",
              "      <th>12</th>\n",
              "      <td>고객 나이대</td>\n",
              "      <td>True</td>\n",
              "    </tr>\n",
              "    <tr>\n",
              "      <th>13</th>\n",
              "      <td>거래기간</td>\n",
              "      <td>True</td>\n",
              "    </tr>\n",
              "    <tr>\n",
              "      <th>14</th>\n",
              "      <td>할인민감여부</td>\n",
              "      <td>True</td>\n",
              "    </tr>\n",
              "    <tr>\n",
              "      <th>18</th>\n",
              "      <td>평균 구매주기</td>\n",
              "      <td>True</td>\n",
              "    </tr>\n",
              "  </tbody>\n",
              "</table>\n",
              "</div>\n",
              "      <button class=\"colab-df-convert\" onclick=\"convertToInteractive('df-c1895edc-f0c5-43bc-a372-e4263bfc3553')\"\n",
              "              title=\"Convert this dataframe to an interactive table.\"\n",
              "              style=\"display:none;\">\n",
              "        \n",
              "  <svg xmlns=\"http://www.w3.org/2000/svg\" height=\"24px\"viewBox=\"0 0 24 24\"\n",
              "       width=\"24px\">\n",
              "    <path d=\"M0 0h24v24H0V0z\" fill=\"none\"/>\n",
              "    <path d=\"M18.56 5.44l.94 2.06.94-2.06 2.06-.94-2.06-.94-.94-2.06-.94 2.06-2.06.94zm-11 1L8.5 8.5l.94-2.06 2.06-.94-2.06-.94L8.5 2.5l-.94 2.06-2.06.94zm10 10l.94 2.06.94-2.06 2.06-.94-2.06-.94-.94-2.06-.94 2.06-2.06.94z\"/><path d=\"M17.41 7.96l-1.37-1.37c-.4-.4-.92-.59-1.43-.59-.52 0-1.04.2-1.43.59L10.3 9.45l-7.72 7.72c-.78.78-.78 2.05 0 2.83L4 21.41c.39.39.9.59 1.41.59.51 0 1.02-.2 1.41-.59l7.78-7.78 2.81-2.81c.8-.78.8-2.07 0-2.86zM5.41 20L4 18.59l7.72-7.72 1.47 1.35L5.41 20z\"/>\n",
              "  </svg>\n",
              "      </button>\n",
              "      \n",
              "  <style>\n",
              "    .colab-df-container {\n",
              "      display:flex;\n",
              "      flex-wrap:wrap;\n",
              "      gap: 12px;\n",
              "    }\n",
              "\n",
              "    .colab-df-convert {\n",
              "      background-color: #E8F0FE;\n",
              "      border: none;\n",
              "      border-radius: 50%;\n",
              "      cursor: pointer;\n",
              "      display: none;\n",
              "      fill: #1967D2;\n",
              "      height: 32px;\n",
              "      padding: 0 0 0 0;\n",
              "      width: 32px;\n",
              "    }\n",
              "\n",
              "    .colab-df-convert:hover {\n",
              "      background-color: #E2EBFA;\n",
              "      box-shadow: 0px 1px 2px rgba(60, 64, 67, 0.3), 0px 1px 3px 1px rgba(60, 64, 67, 0.15);\n",
              "      fill: #174EA6;\n",
              "    }\n",
              "\n",
              "    [theme=dark] .colab-df-convert {\n",
              "      background-color: #3B4455;\n",
              "      fill: #D2E3FC;\n",
              "    }\n",
              "\n",
              "    [theme=dark] .colab-df-convert:hover {\n",
              "      background-color: #434B5C;\n",
              "      box-shadow: 0px 1px 3px 1px rgba(0, 0, 0, 0.15);\n",
              "      filter: drop-shadow(0px 1px 2px rgba(0, 0, 0, 0.3));\n",
              "      fill: #FFFFFF;\n",
              "    }\n",
              "  </style>\n",
              "\n",
              "      <script>\n",
              "        const buttonEl =\n",
              "          document.querySelector('#df-c1895edc-f0c5-43bc-a372-e4263bfc3553 button.colab-df-convert');\n",
              "        buttonEl.style.display =\n",
              "          google.colab.kernel.accessAllowed ? 'block' : 'none';\n",
              "\n",
              "        async function convertToInteractive(key) {\n",
              "          const element = document.querySelector('#df-c1895edc-f0c5-43bc-a372-e4263bfc3553');\n",
              "          const dataTable =\n",
              "            await google.colab.kernel.invokeFunction('convertToInteractive',\n",
              "                                                     [key], {});\n",
              "          if (!dataTable) return;\n",
              "\n",
              "          const docLinkHtml = 'Like what you see? Visit the ' +\n",
              "            '<a target=\"_blank\" href=https://colab.research.google.com/notebooks/data_table.ipynb>data table notebook</a>'\n",
              "            + ' to learn more about interactive tables.';\n",
              "          element.innerHTML = '';\n",
              "          dataTable['output_type'] = 'display_data';\n",
              "          await google.colab.output.renderOutput(dataTable, element);\n",
              "          const docLink = document.createElement('div');\n",
              "          docLink.innerHTML = docLinkHtml;\n",
              "          element.appendChild(docLink);\n",
              "        }\n",
              "      </script>\n",
              "    </div>\n",
              "  </div>\n",
              "  "
            ]
          },
          "metadata": {},
          "execution_count": 17
        }
      ]
    },
    {
      "cell_type": "markdown",
      "source": [
        "#데이터 벨런싱 \n",
        "오버샘플링, 언더샘플링"
      ],
      "metadata": {
        "id": "ximHDfvwyejZ"
      }
    },
    {
      "cell_type": "code",
      "source": [
        "df.info()"
      ],
      "metadata": {
        "colab": {
          "base_uri": "https://localhost:8080/"
        },
        "id": "6nng4jpLqraw",
        "outputId": "5cdfbfb1-6883-48c5-feeb-0483c4687353"
      },
      "execution_count": 18,
      "outputs": [
        {
          "output_type": "stream",
          "name": "stdout",
          "text": [
            "<class 'pandas.core.frame.DataFrame'>\n",
            "RangeIndex: 1000 entries, 0 to 999\n",
            "Data columns (total 21 columns):\n",
            " #   Column     Non-Null Count  Dtype  \n",
            "---  ------     --------------  -----  \n",
            " 0   고객ID       1000 non-null   int64  \n",
            " 1   이탈여부       1000 non-null   int64  \n",
            " 2   총매출액       1000 non-null   int64  \n",
            " 3   구매금액대      1000 non-null   int64  \n",
            " 4   방문빈도       1000 non-null   int64  \n",
            " 5   1회 평균매출액   1000 non-null   int64  \n",
            " 6   할인권 사용 횟수  1000 non-null   int64  \n",
            " 7   총 할인 금액    1000 non-null   int64  \n",
            " 8   고객등급       1000 non-null   int64  \n",
            " 9   구매유형       1000 non-null   int64  \n",
            " 10  클레임접수여부    1000 non-null   int64  \n",
            " 11  구매카테고리수    1000 non-null   int64  \n",
            " 12  거주지역       1000 non-null   int64  \n",
            " 13  성별         1000 non-null   int64  \n",
            " 14  고객 나이대     1000 non-null   int64  \n",
            " 15  거래기간       1000 non-null   int64  \n",
            " 16  할인민감여부     1000 non-null   int64  \n",
            " 17  Recency    1000 non-null   int64  \n",
            " 18  Frequency  1000 non-null   int64  \n",
            " 19  Monetary   1000 non-null   int64  \n",
            " 20  평균 구매주기    1000 non-null   float64\n",
            "dtypes: float64(1), int64(20)\n",
            "memory usage: 164.2 KB\n"
          ]
        }
      ]
    },
    {
      "cell_type": "code",
      "source": [
        "df.describe()"
      ],
      "metadata": {
        "colab": {
          "base_uri": "https://localhost:8080/",
          "height": 411
        },
        "id": "vCc53GZW3r7U",
        "outputId": "5288babd-a705-4aef-99fc-a78ace0070e6"
      },
      "execution_count": 19,
      "outputs": [
        {
          "output_type": "execute_result",
          "data": {
            "text/plain": [
              "              고객ID         이탈여부          총매출액        구매금액대        방문빈도  \\\n",
              "count  1000.000000  1000.000000  1.000000e+03  1000.000000  1000.00000   \n",
              "mean    500.500000     0.300000  5.858013e+06     0.700000    22.91100   \n",
              "std     288.819436     0.458487  5.812815e+06     0.781416    19.08217   \n",
              "min       1.000000     0.000000  1.886100e+06     0.000000     1.00000   \n",
              "25%     250.750000     0.000000  2.815905e+06     0.000000    10.75000   \n",
              "50%     500.500000     0.000000  4.092145e+06     0.500000    18.00000   \n",
              "75%     750.250000     1.000000  6.545392e+06     1.000000    28.00000   \n",
              "max    1000.000000     1.000000  6.759576e+07     2.000000   155.00000   \n",
              "\n",
              "           1회 평균매출액    할인권 사용 횟수        총 할인 금액         고객등급         구매유형  \\\n",
              "count  1.000000e+03  1000.000000    1000.000000  1000.000000  1000.000000   \n",
              "mean   3.521024e+05    16.027000  292371.670000     1.546000     2.656000   \n",
              "std    3.124636e+05     8.341334  111937.501042     0.498129     1.046307   \n",
              "min    2.708200e+04     1.000000    3750.000000     1.000000     1.000000   \n",
              "25%    1.631242e+05     9.000000  261686.250000     1.000000     2.000000   \n",
              "50%    2.582080e+05    17.000000  347500.000000     2.000000     2.000000   \n",
              "75%    4.268310e+05    23.000000  365400.000000     2.000000     4.000000   \n",
              "max    2.798500e+06    30.000000  400600.000000     2.000000     4.000000   \n",
              "\n",
              "       ...      구매카테고리수         거주지역           성별       고객 나이대         거래기간  \\\n",
              "count  ...  1000.000000  1000.000000  1000.000000  1000.000000  1000.000000   \n",
              "mean   ...     5.217000     5.147000     0.189000     3.964000  3495.891000   \n",
              "std    ...     2.224153     1.169084     0.391705     1.078827   965.966194   \n",
              "min    ...     1.000000     1.000000     0.000000     2.000000   827.000000   \n",
              "25%    ...     3.000000     4.000000     0.000000     3.000000  2871.000000   \n",
              "50%    ...     5.000000     5.000000     0.000000     4.000000  3836.000000   \n",
              "75%    ...     7.000000     6.000000     0.000000     5.000000  4207.250000   \n",
              "max    ...     9.000000     7.000000     1.000000     7.000000  5334.000000   \n",
              "\n",
              "            할인민감여부      Recency    Frequency     Monetary      평균 구매주기  \n",
              "count  1000.000000  1000.000000  1000.000000  1000.000000  1000.000000  \n",
              "mean      0.400000     4.925000     2.289000     4.129000   266.880824  \n",
              "std       0.490143     1.744253     1.669811     1.560383   254.077398  \n",
              "min       0.000000     1.000000     1.000000     1.000000    13.980645  \n",
              "25%       0.000000     4.000000     1.000000     3.000000   111.957671  \n",
              "50%       0.000000     5.000000     2.000000     4.000000   191.469697  \n",
              "75%       1.000000     7.000000     3.000000     6.000000   324.386218  \n",
              "max       1.000000     7.000000     7.000000     7.000000  1956.000000  \n",
              "\n",
              "[8 rows x 21 columns]"
            ],
            "text/html": [
              "\n",
              "  <div id=\"df-b5edd158-38ae-4bef-a32e-3968f2fb8f26\">\n",
              "    <div class=\"colab-df-container\">\n",
              "      <div>\n",
              "<style scoped>\n",
              "    .dataframe tbody tr th:only-of-type {\n",
              "        vertical-align: middle;\n",
              "    }\n",
              "\n",
              "    .dataframe tbody tr th {\n",
              "        vertical-align: top;\n",
              "    }\n",
              "\n",
              "    .dataframe thead th {\n",
              "        text-align: right;\n",
              "    }\n",
              "</style>\n",
              "<table border=\"1\" class=\"dataframe\">\n",
              "  <thead>\n",
              "    <tr style=\"text-align: right;\">\n",
              "      <th></th>\n",
              "      <th>고객ID</th>\n",
              "      <th>이탈여부</th>\n",
              "      <th>총매출액</th>\n",
              "      <th>구매금액대</th>\n",
              "      <th>방문빈도</th>\n",
              "      <th>1회 평균매출액</th>\n",
              "      <th>할인권 사용 횟수</th>\n",
              "      <th>총 할인 금액</th>\n",
              "      <th>고객등급</th>\n",
              "      <th>구매유형</th>\n",
              "      <th>...</th>\n",
              "      <th>구매카테고리수</th>\n",
              "      <th>거주지역</th>\n",
              "      <th>성별</th>\n",
              "      <th>고객 나이대</th>\n",
              "      <th>거래기간</th>\n",
              "      <th>할인민감여부</th>\n",
              "      <th>Recency</th>\n",
              "      <th>Frequency</th>\n",
              "      <th>Monetary</th>\n",
              "      <th>평균 구매주기</th>\n",
              "    </tr>\n",
              "  </thead>\n",
              "  <tbody>\n",
              "    <tr>\n",
              "      <th>count</th>\n",
              "      <td>1000.000000</td>\n",
              "      <td>1000.000000</td>\n",
              "      <td>1.000000e+03</td>\n",
              "      <td>1000.000000</td>\n",
              "      <td>1000.00000</td>\n",
              "      <td>1.000000e+03</td>\n",
              "      <td>1000.000000</td>\n",
              "      <td>1000.000000</td>\n",
              "      <td>1000.000000</td>\n",
              "      <td>1000.000000</td>\n",
              "      <td>...</td>\n",
              "      <td>1000.000000</td>\n",
              "      <td>1000.000000</td>\n",
              "      <td>1000.000000</td>\n",
              "      <td>1000.000000</td>\n",
              "      <td>1000.000000</td>\n",
              "      <td>1000.000000</td>\n",
              "      <td>1000.000000</td>\n",
              "      <td>1000.000000</td>\n",
              "      <td>1000.000000</td>\n",
              "      <td>1000.000000</td>\n",
              "    </tr>\n",
              "    <tr>\n",
              "      <th>mean</th>\n",
              "      <td>500.500000</td>\n",
              "      <td>0.300000</td>\n",
              "      <td>5.858013e+06</td>\n",
              "      <td>0.700000</td>\n",
              "      <td>22.91100</td>\n",
              "      <td>3.521024e+05</td>\n",
              "      <td>16.027000</td>\n",
              "      <td>292371.670000</td>\n",
              "      <td>1.546000</td>\n",
              "      <td>2.656000</td>\n",
              "      <td>...</td>\n",
              "      <td>5.217000</td>\n",
              "      <td>5.147000</td>\n",
              "      <td>0.189000</td>\n",
              "      <td>3.964000</td>\n",
              "      <td>3495.891000</td>\n",
              "      <td>0.400000</td>\n",
              "      <td>4.925000</td>\n",
              "      <td>2.289000</td>\n",
              "      <td>4.129000</td>\n",
              "      <td>266.880824</td>\n",
              "    </tr>\n",
              "    <tr>\n",
              "      <th>std</th>\n",
              "      <td>288.819436</td>\n",
              "      <td>0.458487</td>\n",
              "      <td>5.812815e+06</td>\n",
              "      <td>0.781416</td>\n",
              "      <td>19.08217</td>\n",
              "      <td>3.124636e+05</td>\n",
              "      <td>8.341334</td>\n",
              "      <td>111937.501042</td>\n",
              "      <td>0.498129</td>\n",
              "      <td>1.046307</td>\n",
              "      <td>...</td>\n",
              "      <td>2.224153</td>\n",
              "      <td>1.169084</td>\n",
              "      <td>0.391705</td>\n",
              "      <td>1.078827</td>\n",
              "      <td>965.966194</td>\n",
              "      <td>0.490143</td>\n",
              "      <td>1.744253</td>\n",
              "      <td>1.669811</td>\n",
              "      <td>1.560383</td>\n",
              "      <td>254.077398</td>\n",
              "    </tr>\n",
              "    <tr>\n",
              "      <th>min</th>\n",
              "      <td>1.000000</td>\n",
              "      <td>0.000000</td>\n",
              "      <td>1.886100e+06</td>\n",
              "      <td>0.000000</td>\n",
              "      <td>1.00000</td>\n",
              "      <td>2.708200e+04</td>\n",
              "      <td>1.000000</td>\n",
              "      <td>3750.000000</td>\n",
              "      <td>1.000000</td>\n",
              "      <td>1.000000</td>\n",
              "      <td>...</td>\n",
              "      <td>1.000000</td>\n",
              "      <td>1.000000</td>\n",
              "      <td>0.000000</td>\n",
              "      <td>2.000000</td>\n",
              "      <td>827.000000</td>\n",
              "      <td>0.000000</td>\n",
              "      <td>1.000000</td>\n",
              "      <td>1.000000</td>\n",
              "      <td>1.000000</td>\n",
              "      <td>13.980645</td>\n",
              "    </tr>\n",
              "    <tr>\n",
              "      <th>25%</th>\n",
              "      <td>250.750000</td>\n",
              "      <td>0.000000</td>\n",
              "      <td>2.815905e+06</td>\n",
              "      <td>0.000000</td>\n",
              "      <td>10.75000</td>\n",
              "      <td>1.631242e+05</td>\n",
              "      <td>9.000000</td>\n",
              "      <td>261686.250000</td>\n",
              "      <td>1.000000</td>\n",
              "      <td>2.000000</td>\n",
              "      <td>...</td>\n",
              "      <td>3.000000</td>\n",
              "      <td>4.000000</td>\n",
              "      <td>0.000000</td>\n",
              "      <td>3.000000</td>\n",
              "      <td>2871.000000</td>\n",
              "      <td>0.000000</td>\n",
              "      <td>4.000000</td>\n",
              "      <td>1.000000</td>\n",
              "      <td>3.000000</td>\n",
              "      <td>111.957671</td>\n",
              "    </tr>\n",
              "    <tr>\n",
              "      <th>50%</th>\n",
              "      <td>500.500000</td>\n",
              "      <td>0.000000</td>\n",
              "      <td>4.092145e+06</td>\n",
              "      <td>0.500000</td>\n",
              "      <td>18.00000</td>\n",
              "      <td>2.582080e+05</td>\n",
              "      <td>17.000000</td>\n",
              "      <td>347500.000000</td>\n",
              "      <td>2.000000</td>\n",
              "      <td>2.000000</td>\n",
              "      <td>...</td>\n",
              "      <td>5.000000</td>\n",
              "      <td>5.000000</td>\n",
              "      <td>0.000000</td>\n",
              "      <td>4.000000</td>\n",
              "      <td>3836.000000</td>\n",
              "      <td>0.000000</td>\n",
              "      <td>5.000000</td>\n",
              "      <td>2.000000</td>\n",
              "      <td>4.000000</td>\n",
              "      <td>191.469697</td>\n",
              "    </tr>\n",
              "    <tr>\n",
              "      <th>75%</th>\n",
              "      <td>750.250000</td>\n",
              "      <td>1.000000</td>\n",
              "      <td>6.545392e+06</td>\n",
              "      <td>1.000000</td>\n",
              "      <td>28.00000</td>\n",
              "      <td>4.268310e+05</td>\n",
              "      <td>23.000000</td>\n",
              "      <td>365400.000000</td>\n",
              "      <td>2.000000</td>\n",
              "      <td>4.000000</td>\n",
              "      <td>...</td>\n",
              "      <td>7.000000</td>\n",
              "      <td>6.000000</td>\n",
              "      <td>0.000000</td>\n",
              "      <td>5.000000</td>\n",
              "      <td>4207.250000</td>\n",
              "      <td>1.000000</td>\n",
              "      <td>7.000000</td>\n",
              "      <td>3.000000</td>\n",
              "      <td>6.000000</td>\n",
              "      <td>324.386218</td>\n",
              "    </tr>\n",
              "    <tr>\n",
              "      <th>max</th>\n",
              "      <td>1000.000000</td>\n",
              "      <td>1.000000</td>\n",
              "      <td>6.759576e+07</td>\n",
              "      <td>2.000000</td>\n",
              "      <td>155.00000</td>\n",
              "      <td>2.798500e+06</td>\n",
              "      <td>30.000000</td>\n",
              "      <td>400600.000000</td>\n",
              "      <td>2.000000</td>\n",
              "      <td>4.000000</td>\n",
              "      <td>...</td>\n",
              "      <td>9.000000</td>\n",
              "      <td>7.000000</td>\n",
              "      <td>1.000000</td>\n",
              "      <td>7.000000</td>\n",
              "      <td>5334.000000</td>\n",
              "      <td>1.000000</td>\n",
              "      <td>7.000000</td>\n",
              "      <td>7.000000</td>\n",
              "      <td>7.000000</td>\n",
              "      <td>1956.000000</td>\n",
              "    </tr>\n",
              "  </tbody>\n",
              "</table>\n",
              "<p>8 rows × 21 columns</p>\n",
              "</div>\n",
              "      <button class=\"colab-df-convert\" onclick=\"convertToInteractive('df-b5edd158-38ae-4bef-a32e-3968f2fb8f26')\"\n",
              "              title=\"Convert this dataframe to an interactive table.\"\n",
              "              style=\"display:none;\">\n",
              "        \n",
              "  <svg xmlns=\"http://www.w3.org/2000/svg\" height=\"24px\"viewBox=\"0 0 24 24\"\n",
              "       width=\"24px\">\n",
              "    <path d=\"M0 0h24v24H0V0z\" fill=\"none\"/>\n",
              "    <path d=\"M18.56 5.44l.94 2.06.94-2.06 2.06-.94-2.06-.94-.94-2.06-.94 2.06-2.06.94zm-11 1L8.5 8.5l.94-2.06 2.06-.94-2.06-.94L8.5 2.5l-.94 2.06-2.06.94zm10 10l.94 2.06.94-2.06 2.06-.94-2.06-.94-.94-2.06-.94 2.06-2.06.94z\"/><path d=\"M17.41 7.96l-1.37-1.37c-.4-.4-.92-.59-1.43-.59-.52 0-1.04.2-1.43.59L10.3 9.45l-7.72 7.72c-.78.78-.78 2.05 0 2.83L4 21.41c.39.39.9.59 1.41.59.51 0 1.02-.2 1.41-.59l7.78-7.78 2.81-2.81c.8-.78.8-2.07 0-2.86zM5.41 20L4 18.59l7.72-7.72 1.47 1.35L5.41 20z\"/>\n",
              "  </svg>\n",
              "      </button>\n",
              "      \n",
              "  <style>\n",
              "    .colab-df-container {\n",
              "      display:flex;\n",
              "      flex-wrap:wrap;\n",
              "      gap: 12px;\n",
              "    }\n",
              "\n",
              "    .colab-df-convert {\n",
              "      background-color: #E8F0FE;\n",
              "      border: none;\n",
              "      border-radius: 50%;\n",
              "      cursor: pointer;\n",
              "      display: none;\n",
              "      fill: #1967D2;\n",
              "      height: 32px;\n",
              "      padding: 0 0 0 0;\n",
              "      width: 32px;\n",
              "    }\n",
              "\n",
              "    .colab-df-convert:hover {\n",
              "      background-color: #E2EBFA;\n",
              "      box-shadow: 0px 1px 2px rgba(60, 64, 67, 0.3), 0px 1px 3px 1px rgba(60, 64, 67, 0.15);\n",
              "      fill: #174EA6;\n",
              "    }\n",
              "\n",
              "    [theme=dark] .colab-df-convert {\n",
              "      background-color: #3B4455;\n",
              "      fill: #D2E3FC;\n",
              "    }\n",
              "\n",
              "    [theme=dark] .colab-df-convert:hover {\n",
              "      background-color: #434B5C;\n",
              "      box-shadow: 0px 1px 3px 1px rgba(0, 0, 0, 0.15);\n",
              "      filter: drop-shadow(0px 1px 2px rgba(0, 0, 0, 0.3));\n",
              "      fill: #FFFFFF;\n",
              "    }\n",
              "  </style>\n",
              "\n",
              "      <script>\n",
              "        const buttonEl =\n",
              "          document.querySelector('#df-b5edd158-38ae-4bef-a32e-3968f2fb8f26 button.colab-df-convert');\n",
              "        buttonEl.style.display =\n",
              "          google.colab.kernel.accessAllowed ? 'block' : 'none';\n",
              "\n",
              "        async function convertToInteractive(key) {\n",
              "          const element = document.querySelector('#df-b5edd158-38ae-4bef-a32e-3968f2fb8f26');\n",
              "          const dataTable =\n",
              "            await google.colab.kernel.invokeFunction('convertToInteractive',\n",
              "                                                     [key], {});\n",
              "          if (!dataTable) return;\n",
              "\n",
              "          const docLinkHtml = 'Like what you see? Visit the ' +\n",
              "            '<a target=\"_blank\" href=https://colab.research.google.com/notebooks/data_table.ipynb>data table notebook</a>'\n",
              "            + ' to learn more about interactive tables.';\n",
              "          element.innerHTML = '';\n",
              "          dataTable['output_type'] = 'display_data';\n",
              "          await google.colab.output.renderOutput(dataTable, element);\n",
              "          const docLink = document.createElement('div');\n",
              "          docLink.innerHTML = docLinkHtml;\n",
              "          element.appendChild(docLink);\n",
              "        }\n",
              "      </script>\n",
              "    </div>\n",
              "  </div>\n",
              "  "
            ]
          },
          "metadata": {},
          "execution_count": 19
        }
      ]
    },
    {
      "cell_type": "code",
      "source": [
        "df.isnull().sum()"
      ],
      "metadata": {
        "colab": {
          "base_uri": "https://localhost:8080/"
        },
        "id": "aBJ3Mvm83utz",
        "outputId": "2e74d435-cfe3-4fda-e9da-9e0434f0779d"
      },
      "execution_count": 20,
      "outputs": [
        {
          "output_type": "execute_result",
          "data": {
            "text/plain": [
              "고객ID         0\n",
              "이탈여부         0\n",
              "총매출액         0\n",
              "구매금액대        0\n",
              "방문빈도         0\n",
              "1회 평균매출액     0\n",
              "할인권 사용 횟수    0\n",
              "총 할인 금액      0\n",
              "고객등급         0\n",
              "구매유형         0\n",
              "클레임접수여부      0\n",
              "구매카테고리수      0\n",
              "거주지역         0\n",
              "성별           0\n",
              "고객 나이대       0\n",
              "거래기간         0\n",
              "할인민감여부       0\n",
              "Recency      0\n",
              "Frequency    0\n",
              "Monetary     0\n",
              "평균 구매주기      0\n",
              "dtype: int64"
            ]
          },
          "metadata": {},
          "execution_count": 20
        }
      ]
    },
    {
      "cell_type": "code",
      "source": [
        "#언더샘플링\n",
        "from imblearn.under_sampling import RandomUnderSampler\n",
        "from collections import Counter\n",
        "\n",
        "X_train_under, Y_train_under = RandomUnderSampler(random_state = 0).fit_resample(X_train, Y_train)\n",
        "\n",
        "print(\"original data %s\" %Counter(Y))\n",
        "print(\"original train data %s\" %Counter(Y_train))\n",
        "print(\"under train data %s\" %Counter(Y_train_under))"
      ],
      "metadata": {
        "colab": {
          "base_uri": "https://localhost:8080/"
        },
        "id": "VavW1jLu3zvV",
        "outputId": "acf95425-5b50-4f29-f478-aacf06d69274"
      },
      "execution_count": 21,
      "outputs": [
        {
          "output_type": "stream",
          "name": "stdout",
          "text": [
            "original data Counter({0: 700, 1: 300})\n",
            "original train data Counter({0: 481, 1: 219})\n",
            "under train data Counter({0: 219, 1: 219})\n"
          ]
        }
      ]
    },
    {
      "cell_type": "code",
      "source": [
        "#오버 샘플링\n",
        "from imblearn.over_sampling import SMOTE #Synthetic minority over-sampling techniqe\n",
        "\n",
        "X_train_over, Y_train_over = SMOTE(random_state = 0).fit_resample(X_train, Y_train)\n",
        "\n",
        "print(\"original data %s\" %Counter(Y))\n",
        "print(\"original train data %s\" %Counter(Y_train))\n",
        "print(\"over train data %s\" %Counter(Y_train_over))\n"
      ],
      "metadata": {
        "colab": {
          "base_uri": "https://localhost:8080/"
        },
        "id": "WMebD1N06uEo",
        "outputId": "98257cf8-6437-4c11-b2d9-cb16a2badcdf"
      },
      "execution_count": 22,
      "outputs": [
        {
          "output_type": "stream",
          "name": "stdout",
          "text": [
            "original data Counter({0: 700, 1: 300})\n",
            "original train data Counter({0: 481, 1: 219})\n",
            "over train data Counter({1: 481, 0: 481})\n"
          ]
        }
      ]
    },
    {
      "cell_type": "code",
      "source": [],
      "metadata": {
        "id": "b7HcNvINXKjB"
      },
      "execution_count": 22,
      "outputs": []
    },
    {
      "cell_type": "code",
      "source": [
        "df.info()"
      ],
      "metadata": {
        "colab": {
          "base_uri": "https://localhost:8080/"
        },
        "id": "FCEbJY4jXKsH",
        "outputId": "e64e64e9-e75f-4a20-ef9e-231398396b4a"
      },
      "execution_count": 23,
      "outputs": [
        {
          "output_type": "stream",
          "name": "stdout",
          "text": [
            "<class 'pandas.core.frame.DataFrame'>\n",
            "RangeIndex: 1000 entries, 0 to 999\n",
            "Data columns (total 21 columns):\n",
            " #   Column     Non-Null Count  Dtype  \n",
            "---  ------     --------------  -----  \n",
            " 0   고객ID       1000 non-null   int64  \n",
            " 1   이탈여부       1000 non-null   int64  \n",
            " 2   총매출액       1000 non-null   int64  \n",
            " 3   구매금액대      1000 non-null   int64  \n",
            " 4   방문빈도       1000 non-null   int64  \n",
            " 5   1회 평균매출액   1000 non-null   int64  \n",
            " 6   할인권 사용 횟수  1000 non-null   int64  \n",
            " 7   총 할인 금액    1000 non-null   int64  \n",
            " 8   고객등급       1000 non-null   int64  \n",
            " 9   구매유형       1000 non-null   int64  \n",
            " 10  클레임접수여부    1000 non-null   int64  \n",
            " 11  구매카테고리수    1000 non-null   int64  \n",
            " 12  거주지역       1000 non-null   int64  \n",
            " 13  성별         1000 non-null   int64  \n",
            " 14  고객 나이대     1000 non-null   int64  \n",
            " 15  거래기간       1000 non-null   int64  \n",
            " 16  할인민감여부     1000 non-null   int64  \n",
            " 17  Recency    1000 non-null   int64  \n",
            " 18  Frequency  1000 non-null   int64  \n",
            " 19  Monetary   1000 non-null   int64  \n",
            " 20  평균 구매주기    1000 non-null   float64\n",
            "dtypes: float64(1), int64(20)\n",
            "memory usage: 164.2 KB\n"
          ]
        }
      ]
    },
    {
      "cell_type": "markdown",
      "source": [
        "선형 회귀 분석"
      ],
      "metadata": {
        "id": "KkB9uIvvXT_H"
      }
    },
    {
      "cell_type": "code",
      "source": [
        "#seaborn 패키지 : 데이터분석\n",
        "import seaborn as sns\n",
        "import numpy as np \n",
        "import pandas as pd"
      ],
      "metadata": {
        "id": "GwRbwk5KXrSx"
      },
      "execution_count": 24,
      "outputs": []
    },
    {
      "cell_type": "code",
      "source": [],
      "metadata": {
        "id": "9bpHSD3iGhwp"
      },
      "execution_count": 24,
      "outputs": []
    },
    {
      "cell_type": "code",
      "source": [
        "df[\"평균 구매주기\"].describe()"
      ],
      "metadata": {
        "colab": {
          "base_uri": "https://localhost:8080/"
        },
        "id": "B_2fx-XkXr1k",
        "outputId": "0e1ac832-fd52-498d-fb15-6f3c9e46c45b"
      },
      "execution_count": 25,
      "outputs": [
        {
          "output_type": "execute_result",
          "data": {
            "text/plain": [
              "count    1000.000000\n",
              "mean      266.880824\n",
              "std       254.077398\n",
              "min        13.980645\n",
              "25%       111.957671\n",
              "50%       191.469697\n",
              "75%       324.386218\n",
              "max      1956.000000\n",
              "Name: 평균 구매주기, dtype: float64"
            ]
          },
          "metadata": {},
          "execution_count": 25
        }
      ]
    },
    {
      "cell_type": "code",
      "source": [
        "sns.distplot(df[\"평균 구매주기\"])"
      ],
      "metadata": {
        "colab": {
          "base_uri": "https://localhost:8080/",
          "height": 788
        },
        "id": "A-pzGt-XnvIo",
        "outputId": "a7f9d8bf-f9e2-4bbb-a3c9-a0d6d2f79333"
      },
      "execution_count": 26,
      "outputs": [
        {
          "output_type": "stream",
          "name": "stderr",
          "text": [
            "/usr/local/lib/python3.8/dist-packages/seaborn/distributions.py:2619: FutureWarning: `distplot` is a deprecated function and will be removed in a future version. Please adapt your code to use either `displot` (a figure-level function with similar flexibility) or `histplot` (an axes-level function for histograms).\n",
            "  warnings.warn(msg, FutureWarning)\n"
          ]
        },
        {
          "output_type": "execute_result",
          "data": {
            "text/plain": [
              "<matplotlib.axes._subplots.AxesSubplot at 0x7ff7eb54c8b0>"
            ]
          },
          "metadata": {},
          "execution_count": 26
        },
        {
          "output_type": "stream",
          "name": "stderr",
          "text": [
            "/usr/local/lib/python3.8/dist-packages/matplotlib/backends/backend_agg.py:214: RuntimeWarning: Glyph 54217 missing from current font.\n",
            "  font.set_text(s, 0.0, flags=flags)\n",
            "/usr/local/lib/python3.8/dist-packages/matplotlib/backends/backend_agg.py:214: RuntimeWarning: Glyph 44512 missing from current font.\n",
            "  font.set_text(s, 0.0, flags=flags)\n",
            "/usr/local/lib/python3.8/dist-packages/matplotlib/backends/backend_agg.py:214: RuntimeWarning: Glyph 44396 missing from current font.\n",
            "  font.set_text(s, 0.0, flags=flags)\n",
            "/usr/local/lib/python3.8/dist-packages/matplotlib/backends/backend_agg.py:214: RuntimeWarning: Glyph 47588 missing from current font.\n",
            "  font.set_text(s, 0.0, flags=flags)\n",
            "/usr/local/lib/python3.8/dist-packages/matplotlib/backends/backend_agg.py:214: RuntimeWarning: Glyph 51452 missing from current font.\n",
            "  font.set_text(s, 0.0, flags=flags)\n",
            "/usr/local/lib/python3.8/dist-packages/matplotlib/backends/backend_agg.py:214: RuntimeWarning: Glyph 44592 missing from current font.\n",
            "  font.set_text(s, 0.0, flags=flags)\n",
            "/usr/local/lib/python3.8/dist-packages/matplotlib/backends/backend_agg.py:183: RuntimeWarning: Glyph 54217 missing from current font.\n",
            "  font.set_text(s, 0, flags=flags)\n",
            "/usr/local/lib/python3.8/dist-packages/matplotlib/backends/backend_agg.py:183: RuntimeWarning: Glyph 44512 missing from current font.\n",
            "  font.set_text(s, 0, flags=flags)\n",
            "/usr/local/lib/python3.8/dist-packages/matplotlib/backends/backend_agg.py:183: RuntimeWarning: Glyph 44396 missing from current font.\n",
            "  font.set_text(s, 0, flags=flags)\n",
            "/usr/local/lib/python3.8/dist-packages/matplotlib/backends/backend_agg.py:183: RuntimeWarning: Glyph 47588 missing from current font.\n",
            "  font.set_text(s, 0, flags=flags)\n",
            "/usr/local/lib/python3.8/dist-packages/matplotlib/backends/backend_agg.py:183: RuntimeWarning: Glyph 51452 missing from current font.\n",
            "  font.set_text(s, 0, flags=flags)\n",
            "/usr/local/lib/python3.8/dist-packages/matplotlib/backends/backend_agg.py:183: RuntimeWarning: Glyph 44592 missing from current font.\n",
            "  font.set_text(s, 0, flags=flags)\n"
          ]
        },
        {
          "output_type": "display_data",
          "data": {
            "text/plain": [
              "<Figure size 432x288 with 1 Axes>"
            ],
            "image/png": "[encoded data removed]"
          },
          "metadata": {
            "needs_background": "light"
          }
        }
      ]
    },
    {
      "cell_type": "code",
      "source": [
        "df[\"평균 구매주기\"] = np.log1p(df[\"평균 구매주기\"])\n",
        "sns.distplot(df[\"평균 구매주기\"])"
      ],
      "metadata": {
        "colab": {
          "base_uri": "https://localhost:8080/",
          "height": 788
        },
        "id": "SZIJgeQcYCSZ",
        "outputId": "2efb7193-f48b-43e8-884c-a6996063eeda"
      },
      "execution_count": 27,
      "outputs": [
        {
          "output_type": "stream",
          "name": "stderr",
          "text": [
            "/usr/local/lib/python3.8/dist-packages/seaborn/distributions.py:2619: FutureWarning: `distplot` is a deprecated function and will be removed in a future version. Please adapt your code to use either `displot` (a figure-level function with similar flexibility) or `histplot` (an axes-level function for histograms).\n",
            "  warnings.warn(msg, FutureWarning)\n"
          ]
        },
        {
          "output_type": "execute_result",
          "data": {
            "text/plain": [
              "<matplotlib.axes._subplots.AxesSubplot at 0x7ff7ee9824f0>"
            ]
          },
          "metadata": {},
          "execution_count": 27
        },
        {
          "output_type": "stream",
          "name": "stderr",
          "text": [
            "/usr/local/lib/python3.8/dist-packages/matplotlib/backends/backend_agg.py:214: RuntimeWarning: Glyph 54217 missing from current font.\n",
            "  font.set_text(s, 0.0, flags=flags)\n",
            "/usr/local/lib/python3.8/dist-packages/matplotlib/backends/backend_agg.py:214: RuntimeWarning: Glyph 44512 missing from current font.\n",
            "  font.set_text(s, 0.0, flags=flags)\n",
            "/usr/local/lib/python3.8/dist-packages/matplotlib/backends/backend_agg.py:214: RuntimeWarning: Glyph 44396 missing from current font.\n",
            "  font.set_text(s, 0.0, flags=flags)\n",
            "/usr/local/lib/python3.8/dist-packages/matplotlib/backends/backend_agg.py:214: RuntimeWarning: Glyph 47588 missing from current font.\n",
            "  font.set_text(s, 0.0, flags=flags)\n",
            "/usr/local/lib/python3.8/dist-packages/matplotlib/backends/backend_agg.py:214: RuntimeWarning: Glyph 51452 missing from current font.\n",
            "  font.set_text(s, 0.0, flags=flags)\n",
            "/usr/local/lib/python3.8/dist-packages/matplotlib/backends/backend_agg.py:214: RuntimeWarning: Glyph 44592 missing from current font.\n",
            "  font.set_text(s, 0.0, flags=flags)\n",
            "/usr/local/lib/python3.8/dist-packages/matplotlib/backends/backend_agg.py:183: RuntimeWarning: Glyph 54217 missing from current font.\n",
            "  font.set_text(s, 0, flags=flags)\n",
            "/usr/local/lib/python3.8/dist-packages/matplotlib/backends/backend_agg.py:183: RuntimeWarning: Glyph 44512 missing from current font.\n",
            "  font.set_text(s, 0, flags=flags)\n",
            "/usr/local/lib/python3.8/dist-packages/matplotlib/backends/backend_agg.py:183: RuntimeWarning: Glyph 44396 missing from current font.\n",
            "  font.set_text(s, 0, flags=flags)\n",
            "/usr/local/lib/python3.8/dist-packages/matplotlib/backends/backend_agg.py:183: RuntimeWarning: Glyph 47588 missing from current font.\n",
            "  font.set_text(s, 0, flags=flags)\n",
            "/usr/local/lib/python3.8/dist-packages/matplotlib/backends/backend_agg.py:183: RuntimeWarning: Glyph 51452 missing from current font.\n",
            "  font.set_text(s, 0, flags=flags)\n",
            "/usr/local/lib/python3.8/dist-packages/matplotlib/backends/backend_agg.py:183: RuntimeWarning: Glyph 44592 missing from current font.\n",
            "  font.set_text(s, 0, flags=flags)\n"
          ]
        },
        {
          "output_type": "display_data",
          "data": {
            "text/plain": [
              "<Figure size 432x288 with 1 Axes>"
            ],
            "image/png": "[encoded data removed]"
          },
          "metadata": {
            "needs_background": "light"
          }
        }
      ]
    },
    {
      "cell_type": "code",
      "source": [
        "from sklearn.model_selection import train_test_split\n",
        "from sklearn.compose import ColumnTransformer\n",
        "from sklearn.preprocessing import StandardScaler\n",
        "from sklearn.preprocessing import OneHotEncoder\n",
        "#num : 숫자형변수    cp : 카테고리형 변수\n",
        "num = [\"총매출액\", \"1회 평균매출액\", \"할인권 사용 횟수\", \"총 할인 금액\", \"구매카테고리수\", \"Frequency\", \"Monetary\"]\n",
        "cg = [\"구매금액대\", \"고객등급\", \"구매유형\", \"클레임접수여부\", \"거주지역\", \"성별\", \"고객 나이대\"]\n",
        "\n",
        "X = df[df.이탈여부 == 0][num+cg]\n",
        "Y = df[df.이탈여부 == 0]['평균 구매주기']\n",
        "\n",
        "X_train, X_test, Y_train, Y_test = train_test_split(X,Y, test_size=0.3, random_state = 0)\n",
        "\n",
        "#표준화, 원핫인코딩\n",
        "ct = ColumnTransformer([('scling', StandardScaler(), num), (\"onehot\", OneHotEncoder(sparse = False), cg)])\n",
        "ct.fit(X_train)\n",
        "X_train= ct.transform(X_train)\n",
        "X_test= ct.transform(X_test)\n",
        "\n",
        "print(X_train[0])"
      ],
      "metadata": {
        "colab": {
          "base_uri": "https://localhost:8080/"
        },
        "id": "8UybHjMlY4MD",
        "outputId": "6ce9d44b-bca5-4baa-930d-189b9efceb95"
      },
      "execution_count": 28,
      "outputs": [
        {
          "output_type": "stream",
          "name": "stdout",
          "text": [
            "[-0.42215576 -0.59782402  0.72324173  0.52150413  1.67181667 -0.24075719\n",
            "  0.52402175  1.          0.          0.          1.          0.\n",
            "  0.          0.          1.          0.          0.          1.\n",
            "  0.          0.          0.          0.          1.          0.\n",
            "  0.          1.          0.          0.          0.          1.\n",
            "  0.          0.          0.        ]\n"
          ]
        }
      ]
    },
    {
      "cell_type": "code",
      "source": [
        "from sklearn.linear_model import LinearRegression\n",
        "from sklearn.metrics import mean_squared_error\n",
        "from math import sqrt\n",
        "\n",
        "lr = LinearRegression().fit(X_train, Y_train)\n",
        "\n",
        "Y_pred = lr.predict(X_test)\n",
        "print(\"predict value\\n\", Y_pred)\n",
        "print(\"trainR2 : {:.3f}\".format(lr.score(X_train, Y_train)))\n",
        "print(\"testR2 : {:.3f}\".format(lr.score(X_test, Y_test)))\n",
        "\n",
        "rmse = sqrt(mean_squared_error(Y_test, Y_pred))\n",
        "print(\"RMSE : {:.3f}\".format(rmse))"
      ],
      "metadata": {
        "colab": {
          "base_uri": "https://localhost:8080/"
        },
        "id": "yvMpJdnjfiVP",
        "outputId": "b4761144-c474-47e5-be10-947c3ada3a26"
      },
      "execution_count": 29,
      "outputs": [
        {
          "output_type": "stream",
          "name": "stdout",
          "text": [
            "predict value\n",
            " [6.0302701  5.41215677 5.42420867 6.43899079 4.93590919 5.85532849\n",
            " 4.56394358 3.8038955  5.22290102 5.61752221 5.66755858 3.44015256\n",
            " 4.32828323 5.41149193 5.83496713 5.04649847 5.12441095 5.61717937\n",
            " 5.28594149 5.43582927 5.45116422 5.26304722 5.70801146 5.03246422\n",
            " 4.70523751 5.39010832 5.59724863 4.08965942 4.40771408 5.45203619\n",
            " 5.39920771 5.65530022 5.27711883 5.7898368  5.34802942 5.55984513\n",
            " 5.18690689 5.57605304 5.47013415 6.61038086 5.42457581 4.43007687\n",
            " 4.68874494 4.29082123 4.77392453 5.94844185 4.93573451 5.44179832\n",
            " 5.29885396 5.79849569 5.44895057 6.13893195 4.70853914 4.72136082\n",
            " 5.26288015 5.29559649 4.9944117  5.70877743 4.22588554 5.06871067\n",
            " 5.13133955 4.83694564 4.444105   5.55643915 4.70940657 5.48285624\n",
            " 5.44463304 4.79091017 5.55952311 3.24002924 5.61109691 5.0678168\n",
            " 5.25923693 4.69626943 3.98374392 5.84571399 5.66972277 5.3203395\n",
            " 4.21100319 4.96752541 4.81038608 5.46601131 5.26382683 4.61218179\n",
            " 5.48213481 5.17219235 4.98828846 5.52966787 4.19525159 5.5089853\n",
            " 5.46969797 5.38935973 5.17351572 5.20534016 4.91429785 6.35813031\n",
            " 5.66788764 4.52409599 5.49752159 3.94530143 4.33835684 5.2631977\n",
            " 5.67208675 5.49947263 5.35220683 4.59383421 5.3399252  5.38654377\n",
            " 5.32150776 4.50097043 5.56408083 5.43906527 5.80869175 5.98633069\n",
            " 5.39222338 4.52777812 5.04828617 5.1508452  4.69967278 4.69252584\n",
            " 5.24701327 5.37848708 5.433188   4.85210521 5.06300221 5.61518791\n",
            " 5.01385181 4.26065441 5.07688664 4.66393484 3.4206454  5.26628514\n",
            " 5.79092652 5.3939315  5.26204873 5.09699467 4.52555017 5.58870936\n",
            " 5.13332833 4.93260002 5.66784458 5.83580719 5.35929363 5.20337026\n",
            " 4.72002593 5.61656362 5.37078032 5.7625779  3.77297191 5.19005192\n",
            " 4.55478581 4.86103165 5.30894628 4.67976808 6.06562164 5.11350314\n",
            " 3.51177436 7.17961493 5.24825306 5.35736988 5.19288244 5.64365322\n",
            " 6.11833407 4.55593917 4.89008405 5.37955631 5.63349515 4.93923769\n",
            " 5.68372872 5.12728438 3.00220781 5.30927849 4.66217982 5.95231316\n",
            " 4.31402908 5.36312525 7.27779018 4.48893564 5.45594905 4.55539835\n",
            " 7.33762247 6.19083139 5.83765808 5.73043273 5.5576523  5.42047983\n",
            " 5.5229765  5.60587685 4.38606312 5.31440912 5.58640569 5.05612038\n",
            " 6.10871889 3.71240753 5.08319795 5.55783262 5.53504333 4.44940591\n",
            " 5.47047228 4.31735287 6.30996163 3.84011474 5.20005564 5.47507267\n",
            " 5.13249682 4.60129137 5.20725766 5.77785492 5.5548456  5.15987351]\n",
            "trainR2 : 0.726\n",
            "testR2 : 0.695\n",
            "RMSE : 0.405\n"
          ]
        }
      ]
    },
    {
      "cell_type": "code",
      "source": [
        "print(\"절편\", np.round(lr.intercept_,3))\n",
        "print(\"가중치(beta)\", np.round(lr.coef_, 3))"
      ],
      "metadata": {
        "colab": {
          "base_uri": "https://localhost:8080/"
        },
        "id": "RSis7GxxhOTB",
        "outputId": "0969dbff-54a7-4a43-c86c-a0401c02dd28"
      },
      "execution_count": 30,
      "outputs": [
        {
          "output_type": "stream",
          "name": "stdout",
          "text": [
            "절편 5.204\n",
            "가중치(beta) [-0.156  0.388 -0.019 -0.01   0.035 -0.29   0.015  0.292 -0.001 -0.29\n",
            "  0.014 -0.014  0.055  0.036  0.008 -0.099 -0.08   0.08   0.427 -0.082\n",
            " -0.06  -0.194 -0.021 -0.078  0.008 -0.055  0.055 -0.427  0.01   0.07\n",
            "  0.043  0.048  0.257]\n"
          ]
        }
      ]
    },
    {
      "cell_type": "code",
      "source": [
        "df.columns"
      ],
      "metadata": {
        "colab": {
          "base_uri": "https://localhost:8080/"
        },
        "id": "Z41Qm4ybbfi_",
        "outputId": "f6e3e16a-43aa-4d6e-a451-912dd81f8693"
      },
      "execution_count": 31,
      "outputs": [
        {
          "output_type": "execute_result",
          "data": {
            "text/plain": [
              "Index(['고객ID', '이탈여부', '총매출액', '구매금액대', '방문빈도', '1회 평균매출액', '할인권 사용 횟수',\n",
              "       '총 할인 금액', '고객등급', '구매유형', '클레임접수여부', '구매카테고리수', '거주지역', '성별', '고객 나이대',\n",
              "       '거래기간', '할인민감여부', 'Recency', 'Frequency', 'Monetary', '평균 구매주기'],\n",
              "      dtype='object')"
            ]
          },
          "metadata": {},
          "execution_count": 31
        }
      ]
    },
    {
      "cell_type": "markdown",
      "source": [
        "릿지, 라쏘 회귀"
      ],
      "metadata": {
        "id": "gsJvD3smwcbw"
      }
    },
    {
      "cell_type": "code",
      "source": [
        "from sklearn.linear_model import Ridge\n",
        "\n",
        "lr_ridge = Ridge(random_state = 0).fit(X_train, Y_train)\n",
        "Y_pred = lr_ridge.predict(X_test)\n",
        "\n",
        "print(\"예측값(Y predict value)\\n\", Y_pred)"
      ],
      "metadata": {
        "colab": {
          "base_uri": "https://localhost:8080/"
        },
        "id": "4xuEznKOwfdy",
        "outputId": "fbc0333e-b7c4-47c6-ef02-d76af6820a81"
      },
      "execution_count": 32,
      "outputs": [
        {
          "output_type": "stream",
          "name": "stdout",
          "text": [
            "예측값(Y predict value)\n",
            " [6.03000797 5.41671746 5.42932123 6.44127922 4.93860553 5.85932374\n",
            " 4.56839084 3.81054588 5.22477967 5.61889847 5.66813628 3.42981349\n",
            " 4.33248596 5.41101642 5.83804147 5.04471767 5.1211324  5.61206657\n",
            " 5.28801914 5.32488795 5.45169079 5.25880606 5.71346032 5.02859175\n",
            " 4.70951147 5.38878901 5.60027856 4.09721037 4.40744067 5.45098959\n",
            " 5.39702921 5.64784758 5.27252093 5.79008128 5.35467632 5.56063965\n",
            " 5.19607603 5.57536879 5.46592343 6.61557262 5.42387534 4.43825559\n",
            " 4.69193156 4.30121093 4.7731486  5.950302   4.94125475 5.44030949\n",
            " 5.2948706  5.79698793 5.44723488 6.13538058 4.70865764 4.72464693\n",
            " 5.25715635 5.29808444 4.9962477  5.70904828 4.24165264 5.06579461\n",
            " 5.1252699  4.83996783 4.44518243 5.55905844 4.70841625 5.47720406\n",
            " 5.44152413 4.79120395 5.56974829 3.25280314 5.6106784  5.06803014\n",
            " 5.25956393 4.70791967 3.98838094 5.84965084 5.67331254 5.31944294\n",
            " 4.21646513 4.98002289 4.81229781 5.46333154 5.27177929 4.610552\n",
            " 5.48261262 5.17186083 4.9841382  5.52892245 4.20170762 5.50716341\n",
            " 5.46594806 5.3966436  5.17127401 5.21499908 4.92397251 6.36092123\n",
            " 5.6674045  4.52266905 5.49573838 3.94846846 4.35125638 5.25753846\n",
            " 5.67123849 5.49881707 5.35831053 4.59499848 5.31448995 5.38475668\n",
            " 5.31944738 4.50333435 5.56591817 5.4401703  5.80399748 5.98417189\n",
            " 5.39226662 4.53508055 5.04657319 5.15176254 4.70530564 4.69265593\n",
            " 5.24839856 5.3767028  5.42649019 4.85196419 5.06505138 5.61193016\n",
            " 5.01427917 4.26477501 5.07720561 4.67741468 3.42769567 5.263973\n",
            " 5.78293944 5.39520592 5.25903992 5.09744686 4.52526308 5.58861481\n",
            " 5.13916331 4.94419716 5.66699272 5.8104644  5.36521963 5.20504587\n",
            " 4.7163364  5.61786925 5.36735762 5.76280418 3.76887428 5.18944838\n",
            " 4.55473703 4.86336754 5.31431324 4.68301705 6.06735591 5.1132049\n",
            " 3.51345104 7.17613879 5.26076015 5.35320971 5.19584987 5.64474613\n",
            " 6.1145688  4.55458275 4.8899415  5.38090059 5.63183886 4.93973411\n",
            " 5.67986287 5.10076749 3.02173131 5.30605869 4.6641244  5.94914821\n",
            " 4.32084317 5.36097409 7.27340601 4.49330047 5.45468312 4.5534446\n",
            " 7.33888147 6.1921297  5.83553559 5.73048056 5.55838073 5.41628167\n",
            " 5.5204242  5.60364379 4.39187133 5.31264895 5.58717864 5.05450839\n",
            " 6.10221635 3.71454243 5.08511824 5.55356348 5.53973876 4.4471473\n",
            " 5.47041853 4.32234069 6.30857552 3.8395683  5.20562334 5.47293632\n",
            " 5.1282533  4.60088108 5.20920958 5.77548498 5.55173248 5.16133714]\n"
          ]
        }
      ]
    },
    {
      "cell_type": "code",
      "source": [
        "from joblib.disk import RM_SUBDIRS_RETRY_TIME\n",
        "rmse = sqrt(mean_squared_error(Y_test, Y_pred))\n",
        "print(\"R2 : {:.3f}\".format(lr_ridge.score(X_train, Y_train)))\n",
        "print(\"RMSE : {:.3f}\".format(rmse))\n",
        "#비교\n",
        "print(\"lr R2 : {:.3f}\".format(lr.score(X_train, Y_train)))"
      ],
      "metadata": {
        "colab": {
          "base_uri": "https://localhost:8080/"
        },
        "id": "DkZyOn3YydGz",
        "outputId": "932e184b-c38c-40ed-b82d-2a72fcb6ffd5"
      },
      "execution_count": 33,
      "outputs": [
        {
          "output_type": "stream",
          "name": "stdout",
          "text": [
            "R2 : 0.726\n",
            "RMSE : 0.403\n",
            "lr R2 : 0.726\n"
          ]
        }
      ]
    },
    {
      "cell_type": "code",
      "source": [
        "from sklearn.linear_model import Lasso\n",
        "\n",
        "lr_lasso = Lasso(random_state = 0, alpha = 0.01, max_iter = 1000).fit(X_train, Y_train)\n",
        "Y_pred = lr_lasso.predict(X_test)\n",
        "\n",
        "print(\"예측값(Y predict value)\\n\", Y_pred)"
      ],
      "metadata": {
        "colab": {
          "base_uri": "https://localhost:8080/"
        },
        "id": "VIH5whEe1C2a",
        "outputId": "de5bf489-52a6-4b60-9a0b-f971bece1e48"
      },
      "execution_count": 34,
      "outputs": [
        {
          "output_type": "stream",
          "name": "stdout",
          "text": [
            "예측값(Y predict value)\n",
            " [5.85999035 5.43036643 5.44663007 6.48906612 4.97641413 5.69822258\n",
            " 4.5716117  3.88906492 5.27984535 5.54858587 5.67709958 3.30742434\n",
            " 4.45272397 5.42149034 5.87903236 5.00187799 5.12055037 5.56949787\n",
            " 5.33279402 5.0264179  5.52733519 5.1867408  5.665303   5.0119166\n",
            " 4.70132881 5.44864394 5.62488274 4.16327321 4.38211259 5.4308754\n",
            " 5.37511549 5.67040693 5.19104603 5.79672221 5.47877539 5.4547485\n",
            " 5.25369206 5.54714363 5.42273349 6.6026743  5.44052754 4.61359453\n",
            " 4.74827815 4.47000201 4.78926599 5.82570411 4.93589832 5.42347938\n",
            " 5.19064772 5.71009563 5.38598782 5.87895508 4.47556196 4.77561637\n",
            " 5.23514088 5.36821002 4.94726191 5.74052715 4.48801399 4.99109917\n",
            " 4.96578984 4.92437103 4.49896869 5.51596171 4.70911385 5.37807152\n",
            " 5.38059893 4.70777152 5.63186935 3.33411699 5.63024419 5.02637709\n",
            " 5.23878352 4.85617924 4.07737633 5.82495727 5.67069263 5.22957699\n",
            " 4.31245514 5.15236296 4.79517679 5.3733623  5.32829571 4.50502391\n",
            " 5.54652945 5.21846617 5.01779632 5.53962851 4.32845933 5.49707177\n",
            " 5.47579866 5.47030054 5.11389376 5.34111284 5.03510473 6.30417129\n",
            " 5.54703726 4.56825259 5.46293324 4.00945795 4.4638185  5.21238187\n",
            " 5.57668597 5.38856242 5.42216949 4.69398268 5.18384901 5.33034093\n",
            " 5.21577881 4.68397292 5.45096619 5.36153877 5.74800785 5.93458662\n",
            " 5.38343471 4.59590606 5.04093295 5.20282397 4.78319821 4.87273491\n",
            " 5.32614147 5.3610081  5.18371316 4.79607895 5.18381171 5.59420426\n",
            " 4.90357639 4.39371112 4.9374651  4.89277018 3.57275229 5.20795496\n",
            " 5.64477093 5.4925311  5.10006975 5.05996799 4.37514809 5.55741413\n",
            " 5.2321456  5.0419359  5.66605908 5.53149531 5.27795985 5.21192103\n",
            " 4.64460479 5.55312849 5.30863491 5.67994963 3.68696671 5.21799557\n",
            " 4.52838841 4.89986718 5.27500923 4.69073274 6.00138956 5.09996223\n",
            " 3.47931189 7.13868655 5.30524109 5.29005772 5.30312695 5.56059908\n",
            " 5.9062838  4.54511386 4.8664513  5.41831185 5.66006805 5.00005965\n",
            " 5.62518236 4.90297568 3.23729804 5.31907912 4.67991665 5.8259254\n",
            " 4.29128851 5.37734548 7.15292646 4.55304951 5.52657034 4.45132933\n",
            " 7.29774518 6.21806332 5.73610582 5.72771399 5.52314158 5.35375337\n",
            " 5.5273259  5.59471329 4.29164789 5.33613057 5.54767693 5.14272409\n",
            " 5.97251215 3.71880871 5.1787783  5.44436474 5.56822526 4.33993145\n",
            " 5.4687718  4.27447305 6.14488624 3.83143591 5.29196668 5.31166736\n",
            " 5.14886303 4.68537449 5.27532464 5.69569534 5.45935736 5.18546778]\n"
          ]
        }
      ]
    },
    {
      "cell_type": "code",
      "source": [
        "rmse = sqrt(mean_squared_error(Y_test, Y_pred))\n",
        "print(\"lasso R2 : {:.3f}\".format(lr_lasso.score(X_train, Y_train)))\n",
        "print(\"RMSE : {:.3f}\".format(rmse))\n",
        "#비교\n",
        "print(\"lr R2 : {:.3f}\".format(lr.score(X_train, Y_train)))\n",
        "print(\"ridge R2 : {:.3f}\".format(lr_ridge.score(X_train, Y_train)))"
      ],
      "metadata": {
        "colab": {
          "base_uri": "https://localhost:8080/"
        },
        "id": "NkfhzfQH1VF4",
        "outputId": "6fcc6c86-fc2f-46ea-c342-2872bc309543"
      },
      "execution_count": 35,
      "outputs": [
        {
          "output_type": "stream",
          "name": "stdout",
          "text": [
            "lasso R2 : 0.709\n",
            "RMSE : 0.391\n",
            "lr R2 : 0.726\n",
            "ridge R2 : 0.726\n"
          ]
        }
      ]
    },
    {
      "cell_type": "code",
      "source": [
        "from sklearn.linear_model import ElasticNet\n",
        "\n",
        "lr_ela = ElasticNet(alpha = 0.01).fit(X_train, Y_train)\n",
        "Y_pred = lr_ela.predict(X_test)\n",
        "\n",
        "print(\"예측값(Y predict value) \\n\", Y_pred)"
      ],
      "metadata": {
        "colab": {
          "base_uri": "https://localhost:8080/"
        },
        "id": "4FO2u5wn_hMq",
        "outputId": "b7b9297b-a547-4d30-af11-1b49a7e09a6f"
      },
      "execution_count": 36,
      "outputs": [
        {
          "output_type": "stream",
          "name": "stdout",
          "text": [
            "예측값(Y predict value) \n",
            " [5.9405265  5.43949734 5.45645319 6.46077287 4.95641647 5.75737516\n",
            " 4.58077628 3.8664991  5.2544911  5.56797779 5.69465169 3.35014751\n",
            " 4.41740921 5.41472514 5.87198794 5.01984866 5.1079496  5.56938294\n",
            " 5.33424602 5.01150019 5.50236848 5.21289944 5.70405138 5.00509779\n",
            " 4.73712733 5.43318095 5.63394533 4.16143035 4.40905906 5.45448006\n",
            " 5.38029119 5.65239382 5.22517748 5.78702872 5.43971899 5.50091954\n",
            " 5.24686551 5.54584606 5.45012419 6.63427603 5.44729928 4.5642916\n",
            " 4.7153638  4.40426435 4.79804451 5.87250388 4.95774286 5.42138422\n",
            " 5.21745366 5.74415372 5.42050245 5.98513427 4.55881782 4.75746308\n",
            " 5.24959713 5.33108418 4.9783863  5.741972   4.39245511 5.01488932\n",
            " 5.01745308 4.88230883 4.47336366 5.52395419 4.69688542 5.41272695\n",
            " 5.3969981  4.7412395  5.62539593 3.29112611 5.63602937 5.02901435\n",
            " 5.25500609 4.80177521 4.03300414 5.85055833 5.6889433  5.2796506\n",
            " 4.26043501 5.08768705 4.80884726 5.39430314 5.33776004 4.52387454\n",
            " 5.51513909 5.19015221 4.99602694 5.54968022 4.27199531 5.50752418\n",
            " 5.46056247 5.43504533 5.12413502 5.31623094 5.00641521 6.35568982\n",
            " 5.60004089 4.5545655  5.45560979 3.98170325 4.42366008 5.21660774\n",
            " 5.61846436 5.45552062 5.40932011 4.65583668 5.15631872 5.37575374\n",
            " 5.24779075 4.62556482 5.52923167 5.40199351 5.77241304 5.94836797\n",
            " 5.4066238  4.58156326 5.04189999 5.19564173 4.77253313 4.79854604\n",
            " 5.28946372 5.36596192 5.26841356 4.81385014 5.14223434 5.61132413\n",
            " 4.95045358 4.35414334 4.97797871 4.82767137 3.51356345 5.21508256\n",
            " 5.67708348 5.44760187 5.14120674 5.0700812  4.41904091 5.57505795\n",
            " 5.20069387 5.02128233 5.67451577 5.55891228 5.32420393 5.21522672\n",
            " 4.66763649 5.56941717 5.33391638 5.72685966 3.72172643 5.21115635\n",
            " 4.53338657 4.8626803  5.30760086 4.67845162 6.03004689 5.1046489\n",
            " 3.47153994 7.17521067 5.30494699 5.31190029 5.2670508  5.57500432\n",
            " 5.99634059 4.53169453 4.88089912 5.4092451  5.65778713 4.98843801\n",
            " 5.6399063  4.92089892 3.15823931 5.31362257 4.68747456 5.88308456\n",
            " 4.2937246  5.36679096 7.19528627 4.5539718  5.51633204 4.48199009\n",
            " 7.3211067  6.21743013 5.7768792  5.72243738 5.53774998 5.38058883\n",
            " 5.5200009  5.6093851  4.33431123 5.31490383 5.57113809 5.1007778\n",
            " 6.00645525 3.70746759 5.141049   5.47103119 5.57027492 4.37984229\n",
            " 5.47266805 4.29917117 6.20457321 3.83807941 5.27363458 5.37610868\n",
            " 5.14771866 4.65916093 5.2479229  5.71410359 5.50666316 5.18336107]\n"
          ]
        }
      ]
    },
    {
      "cell_type": "code",
      "source": [
        "rmse = sqrt(mean_squared_error(Y_test, Y_pred))\n",
        "print(\"ela R2 : {:.3f}\".format(lr_ela.score(X_train, Y_train)))\n",
        "print(\"RMSE : {:.3f}\".format(rmse))\n",
        "#비교\n",
        "print(\"lr R2 : {:.3f}\".format(lr.score(X_train, Y_train)))\n",
        "print(\"ridge R2 : {:.3f}\".format(lr_ridge.score(X_train, Y_train)))\n",
        "print(\"lasso R2 : {:.3f}\".format(lr_lasso.score(X_train, Y_train)))\n",
        "\n",
        "#ela : 라쏘 릿지 절충한 것 "
      ],
      "metadata": {
        "colab": {
          "base_uri": "https://localhost:8080/"
        },
        "id": "XCrXIeCE_zym",
        "outputId": "d18cedc1-30a4-413c-9862-7eb60ec8715b"
      },
      "execution_count": 37,
      "outputs": [
        {
          "output_type": "stream",
          "name": "stdout",
          "text": [
            "ela R2 : 0.717\n",
            "RMSE : 0.394\n",
            "lr R2 : 0.726\n",
            "ridge R2 : 0.726\n",
            "lasso R2 : 0.709\n"
          ]
        }
      ]
    },
    {
      "cell_type": "markdown",
      "source": [
        "#로지스틱 회귀분석"
      ],
      "metadata": {
        "id": "JUz2R-urBg0J"
      }
    },
    {
      "cell_type": "code",
      "source": [
        "df.info()"
      ],
      "metadata": {
        "colab": {
          "base_uri": "https://localhost:8080/"
        },
        "id": "2YSCPoi0B7jn",
        "outputId": "bd98e237-8bee-444b-9c65-704c87294f40"
      },
      "execution_count": 38,
      "outputs": [
        {
          "output_type": "stream",
          "name": "stdout",
          "text": [
            "<class 'pandas.core.frame.DataFrame'>\n",
            "RangeIndex: 1000 entries, 0 to 999\n",
            "Data columns (total 21 columns):\n",
            " #   Column     Non-Null Count  Dtype  \n",
            "---  ------     --------------  -----  \n",
            " 0   고객ID       1000 non-null   int64  \n",
            " 1   이탈여부       1000 non-null   int64  \n",
            " 2   총매출액       1000 non-null   int64  \n",
            " 3   구매금액대      1000 non-null   int64  \n",
            " 4   방문빈도       1000 non-null   int64  \n",
            " 5   1회 평균매출액   1000 non-null   int64  \n",
            " 6   할인권 사용 횟수  1000 non-null   int64  \n",
            " 7   총 할인 금액    1000 non-null   int64  \n",
            " 8   고객등급       1000 non-null   int64  \n",
            " 9   구매유형       1000 non-null   int64  \n",
            " 10  클레임접수여부    1000 non-null   int64  \n",
            " 11  구매카테고리수    1000 non-null   int64  \n",
            " 12  거주지역       1000 non-null   int64  \n",
            " 13  성별         1000 non-null   int64  \n",
            " 14  고객 나이대     1000 non-null   int64  \n",
            " 15  거래기간       1000 non-null   int64  \n",
            " 16  할인민감여부     1000 non-null   int64  \n",
            " 17  Recency    1000 non-null   int64  \n",
            " 18  Frequency  1000 non-null   int64  \n",
            " 19  Monetary   1000 non-null   int64  \n",
            " 20  평균 구매주기    1000 non-null   float64\n",
            "dtypes: float64(1), int64(20)\n",
            "memory usage: 164.2 KB\n"
          ]
        }
      ]
    },
    {
      "cell_type": "code",
      "source": [
        "df.describe()"
      ],
      "metadata": {
        "colab": {
          "base_uri": "https://localhost:8080/",
          "height": 411
        },
        "id": "7g3wSRei3JDl",
        "outputId": "451c421b-a0ef-443d-9ec4-8584fdc6b993"
      },
      "execution_count": 39,
      "outputs": [
        {
          "output_type": "execute_result",
          "data": {
            "text/plain": [
              "              고객ID         이탈여부          총매출액        구매금액대        방문빈도  \\\n",
              "count  1000.000000  1000.000000  1.000000e+03  1000.000000  1000.00000   \n",
              "mean    500.500000     0.300000  5.858013e+06     0.700000    22.91100   \n",
              "std     288.819436     0.458487  5.812815e+06     0.781416    19.08217   \n",
              "min       1.000000     0.000000  1.886100e+06     0.000000     1.00000   \n",
              "25%     250.750000     0.000000  2.815905e+06     0.000000    10.75000   \n",
              "50%     500.500000     0.000000  4.092145e+06     0.500000    18.00000   \n",
              "75%     750.250000     1.000000  6.545392e+06     1.000000    28.00000   \n",
              "max    1000.000000     1.000000  6.759576e+07     2.000000   155.00000   \n",
              "\n",
              "           1회 평균매출액    할인권 사용 횟수        총 할인 금액         고객등급         구매유형  \\\n",
              "count  1.000000e+03  1000.000000    1000.000000  1000.000000  1000.000000   \n",
              "mean   3.521024e+05    16.027000  292371.670000     1.546000     2.656000   \n",
              "std    3.124636e+05     8.341334  111937.501042     0.498129     1.046307   \n",
              "min    2.708200e+04     1.000000    3750.000000     1.000000     1.000000   \n",
              "25%    1.631242e+05     9.000000  261686.250000     1.000000     2.000000   \n",
              "50%    2.582080e+05    17.000000  347500.000000     2.000000     2.000000   \n",
              "75%    4.268310e+05    23.000000  365400.000000     2.000000     4.000000   \n",
              "max    2.798500e+06    30.000000  400600.000000     2.000000     4.000000   \n",
              "\n",
              "       ...      구매카테고리수         거주지역           성별       고객 나이대         거래기간  \\\n",
              "count  ...  1000.000000  1000.000000  1000.000000  1000.000000  1000.000000   \n",
              "mean   ...     5.217000     5.147000     0.189000     3.964000  3495.891000   \n",
              "std    ...     2.224153     1.169084     0.391705     1.078827   965.966194   \n",
              "min    ...     1.000000     1.000000     0.000000     2.000000   827.000000   \n",
              "25%    ...     3.000000     4.000000     0.000000     3.000000  2871.000000   \n",
              "50%    ...     5.000000     5.000000     0.000000     4.000000  3836.000000   \n",
              "75%    ...     7.000000     6.000000     0.000000     5.000000  4207.250000   \n",
              "max    ...     9.000000     7.000000     1.000000     7.000000  5334.000000   \n",
              "\n",
              "            할인민감여부      Recency    Frequency     Monetary      평균 구매주기  \n",
              "count  1000.000000  1000.000000  1000.000000  1000.000000  1000.000000  \n",
              "mean      0.400000     4.925000     2.289000     4.129000     5.260784  \n",
              "std       0.490143     1.744253     1.669811     1.560383     0.812845  \n",
              "min       0.000000     1.000000     1.000000     1.000000     2.706759  \n",
              "25%       0.000000     4.000000     1.000000     3.000000     4.727013  \n",
              "50%       0.000000     5.000000     2.000000     4.000000     5.259938  \n",
              "75%       1.000000     7.000000     3.000000     6.000000     5.785012  \n",
              "max       1.000000     7.000000     7.000000     7.000000     7.579168  \n",
              "\n",
              "[8 rows x 21 columns]"
            ],
            "text/html": [
              "\n",
              "  <div id=\"df-33823a8f-331a-485c-a99b-b48569811bf3\">\n",
              "    <div class=\"colab-df-container\">\n",
              "      <div>\n",
              "<style scoped>\n",
              "    .dataframe tbody tr th:only-of-type {\n",
              "        vertical-align: middle;\n",
              "    }\n",
              "\n",
              "    .dataframe tbody tr th {\n",
              "        vertical-align: top;\n",
              "    }\n",
              "\n",
              "    .dataframe thead th {\n",
              "        text-align: right;\n",
              "    }\n",
              "</style>\n",
              "<table border=\"1\" class=\"dataframe\">\n",
              "  <thead>\n",
              "    <tr style=\"text-align: right;\">\n",
              "      <th></th>\n",
              "      <th>고객ID</th>\n",
              "      <th>이탈여부</th>\n",
              "      <th>총매출액</th>\n",
              "      <th>구매금액대</th>\n",
              "      <th>방문빈도</th>\n",
              "      <th>1회 평균매출액</th>\n",
              "      <th>할인권 사용 횟수</th>\n",
              "      <th>총 할인 금액</th>\n",
              "      <th>고객등급</th>\n",
              "      <th>구매유형</th>\n",
              "      <th>...</th>\n",
              "      <th>구매카테고리수</th>\n",
              "      <th>거주지역</th>\n",
              "      <th>성별</th>\n",
              "      <th>고객 나이대</th>\n",
              "      <th>거래기간</th>\n",
              "      <th>할인민감여부</th>\n",
              "      <th>Recency</th>\n",
              "      <th>Frequency</th>\n",
              "      <th>Monetary</th>\n",
              "      <th>평균 구매주기</th>\n",
              "    </tr>\n",
              "  </thead>\n",
              "  <tbody>\n",
              "    <tr>\n",
              "      <th>count</th>\n",
              "      <td>1000.000000</td>\n",
              "      <td>1000.000000</td>\n",
              "      <td>1.000000e+03</td>\n",
              "      <td>1000.000000</td>\n",
              "      <td>1000.00000</td>\n",
              "      <td>1.000000e+03</td>\n",
              "      <td>1000.000000</td>\n",
              "      <td>1000.000000</td>\n",
              "      <td>1000.000000</td>\n",
              "      <td>1000.000000</td>\n",
              "      <td>...</td>\n",
              "      <td>1000.000000</td>\n",
              "      <td>1000.000000</td>\n",
              "      <td>1000.000000</td>\n",
              "      <td>1000.000000</td>\n",
              "      <td>1000.000000</td>\n",
              "      <td>1000.000000</td>\n",
              "      <td>1000.000000</td>\n",
              "      <td>1000.000000</td>\n",
              "      <td>1000.000000</td>\n",
              "      <td>1000.000000</td>\n",
              "    </tr>\n",
              "    <tr>\n",
              "      <th>mean</th>\n",
              "      <td>500.500000</td>\n",
              "      <td>0.300000</td>\n",
              "      <td>5.858013e+06</td>\n",
              "      <td>0.700000</td>\n",
              "      <td>22.91100</td>\n",
              "      <td>3.521024e+05</td>\n",
              "      <td>16.027000</td>\n",
              "      <td>292371.670000</td>\n",
              "      <td>1.546000</td>\n",
              "      <td>2.656000</td>\n",
              "      <td>...</td>\n",
              "      <td>5.217000</td>\n",
              "      <td>5.147000</td>\n",
              "      <td>0.189000</td>\n",
              "      <td>3.964000</td>\n",
              "      <td>3495.891000</td>\n",
              "      <td>0.400000</td>\n",
              "      <td>4.925000</td>\n",
              "      <td>2.289000</td>\n",
              "      <td>4.129000</td>\n",
              "      <td>5.260784</td>\n",
              "    </tr>\n",
              "    <tr>\n",
              "      <th>std</th>\n",
              "      <td>288.819436</td>\n",
              "      <td>0.458487</td>\n",
              "      <td>5.812815e+06</td>\n",
              "      <td>0.781416</td>\n",
              "      <td>19.08217</td>\n",
              "      <td>3.124636e+05</td>\n",
              "      <td>8.341334</td>\n",
              "      <td>111937.501042</td>\n",
              "      <td>0.498129</td>\n",
              "      <td>1.046307</td>\n",
              "      <td>...</td>\n",
              "      <td>2.224153</td>\n",
              "      <td>1.169084</td>\n",
              "      <td>0.391705</td>\n",
              "      <td>1.078827</td>\n",
              "      <td>965.966194</td>\n",
              "      <td>0.490143</td>\n",
              "      <td>1.744253</td>\n",
              "      <td>1.669811</td>\n",
              "      <td>1.560383</td>\n",
              "      <td>0.812845</td>\n",
              "    </tr>\n",
              "    <tr>\n",
              "      <th>min</th>\n",
              "      <td>1.000000</td>\n",
              "      <td>0.000000</td>\n",
              "      <td>1.886100e+06</td>\n",
              "      <td>0.000000</td>\n",
              "      <td>1.00000</td>\n",
              "      <td>2.708200e+04</td>\n",
              "      <td>1.000000</td>\n",
              "      <td>3750.000000</td>\n",
              "      <td>1.000000</td>\n",
              "      <td>1.000000</td>\n",
              "      <td>...</td>\n",
              "      <td>1.000000</td>\n",
              "      <td>1.000000</td>\n",
              "      <td>0.000000</td>\n",
              "      <td>2.000000</td>\n",
              "      <td>827.000000</td>\n",
              "      <td>0.000000</td>\n",
              "      <td>1.000000</td>\n",
              "      <td>1.000000</td>\n",
              "      <td>1.000000</td>\n",
              "      <td>2.706759</td>\n",
              "    </tr>\n",
              "    <tr>\n",
              "      <th>25%</th>\n",
              "      <td>250.750000</td>\n",
              "      <td>0.000000</td>\n",
              "      <td>2.815905e+06</td>\n",
              "      <td>0.000000</td>\n",
              "      <td>10.75000</td>\n",
              "      <td>1.631242e+05</td>\n",
              "      <td>9.000000</td>\n",
              "      <td>261686.250000</td>\n",
              "      <td>1.000000</td>\n",
              "      <td>2.000000</td>\n",
              "      <td>...</td>\n",
              "      <td>3.000000</td>\n",
              "      <td>4.000000</td>\n",
              "      <td>0.000000</td>\n",
              "      <td>3.000000</td>\n",
              "      <td>2871.000000</td>\n",
              "      <td>0.000000</td>\n",
              "      <td>4.000000</td>\n",
              "      <td>1.000000</td>\n",
              "      <td>3.000000</td>\n",
              "      <td>4.727013</td>\n",
              "    </tr>\n",
              "    <tr>\n",
              "      <th>50%</th>\n",
              "      <td>500.500000</td>\n",
              "      <td>0.000000</td>\n",
              "      <td>4.092145e+06</td>\n",
              "      <td>0.500000</td>\n",
              "      <td>18.00000</td>\n",
              "      <td>2.582080e+05</td>\n",
              "      <td>17.000000</td>\n",
              "      <td>347500.000000</td>\n",
              "      <td>2.000000</td>\n",
              "      <td>2.000000</td>\n",
              "      <td>...</td>\n",
              "      <td>5.000000</td>\n",
              "      <td>5.000000</td>\n",
              "      <td>0.000000</td>\n",
              "      <td>4.000000</td>\n",
              "      <td>3836.000000</td>\n",
              "      <td>0.000000</td>\n",
              "      <td>5.000000</td>\n",
              "      <td>2.000000</td>\n",
              "      <td>4.000000</td>\n",
              "      <td>5.259938</td>\n",
              "    </tr>\n",
              "    <tr>\n",
              "      <th>75%</th>\n",
              "      <td>750.250000</td>\n",
              "      <td>1.000000</td>\n",
              "      <td>6.545392e+06</td>\n",
              "      <td>1.000000</td>\n",
              "      <td>28.00000</td>\n",
              "      <td>4.268310e+05</td>\n",
              "      <td>23.000000</td>\n",
              "      <td>365400.000000</td>\n",
              "      <td>2.000000</td>\n",
              "      <td>4.000000</td>\n",
              "      <td>...</td>\n",
              "      <td>7.000000</td>\n",
              "      <td>6.000000</td>\n",
              "      <td>0.000000</td>\n",
              "      <td>5.000000</td>\n",
              "      <td>4207.250000</td>\n",
              "      <td>1.000000</td>\n",
              "      <td>7.000000</td>\n",
              "      <td>3.000000</td>\n",
              "      <td>6.000000</td>\n",
              "      <td>5.785012</td>\n",
              "    </tr>\n",
              "    <tr>\n",
              "      <th>max</th>\n",
              "      <td>1000.000000</td>\n",
              "      <td>1.000000</td>\n",
              "      <td>6.759576e+07</td>\n",
              "      <td>2.000000</td>\n",
              "      <td>155.00000</td>\n",
              "      <td>2.798500e+06</td>\n",
              "      <td>30.000000</td>\n",
              "      <td>400600.000000</td>\n",
              "      <td>2.000000</td>\n",
              "      <td>4.000000</td>\n",
              "      <td>...</td>\n",
              "      <td>9.000000</td>\n",
              "      <td>7.000000</td>\n",
              "      <td>1.000000</td>\n",
              "      <td>7.000000</td>\n",
              "      <td>5334.000000</td>\n",
              "      <td>1.000000</td>\n",
              "      <td>7.000000</td>\n",
              "      <td>7.000000</td>\n",
              "      <td>7.000000</td>\n",
              "      <td>7.579168</td>\n",
              "    </tr>\n",
              "  </tbody>\n",
              "</table>\n",
              "<p>8 rows × 21 columns</p>\n",
              "</div>\n",
              "      <button class=\"colab-df-convert\" onclick=\"convertToInteractive('df-33823a8f-331a-485c-a99b-b48569811bf3')\"\n",
              "              title=\"Convert this dataframe to an interactive table.\"\n",
              "              style=\"display:none;\">\n",
              "        \n",
              "  <svg xmlns=\"http://www.w3.org/2000/svg\" height=\"24px\"viewBox=\"0 0 24 24\"\n",
              "       width=\"24px\">\n",
              "    <path d=\"M0 0h24v24H0V0z\" fill=\"none\"/>\n",
              "    <path d=\"M18.56 5.44l.94 2.06.94-2.06 2.06-.94-2.06-.94-.94-2.06-.94 2.06-2.06.94zm-11 1L8.5 8.5l.94-2.06 2.06-.94-2.06-.94L8.5 2.5l-.94 2.06-2.06.94zm10 10l.94 2.06.94-2.06 2.06-.94-2.06-.94-.94-2.06-.94 2.06-2.06.94z\"/><path d=\"M17.41 7.96l-1.37-1.37c-.4-.4-.92-.59-1.43-.59-.52 0-1.04.2-1.43.59L10.3 9.45l-7.72 7.72c-.78.78-.78 2.05 0 2.83L4 21.41c.39.39.9.59 1.41.59.51 0 1.02-.2 1.41-.59l7.78-7.78 2.81-2.81c.8-.78.8-2.07 0-2.86zM5.41 20L4 18.59l7.72-7.72 1.47 1.35L5.41 20z\"/>\n",
              "  </svg>\n",
              "      </button>\n",
              "      \n",
              "  <style>\n",
              "    .colab-df-container {\n",
              "      display:flex;\n",
              "      flex-wrap:wrap;\n",
              "      gap: 12px;\n",
              "    }\n",
              "\n",
              "    .colab-df-convert {\n",
              "      background-color: #E8F0FE;\n",
              "      border: none;\n",
              "      border-radius: 50%;\n",
              "      cursor: pointer;\n",
              "      display: none;\n",
              "      fill: #1967D2;\n",
              "      height: 32px;\n",
              "      padding: 0 0 0 0;\n",
              "      width: 32px;\n",
              "    }\n",
              "\n",
              "    .colab-df-convert:hover {\n",
              "      background-color: #E2EBFA;\n",
              "      box-shadow: 0px 1px 2px rgba(60, 64, 67, 0.3), 0px 1px 3px 1px rgba(60, 64, 67, 0.15);\n",
              "      fill: #174EA6;\n",
              "    }\n",
              "\n",
              "    [theme=dark] .colab-df-convert {\n",
              "      background-color: #3B4455;\n",
              "      fill: #D2E3FC;\n",
              "    }\n",
              "\n",
              "    [theme=dark] .colab-df-convert:hover {\n",
              "      background-color: #434B5C;\n",
              "      box-shadow: 0px 1px 3px 1px rgba(0, 0, 0, 0.15);\n",
              "      filter: drop-shadow(0px 1px 2px rgba(0, 0, 0, 0.3));\n",
              "      fill: #FFFFFF;\n",
              "    }\n",
              "  </style>\n",
              "\n",
              "      <script>\n",
              "        const buttonEl =\n",
              "          document.querySelector('#df-33823a8f-331a-485c-a99b-b48569811bf3 button.colab-df-convert');\n",
              "        buttonEl.style.display =\n",
              "          google.colab.kernel.accessAllowed ? 'block' : 'none';\n",
              "\n",
              "        async function convertToInteractive(key) {\n",
              "          const element = document.querySelector('#df-33823a8f-331a-485c-a99b-b48569811bf3');\n",
              "          const dataTable =\n",
              "            await google.colab.kernel.invokeFunction('convertToInteractive',\n",
              "                                                     [key], {});\n",
              "          if (!dataTable) return;\n",
              "\n",
              "          const docLinkHtml = 'Like what you see? Visit the ' +\n",
              "            '<a target=\"_blank\" href=https://colab.research.google.com/notebooks/data_table.ipynb>data table notebook</a>'\n",
              "            + ' to learn more about interactive tables.';\n",
              "          element.innerHTML = '';\n",
              "          dataTable['output_type'] = 'display_data';\n",
              "          await google.colab.output.renderOutput(dataTable, element);\n",
              "          const docLink = document.createElement('div');\n",
              "          docLink.innerHTML = docLinkHtml;\n",
              "          element.appendChild(docLink);\n",
              "        }\n",
              "      </script>\n",
              "    </div>\n",
              "  </div>\n",
              "  "
            ]
          },
          "metadata": {},
          "execution_count": 39
        }
      ]
    },
    {
      "cell_type": "code",
      "source": [
        "df.isnull().sum()"
      ],
      "metadata": {
        "colab": {
          "base_uri": "https://localhost:8080/"
        },
        "id": "MLzCbXwrCAyz",
        "outputId": "d1b6da8d-bad2-45de-dcf1-9ef37116ce1b"
      },
      "execution_count": 40,
      "outputs": [
        {
          "output_type": "execute_result",
          "data": {
            "text/plain": [
              "고객ID         0\n",
              "이탈여부         0\n",
              "총매출액         0\n",
              "구매금액대        0\n",
              "방문빈도         0\n",
              "1회 평균매출액     0\n",
              "할인권 사용 횟수    0\n",
              "총 할인 금액      0\n",
              "고객등급         0\n",
              "구매유형         0\n",
              "클레임접수여부      0\n",
              "구매카테고리수      0\n",
              "거주지역         0\n",
              "성별           0\n",
              "고객 나이대       0\n",
              "거래기간         0\n",
              "할인민감여부       0\n",
              "Recency      0\n",
              "Frequency    0\n",
              "Monetary     0\n",
              "평균 구매주기      0\n",
              "dtype: int64"
            ]
          },
          "metadata": {},
          "execution_count": 40
        }
      ]
    },
    {
      "cell_type": "code",
      "source": [
        "df.columns"
      ],
      "metadata": {
        "colab": {
          "base_uri": "https://localhost:8080/"
        },
        "id": "sIE7JOlECNKY",
        "outputId": "f42256c6-007f-4780-8325-270d32abb3be"
      },
      "execution_count": 41,
      "outputs": [
        {
          "output_type": "execute_result",
          "data": {
            "text/plain": [
              "Index(['고객ID', '이탈여부', '총매출액', '구매금액대', '방문빈도', '1회 평균매출액', '할인권 사용 횟수',\n",
              "       '총 할인 금액', '고객등급', '구매유형', '클레임접수여부', '구매카테고리수', '거주지역', '성별', '고객 나이대',\n",
              "       '거래기간', '할인민감여부', 'Recency', 'Frequency', 'Monetary', '평균 구매주기'],\n",
              "      dtype='object')"
            ]
          },
          "metadata": {},
          "execution_count": 41
        }
      ]
    },
    {
      "cell_type": "code",
      "source": [
        "X = df[[\"총매출액\", \"거래기간\", \"방문빈도\"]]\n",
        "Y = df[\"이탈여부\"]\n",
        "\n",
        "#데이터 분할(train, test)\n",
        "X_train, X_test, Y_train, Y_test = train_test_split(X, Y, test_size=0.3, random_state=0)\n",
        "\n",
        "#scaler\n",
        "scaler = StandardScaler()\n",
        "scaler.fit(X_train)\n",
        "X_train = scaler.transform(X_train)\n",
        "X_test = scaler.transform(X_test)\n",
        "print(X_train)\n",
        "\n",
        "#데이터벨런싱 \n",
        "#오버 샘플링\n",
        "from imblearn.over_sampling import SMOTE #Synthetic minority over-sampling techniqe\n",
        "\n",
        "X_train_over, Y_train_over = SMOTE(random_state = 0).fit_resample(X_train, Y_train)\n",
        "\n",
        "#데이터비율확인\n",
        "print(\"original data %s\" %Counter(Y))\n",
        "print(\"original train data %s\" %Counter(Y_train))\n",
        "print(\"over train data %s\" %Counter(Y_train_over))\n"
      ],
      "metadata": {
        "colab": {
          "base_uri": "https://localhost:8080/"
        },
        "id": "JJ0OdbesCImY",
        "outputId": "d0124f50-ec78-4d24-ba47-fc4e39e088bd"
      },
      "execution_count": 42,
      "outputs": [
        {
          "output_type": "stream",
          "name": "stdout",
          "text": [
            "[[ 0.69336175  0.22690456  0.03475125]\n",
            " [-0.225208   -0.02778804 -0.17540748]\n",
            " [-0.52055725  0.61729402  0.98046554]\n",
            " ...\n",
            " [-0.60960507  0.55779616 -0.01778844]\n",
            " [-0.02842033 -0.64468689 -0.22794717]\n",
            " [-0.30394592  0.83127755 -0.70080431]]\n",
            "original data Counter({0: 700, 1: 300})\n",
            "original train data Counter({0: 481, 1: 219})\n",
            "over train data Counter({1: 481, 0: 481})\n"
          ]
        }
      ]
    },
    {
      "cell_type": "code",
      "source": [
        "from sklearn.linear_model import LogisticRegression\n",
        "\n",
        "#로지스틱 회귀분석에는 c를 대부분 1 로 넣는다. \n",
        "logit = LogisticRegression(C = 1, random_state = 0)\n",
        "logit.fit(X_train_over, Y_train_over)\n",
        "Y_pred = logit.predict(X_test)\n",
        "\n",
        "#Y_pred\n",
        "print(\"R2 : {:3f}\".format(logit.score(X_train_over, Y_train_over)))\n",
        "\n",
        "from sklearn.metrics import classification_report\n",
        "print(classification_report(Y_test, Y_pred))\n",
        "print(logit.intercept_)\n",
        "print(logit.coef_)\n",
        "#f1스코어는 precision 과 recall의 조합이다.\n",
        "#support는 각 클래스의 개수이다\n"
      ],
      "metadata": {
        "colab": {
          "base_uri": "https://localhost:8080/"
        },
        "id": "TygtDAgyIjeu",
        "outputId": "a8a91a56-296c-4033-c308-0570785f3aed"
      },
      "execution_count": 43,
      "outputs": [
        {
          "output_type": "stream",
          "name": "stdout",
          "text": [
            "R2 : 0.709979\n",
            "              precision    recall  f1-score   support\n",
            "\n",
            "           0       0.91      0.66      0.77       219\n",
            "           1       0.47      0.81      0.60        81\n",
            "\n",
            "    accuracy                           0.70       300\n",
            "   macro avg       0.69      0.74      0.68       300\n",
            "weighted avg       0.79      0.70      0.72       300\n",
            "\n",
            "[-0.10121145]\n",
            "[[-0.10720418 -0.58431042 -0.47899592]]\n"
          ]
        }
      ]
    },
    {
      "cell_type": "markdown",
      "source": [
        "다항로지스틱회기분석"
      ],
      "metadata": {
        "id": "64MZEpOpM3CH"
      }
    },
    {
      "cell_type": "code",
      "source": [
        "X = df[[\"방문빈도\", \"총 할인 금액\", \"거래기간\", \"할인민감여부\"]]\n",
        "Y = df[\"구매금액대\"]\n",
        "\n",
        "#데이터 분할(train, test)\n",
        "X_train, X_test, Y_train, Y_test = train_test_split(X, Y, test_size=0.3, random_state=0)\n",
        "\n",
        "#Column transformer\n",
        "ct = ColumnTransformer([('scaling', StandardScaler(), [\"방문빈도\", \"총 할인 금액\", \"거래기간\"]),\n",
        "                        (\"onehot\", OneHotEncoder(sparse = False), [\"할인민감여부\"])])\n",
        "ct.fit(X_train)\n",
        "X_train = ct.transform(X_train)\n",
        "X_test= ct.transform(X_test)\n",
        "\n",
        "#오버샘플링해주면 더 좋음\n",
        "\n",
        "#model 다항분포 = multinomial\n",
        "multilogit = LogisticRegression(random_state=0, C =0.1, solver='newton-cg', multi_class=\"multinomial\")\n",
        "##solver : \"lbfgs\" , \"liblinear\" , \"sag, saga\"\n",
        "multilogit.fit(X_train, Y_train)\n",
        "Y_pred = multilogit.predict(X_test)\n",
        "\n",
        "#성능 \n",
        "print(\"R2 : {:3f}\".format(multilogit.score(X_train, Y_train)))\n",
        "print(classification_report(Y_test, Y_pred))\n",
        "                        "
      ],
      "metadata": {
        "colab": {
          "base_uri": "https://localhost:8080/"
        },
        "id": "FbsAvC_CM7AO",
        "outputId": "f2dae9d3-86e2-432a-8f6b-98859ea1ddef"
      },
      "execution_count": 44,
      "outputs": [
        {
          "output_type": "stream",
          "name": "stdout",
          "text": [
            "R2 : 0.605714\n",
            "              precision    recall  f1-score   support\n",
            "\n",
            "           0       0.61      0.89      0.72       154\n",
            "           1       0.40      0.12      0.19        82\n",
            "           2       0.71      0.55      0.62        64\n",
            "\n",
            "    accuracy                           0.61       300\n",
            "   macro avg       0.57      0.52      0.51       300\n",
            "weighted avg       0.57      0.61      0.55       300\n",
            "\n"
          ]
        }
      ]
    },
    {
      "cell_type": "code",
      "source": [
        "df"
      ],
      "metadata": {
        "colab": {
          "base_uri": "https://localhost:8080/",
          "height": 572
        },
        "id": "fLr37HRINnt7",
        "outputId": "5372ec0a-de1a-4643-f276-b65f7ea75de0"
      },
      "execution_count": 45,
      "outputs": [
        {
          "output_type": "execute_result",
          "data": {
            "text/plain": [
              "     고객ID  이탈여부      총매출액  구매금액대  방문빈도  1회 평균매출액  할인권 사용 횟수  총 할인 금액  고객등급  \\\n",
              "0       1     1   4963160      1    22    225598          1     5445     1   \n",
              "1       2     1   2271520      0    38     59777         22   350995     1   \n",
              "2       3     1   2484250      0     2   1242125          6   186045     1   \n",
              "3       4     1   2778850      0     9    308761          1     5195     2   \n",
              "4       5     1   4437610      1    10    443761          9   246350     2   \n",
              "..    ...   ...       ...    ...   ...       ...        ...      ...   ...   \n",
              "995   996     0  12731560      2    35    363759          3    44445     2   \n",
              "996   997     0   3419010      0     6    569835          6   186545     1   \n",
              "997   998     0   4612100      1    13    354777          8   260700     2   \n",
              "998   999     0   5165360      1    28    184477         20   347700     1   \n",
              "999  1000     0   4323050      1    16    270191         19   367045     2   \n",
              "\n",
              "     구매유형  ...  구매카테고리수  거주지역  성별  고객 나이대  거래기간  할인민감여부  Recency  Frequency  \\\n",
              "0       3  ...        7     6   1       6  3303       0        3          2   \n",
              "1       1  ...        5     4   0       2  3129       0        5          3   \n",
              "2       2  ...        4     6   0       3  3636       0        4          1   \n",
              "3       4  ...        4     5   0       4  3637       0        7          4   \n",
              "4       4  ...        6     6   0       4  3638       0        5          1   \n",
              "..    ...  ...      ...   ...  ..     ...   ...     ...      ...        ...   \n",
              "995     3  ...        8     6   0       4  4629       1        3          3   \n",
              "996     2  ...        9     6   0       4  4630       1        7          3   \n",
              "997     1  ...        1     4   1       6  4631       1        2          1   \n",
              "998     3  ...        7     5   1       6  3907       0        7          2   \n",
              "999     4  ...        6     5   1       6  2118       0        5          1   \n",
              "\n",
              "     Monetary   평균 구매주기  \n",
              "0           1  5.011544  \n",
              "1           4  4.410883  \n",
              "2           4  7.505492  \n",
              "3           6  6.001690  \n",
              "4           4  5.896604  \n",
              "..        ...       ...  \n",
              "995         1  4.884748  \n",
              "996         6  6.648553  \n",
              "997         2  5.875579  \n",
              "998         6  4.938321  \n",
              "999         4  4.885639  \n",
              "\n",
              "[1000 rows x 21 columns]"
            ],
            "text/html": [
              "\n",
              "  <div id=\"df-202a69e6-45ea-49e2-8266-201fb984c0d9\">\n",
              "    <div class=\"colab-df-container\">\n",
              "      <div>\n",
              "<style scoped>\n",
              "    .dataframe tbody tr th:only-of-type {\n",
              "        vertical-align: middle;\n",
              "    }\n",
              "\n",
              "    .dataframe tbody tr th {\n",
              "        vertical-align: top;\n",
              "    }\n",
              "\n",
              "    .dataframe thead th {\n",
              "        text-align: right;\n",
              "    }\n",
              "</style>\n",
              "<table border=\"1\" class=\"dataframe\">\n",
              "  <thead>\n",
              "    <tr style=\"text-align: right;\">\n",
              "      <th></th>\n",
              "      <th>고객ID</th>\n",
              "      <th>이탈여부</th>\n",
              "      <th>총매출액</th>\n",
              "      <th>구매금액대</th>\n",
              "      <th>방문빈도</th>\n",
              "      <th>1회 평균매출액</th>\n",
              "      <th>할인권 사용 횟수</th>\n",
              "      <th>총 할인 금액</th>\n",
              "      <th>고객등급</th>\n",
              "      <th>구매유형</th>\n",
              "      <th>...</th>\n",
              "      <th>구매카테고리수</th>\n",
              "      <th>거주지역</th>\n",
              "      <th>성별</th>\n",
              "      <th>고객 나이대</th>\n",
              "      <th>거래기간</th>\n",
              "      <th>할인민감여부</th>\n",
              "      <th>Recency</th>\n",
              "      <th>Frequency</th>\n",
              "      <th>Monetary</th>\n",
              "      <th>평균 구매주기</th>\n",
              "    </tr>\n",
              "  </thead>\n",
              "  <tbody>\n",
              "    <tr>\n",
              "      <th>0</th>\n",
              "      <td>1</td>\n",
              "      <td>1</td>\n",
              "      <td>4963160</td>\n",
              "      <td>1</td>\n",
              "      <td>22</td>\n",
              "      <td>225598</td>\n",
              "      <td>1</td>\n",
              "      <td>5445</td>\n",
              "      <td>1</td>\n",
              "      <td>3</td>\n",
              "      <td>...</td>\n",
              "      <td>7</td>\n",
              "      <td>6</td>\n",
              "      <td>1</td>\n",
              "      <td>6</td>\n",
              "      <td>3303</td>\n",
              "      <td>0</td>\n",
              "      <td>3</td>\n",
              "      <td>2</td>\n",
              "      <td>1</td>\n",
              "      <td>5.011544</td>\n",
              "    </tr>\n",
              "    <tr>\n",
              "      <th>1</th>\n",
              "      <td>2</td>\n",
              "      <td>1</td>\n",
              "      <td>2271520</td>\n",
              "      <td>0</td>\n",
              "      <td>38</td>\n",
              "      <td>59777</td>\n",
              "      <td>22</td>\n",
              "      <td>350995</td>\n",
              "      <td>1</td>\n",
              "      <td>1</td>\n",
              "      <td>...</td>\n",
              "      <td>5</td>\n",
              "      <td>4</td>\n",
              "      <td>0</td>\n",
              "      <td>2</td>\n",
              "      <td>3129</td>\n",
              "      <td>0</td>\n",
              "      <td>5</td>\n",
              "      <td>3</td>\n",
              "      <td>4</td>\n",
              "      <td>4.410883</td>\n",
              "    </tr>\n",
              "    <tr>\n",
              "      <th>2</th>\n",
              "      <td>3</td>\n",
              "      <td>1</td>\n",
              "      <td>2484250</td>\n",
              "      <td>0</td>\n",
              "      <td>2</td>\n",
              "      <td>1242125</td>\n",
              "      <td>6</td>\n",
              "      <td>186045</td>\n",
              "      <td>1</td>\n",
              "      <td>2</td>\n",
              "      <td>...</td>\n",
              "      <td>4</td>\n",
              "      <td>6</td>\n",
              "      <td>0</td>\n",
              "      <td>3</td>\n",
              "      <td>3636</td>\n",
              "      <td>0</td>\n",
              "      <td>4</td>\n",
              "      <td>1</td>\n",
              "      <td>4</td>\n",
              "      <td>7.505492</td>\n",
              "    </tr>\n",
              "    <tr>\n",
              "      <th>3</th>\n",
              "      <td>4</td>\n",
              "      <td>1</td>\n",
              "      <td>2778850</td>\n",
              "      <td>0</td>\n",
              "      <td>9</td>\n",
              "      <td>308761</td>\n",
              "      <td>1</td>\n",
              "      <td>5195</td>\n",
              "      <td>2</td>\n",
              "      <td>4</td>\n",
              "      <td>...</td>\n",
              "      <td>4</td>\n",
              "      <td>5</td>\n",
              "      <td>0</td>\n",
              "      <td>4</td>\n",
              "      <td>3637</td>\n",
              "      <td>0</td>\n",
              "      <td>7</td>\n",
              "      <td>4</td>\n",
              "      <td>6</td>\n",
              "      <td>6.001690</td>\n",
              "    </tr>\n",
              "    <tr>\n",
              "      <th>4</th>\n",
              "      <td>5</td>\n",
              "      <td>1</td>\n",
              "      <td>4437610</td>\n",
              "      <td>1</td>\n",
              "      <td>10</td>\n",
              "      <td>443761</td>\n",
              "      <td>9</td>\n",
              "      <td>246350</td>\n",
              "      <td>2</td>\n",
              "      <td>4</td>\n",
              "      <td>...</td>\n",
              "      <td>6</td>\n",
              "      <td>6</td>\n",
              "      <td>0</td>\n",
              "      <td>4</td>\n",
              "      <td>3638</td>\n",
              "      <td>0</td>\n",
              "      <td>5</td>\n",
              "      <td>1</td>\n",
              "      <td>4</td>\n",
              "      <td>5.896604</td>\n",
              "    </tr>\n",
              "    <tr>\n",
              "      <th>...</th>\n",
              "      <td>...</td>\n",
              "      <td>...</td>\n",
              "      <td>...</td>\n",
              "      <td>...</td>\n",
              "      <td>...</td>\n",
              "      <td>...</td>\n",
              "      <td>...</td>\n",
              "      <td>...</td>\n",
              "      <td>...</td>\n",
              "      <td>...</td>\n",
              "      <td>...</td>\n",
              "      <td>...</td>\n",
              "      <td>...</td>\n",
              "      <td>...</td>\n",
              "      <td>...</td>\n",
              "      <td>...</td>\n",
              "      <td>...</td>\n",
              "      <td>...</td>\n",
              "      <td>...</td>\n",
              "      <td>...</td>\n",
              "      <td>...</td>\n",
              "    </tr>\n",
              "    <tr>\n",
              "      <th>995</th>\n",
              "      <td>996</td>\n",
              "      <td>0</td>\n",
              "      <td>12731560</td>\n",
              "      <td>2</td>\n",
              "      <td>35</td>\n",
              "      <td>363759</td>\n",
              "      <td>3</td>\n",
              "      <td>44445</td>\n",
              "      <td>2</td>\n",
              "      <td>3</td>\n",
              "      <td>...</td>\n",
              "      <td>8</td>\n",
              "      <td>6</td>\n",
              "      <td>0</td>\n",
              "      <td>4</td>\n",
              "      <td>4629</td>\n",
              "      <td>1</td>\n",
              "      <td>3</td>\n",
              "      <td>3</td>\n",
              "      <td>1</td>\n",
              "      <td>4.884748</td>\n",
              "    </tr>\n",
              "    <tr>\n",
              "      <th>996</th>\n",
              "      <td>997</td>\n",
              "      <td>0</td>\n",
              "      <td>3419010</td>\n",
              "      <td>0</td>\n",
              "      <td>6</td>\n",
              "      <td>569835</td>\n",
              "      <td>6</td>\n",
              "      <td>186545</td>\n",
              "      <td>1</td>\n",
              "      <td>2</td>\n",
              "      <td>...</td>\n",
              "      <td>9</td>\n",
              "      <td>6</td>\n",
              "      <td>0</td>\n",
              "      <td>4</td>\n",
              "      <td>4630</td>\n",
              "      <td>1</td>\n",
              "      <td>7</td>\n",
              "      <td>3</td>\n",
              "      <td>6</td>\n",
              "      <td>6.648553</td>\n",
              "    </tr>\n",
              "    <tr>\n",
              "      <th>997</th>\n",
              "      <td>998</td>\n",
              "      <td>0</td>\n",
              "      <td>4612100</td>\n",
              "      <td>1</td>\n",
              "      <td>13</td>\n",
              "      <td>354777</td>\n",
              "      <td>8</td>\n",
              "      <td>260700</td>\n",
              "      <td>2</td>\n",
              "      <td>1</td>\n",
              "      <td>...</td>\n",
              "      <td>1</td>\n",
              "      <td>4</td>\n",
              "      <td>1</td>\n",
              "      <td>6</td>\n",
              "      <td>4631</td>\n",
              "      <td>1</td>\n",
              "      <td>2</td>\n",
              "      <td>1</td>\n",
              "      <td>2</td>\n",
              "      <td>5.875579</td>\n",
              "    </tr>\n",
              "    <tr>\n",
              "      <th>998</th>\n",
              "      <td>999</td>\n",
              "      <td>0</td>\n",
              "      <td>5165360</td>\n",
              "      <td>1</td>\n",
              "      <td>28</td>\n",
              "      <td>184477</td>\n",
              "      <td>20</td>\n",
              "      <td>347700</td>\n",
              "      <td>1</td>\n",
              "      <td>3</td>\n",
              "      <td>...</td>\n",
              "      <td>7</td>\n",
              "      <td>5</td>\n",
              "      <td>1</td>\n",
              "      <td>6</td>\n",
              "      <td>3907</td>\n",
              "      <td>0</td>\n",
              "      <td>7</td>\n",
              "      <td>2</td>\n",
              "      <td>6</td>\n",
              "      <td>4.938321</td>\n",
              "    </tr>\n",
              "    <tr>\n",
              "      <th>999</th>\n",
              "      <td>1000</td>\n",
              "      <td>0</td>\n",
              "      <td>4323050</td>\n",
              "      <td>1</td>\n",
              "      <td>16</td>\n",
              "      <td>270191</td>\n",
              "      <td>19</td>\n",
              "      <td>367045</td>\n",
              "      <td>2</td>\n",
              "      <td>4</td>\n",
              "      <td>...</td>\n",
              "      <td>6</td>\n",
              "      <td>5</td>\n",
              "      <td>1</td>\n",
              "      <td>6</td>\n",
              "      <td>2118</td>\n",
              "      <td>0</td>\n",
              "      <td>5</td>\n",
              "      <td>1</td>\n",
              "      <td>4</td>\n",
              "      <td>4.885639</td>\n",
              "    </tr>\n",
              "  </tbody>\n",
              "</table>\n",
              "<p>1000 rows × 21 columns</p>\n",
              "</div>\n",
              "      <button class=\"colab-df-convert\" onclick=\"convertToInteractive('df-202a69e6-45ea-49e2-8266-201fb984c0d9')\"\n",
              "              title=\"Convert this dataframe to an interactive table.\"\n",
              "              style=\"display:none;\">\n",
              "        \n",
              "  <svg xmlns=\"http://www.w3.org/2000/svg\" height=\"24px\"viewBox=\"0 0 24 24\"\n",
              "       width=\"24px\">\n",
              "    <path d=\"M0 0h24v24H0V0z\" fill=\"none\"/>\n",
              "    <path d=\"M18.56 5.44l.94 2.06.94-2.06 2.06-.94-2.06-.94-.94-2.06-.94 2.06-2.06.94zm-11 1L8.5 8.5l.94-2.06 2.06-.94-2.06-.94L8.5 2.5l-.94 2.06-2.06.94zm10 10l.94 2.06.94-2.06 2.06-.94-2.06-.94-.94-2.06-.94 2.06-2.06.94z\"/><path d=\"M17.41 7.96l-1.37-1.37c-.4-.4-.92-.59-1.43-.59-.52 0-1.04.2-1.43.59L10.3 9.45l-7.72 7.72c-.78.78-.78 2.05 0 2.83L4 21.41c.39.39.9.59 1.41.59.51 0 1.02-.2 1.41-.59l7.78-7.78 2.81-2.81c.8-.78.8-2.07 0-2.86zM5.41 20L4 18.59l7.72-7.72 1.47 1.35L5.41 20z\"/>\n",
              "  </svg>\n",
              "      </button>\n",
              "      \n",
              "  <style>\n",
              "    .colab-df-container {\n",
              "      display:flex;\n",
              "      flex-wrap:wrap;\n",
              "      gap: 12px;\n",
              "    }\n",
              "\n",
              "    .colab-df-convert {\n",
              "      background-color: #E8F0FE;\n",
              "      border: none;\n",
              "      border-radius: 50%;\n",
              "      cursor: pointer;\n",
              "      display: none;\n",
              "      fill: #1967D2;\n",
              "      height: 32px;\n",
              "      padding: 0 0 0 0;\n",
              "      width: 32px;\n",
              "    }\n",
              "\n",
              "    .colab-df-convert:hover {\n",
              "      background-color: #E2EBFA;\n",
              "      box-shadow: 0px 1px 2px rgba(60, 64, 67, 0.3), 0px 1px 3px 1px rgba(60, 64, 67, 0.15);\n",
              "      fill: #174EA6;\n",
              "    }\n",
              "\n",
              "    [theme=dark] .colab-df-convert {\n",
              "      background-color: #3B4455;\n",
              "      fill: #D2E3FC;\n",
              "    }\n",
              "\n",
              "    [theme=dark] .colab-df-convert:hover {\n",
              "      background-color: #434B5C;\n",
              "      box-shadow: 0px 1px 3px 1px rgba(0, 0, 0, 0.15);\n",
              "      filter: drop-shadow(0px 1px 2px rgba(0, 0, 0, 0.3));\n",
              "      fill: #FFFFFF;\n",
              "    }\n",
              "  </style>\n",
              "\n",
              "      <script>\n",
              "        const buttonEl =\n",
              "          document.querySelector('#df-202a69e6-45ea-49e2-8266-201fb984c0d9 button.colab-df-convert');\n",
              "        buttonEl.style.display =\n",
              "          google.colab.kernel.accessAllowed ? 'block' : 'none';\n",
              "\n",
              "        async function convertToInteractive(key) {\n",
              "          const element = document.querySelector('#df-202a69e6-45ea-49e2-8266-201fb984c0d9');\n",
              "          const dataTable =\n",
              "            await google.colab.kernel.invokeFunction('convertToInteractive',\n",
              "                                                     [key], {});\n",
              "          if (!dataTable) return;\n",
              "\n",
              "          const docLinkHtml = 'Like what you see? Visit the ' +\n",
              "            '<a target=\"_blank\" href=https://colab.research.google.com/notebooks/data_table.ipynb>data table notebook</a>'\n",
              "            + ' to learn more about interactive tables.';\n",
              "          element.innerHTML = '';\n",
              "          dataTable['output_type'] = 'display_data';\n",
              "          await google.colab.output.renderOutput(dataTable, element);\n",
              "          const docLink = document.createElement('div');\n",
              "          docLink.innerHTML = docLinkHtml;\n",
              "          element.appendChild(docLink);\n",
              "        }\n",
              "      </script>\n",
              "    </div>\n",
              "  </div>\n",
              "  "
            ]
          },
          "metadata": {},
          "execution_count": 45
        }
      ]
    },
    {
      "cell_type": "code",
      "source": [
        "df.columns"
      ],
      "metadata": {
        "colab": {
          "base_uri": "https://localhost:8080/"
        },
        "id": "RZ8MqFNlY_Ka",
        "outputId": "98c38c9e-f739-4949-e38e-89d12f40afa6"
      },
      "execution_count": 46,
      "outputs": [
        {
          "output_type": "execute_result",
          "data": {
            "text/plain": [
              "Index(['고객ID', '이탈여부', '총매출액', '구매금액대', '방문빈도', '1회 평균매출액', '할인권 사용 횟수',\n",
              "       '총 할인 금액', '고객등급', '구매유형', '클레임접수여부', '구매카테고리수', '거주지역', '성별', '고객 나이대',\n",
              "       '거래기간', '할인민감여부', 'Recency', 'Frequency', 'Monetary', '평균 구매주기'],\n",
              "      dtype='object')"
            ]
          },
          "metadata": {},
          "execution_count": 46
        }
      ]
    },
    {
      "cell_type": "code",
      "source": [
        "####classification\n",
        "\n",
        "X = df[[\"총매출액\",\"1회 평균매출액\", \"방문빈도\", \"거래기간\", \"평균 구매주기\"]]\n",
        "Y = df[\"이탈여부\"]\n",
        "\n",
        "X_train, X_test, Y_train, Y_test = train_test_split(X,Y, test_size=0.3, random_state=0)\n",
        "\n",
        "scaler = StandardScaler().fit(X_train, Y_train)\n",
        "X_test = scaler.transform(X_test)\n",
        "X_train = scaler.transform(X_train)\n",
        "\n",
        "#over sampling\n",
        "X_train, Y_train = SMOTE(random_state=0).fit_resample(X_train, Y_train)\n",
        "\n",
        "from sklearn.neighbors import KNeighborsClassifier\n",
        "knn_model = KNeighborsClassifier(n_neighbors=9, metric=\"euclidean\")\n",
        "\n",
        "knn_model.fit(X_train, Y_train)\n",
        "Y_pred = knn_model.predict(X_test)\n",
        "print(\"accuracy : {:3f}\".format(knn_model.score(X_train, Y_train)))\n",
        "print(classification_report(Y_test, Y_pred))"
      ],
      "metadata": {
        "colab": {
          "base_uri": "https://localhost:8080/"
        },
        "id": "TI7gl_V9Y8Bj",
        "outputId": "d2b3fa64-5cde-45b4-c13a-4f2442e67c08"
      },
      "execution_count": 47,
      "outputs": [
        {
          "output_type": "stream",
          "name": "stdout",
          "text": [
            "accuracy : 0.844075\n",
            "              precision    recall  f1-score   support\n",
            "\n",
            "           0       0.92      0.77      0.84       219\n",
            "           1       0.56      0.81      0.67        81\n",
            "\n",
            "    accuracy                           0.78       300\n",
            "   macro avg       0.74      0.79      0.75       300\n",
            "weighted avg       0.82      0.78      0.79       300\n",
            "\n"
          ]
        }
      ]
    },
    {
      "cell_type": "code",
      "source": [
        "#이전 knn분석\n",
        "from sklearn.model_selection import GridSearchCV\n",
        "\n",
        "X = df[[\"총매출액\", \"거래기간\", \"방문빈도\"]]\n",
        "Y = df[\"이탈여부\"]\n",
        "\n",
        "#데이터 분할(train, test)\n",
        "X_train, X_test, Y_train, Y_test = train_test_split(X, Y, test_size=0.3, random_state=0)\n",
        "\n",
        "#model 만들기\n",
        "model = KNeighborsClassifier() #classifier \"이탈여부\" 범주형이기에 분류형\n",
        "\n",
        "#그리드 인자 검색 \n",
        "mylist = list(range(1,50))\n",
        "k_list = [x for x in mylist if x %2 !=0]\n",
        "parameter_grid = {\"n_neighbors\" : k_list}\n",
        "\n",
        "#그리드 서치 \n",
        "grid_search = GridSearchCV(model, parameter_grid , cv=5)\n",
        "grid_search.fit(X_train, Y_train)\n",
        "grid_search.best_params_"
      ],
      "metadata": {
        "id": "U-CFfWp8bw0j",
        "colab": {
          "base_uri": "https://localhost:8080/"
        },
        "outputId": "c4b06ece-f084-446c-cbba-738722486ac0"
      },
      "execution_count": 48,
      "outputs": [
        {
          "output_type": "execute_result",
          "data": {
            "text/plain": [
              "{'n_neighbors': 9}"
            ]
          },
          "metadata": {},
          "execution_count": 48
        }
      ]
    },
    {
      "cell_type": "code",
      "source": [
        "#numeric value(Y)\n",
        "\n",
        "import numpy as np\n",
        "\n",
        "X = df[df.이탈여부 ==0][[\"총매출액\", \"1회 평균매출액\", \"총 할인 금액\", \"구매카테고리수\", \"Frequency\"]]\n",
        "Y = df[df.이탈여부 ==0][\"평균 구매주기\"]\n",
        "\n",
        "#데이터 분할(train, test)\n",
        "X_train, X_test, Y_train, Y_test = train_test_split(X, Y, test_size=0.3, random_state=0)\n",
        "\n",
        "scaler = StandardScaler().fit(X_train, Y_train)\n",
        "X_test = scaler.transform(X_test)\n",
        "X_train = scaler.transform(X_train)\n",
        "\n",
        "from sklearn.neighbors import KNeighborsRegressor\n",
        "knn_reg = KNeighborsRegressor(n_neighbors=9, p=2)\n",
        "\n",
        "#p : int, default = 2\n",
        "#Power parameter for the Minkowski metric. When p = 1.\n",
        "#this is equivalent to using manhattan_distance (|1), and euclidean_distance(|2) for p = 2, for arbitrary p, \n",
        "\n",
        "knn_reg.fit(X_train, Y_train)\n",
        "Y_pred = knn_reg.predict(X_test)\n",
        "print(\"accuracy: {:.3f}\".format(knn_reg.score(X_train, Y_train)))\n",
        "rmse = sqrt(mean_squared_error(Y_test, Y_pred))\n",
        "print(\"RMSEl {:.3f}\". format(rmse))"
      ],
      "metadata": {
        "colab": {
          "base_uri": "https://localhost:8080/"
        },
        "id": "nGJYIbIeifp1",
        "outputId": "0814608f-938c-4da9-945b-561b26d2b2c0"
      },
      "execution_count": 49,
      "outputs": [
        {
          "output_type": "stream",
          "name": "stdout",
          "text": [
            "accuracy: 0.765\n",
            "RMSEl 0.381\n"
          ]
        }
      ]
    },
    {
      "cell_type": "code",
      "source": [],
      "metadata": {
        "id": "7g_M_AWXdE14"
      },
      "execution_count": null,
      "outputs": []
    },
    {
      "cell_type": "markdown",
      "source": [
        "#의사결정나무(decision tree)"
      ],
      "metadata": {
        "id": "sO3TuTQVbwAN"
      }
    },
    {
      "cell_type": "code",
      "source": [
        "from sklearn.model_selection import train_test_split"
      ],
      "metadata": {
        "id": "FwLvPyvnDSc8"
      },
      "execution_count": 50,
      "outputs": []
    },
    {
      "cell_type": "code",
      "source": [
        "X = df[[\"총매출액\", \"구매금액대\", \"할인권 사용 횟수\", \"총 할인 금액\", \"구매유형\", \"구매카테고리수\", \"성별\", \"거주지역\"]]\n",
        "Y = df[\"이탈여부\"]\n",
        "\n",
        "X_train, X_test, Y_train, Y_test = train_test_split(X, Y, test_size=0.3, random_state = 0)\n",
        "smote = SMOTE(random_state=0)\n",
        "X_train, Y_train = smote.fit_resample(X_train, Y_train)\n",
        "\n",
        "from sklearn.tree import DecisionTreeClassifier\n",
        "\n",
        "DT_model = DecisionTreeClassifier(random_state = 0, max_depth = 3)\n",
        "DT_model.fit(X_train, Y_train)\n",
        "Y_pred = DT_model.predict(X_test)\n",
        "print(\"accuracy : {:3f}\".format(DT_model.score(X_train, Y_train)))\n",
        "print(classification_report(Y_test, Y_pred))\n",
        "\n",
        "#future importance 확인할 것 "
      ],
      "metadata": {
        "colab": {
          "base_uri": "https://localhost:8080/"
        },
        "id": "78f0eoj7DSqj",
        "outputId": "af659b05-28dd-42a5-d2fd-2aadaa0657a7"
      },
      "execution_count": 51,
      "outputs": [
        {
          "output_type": "stream",
          "name": "stdout",
          "text": [
            "accuracy : 0.625780\n",
            "              precision    recall  f1-score   support\n",
            "\n",
            "           0       0.73      0.73      0.73       219\n",
            "           1       0.28      0.28      0.28        81\n",
            "\n",
            "    accuracy                           0.61       300\n",
            "   macro avg       0.50      0.50      0.50       300\n",
            "weighted avg       0.61      0.61      0.61       300\n",
            "\n"
          ]
        }
      ]
    },
    {
      "cell_type": "code",
      "source": [
        "feature_name = X.columns\n",
        "feature_importance = DT_model.feature_importances_\n",
        "sorted(zip(feature_importance, feature_name), reverse = True)\n",
        "\n",
        "#feature_importances 베타와 같은 맥락의 수라고 생각할 수 있다.\n",
        "#회귀는 계수가 나오기 때문에 feature_importance를 뽑을 이유가 없고\n",
        "#나머지 다른 명령어에서는 위같은 명령어로 알 수 있다. "
      ],
      "metadata": {
        "colab": {
          "base_uri": "https://localhost:8080/"
        },
        "id": "cvz_8EsaG2Wy",
        "outputId": "276173eb-36e9-4074-b330-6b891f39c0e8"
      },
      "execution_count": 52,
      "outputs": [
        {
          "output_type": "execute_result",
          "data": {
            "text/plain": [
              "[(0.7493404125777997, '총매출액'),\n",
              " (0.1630541216629677, '거주지역'),\n",
              " (0.08760546575923255, '구매카테고리수'),\n",
              " (0.0, '할인권 사용 횟수'),\n",
              " (0.0, '총 할인 금액'),\n",
              " (0.0, '성별'),\n",
              " (0.0, '구매유형'),\n",
              " (0.0, '구매금액대')]"
            ]
          },
          "metadata": {},
          "execution_count": 52
        }
      ]
    },
    {
      "cell_type": "code",
      "source": [
        "#graphviz - 결정트리모델 시각화\n",
        "\n",
        "from sklearn.tree import export_graphviz\n",
        "import graphviz\n",
        "\n",
        "export_graphviz(DT_model, out_file = \"tree.dot\", class_names=[\"비이탈\",\"이탈\"],\n",
        "                feature_names = feature_name, impurity = True, filled=True)\n",
        "\n",
        "#파일열기\n",
        "with open(\"tree.dot\", encoding = \"utf-8\") as f:\n",
        "    dot_graph = f.read()\n",
        "graphviz.Source(dot_graph)"
      ],
      "metadata": {
        "colab": {
          "base_uri": "https://localhost:8080/",
          "height": 618
        },
        "id": "wF4HQ24SHqTR",
        "outputId": "45e770fa-566f-40d4-f98f-9cc66b49bd1a"
      },
      "execution_count": 53,
      "outputs": [
        {
          "output_type": "execute_result",
          "data": {
            "text/plain": [
              "<graphviz.files.Source at 0x7ff7eae7c610>"
            ],
            "image/svg+xml": "<?xml version=\"1.0\" encoding=\"UTF-8\" standalone=\"no\"?>\n<!DOCTYPE svg PUBLIC \"-//W3C//DTD SVG 1.1//EN\"\n \"http://www.w3.org/Graphics/SVG/1.1/DTD/svg11.dtd\">\n<!-- Generated by graphviz version 2.40.1 (20161225.0304)\n -->\n<!-- Title: Tree Pages: 1 -->\n<svg width=\"1054pt\" height=\"433pt\"\n viewBox=\"0.00 0.00 1054.00 433.00\" xmlns=\"http://www.w3.org/2000/svg\" xmlns:xlink=\"http://www.w3.org/1999/xlink\">\n<g id=\"graph0\" class=\"graph\" transform=\"scale(1 1) rotate(0) translate(4 429)\">\n<title>Tree</title>\n<polygon fill=\"#ffffff\" stroke=\"transparent\" points=\"-4,4 -4,-429 1050,-429 1050,4 -4,4\"/>\n<!-- 0 -->\n<g id=\"node1\" class=\"node\">\n<title>0</title>\n<polygon fill=\"#ffffff\" stroke=\"#000000\" points=\"603.5,-425 436.5,-425 436.5,-342 603.5,-342 603.5,-425\"/>\n<text text-anchor=\"middle\" x=\"520\" y=\"-409.8\" font-family=\"Helvetica,sans-Serif\" font-size=\"14.00\" fill=\"#000000\">총매출액 &lt;= 3490355.0</text>\n<text text-anchor=\"middle\" x=\"520\" y=\"-394.8\" font-family=\"Helvetica,sans-Serif\" font-size=\"14.00\" fill=\"#000000\">gini = 0.5</text>\n<text text-anchor=\"middle\" x=\"520\" y=\"-379.8\" font-family=\"Helvetica,sans-Serif\" font-size=\"14.00\" fill=\"#000000\">samples = 962</text>\n<text text-anchor=\"middle\" x=\"520\" y=\"-364.8\" font-family=\"Helvetica,sans-Serif\" font-size=\"14.00\" fill=\"#000000\">value = [481, 481]</text>\n<text text-anchor=\"middle\" x=\"520\" y=\"-349.8\" font-family=\"Helvetica,sans-Serif\" font-size=\"14.00\" fill=\"#000000\">class = 비이탈</text>\n</g>\n<!-- 1 -->\n<g id=\"node2\" class=\"node\">\n<title>1</title>\n<polygon fill=\"#b5daf5\" stroke=\"#000000\" points=\"494,-306 362,-306 362,-223 494,-223 494,-306\"/>\n<text text-anchor=\"middle\" x=\"428\" y=\"-290.8\" font-family=\"Helvetica,sans-Serif\" font-size=\"14.00\" fill=\"#000000\">거주지역 &lt;= 5.5</text>\n<text text-anchor=\"middle\" x=\"428\" y=\"-275.8\" font-family=\"Helvetica,sans-Serif\" font-size=\"14.00\" fill=\"#000000\">gini = 0.473</text>\n<text text-anchor=\"middle\" x=\"428\" y=\"-260.8\" font-family=\"Helvetica,sans-Serif\" font-size=\"14.00\" fill=\"#000000\">samples = 411</text>\n<text text-anchor=\"middle\" x=\"428\" y=\"-245.8\" font-family=\"Helvetica,sans-Serif\" font-size=\"14.00\" fill=\"#000000\">value = [158, 253]</text>\n<text text-anchor=\"middle\" x=\"428\" y=\"-230.8\" font-family=\"Helvetica,sans-Serif\" font-size=\"14.00\" fill=\"#000000\">class = 이탈</text>\n</g>\n<!-- 0&#45;&gt;1 -->\n<g id=\"edge1\" class=\"edge\">\n<title>0&#45;&gt;1</title>\n<path fill=\"none\" stroke=\"#000000\" d=\"M487.8229,-341.8796C480.9296,-332.9633 473.5798,-323.4565 466.4761,-314.268\"/>\n<polygon fill=\"#000000\" stroke=\"#000000\" points=\"469.1999,-312.0687 460.3145,-306.2981 463.6619,-316.3502 469.1999,-312.0687\"/>\n<text text-anchor=\"middle\" x=\"457.1413\" y=\"-327.3959\" font-family=\"Helvetica,sans-Serif\" font-size=\"14.00\" fill=\"#000000\">True</text>\n</g>\n<!-- 8 -->\n<g id=\"node9\" class=\"node\">\n<title>8</title>\n<polygon fill=\"#f7dac5\" stroke=\"#000000\" points=\"709.5,-306 542.5,-306 542.5,-223 709.5,-223 709.5,-306\"/>\n<text text-anchor=\"middle\" x=\"626\" y=\"-290.8\" font-family=\"Helvetica,sans-Serif\" font-size=\"14.00\" fill=\"#000000\">총매출액 &lt;= 9671695.0</text>\n<text text-anchor=\"middle\" x=\"626\" y=\"-275.8\" font-family=\"Helvetica,sans-Serif\" font-size=\"14.00\" fill=\"#000000\">gini = 0.485</text>\n<text text-anchor=\"middle\" x=\"626\" y=\"-260.8\" font-family=\"Helvetica,sans-Serif\" font-size=\"14.00\" fill=\"#000000\">samples = 551</text>\n<text text-anchor=\"middle\" x=\"626\" y=\"-245.8\" font-family=\"Helvetica,sans-Serif\" font-size=\"14.00\" fill=\"#000000\">value = [323, 228]</text>\n<text text-anchor=\"middle\" x=\"626\" y=\"-230.8\" font-family=\"Helvetica,sans-Serif\" font-size=\"14.00\" fill=\"#000000\">class = 비이탈</text>\n</g>\n<!-- 0&#45;&gt;8 -->\n<g id=\"edge8\" class=\"edge\">\n<title>0&#45;&gt;8</title>\n<path fill=\"none\" stroke=\"#000000\" d=\"M557.0737,-341.8796C565.0961,-332.8733 573.6552,-323.2644 581.9167,-313.9897\"/>\n<polygon fill=\"#000000\" stroke=\"#000000\" points=\"584.7302,-316.0933 588.7681,-306.2981 579.5031,-311.4373 584.7302,-316.0933\"/>\n<text text-anchor=\"middle\" x=\"590.2101\" y=\"-327.5564\" font-family=\"Helvetica,sans-Serif\" font-size=\"14.00\" fill=\"#000000\">False</text>\n</g>\n<!-- 2 -->\n<g id=\"node3\" class=\"node\">\n<title>2</title>\n<polygon fill=\"#97cbf1\" stroke=\"#000000\" points=\"280.5,-187 119.5,-187 119.5,-104 280.5,-104 280.5,-187\"/>\n<text text-anchor=\"middle\" x=\"200\" y=\"-171.8\" font-family=\"Helvetica,sans-Serif\" font-size=\"14.00\" fill=\"#000000\">구매카테고리수 &lt;= 5.5</text>\n<text text-anchor=\"middle\" x=\"200\" y=\"-156.8\" font-family=\"Helvetica,sans-Serif\" font-size=\"14.00\" fill=\"#000000\">gini = 0.436</text>\n<text text-anchor=\"middle\" x=\"200\" y=\"-141.8\" font-family=\"Helvetica,sans-Serif\" font-size=\"14.00\" fill=\"#000000\">samples = 296</text>\n<text text-anchor=\"middle\" x=\"200\" y=\"-126.8\" font-family=\"Helvetica,sans-Serif\" font-size=\"14.00\" fill=\"#000000\">value = [95, 201]</text>\n<text text-anchor=\"middle\" x=\"200\" y=\"-111.8\" font-family=\"Helvetica,sans-Serif\" font-size=\"14.00\" fill=\"#000000\">class = 이탈</text>\n</g>\n<!-- 1&#45;&gt;2 -->\n<g id=\"edge2\" class=\"edge\">\n<title>1&#45;&gt;2</title>\n<path fill=\"none\" stroke=\"#000000\" d=\"M361.7467,-229.9204C338.9124,-218.0025 312.9586,-204.4565 288.629,-191.7581\"/>\n<polygon fill=\"#000000\" stroke=\"#000000\" points=\"290.2323,-188.6469 279.7477,-187.1227 286.9934,-194.8526 290.2323,-188.6469\"/>\n</g>\n<!-- 5 -->\n<g id=\"node6\" class=\"node\">\n<title>5</title>\n<polygon fill=\"#fae9dc\" stroke=\"#000000\" points=\"511.5,-187 344.5,-187 344.5,-104 511.5,-104 511.5,-187\"/>\n<text text-anchor=\"middle\" x=\"428\" y=\"-171.8\" font-family=\"Helvetica,sans-Serif\" font-size=\"14.00\" fill=\"#000000\">총매출액 &lt;= 3376310.0</text>\n<text text-anchor=\"middle\" x=\"428\" y=\"-156.8\" font-family=\"Helvetica,sans-Serif\" font-size=\"14.00\" fill=\"#000000\">gini = 0.495</text>\n<text text-anchor=\"middle\" x=\"428\" y=\"-141.8\" font-family=\"Helvetica,sans-Serif\" font-size=\"14.00\" fill=\"#000000\">samples = 115</text>\n<text text-anchor=\"middle\" x=\"428\" y=\"-126.8\" font-family=\"Helvetica,sans-Serif\" font-size=\"14.00\" fill=\"#000000\">value = [63, 52]</text>\n<text text-anchor=\"middle\" x=\"428\" y=\"-111.8\" font-family=\"Helvetica,sans-Serif\" font-size=\"14.00\" fill=\"#000000\">class = 비이탈</text>\n</g>\n<!-- 1&#45;&gt;5 -->\n<g id=\"edge5\" class=\"edge\">\n<title>1&#45;&gt;5</title>\n<path fill=\"none\" stroke=\"#000000\" d=\"M428,-222.8796C428,-214.6838 428,-205.9891 428,-197.5013\"/>\n<polygon fill=\"#000000\" stroke=\"#000000\" points=\"431.5001,-197.298 428,-187.2981 424.5001,-197.2981 431.5001,-197.298\"/>\n</g>\n<!-- 3 -->\n<g id=\"node4\" class=\"node\">\n<title>3</title>\n<polygon fill=\"#7fbfee\" stroke=\"#000000\" points=\"124,-68 0,-68 0,0 124,0 124,-68\"/>\n<text text-anchor=\"middle\" x=\"62\" y=\"-52.8\" font-family=\"Helvetica,sans-Serif\" font-size=\"14.00\" fill=\"#000000\">gini = 0.385</text>\n<text text-anchor=\"middle\" x=\"62\" y=\"-37.8\" font-family=\"Helvetica,sans-Serif\" font-size=\"14.00\" fill=\"#000000\">samples = 200</text>\n<text text-anchor=\"middle\" x=\"62\" y=\"-22.8\" font-family=\"Helvetica,sans-Serif\" font-size=\"14.00\" fill=\"#000000\">value = [52, 148]</text>\n<text text-anchor=\"middle\" x=\"62\" y=\"-7.8\" font-family=\"Helvetica,sans-Serif\" font-size=\"14.00\" fill=\"#000000\">class = 이탈</text>\n</g>\n<!-- 2&#45;&gt;3 -->\n<g id=\"edge3\" class=\"edge\">\n<title>2&#45;&gt;3</title>\n<path fill=\"none\" stroke=\"#000000\" d=\"M148.6139,-103.9815C136.7839,-94.4232 124.2136,-84.2668 112.4249,-74.7419\"/>\n<polygon fill=\"#000000\" stroke=\"#000000\" points=\"114.3851,-71.826 104.4071,-68.2637 109.9858,-77.2708 114.3851,-71.826\"/>\n</g>\n<!-- 4 -->\n<g id=\"node5\" class=\"node\">\n<title>4</title>\n<polygon fill=\"#daedfa\" stroke=\"#000000\" points=\"258,-68 142,-68 142,0 258,0 258,-68\"/>\n<text text-anchor=\"middle\" x=\"200\" y=\"-52.8\" font-family=\"Helvetica,sans-Serif\" font-size=\"14.00\" fill=\"#000000\">gini = 0.495</text>\n<text text-anchor=\"middle\" x=\"200\" y=\"-37.8\" font-family=\"Helvetica,sans-Serif\" font-size=\"14.00\" fill=\"#000000\">samples = 96</text>\n<text text-anchor=\"middle\" x=\"200\" y=\"-22.8\" font-family=\"Helvetica,sans-Serif\" font-size=\"14.00\" fill=\"#000000\">value = [43, 53]</text>\n<text text-anchor=\"middle\" x=\"200\" y=\"-7.8\" font-family=\"Helvetica,sans-Serif\" font-size=\"14.00\" fill=\"#000000\">class = 이탈</text>\n</g>\n<!-- 2&#45;&gt;4 -->\n<g id=\"edge4\" class=\"edge\">\n<title>2&#45;&gt;4</title>\n<path fill=\"none\" stroke=\"#000000\" d=\"M200,-103.9815C200,-95.618 200,-86.7965 200,-78.3409\"/>\n<polygon fill=\"#000000\" stroke=\"#000000\" points=\"203.5001,-78.2636 200,-68.2637 196.5001,-78.2637 203.5001,-78.2636\"/>\n</g>\n<!-- 6 -->\n<g id=\"node7\" class=\"node\">\n<title>6</title>\n<polygon fill=\"#f8dbc6\" stroke=\"#000000\" points=\"392,-68 276,-68 276,0 392,0 392,-68\"/>\n<text text-anchor=\"middle\" x=\"334\" y=\"-52.8\" font-family=\"Helvetica,sans-Serif\" font-size=\"14.00\" fill=\"#000000\">gini = 0.486</text>\n<text text-anchor=\"middle\" x=\"334\" y=\"-37.8\" font-family=\"Helvetica,sans-Serif\" font-size=\"14.00\" fill=\"#000000\">samples = 108</text>\n<text text-anchor=\"middle\" x=\"334\" y=\"-22.8\" font-family=\"Helvetica,sans-Serif\" font-size=\"14.00\" fill=\"#000000\">value = [63, 45]</text>\n<text text-anchor=\"middle\" x=\"334\" y=\"-7.8\" font-family=\"Helvetica,sans-Serif\" font-size=\"14.00\" fill=\"#000000\">class = 비이탈</text>\n</g>\n<!-- 5&#45;&gt;6 -->\n<g id=\"edge6\" class=\"edge\">\n<title>5&#45;&gt;6</title>\n<path fill=\"none\" stroke=\"#000000\" d=\"M392.9979,-103.9815C385.3272,-94.8828 377.1995,-85.242 369.5091,-76.1199\"/>\n<polygon fill=\"#000000\" stroke=\"#000000\" points=\"372.0075,-73.6533 362.886,-68.2637 366.6556,-78.1652 372.0075,-73.6533\"/>\n</g>\n<!-- 7 -->\n<g id=\"node8\" class=\"node\">\n<title>7</title>\n<polygon fill=\"#399de5\" stroke=\"#000000\" points=\"509.5,-68 410.5,-68 410.5,0 509.5,0 509.5,-68\"/>\n<text text-anchor=\"middle\" x=\"460\" y=\"-52.8\" font-family=\"Helvetica,sans-Serif\" font-size=\"14.00\" fill=\"#000000\">gini = 0.0</text>\n<text text-anchor=\"middle\" x=\"460\" y=\"-37.8\" font-family=\"Helvetica,sans-Serif\" font-size=\"14.00\" fill=\"#000000\">samples = 7</text>\n<text text-anchor=\"middle\" x=\"460\" y=\"-22.8\" font-family=\"Helvetica,sans-Serif\" font-size=\"14.00\" fill=\"#000000\">value = [0, 7]</text>\n<text text-anchor=\"middle\" x=\"460\" y=\"-7.8\" font-family=\"Helvetica,sans-Serif\" font-size=\"14.00\" fill=\"#000000\">class = 이탈</text>\n</g>\n<!-- 5&#45;&gt;7 -->\n<g id=\"edge7\" class=\"edge\">\n<title>5&#45;&gt;7</title>\n<path fill=\"none\" stroke=\"#000000\" d=\"M439.9156,-103.9815C442.3423,-95.5261 444.9033,-86.6026 447.3543,-78.0623\"/>\n<polygon fill=\"#000000\" stroke=\"#000000\" points=\"450.772,-78.8412 450.1665,-68.2637 444.0436,-76.9101 450.772,-78.8412\"/>\n</g>\n<!-- 9 -->\n<g id=\"node10\" class=\"node\">\n<title>9</title>\n<polygon fill=\"#fae8db\" stroke=\"#000000\" points=\"709.5,-187 542.5,-187 542.5,-104 709.5,-104 709.5,-187\"/>\n<text text-anchor=\"middle\" x=\"626\" y=\"-171.8\" font-family=\"Helvetica,sans-Serif\" font-size=\"14.00\" fill=\"#000000\">총매출액 &lt;= 9343144.0</text>\n<text text-anchor=\"middle\" x=\"626\" y=\"-156.8\" font-family=\"Helvetica,sans-Serif\" font-size=\"14.00\" fill=\"#000000\">gini = 0.495</text>\n<text text-anchor=\"middle\" x=\"626\" y=\"-141.8\" font-family=\"Helvetica,sans-Serif\" font-size=\"14.00\" fill=\"#000000\">samples = 456</text>\n<text text-anchor=\"middle\" x=\"626\" y=\"-126.8\" font-family=\"Helvetica,sans-Serif\" font-size=\"14.00\" fill=\"#000000\">value = [251, 205]</text>\n<text text-anchor=\"middle\" x=\"626\" y=\"-111.8\" font-family=\"Helvetica,sans-Serif\" font-size=\"14.00\" fill=\"#000000\">class = 비이탈</text>\n</g>\n<!-- 8&#45;&gt;9 -->\n<g id=\"edge9\" class=\"edge\">\n<title>8&#45;&gt;9</title>\n<path fill=\"none\" stroke=\"#000000\" d=\"M626,-222.8796C626,-214.6838 626,-205.9891 626,-197.5013\"/>\n<polygon fill=\"#000000\" stroke=\"#000000\" points=\"629.5001,-197.298 626,-187.2981 622.5001,-197.2981 629.5001,-197.298\"/>\n</g>\n<!-- 12 -->\n<g id=\"node13\" class=\"node\">\n<title>12</title>\n<polygon fill=\"#eda978\" stroke=\"#000000\" points=\"942,-187 766,-187 766,-104 942,-104 942,-187\"/>\n<text text-anchor=\"middle\" x=\"854\" y=\"-171.8\" font-family=\"Helvetica,sans-Serif\" font-size=\"14.00\" fill=\"#000000\">총매출액 &lt;= 20874705.0</text>\n<text text-anchor=\"middle\" x=\"854\" y=\"-156.8\" font-family=\"Helvetica,sans-Serif\" font-size=\"14.00\" fill=\"#000000\">gini = 0.367</text>\n<text text-anchor=\"middle\" x=\"854\" y=\"-141.8\" font-family=\"Helvetica,sans-Serif\" font-size=\"14.00\" fill=\"#000000\">samples = 95</text>\n<text text-anchor=\"middle\" x=\"854\" y=\"-126.8\" font-family=\"Helvetica,sans-Serif\" font-size=\"14.00\" fill=\"#000000\">value = [72, 23]</text>\n<text text-anchor=\"middle\" x=\"854\" y=\"-111.8\" font-family=\"Helvetica,sans-Serif\" font-size=\"14.00\" fill=\"#000000\">class = 비이탈</text>\n</g>\n<!-- 8&#45;&gt;12 -->\n<g id=\"edge12\" class=\"edge\">\n<title>8&#45;&gt;12</title>\n<path fill=\"none\" stroke=\"#000000\" d=\"M705.7433,-222.8796C725.0086,-212.8244 745.7129,-202.0183 765.3587,-191.7645\"/>\n<polygon fill=\"#000000\" stroke=\"#000000\" points=\"767.056,-194.8268 774.3017,-187.0969 763.8171,-188.6212 767.056,-194.8268\"/>\n</g>\n<!-- 10 -->\n<g id=\"node11\" class=\"node\">\n<title>10</title>\n<polygon fill=\"#f9e4d4\" stroke=\"#000000\" points=\"660,-68 528,-68 528,0 660,0 660,-68\"/>\n<text text-anchor=\"middle\" x=\"594\" y=\"-52.8\" font-family=\"Helvetica,sans-Serif\" font-size=\"14.00\" fill=\"#000000\">gini = 0.493</text>\n<text text-anchor=\"middle\" x=\"594\" y=\"-37.8\" font-family=\"Helvetica,sans-Serif\" font-size=\"14.00\" fill=\"#000000\">samples = 448</text>\n<text text-anchor=\"middle\" x=\"594\" y=\"-22.8\" font-family=\"Helvetica,sans-Serif\" font-size=\"14.00\" fill=\"#000000\">value = [251, 197]</text>\n<text text-anchor=\"middle\" x=\"594\" y=\"-7.8\" font-family=\"Helvetica,sans-Serif\" font-size=\"14.00\" fill=\"#000000\">class = 비이탈</text>\n</g>\n<!-- 9&#45;&gt;10 -->\n<g id=\"edge10\" class=\"edge\">\n<title>9&#45;&gt;10</title>\n<path fill=\"none\" stroke=\"#000000\" d=\"M614.0844,-103.9815C611.6577,-95.5261 609.0967,-86.6026 606.6457,-78.0623\"/>\n<polygon fill=\"#000000\" stroke=\"#000000\" points=\"609.9564,-76.9101 603.8335,-68.2637 603.228,-78.8412 609.9564,-76.9101\"/>\n</g>\n<!-- 11 -->\n<g id=\"node12\" class=\"node\">\n<title>11</title>\n<polygon fill=\"#399de5\" stroke=\"#000000\" points=\"777.5,-68 678.5,-68 678.5,0 777.5,0 777.5,-68\"/>\n<text text-anchor=\"middle\" x=\"728\" y=\"-52.8\" font-family=\"Helvetica,sans-Serif\" font-size=\"14.00\" fill=\"#000000\">gini = 0.0</text>\n<text text-anchor=\"middle\" x=\"728\" y=\"-37.8\" font-family=\"Helvetica,sans-Serif\" font-size=\"14.00\" fill=\"#000000\">samples = 8</text>\n<text text-anchor=\"middle\" x=\"728\" y=\"-22.8\" font-family=\"Helvetica,sans-Serif\" font-size=\"14.00\" fill=\"#000000\">value = [0, 8]</text>\n<text text-anchor=\"middle\" x=\"728\" y=\"-7.8\" font-family=\"Helvetica,sans-Serif\" font-size=\"14.00\" fill=\"#000000\">class = 이탈</text>\n</g>\n<!-- 9&#45;&gt;11 -->\n<g id=\"edge11\" class=\"edge\">\n<title>9&#45;&gt;11</title>\n<path fill=\"none\" stroke=\"#000000\" d=\"M663.981,-103.9815C672.3886,-94.7908 681.3021,-85.0472 689.7215,-75.8436\"/>\n<polygon fill=\"#000000\" stroke=\"#000000\" points=\"692.4883,-78.0045 696.6557,-68.2637 687.3234,-73.2797 692.4883,-78.0045\"/>\n</g>\n<!-- 13 -->\n<g id=\"node14\" class=\"node\">\n<title>13</title>\n<polygon fill=\"#ea985e\" stroke=\"#000000\" points=\"912,-68 796,-68 796,0 912,0 912,-68\"/>\n<text text-anchor=\"middle\" x=\"854\" y=\"-52.8\" font-family=\"Helvetica,sans-Serif\" font-size=\"14.00\" fill=\"#000000\">gini = 0.265</text>\n<text text-anchor=\"middle\" x=\"854\" y=\"-37.8\" font-family=\"Helvetica,sans-Serif\" font-size=\"14.00\" fill=\"#000000\">samples = 70</text>\n<text text-anchor=\"middle\" x=\"854\" y=\"-22.8\" font-family=\"Helvetica,sans-Serif\" font-size=\"14.00\" fill=\"#000000\">value = [59, 11]</text>\n<text text-anchor=\"middle\" x=\"854\" y=\"-7.8\" font-family=\"Helvetica,sans-Serif\" font-size=\"14.00\" fill=\"#000000\">class = 비이탈</text>\n</g>\n<!-- 12&#45;&gt;13 -->\n<g id=\"edge13\" class=\"edge\">\n<title>12&#45;&gt;13</title>\n<path fill=\"none\" stroke=\"#000000\" d=\"M854,-103.9815C854,-95.618 854,-86.7965 854,-78.3409\"/>\n<polygon fill=\"#000000\" stroke=\"#000000\" points=\"857.5001,-78.2636 854,-68.2637 850.5001,-78.2637 857.5001,-78.2636\"/>\n</g>\n<!-- 14 -->\n<g id=\"node15\" class=\"node\">\n<title>14</title>\n<polygon fill=\"#fdf5f0\" stroke=\"#000000\" points=\"1046,-68 930,-68 930,0 1046,0 1046,-68\"/>\n<text text-anchor=\"middle\" x=\"988\" y=\"-52.8\" font-family=\"Helvetica,sans-Serif\" font-size=\"14.00\" fill=\"#000000\">gini = 0.499</text>\n<text text-anchor=\"middle\" x=\"988\" y=\"-37.8\" font-family=\"Helvetica,sans-Serif\" font-size=\"14.00\" fill=\"#000000\">samples = 25</text>\n<text text-anchor=\"middle\" x=\"988\" y=\"-22.8\" font-family=\"Helvetica,sans-Serif\" font-size=\"14.00\" fill=\"#000000\">value = [13, 12]</text>\n<text text-anchor=\"middle\" x=\"988\" y=\"-7.8\" font-family=\"Helvetica,sans-Serif\" font-size=\"14.00\" fill=\"#000000\">class = 비이탈</text>\n</g>\n<!-- 12&#45;&gt;14 -->\n<g id=\"edge14\" class=\"edge\">\n<title>12&#45;&gt;14</title>\n<path fill=\"none\" stroke=\"#000000\" d=\"M903.8967,-103.9815C915.3838,-94.4232 927.5897,-84.2668 939.0367,-74.7419\"/>\n<polygon fill=\"#000000\" stroke=\"#000000\" points=\"941.3739,-77.3503 946.8221,-68.2637 936.8965,-71.9695 941.3739,-77.3503\"/>\n</g>\n</g>\n</svg>\n"
          },
          "metadata": {},
          "execution_count": 53
        }
      ]
    },
    {
      "cell_type": "code",
      "source": [
        "X = df[df.이탈여부==0][[\"총매출액\", \"구매금액대\", \"할인권 사용 횟수\", \"총 할인 금액\", \"구매유형\", \"구매카테고리수\", \"성별\", \"거주지역\"]]\n",
        "Y = df[df.이탈여부==0][\"평균 구매주기\"]\n",
        "\n",
        "X_train, X_test, Y_train, Y_test = train_test_split(X, Y, test_size=0.3, random_state = 0)\n",
        "\n",
        "from sklearn.tree import DecisionTreeRegressor\n",
        "\n",
        "DT_model_reg = DecisionTreeRegressor(random_state = 0, max_depth = 5)\n",
        "DT_model_reg.fit(X_train, Y_train)\n",
        "Y_pred = DT_model_reg.predict(X_test)\n",
        "print(\"accuracy : {:.3f}\".format(DT_model_reg.score(X_train, Y_train)))\n",
        "rmse = sqrt(mean_squared_error(Y_test, Y_pred))\n",
        "print(\"rmse : {:.3f}\".format(rmse))"
      ],
      "metadata": {
        "colab": {
          "base_uri": "https://localhost:8080/"
        },
        "id": "O51Fr_AGT-ov",
        "outputId": "d58a32a3-11c6-4b7a-86f6-51e00ce987ca"
      },
      "execution_count": 54,
      "outputs": [
        {
          "output_type": "stream",
          "name": "stdout",
          "text": [
            "accuracy : 0.558\n",
            "rmse : 0.625\n"
          ]
        }
      ]
    },
    {
      "cell_type": "markdown",
      "source": [
        "#SVM : Support Vector Machine"
      ],
      "metadata": {
        "id": "PIpoiVY2WUQN"
      }
    },
    {
      "cell_type": "code",
      "source": [
        "#SVC / Support Vector Classifier\n",
        "X = df[[\"총매출액\", \"구매금액대\", \"할인권 사용 횟수\", \"총 할인 금액\", \"구매유형\", \"구매카테고리수\", \"성별\", \"거주지역\"]]\n",
        "Y = df[\"이탈여부\"]\n",
        "\n",
        "X_train, X_test, Y_train, Y_test = train_test_split(X, Y, test_size=0.3, random_state = 0)\n",
        "smote = SMOTE(random_state=0)\n",
        "X_train, Y_train = smote.fit_resample(X_train, Y_train)\n",
        "\n",
        "from sklearn.svm  import SVC\n",
        "\n",
        "#c : 규제값을 의미하는데 애매한 값을 포기할것이냐를 의미\n",
        "#gamma 값은 첨도같은 값이다\n",
        "SVC_model = SVC(C= 1000, gamma=10, random_state = 0)\n",
        "SVC_model.fit(X_train, Y_train)\n",
        "Y_pred = SVC_model.predict(X_test)\n",
        "print(\"accuracy : {:.3f}\".format(SVC_model.score(X_train, Y_train)))\n",
        "print(classification_report(Y_test ,Y_pred))"
      ],
      "metadata": {
        "colab": {
          "base_uri": "https://localhost:8080/"
        },
        "id": "cUtNY4E7WYPM",
        "outputId": "937a6695-2708-49fd-d862-a67e25da6de7"
      },
      "execution_count": 62,
      "outputs": [
        {
          "output_type": "stream",
          "name": "stdout",
          "text": [
            "accuracy : 1.000\n",
            "              precision    recall  f1-score   support\n",
            "\n",
            "           0       0.00      0.00      0.00       219\n",
            "           1       0.27      1.00      0.43        81\n",
            "\n",
            "    accuracy                           0.27       300\n",
            "   macro avg       0.14      0.50      0.21       300\n",
            "weighted avg       0.07      0.27      0.11       300\n",
            "\n"
          ]
        },
        {
          "output_type": "stream",
          "name": "stderr",
          "text": [
            "/usr/local/lib/python3.8/dist-packages/sklearn/metrics/_classification.py:1318: UndefinedMetricWarning: Precision and F-score are ill-defined and being set to 0.0 in labels with no predicted samples. Use `zero_division` parameter to control this behavior.\n",
            "  _warn_prf(average, modifier, msg_start, len(result))\n",
            "/usr/local/lib/python3.8/dist-packages/sklearn/metrics/_classification.py:1318: UndefinedMetricWarning: Precision and F-score are ill-defined and being set to 0.0 in labels with no predicted samples. Use `zero_division` parameter to control this behavior.\n",
            "  _warn_prf(average, modifier, msg_start, len(result))\n",
            "/usr/local/lib/python3.8/dist-packages/sklearn/metrics/_classification.py:1318: UndefinedMetricWarning: Precision and F-score are ill-defined and being set to 0.0 in labels with no predicted samples. Use `zero_division` parameter to control this behavior.\n",
            "  _warn_prf(average, modifier, msg_start, len(result))\n"
          ]
        }
      ]
    },
    {
      "cell_type": "code",
      "source": [
        "#SVR / support vector regressor \n",
        "X = df[[\"구매금액대\", \"할인권 사용 횟수\"]]\n",
        "Y = df[\"총매출액\"]\n",
        "\n",
        "X_train, X_test, Y_train, Y_test = train_test_split(X, Y, test_size=0.3, random_state = 0)\n",
        "\n",
        "scaler = StandardScaler().fit(X_train, Y_train)\n",
        "X_test = scaler.transform(X_test)\n",
        "X_train = scaler.transform(X_train)\n",
        "\n",
        "\n",
        "from sklearn.svm  import SVR\n",
        "\n",
        "#c : 규제값을 의미하는데 애매한 값을 포기할것이냐를 의미\n",
        "#gamma 값은 첨도같은 값이다\n",
        "SVR_model = SVR(C= 1, kernel = 'linear' , epsilon = 0.1)\n",
        "SVR_model.fit(X_train, Y_train)\n",
        "Y_pred = SVR_model.predict(X_test)\n",
        "print(\"accuracy : {:.3f}\".format(SVR_model.score(X_train, Y_train)))\n",
        "rmse = sqrt(mean_squared_error(Y_test, Y_pred))\n",
        "print(\"RMSE : {:.3f}\".format(rmse))\n",
        "print(SVR_model.coef_)"
      ],
      "metadata": {
        "colab": {
          "base_uri": "https://localhost:8080/"
        },
        "id": "Cas-C1-XT4NL",
        "outputId": "5a3a623c-d809-43a8-ae57-f604aa8af6c9"
      },
      "execution_count": 64,
      "outputs": [
        {
          "output_type": "stream",
          "name": "stdout",
          "text": [
            "accuracy : -0.089\n",
            "RMSE : 6718399.282\n",
            "[[623.00143466  -9.75735034]]\n"
          ]
        }
      ]
    },
    {
      "cell_type": "markdown",
      "source": [
        "#나이브 베이즈(Naive Baze)"
      ],
      "metadata": {
        "id": "ch8ncyBc25Ry"
      }
    },
    {
      "cell_type": "code",
      "source": [
        "#클레스가 주어져있는 x를 보았을때 x를 보면 클래스를 알 수 있다. "
      ],
      "metadata": {
        "id": "av6JzGDI28y3"
      },
      "execution_count": null,
      "outputs": []
    },
    {
      "cell_type": "code",
      "source": [
        "#classifier\n",
        "X = df[[\"총매출액\", \"구매금액대\", \"할인권 사용 횟수\"]]\n",
        "Y = df[\"할인민감여부\"]\n",
        "\n",
        "X_train, X_test, Y_train, Y_test = train_test_split(X, Y, test_size=0.3, random_state = 0)\n",
        "\n",
        "smote=SMOTE(random_state=0)\n",
        "X_train, Y_train = smote.fit_resample(X_train, Y_train)\n",
        "\n",
        "\n",
        "from sklearn.naive_bayes  import GaussianNB\n",
        "\n",
        "NB_model = GaussianNB(var_smoothing = 0)\n",
        "NB_model.fit(X_train, Y_train)\n",
        "Y_pred = NB_model.predict(X_test)\n",
        "print(\"accuracy : {:.3f}\".format(NB_model.score(X_train, Y_train)))\n",
        "print(classification_report(Y_test, Y_pred))\n"
      ],
      "metadata": {
        "colab": {
          "base_uri": "https://localhost:8080/"
        },
        "id": "B7b803ht4IWu",
        "outputId": "b5debaeb-0c58-40be-af01-da680342a72c"
      },
      "execution_count": 66,
      "outputs": [
        {
          "output_type": "stream",
          "name": "stdout",
          "text": [
            "accuracy : 0.661\n",
            "              precision    recall  f1-score   support\n",
            "\n",
            "           0       0.70      0.92      0.79       177\n",
            "           1       0.79      0.42      0.55       123\n",
            "\n",
            "    accuracy                           0.72       300\n",
            "   macro avg       0.74      0.67      0.67       300\n",
            "weighted avg       0.73      0.72      0.69       300\n",
            "\n"
          ]
        }
      ]
    },
    {
      "cell_type": "code",
      "source": [
        "#numeric value\n",
        "X = df[df.이탈여부==0][[\"총매출액\", \"구매금액대\", \"할인권 사용 횟수\", \"총 할인 금액\", \"구매유형\", \"구매카테고리수\", \"성별\", \"거주지역\"]]\n",
        "Y = np.log1p(df[df.이탈여부==0][\"평균 구매주기\"])\n",
        "\n",
        "X_train, X_test, Y_train, Y_test = train_test_split(X, Y, test_size=0.3, random_state = 0)\n",
        "\n",
        "from sklearn.linear_model import BayesianRidge\n",
        "\n",
        "NB_model_reg = BayesianRidge(alpha_1 = 0.001, lambda_1 = 0.001)\n",
        "NB_model_reg.fit(X_train, Y_train)\n",
        "Y_pred = NB_model_reg.predict(X_test)\n",
        "print(\"accuracy : {:.3f}\".format(NB_model_reg.score(X_train, Y_train)))\n",
        "rmse = sqrt(mean_squared_error(Y_test, Y_pred))\n",
        "print(\"rmse : {:.3f}\".format(rmse))\n",
        "print(NB_model_reg.coef_)"
      ],
      "metadata": {
        "colab": {
          "base_uri": "https://localhost:8080/"
        },
        "id": "3VBmxCAy6S5c",
        "outputId": "5d5826b8-5d3b-4674-dc6f-fa8bdae3cc5d"
      },
      "execution_count": 69,
      "outputs": [
        {
          "output_type": "stream",
          "name": "stdout",
          "text": [
            "accuracy : 0.284\n",
            "rmse : 0.099\n",
            "[-5.53099958e-09 -2.22146741e-02  5.83806583e-04 -5.13836053e-08\n",
            " -5.44323948e-03 -1.72715338e-02  1.04643592e-02  1.78568992e-03]\n"
          ]
        }
      ]
    },
    {
      "cell_type": "markdown",
      "source": [
        "#인공신경망\n",
        "##인간의 뇌를 기반으로 한 추론 모델\n",
        "#####DNN  인공신경망 모델 내 은닉층을 많이\n",
        "#####CNN 합성곱 신경망 -주로 이미지나 영상 데이터 처리\n",
        "#####RNN 순환신경망 / 음성 웨이브폼을 파악하여 텍스트 앞 뒤 성분 분석"
      ],
      "metadata": {
        "id": "c4--e_kddtnL"
      }
    },
    {
      "cell_type": "markdown",
      "source": [
        "#앙상블\n",
        "##보팅(voting)\n",
        "#####여러 개의 분류기가 투표를 통해 최종 예측 결과를 결정하는 방식 \n",
        "#####서로 다른 알고리즘을 여러 개 결합하여 사용 \n",
        "#####하드보팅, 소프트 보팅\n",
        "##배깅(bagging)\n",
        "#####데이터 샘플링을 통해 모델을 학습시키고 결과를 집계 하는 방법\n",
        "##부스팅(boosting)\n",
        "#####여러 개의 분류기가 순차적으로 학습을 수행을 하는데 이전 분류기가 예측이 틀린 데이터에 대해서 올바르게 예측할 수 있도록 다음 분류기에 가중치를 부여하면서 학습과 예측 진행\n"
      ],
      "metadata": {
        "id": "7l9gMrmk-mrX"
      }
    },
    {
      "cell_type": "code",
      "source": [
        "#모형 성능비교"
      ],
      "metadata": {
        "id": "mjpWYkWL-3xD"
      },
      "execution_count": null,
      "outputs": []
    },
    {
      "cell_type": "code",
      "source": [
        "df.columns"
      ],
      "metadata": {
        "colab": {
          "base_uri": "https://localhost:8080/"
        },
        "id": "D9XweNKYHpF9",
        "outputId": "54fc96ab-37c9-4734-b730-123f16983a5b"
      },
      "execution_count": 71,
      "outputs": [
        {
          "output_type": "execute_result",
          "data": {
            "text/plain": [
              "Index(['고객ID', '이탈여부', '총매출액', '구매금액대', '방문빈도', '1회 평균매출액', '할인권 사용 횟수',\n",
              "       '총 할인 금액', '고객등급', '구매유형', '클레임접수여부', '구매카테고리수', '거주지역', '성별', '고객 나이대',\n",
              "       '거래기간', '할인민감여부', 'Recency', 'Frequency', 'Monetary', '평균 구매주기'],\n",
              "      dtype='object')"
            ]
          },
          "metadata": {},
          "execution_count": 71
        }
      ]
    },
    {
      "cell_type": "code",
      "source": [
        "X1 = df[[\"총매출액\", \"구매금액대\", \"할인권 사용 횟수\", \"총 할인 금액\", \"구매유형\", \"구매카테고리수\", \"성별\", \"거주지역\"]]\n",
        "Y1 = df[\"이탈여부\"]"
      ],
      "metadata": {
        "id": "XyKUG2lMHrag"
      },
      "execution_count": 74,
      "outputs": []
    },
    {
      "cell_type": "code",
      "source": [
        "Y1"
      ],
      "metadata": {
        "colab": {
          "base_uri": "https://localhost:8080/"
        },
        "id": "C-3cRh1yIDnG",
        "outputId": "eb6ce93b-85c4-4079-b744-808c21b61874"
      },
      "execution_count": 76,
      "outputs": [
        {
          "output_type": "execute_result",
          "data": {
            "text/plain": [
              "0      1\n",
              "1      1\n",
              "2      1\n",
              "3      1\n",
              "4      1\n",
              "      ..\n",
              "995    0\n",
              "996    0\n",
              "997    0\n",
              "998    0\n",
              "999    0\n",
              "Name: 이탈여부, Length: 1000, dtype: int64"
            ]
          },
          "metadata": {},
          "execution_count": 76
        }
      ]
    },
    {
      "cell_type": "code",
      "source": [
        "X.columns"
      ],
      "metadata": {
        "colab": {
          "base_uri": "https://localhost:8080/"
        },
        "id": "ftM-xLOaIK3O",
        "outputId": "9b308994-b952-4126-8271-c3e2cb0f9b2c"
      },
      "execution_count": 77,
      "outputs": [
        {
          "output_type": "execute_result",
          "data": {
            "text/plain": [
              "Index(['총매출액', '구매금액대', '할인권 사용 횟수', '총 할인 금액', '구매유형', '구매카테고리수', '성별',\n",
              "       '거주지역'],\n",
              "      dtype='object')"
            ]
          },
          "metadata": {},
          "execution_count": 77
        }
      ]
    },
    {
      "cell_type": "code",
      "source": [
        "#데이터 분할(train, test)\n",
        "X_train, X_test, Y_train, Y_test = train_test_split(X1, Y1, test_size=0.3, random_state=0)\n",
        "\n",
        "#Column transformer\n",
        "ct = ColumnTransformer([('scaling', StandardScaler(), [\"총매출액\", \"구매금액대\", \"할인권 사용 횟수\", \"총 할인 금액\"]),\n",
        "                        (\"onehot\", OneHotEncoder(sparse = False), [\"구매유형\",\"구매카테고리수\", \"성별\", \"거주지역\"])])\n",
        "ct.fit(X_train)\n",
        "X_train = ct.transform(X_train)\n",
        "X_test= ct.transform(X_test)"
      ],
      "metadata": {
        "id": "RucQXGVMIO98"
      },
      "execution_count": 78,
      "outputs": []
    },
    {
      "cell_type": "code",
      "source": [
        "logit_model = LogisticRegression(C=1, random_state=0)\n",
        "knn_model = KNeighborsClassifier(n_neighbors=9)\n",
        "dt_model = DecisionTreeClassifier(random_state=0, max_depth=3)"
      ],
      "metadata": {
        "id": "21I66q6JIzPD"
      },
      "execution_count": 79,
      "outputs": []
    },
    {
      "cell_type": "code",
      "source": [
        "logit_model.fit(X_train, Y_train)\n",
        "knn_model.fit(X_train, Y_train)\n",
        "dt_model.fit(X_train, Y_train)\n"
      ],
      "metadata": {
        "colab": {
          "base_uri": "https://localhost:8080/"
        },
        "id": "YAhnL8JAJCb4",
        "outputId": "184161d0-8ec8-4e0d-87ee-7783fd75878f"
      },
      "execution_count": 80,
      "outputs": [
        {
          "output_type": "execute_result",
          "data": {
            "text/plain": [
              "DecisionTreeClassifier(max_depth=3, random_state=0)"
            ]
          },
          "metadata": {},
          "execution_count": 80
        }
      ]
    },
    {
      "cell_type": "code",
      "source": [
        "logit_Y_pred = logit_model.predict(X_test)\n",
        "knn_Y_pred = knn_model.predict(X_test)\n",
        "dt_Y_pred = dt_model.predict(X_test)"
      ],
      "metadata": {
        "id": "aYr3qYgjJOWv"
      },
      "execution_count": 81,
      "outputs": []
    },
    {
      "cell_type": "code",
      "source": [
        "print(\"logit socre :{:.3f}\".format(logit_model.score(X_train, Y_train)))\n",
        "print(\"knn socre :{:.3f}\".format(knn_model.score(X_train, Y_train)))\n",
        "print(\"dt socre :{:.3f}\".format(dt_model.score(X_train, Y_train)))"
      ],
      "metadata": {
        "colab": {
          "base_uri": "https://localhost:8080/"
        },
        "id": "uKMcNTD8JcDN",
        "outputId": "75081d38-2904-4522-d41b-cb68b961ccb3"
      },
      "execution_count": 82,
      "outputs": [
        {
          "output_type": "stream",
          "name": "stdout",
          "text": [
            "logit socre :0.697\n",
            "knn socre :0.704\n",
            "dt socre :0.713\n"
          ]
        }
      ]
    },
    {
      "cell_type": "code",
      "source": [
        "print(classification_report(Y_test, logit_Y_pred))\n",
        "print(classification_report(Y_test, knn_Y_pred))\n",
        "print(classification_report(Y_test, dt_Y_pred))"
      ],
      "metadata": {
        "colab": {
          "base_uri": "https://localhost:8080/"
        },
        "id": "weFa98rRJqrS",
        "outputId": "2f1e6dcc-39e0-45c9-d35b-10aeb442bf89"
      },
      "execution_count": 84,
      "outputs": [
        {
          "output_type": "stream",
          "name": "stdout",
          "text": [
            "              precision    recall  f1-score   support\n",
            "\n",
            "           0       0.76      0.97      0.85       219\n",
            "           1       0.65      0.16      0.26        81\n",
            "\n",
            "    accuracy                           0.75       300\n",
            "   macro avg       0.70      0.56      0.55       300\n",
            "weighted avg       0.73      0.75      0.69       300\n",
            "\n",
            "              precision    recall  f1-score   support\n",
            "\n",
            "           0       0.74      0.86      0.80       219\n",
            "           1       0.32      0.17      0.22        81\n",
            "\n",
            "    accuracy                           0.68       300\n",
            "   macro avg       0.53      0.52      0.51       300\n",
            "weighted avg       0.62      0.68      0.64       300\n",
            "\n",
            "              precision    recall  f1-score   support\n",
            "\n",
            "           0       0.74      1.00      0.85       219\n",
            "           1       0.75      0.04      0.07        81\n",
            "\n",
            "    accuracy                           0.74       300\n",
            "   macro avg       0.74      0.52      0.46       300\n",
            "weighted avg       0.74      0.74      0.64       300\n",
            "\n"
          ]
        }
      ]
    },
    {
      "cell_type": "code",
      "source": [
        "#plot\n",
        "\n",
        "from sklearn.metrics import roc_curve\n",
        "from sklearn.metrics import roc_auc_score\n",
        "from matplotlib import pyplot as plt\n",
        "\n",
        "# fpr : false positive rate, tpr : true positive rate \n",
        "fpr1, tpr1, threshold = roc_curve(Y_test, logit_model.decision_function(X_test))\n",
        "fpr2, tpr2, threshold = roc_curve(Y_test, knn_model.predict_proba(X_test)[:,1])\n",
        "fpr3, tpr3, threshold = roc_curve(Y_test, logit_model.predict_proba(X_test)[:,1])\n",
        "\n",
        "#ROC\n",
        "plt.plot(fpr1, tpr1, 'o-', ms=2, label  = 'logit')\n",
        "plt.plot(fpr2, tpr2, 'o-', ms=2, label = 'knn')\n",
        "plt.plot(fpr3, tpr3, 'o-', ms=2, label = 'dt')\n",
        "plt.plot([0,1], [0,1], 'k--', label = 'random guess')\n",
        "\n",
        "plt.legend()\n",
        "plt.xlabel(\"False positive rate\")\n",
        "plt.ylabel(\"True positive rate\")\n",
        "plt.title(\"ROC\")\n",
        "plt.show()"
      ],
      "metadata": {
        "colab": {
          "base_uri": "https://localhost:8080/",
          "height": 295
        },
        "id": "T27QBWBDRcjo",
        "outputId": "fab6757a-1b4d-4bfd-90a3-2b9b79eef6af"
      },
      "execution_count": 87,
      "outputs": [
        {
          "output_type": "display_data",
          "data": {
            "text/plain": [
              "<Figure size 432x288 with 1 Axes>"
            ],
            "image/png": "[encoded data removed]"
          },
          "metadata": {
            "needs_background": "light"
          }
        }
      ]
    },
    {
      "cell_type": "code",
      "source": [
        "logit_model_auc = roc_auc_score(Y_test, logit_model.decision_function(X_test))\n",
        "knn_model_auc = roc_auc_score(Y_test, knn_model.predict_proba(X_test)[:,1])\n",
        "dt_model_auc  = roc_auc_score(Y_test, dt_model.predict_proba(X_test)[:,1])"
      ],
      "metadata": {
        "id": "xOdb0nVZS4Op"
      },
      "execution_count": 90,
      "outputs": []
    },
    {
      "cell_type": "code",
      "source": [
        "print(\"logit AUC score: {:.3f}\".format(logit_model_auc))\n",
        "print(\"logit AUC score: {:.3f}\".format(knn_model_auc))\n",
        "print(\"logit AUC score: {:.3f}\".format(dt_model_auc))"
      ],
      "metadata": {
        "colab": {
          "base_uri": "https://localhost:8080/"
        },
        "id": "SWz3U8LLTSAC",
        "outputId": "fad570a2-8e1c-43c1-b480-402e7a00d78c"
      },
      "execution_count": 91,
      "outputs": [
        {
          "output_type": "stream",
          "name": "stdout",
          "text": [
            "logit AUC score: 0.659\n",
            "logit AUC score: 0.572\n",
            "logit AUC score: 0.583\n"
          ]
        }
      ]
    },
    {
      "cell_type": "markdown",
      "source": [],
      "metadata": {
        "id": "i0wcoXtrZcaa"
      }
    },
    {
      "cell_type": "markdown",
      "source": [],
      "metadata": {
        "id": "Do0WewblIkWb"
      }
    }
  ]
}