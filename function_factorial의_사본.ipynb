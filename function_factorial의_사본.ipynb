{
  "nbformat": 4,
  "nbformat_minor": 0,
  "metadata": {
    "colab": {
      "provenance": [],
      "authorship_tag": "ABX9TyOsNQvVEFtaMncFM+zSwyBm",
      "include_colab_link": true
    },
    "kernelspec": {
      "name": "python3",
      "display_name": "Python 3"
    },
    "language_info": {
      "name": "python"
    }
  },
  "cells": [
    {
      "cell_type": "markdown",
      "metadata": {
        "id": "view-in-github",
        "colab_type": "text"
      },
      "source": [
        "<a href=\"https://colab.research.google.com/github/chajunhyeop/-/blob/main/function_factorial%EC%9D%98_%EC%82%AC%EB%B3%B8.ipynb\" target=\"_parent\"><img src=\"https://colab.research.google.com/assets/colab-badge.svg\" alt=\"Open In Colab\"/></a>"
      ]
    },
    {
      "cell_type": "code",
      "execution_count": null,
      "metadata": {
        "colab": {
          "base_uri": "https://localhost:8080/"
        },
        "id": "y7W7AB_EPiDa",
        "outputId": "d4d5dc7a-96a2-4b65-d4b0-d2d38af382c8"
      },
      "outputs": [
        {
          "output_type": "stream",
          "name": "stdout",
          "text": [
            "정수 입력5\n",
            "5 !은 120.0\n"
          ]
        }
      ],
      "source": [
        "fact = 1.0\n",
        "n = int(input(\"정수 입력\"))\n",
        "\n",
        "for x in range(1, n+1):\n",
        "    fact *= x\n",
        "print(n, \"!은\", fact)"
      ]
    },
    {
      "cell_type": "code",
      "source": [
        "def factorial_recursion(n):\n",
        "    if n > 1 :\n",
        "        return n * factorial_recursion(n-1)\n",
        "    else :\n",
        "        return 1\n",
        "factorial_recursion(5)"
      ],
      "metadata": {
        "colab": {
          "base_uri": "https://localhost:8080/"
        },
        "id": "6Fll0GXghnT1",
        "outputId": "03f5a0fd-9872-43bd-9c61-6237d585034d"
      },
      "execution_count": null,
      "outputs": [
        {
          "output_type": "execute_result",
          "data": {
            "text/plain": [
              "120"
            ]
          },
          "metadata": {},
          "execution_count": 7
        }
      ]
    },
    {
      "cell_type": "code",
      "source": [
        "if factorial_recursion(n) >= 10 :\n",
        "    return factorial_recursion(n) // 10 "
      ],
      "metadata": {
        "colab": {
          "base_uri": "https://localhost:8080/",
          "height": 138
        },
        "id": "YUqcfrJTiNAF",
        "outputId": "30e80a03-0eb4-4acd-f41a-00ad8b860b96"
      },
      "execution_count": null,
      "outputs": [
        {
          "output_type": "error",
          "ename": "SyntaxError",
          "evalue": "ignored",
          "traceback": [
            "\u001b[0;36m  File \u001b[0;32m\"<ipython-input-9-ab10748a5dfd>\"\u001b[0;36m, line \u001b[0;32m2\u001b[0m\n\u001b[0;31m    return factorial_recursion(n) // 10\u001b[0m\n\u001b[0m    ^\u001b[0m\n\u001b[0;31mSyntaxError\u001b[0m\u001b[0;31m:\u001b[0m 'return' outside function\n"
          ]
        }
      ]
    }
  ]
}